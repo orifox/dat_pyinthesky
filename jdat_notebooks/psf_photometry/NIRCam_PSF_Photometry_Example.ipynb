{
 "cells": [
  {
   "cell_type": "markdown",
   "metadata": {},
   "source": [
    "# NIRCam Crowded Field PSF Photometry\n",
    "\n",
    "**Use case:** PSF photometry of crowded star field.<br>\n",
    "**Data:** JWST simulated NIRCam images from [MIRAGE](https://jwst-docs.stsci.edu/jwst-other-tools/mirage-data-simulator), run through the [JWST calibration pipeline](https://jwst-pipeline.readthedocs.io/en/latest/); LMC astrometric calibration field.<br>\n",
    "**Tools:**  photutils, webbpsf, pandas, matplotlib.<br>\n",
    "**Cross-intrument:** <br>\n",
    "**Documentation:** This notebook is part of a STScI's larger [post-pipeline Data Analysis Tools Ecosystem](https://jwst-docs.stsci.edu/jwst-post-pipeline-data-analysis).<br>\n",
    "\n",
    "\n",
    "## Introduction\n",
    "\n",
    "\n",
    "The JWST calibration pipeline is going to produce  catalogs based on aperture photometry, which will be insufficient for scientific analysis of crowded fields (> 1 star per ~50 pixels).  An accurate determination of the flux from crowded stars requires a simultaneous fit for the flux from neighboring objects with knowledge of the point spread function (PSF).  Accurate crowded-field photometry requires a PSF-fitting algorithm.\n",
    "\n",
    "This examples use Level-2 images (.cal, calibrated but unrectified) for 1 SW NIRCam detector of module B (i.e., \"NRCB1\") for two wide filters: F115W and F200W.\n",
    "\n",
    "PSF Photometry is obtained using two different methods:\n",
    "* single effective PSF (ePSF)\n",
    "* single model PSF obtained from WebbPSF\n",
    "    \n",
    "## To Do:\n",
    "\n",
    "* Create a function to determine the size of the grid to adopt when creating a grid of ePSFs (dependent on the number of PSF stars in each region of the grid)\n",
    "* Create a function to build a grid of ePSFs\n",
    "* speed up the PSF photometry process to perform the reduction on the whole field\n",
    "* Perform PSF photometry using a grid of ePSFs and a grid of model PSFs from WebbPSF"
   ]
  },
  {
   "cell_type": "markdown",
   "metadata": {},
   "source": [
    "### Import basic functions, astropy, numpy, and matplotlib"
   ]
  },
  {
   "cell_type": "code",
   "execution_count": 1,
   "metadata": {},
   "outputs": [
    {
     "name": "stdout",
     "output_type": "stream",
     "text": [
      "**WARNING**: LOCAL JWST PRD VERSION PRDOPSSOC-027 IS BEHIND THE CURRENT ONLINE VERSION PRDOPSSOC-031\n",
      "Please consider updating pysiaf, e.g. pip install --upgrade pysiaf or conda update pysiaf\n"
     ]
    }
   ],
   "source": [
    "import os\n",
    "import sys\n",
    "import time\n",
    "\n",
    "import numpy as np\n",
    "\n",
    "import pandas as pd\n",
    "\n",
    "\n",
    "from astropy import wcs\n",
    "from astropy import units as u\n",
    "from astropy.io import fits\n",
    "from astropy.visualization import (ZScaleInterval, SqrtStretch, ImageNormalize)\n",
    "from astropy.visualization import simple_norm\n",
    "from astropy.nddata import Cutout2D, NDData\n",
    "from astropy.stats import gaussian_sigma_to_fwhm\n",
    "from astropy.table import Table\n",
    "from astropy.modeling.fitting import LevMarLSQFitter\n",
    "from astropy.wcs.utils import pixel_to_skycoord\n",
    "from astropy.coordinates import SkyCoord, match_coordinates_sky\n",
    "\n",
    "from photutils import CircularAperture, EPSFBuilder, find_peaks\n",
    "from photutils.detection import DAOStarFinder, IRAFStarFinder\n",
    "from photutils.psf import DAOGroup, IntegratedGaussianPRF, extract_stars, IterativelySubtractedPSFPhotometry\n",
    "from photutils.background import MMMBackground, MADStdBackgroundRMS\n",
    "from photutils.centroids import centroid_2dg\n",
    "\n",
    "import webbpsf\n",
    "from webbpsf.utils import to_griddedpsfmodel"
   ]
  },
  {
   "cell_type": "code",
   "execution_count": 2,
   "metadata": {},
   "outputs": [],
   "source": [
    "%matplotlib inline\n",
    "from matplotlib import style, pyplot as plt\n",
    "import matplotlib.patches as patches\n",
    "import matplotlib.ticker as ticker\n",
    "\n",
    "plt.rcParams['image.cmap'] = 'viridis'\n",
    "plt.rcParams['image.origin'] = 'lower'\n",
    "plt.rcParams['axes.titlesize'] =  plt.rcParams['axes.labelsize'] = 16\n",
    "plt.rcParams['xtick.labelsize'] =  plt.rcParams['ytick.labelsize'] = 14"
   ]
  },
  {
   "cell_type": "markdown",
   "metadata": {},
   "source": [
    "### Load and Display the two images"
   ]
  },
  {
   "cell_type": "code",
   "execution_count": null,
   "metadata": {},
   "outputs": [],
   "source": [
    "image_f115w = 'https://data.science.stsci.edu/redirect/JWST/jwst-data_analysis_tools/psf_photometry/jw01072001001_01101_00001_nrcb1_cal.fits'\n",
    "image_f200w = 'https://data.science.stsci.edu/redirect/JWST/jwst-data_analysis_tools/psf_photometry/jw01072001001_01101_00005_nrcb1_cal.fits'\n",
    "\n",
    "im_f115w = fits.open(image_f115w)\n",
    "data_f115w_sb = im_f115w[1].data\n",
    "imh_f115w = im_f115w[1].header\n",
    "imwcs_f115w = wcs.WCS(imh_f115w)\n",
    "\n",
    "im_f200w = fits.open(image_f200w)\n",
    "data_f200w_sb = im_f200w[1].data\n",
    "imh_f200w = im_f200w[1].header\n",
    "imwcs_f200w = wcs.WCS(imh_f200w)\n",
    "\n",
    "im_f115w.writeto('nircam_f115w.fits')\n",
    "im_f200w.writeto('nircam_f200w.fits')\n",
    "\n",
    "plt.figure(figsize=(14,14))\n",
    "\n",
    "ax1 = plt.subplot(1,2,1)\n",
    "\n",
    "norm_f115w = simple_norm(data_f115w_sb, 'sqrt', percent=99.)\n",
    "plt.xlabel(\"X [px]\")\n",
    "plt.ylabel(\"Y [px]\")\n",
    "ax1.imshow(data_f115w_sb, norm=norm_f115w, cmap = 'Greys')\n",
    "\n",
    "ax2 = plt.subplot(1,2,2)\n",
    "norm_f200w = simple_norm(data_f200w_sb, 'sqrt', percent=99.)\n",
    "plt.xlabel(\"X [px]\")\n",
    "plt.ylabel(\"Y [px]\")\n",
    "ax2.imshow(data_f200w_sb, norm=norm_f200w, cmap = 'Greys')"
   ]
  },
  {
   "cell_type": "markdown",
   "metadata": {},
   "source": [
    "**Note**: The unit of the Level-2 and Level-3 Images from the pipeline is MJy/sr (hence a surface brightness). The actual unit of the image can be checked from the header keyword **BUNIT**. The scalar conversion constant is copied to the header keyword **PHOTMJSR**, which gives the conversion from DN/s to megaJy/steradian. For our analysis we revert back to cps (count per second)."
   ]
  },
  {
   "cell_type": "code",
   "execution_count": null,
   "metadata": {},
   "outputs": [],
   "source": [
    "print(\"Check the units in the F115W image:\", imh_f115w['BUNIT'])\n",
    "print(\"Conversion factor from {units} to cps for filter F115W:\".format(units=imh_f115w['BUNIT']), imh_f115w['PHOTMJSR'])\n",
    "data_f115w = data_f115w_sb / imh_f115w['PHOTMJSR']\n",
    "print(\"Check the units in the F200W image:\", imh_f200w['BUNIT'])\n",
    "print(\"Conversion factor from {units} to cps for filter F200W:\".format(units=imh_f200w['BUNIT']), imh_f200w['PHOTMJSR'])\n",
    "data_f200w = data_f200w_sb / imh_f200w['PHOTMJSR']"
   ]
  },
  {
   "cell_type": "markdown",
   "metadata": {},
   "source": [
    "**NOTE**: since performing the PSF photometry on the whole image takes some time (see also cells below), to demonstrate the various steps outlined in the notebook, we create a cutout of the image with 200 px size. \n",
    "\n",
    "Hence, we derive the effective PSF for the whole image and we perform the photometry only in the cutout."
   ]
  },
  {
   "cell_type": "markdown",
   "metadata": {},
   "source": [
    "### Create 2D cutout of the images and display them"
   ]
  },
  {
   "cell_type": "code",
   "execution_count": null,
   "metadata": {},
   "outputs": [],
   "source": [
    "position = (100,100)\n",
    "size = 200 * u.pixel\n",
    "\n",
    "cutout_f115w = Cutout2D(data_f115w, position, size)\n",
    "cutout_f200w = Cutout2D(data_f200w, position, size)\n",
    "\n",
    "plt.figure(figsize=(14,14))\n",
    "\n",
    "ax1 = plt.subplot(1,2,1)\n",
    "\n",
    "norm_f115w_cutout = simple_norm(cutout_f115w.data, 'sqrt', percent=99.)\n",
    "plt.xlabel(\"X [px]\")\n",
    "plt.ylabel(\"Y [px]\")\n",
    "ax1.imshow(cutout_f115w.data, norm=norm_f115w_cutout, cmap = 'Greys')\n",
    "\n",
    "ax2 = plt.subplot(1,2,2)\n",
    "norm_f200w_cutout = simple_norm(cutout_f200w.data, 'sqrt', percent=99.)\n",
    "plt.xlabel(\"X [px]\")\n",
    "plt.ylabel(\"Y [px]\")\n",
    "ax2.imshow(cutout_f200w.data, norm=norm_f200w_cutout, cmap = 'Greys')"
   ]
  },
  {
   "cell_type": "markdown",
   "metadata": {},
   "source": [
    "## Notes for developer and To Do:\n",
    "\n",
    "Add a cell for interactive version. \n",
    "\n",
    "In the interactive version, the users should be able to examine the image and perform basic operations both in terms of visualization (pan, zoom, etc.) and \"analysis\" (select/de-select objects, derive FWHM, etc. Similar to imexam functionality). A preliminary version of this work has been already implemented and can be found in [this notebook](https://github.com/pllim/dat_pyinthesky/blob/ea838a393416b994240a7096ed8b4291aa14e406/jwst_nb_viz/NIRCam/NIRCAM_PSF_phot_ginga.ipynb). "
   ]
  },
  {
   "cell_type": "markdown",
   "metadata": {},
   "source": [
    "## Example 1: PSF Photometry using a single effective PSF\n",
    "\n",
    "### Find Stars used to build the Effective PSF\n",
    "\n",
    "In this example we use the photutils function [IRAFStarFinder()](https://photutils.readthedocs.io/en/latest/api/photutils.detection.IRAFStarFinder.html#photutils.detection.IRAFStarFinder). Another Possibility would be to use the function [find_peaks()](https://photutils.readthedocs.io/en/latest/api/photutils.detection.find_peaks.html#photutils.detection.find_peaks).\n",
    "\n",
    "For this task we need to define the following parameters:\n",
    "* image's background\n",
    "* fwhm of the 2D circular gaussian kernel in pixel (PSF fwhm)\n",
    "* threshold above the local background (i.e., absolute image value above which to select sources). We keep a high `threshold` since we want to use only the bright stars in the field of view.  "
   ]
  },
  {
   "cell_type": "markdown",
   "metadata": {},
   "source": [
    "### To Do:\n",
    "\n",
    "Implement a mask that track the bad pixels and/or saturated pixels from the dq array, in order to exclude those regions from the data."
   ]
  },
  {
   "cell_type": "code",
   "execution_count": null,
   "metadata": {},
   "outputs": [],
   "source": [
    "tic = time.perf_counter()\n",
    "\n",
    "bkgrms = MADStdBackgroundRMS()\n",
    "mmm_bkg = MMMBackground()\n",
    "\n",
    "sigma_psf_f115w = 0.55\n",
    "sigma_psf_f200w = 0.85\n",
    "\n",
    "std_f115w = bkgrms(data_f115w)\n",
    "bkg_f115w = mmm_bkg(data_f115w)\n",
    "std_f200w = bkgrms(data_f200w)\n",
    "bkg_f200w = mmm_bkg(data_f200w)\n",
    "\n",
    "psf_stars_f115w = IRAFStarFinder(threshold=500*std_f115w + bkg_f115w,\n",
    "                          fwhm=sigma_psf_f115w*gaussian_sigma_to_fwhm,\n",
    "                          minsep_fwhm=10, roundhi=1.0, roundlo=-1.0,\n",
    "                          sharplo=0.30, sharphi=1.40)\n",
    "\n",
    "psf_stars_f200w = IRAFStarFinder(threshold=500*std_f200w + bkg_f200w,\n",
    "                          fwhm=sigma_psf_f200w*gaussian_sigma_to_fwhm,\n",
    "                          minsep_fwhm=10, roundhi=1.0, roundlo=-1.0,\n",
    "                          sharplo=0.30, sharphi=1.40)\n",
    "\n",
    "sources_f115w = psf_stars_f115w(data_f115w)\n",
    "sources_f200w = psf_stars_f200w(data_f200w)\n",
    "\n",
    "toc = time.perf_counter()\n",
    "print(\"Elapsed Time:\", toc - tic, \"number of sources detected for F115W:\", \n",
    "      len(sources_f115w), \"and for F200W:\", len(sources_f200w))"
   ]
  },
  {
   "cell_type": "markdown",
   "metadata": {},
   "source": [
    "### Overplot the sources on the two images"
   ]
  },
  {
   "cell_type": "code",
   "execution_count": null,
   "metadata": {},
   "outputs": [],
   "source": [
    "positions_f115w = np.transpose((sources_f115w['xcentroid'], sources_f115w['ycentroid']))\n",
    "apertures_f115w = CircularAperture(positions_f115w, r=5.)\n",
    "\n",
    "positions_f200w = np.transpose((sources_f200w['xcentroid'], sources_f200w['ycentroid']))\n",
    "apertures_f200w = CircularAperture(positions_f200w, r=5.)\n",
    "\n",
    "plt.figure(figsize=(14,14))\n",
    "\n",
    "ax1 = plt.subplot(1,2,1)\n",
    "plt.xlabel(\"X [px]\")\n",
    "plt.ylabel(\"Y [px]\")\n",
    "ax1.imshow(data_f115w, norm=norm_f115w, cmap = 'Greys', origin='lower')\n",
    "apertures_f115w.plot(color='blue', lw=1.5, alpha=0.5)\n",
    "\n",
    "ax2 = plt.subplot(1,2,2)\n",
    "plt.xlabel(\"X [px]\")\n",
    "plt.ylabel(\"Y [px]\")\n",
    "ax2.imshow(data_f200w, norm=norm_f200w, cmap = 'Greys', origin='lower')\n",
    "apertures_f200w.plot(color='blue', lw=1.5, alpha=0.5)"
   ]
  },
  {
   "cell_type": "markdown",
   "metadata": {},
   "source": [
    "### Create the effective PSF\n",
    "\n",
    "* Extract cutouts of the stars selected above (excluding stars too close to the image boundaries, depending on the size of the cutout)\n",
    "* subtract the background from the image (create a copy of the image because photometry is peformed on images not-background subtracted)\n",
    "* Create the Effective PSF using the [EPSFBuilder](https://photutils.readthedocs.io/en/latest/epsf.html) function"
   ]
  },
  {
   "cell_type": "code",
   "execution_count": null,
   "metadata": {},
   "outputs": [],
   "source": [
    "size_f115w = 25\n",
    "hsize_f115w = (size_f115w - 1) / 2\n",
    "size_f200w = 25\n",
    "hsize_f200w = (size_f200w - 1) / 2\n",
    "\n",
    "x_f115w = sources_f115w['xcentroid']  \n",
    "y_f115w = sources_f115w['ycentroid']  \n",
    "mask_f115w = ((x_f115w > hsize_f115w) & (x_f115w < (data_f115w.shape[1] -1 - hsize_f115w)) &\n",
    "        (y_f115w > hsize_f115w) & (y_f115w < (data_f115w.shape[0] -1 - hsize_f115w)))\n",
    "\n",
    "x_f200w = sources_f200w['xcentroid']  \n",
    "y_f200w = sources_f200w['ycentroid']  \n",
    "mask_f200w = ((x_f200w > hsize_f200w) & (x_f200w < (data_f200w.shape[1] -1 - hsize_f200w)) &\n",
    "        (y_f200w > hsize_f200w) & (y_f200w < (data_f200w.shape[0] -1 - hsize_f200w)))\n",
    "\n",
    "stars_tbl_f115w = Table()\n",
    "stars_tbl_f115w['x'] = x_f115w[mask_f115w]  \n",
    "stars_tbl_f115w['y'] = y_f115w[mask_f115w]  \n",
    "stars_tbl_f200w = Table()\n",
    "stars_tbl_f200w['x'] = x_f200w[mask_f200w]  \n",
    "stars_tbl_f200w['y'] = y_f200w[mask_f200w]  \n",
    "\n",
    "data_f115w_bkgsub = data_f115w.copy()\n",
    "data_f200w_bkgsub = data_f200w.copy()\n",
    "\n",
    "data_f115w_bkgsub -= bkg_f115w\n",
    "data_f200w_bkgsub -= bkg_f200w\n",
    "\n",
    "nddata_f115w = NDData(data = data_f115w_bkgsub)\n",
    "nddata_f200w = NDData(data = data_f200w_bkgsub)\n",
    "\n",
    "stars_f115w = extract_stars(nddata_f115w, stars_tbl_f115w, size=size_f115w)\n",
    "stars_f200w = extract_stars(nddata_f200w, stars_tbl_f200w, size=size_f200w)"
   ]
  },
  {
   "cell_type": "markdown",
   "metadata": {},
   "source": [
    "**Note**: Here we limit the maximum number of iterations to 3 (to limit its run time), but in practice one should use about 10 or more iterations."
   ]
  },
  {
   "cell_type": "code",
   "execution_count": null,
   "metadata": {},
   "outputs": [],
   "source": [
    "tic = time.perf_counter()\n",
    "\n",
    "epsf_builder = EPSFBuilder(oversampling=4, maxiters=3,\n",
    "                           progress_bar=False)\n",
    "\n",
    "epsf_f115w, fitted_stars_f115w = epsf_builder(stars_f115w)\n",
    "epsf_f200w, fitted_stars_f200w = epsf_builder(stars_f200w)\n",
    "toc = time.perf_counter()\n",
    "\n",
    "print(\"Elapsed Time:\", toc - tic)"
   ]
  },
  {
   "cell_type": "markdown",
   "metadata": {},
   "source": [
    "### Display the effective PSFs"
   ]
  },
  {
   "cell_type": "code",
   "execution_count": null,
   "metadata": {},
   "outputs": [],
   "source": [
    "plt.figure(figsize=(14,14))\n",
    "\n",
    "ax1 = plt.subplot(1,2,1)\n",
    "norm_epsf1 = simple_norm(epsf_f115w.data, 'log', percent=99.)\n",
    "ax1.imshow(epsf_f115w.data, norm=norm_epsf1)\n",
    "\n",
    "ax2 = plt.subplot(1,2,2)\n",
    "norm_epsf2 = simple_norm(epsf_f200w.data, 'log', percent=99.)\n",
    "ax2.imshow(epsf_f200w.data, norm=norm_epsf2)"
   ]
  },
  {
   "cell_type": "markdown",
   "metadata": {},
   "source": [
    "### Note for developers and To Do:\n",
    "\n",
    "For very sparse fields or when the users want to derive the effective PSF for a specific region of the sky, it would be great to have an interactive display that shows the stars selected to build the effective PSF, with the possibility to keep or discard each star. This is obviously intended only for the cases where the number of stars to inspect is quite low. \n",
    "\n",
    "Below we report a possible example using the 2D cutout, thus decreasing the number of stars used to derive the effective PSF to a very low number. In this example, we find the stars in the cutout using [find_peaks()](https://photutils.readthedocs.io/en/latest/api/photutils.detection.find_peaks.html#photutils.detection.find_peaks) and we show how it is possible to display them (non-interactively). Note that [find_peaks()](https://photutils.readthedocs.io/en/latest/api/photutils.detection.find_peaks.html#photutils.detection.find_peaks) allows to set the parameter `box_size` that define the local region where the peaks above the `threshold` are found (i.e., the defined region imposes a mimimum separation between peaks). \n",
    "\n",
    "In the non-interactive version, to remove stars from the sample used to build the effective PSF, they must be excluded manually from the original table."
   ]
  },
  {
   "cell_type": "markdown",
   "metadata": {},
   "source": [
    "### Find stars in the 2D cutout"
   ]
  },
  {
   "cell_type": "code",
   "execution_count": null,
   "metadata": {},
   "outputs": [],
   "source": [
    "std_f115w_cutout = bkgrms(cutout_f115w.data)\n",
    "bkg_f115w_cutout = mmm_bkg(cutout_f115w.data)\n",
    "std_f200w_cutout = bkgrms(cutout_f200w.data)\n",
    "bkg_f200w_cutout = mmm_bkg(cutout_f200w.data)\n",
    "\n",
    "psf_stars_f115w_cutout = find_peaks(cutout_f115w.data, threshold = 500*std_f115w_cutout + bkg_f115w_cutout, \n",
    "                                    box_size = 20, centroid_func = centroid_2dg)\n",
    "\n",
    "psf_stars_f200w_cutout = find_peaks(cutout_f200w.data, threshold = 350*std_f200w_cutout + bkg_f200w_cutout, \n",
    "                                    box_size = 20, centroid_func = centroid_2dg)\n",
    "\n",
    "print(\"Number of sources detected for F115W\", len(psf_stars_f115w_cutout), \"and F200W:\", len(psf_stars_f200w_cutout))"
   ]
  },
  {
   "cell_type": "markdown",
   "metadata": {},
   "source": [
    "### Overplot stars in the images"
   ]
  },
  {
   "cell_type": "code",
   "execution_count": null,
   "metadata": {},
   "outputs": [],
   "source": [
    "positions_f115w_cutout = np.transpose((psf_stars_f115w_cutout['x_centroid'], psf_stars_f115w_cutout['y_centroid']))\n",
    "apertures_f115w_cutout = CircularAperture(positions_f115w_cutout, r=5.)\n",
    "\n",
    "positions_f200w_cutout = np.transpose((psf_stars_f200w_cutout['x_centroid'], psf_stars_f200w_cutout['y_centroid']))\n",
    "apertures_f200w_cutout = CircularAperture(positions_f200w_cutout, r=5.)\n",
    "\n",
    "plt.figure(figsize=(14,14))\n",
    "\n",
    "ax1 = plt.subplot(1,2,1)\n",
    "plt.xlabel(\"X [px]\")\n",
    "plt.ylabel(\"Y [px]\")\n",
    "ax1.imshow(cutout_f115w.data, norm=norm_f115w_cutout, cmap = 'Greys', origin='lower')\n",
    "apertures_f115w_cutout.plot(color='blue', lw=2.5, alpha=0.5)\n",
    "\n",
    "ax2 = plt.subplot(1,2,2)\n",
    "plt.xlabel(\"X [px]\")\n",
    "plt.ylabel(\"Y [px]\")\n",
    "ax2.imshow(cutout_f200w.data, norm=norm_f200w_cutout, cmap = 'Greys', origin='lower')\n",
    "apertures_f200w_cutout.plot(color='blue', lw=2.5, alpha=0.5)"
   ]
  },
  {
   "cell_type": "code",
   "execution_count": null,
   "metadata": {},
   "outputs": [],
   "source": [
    "x_f115w_cutout = psf_stars_f115w_cutout['x_centroid']  \n",
    "y_f115w_cutout = psf_stars_f115w_cutout['y_centroid'] \n",
    "mask_f115w_cutout = ((x_f115w_cutout > hsize_f115w) & (x_f115w_cutout < (cutout_f115w.shape[1] -1 - hsize_f115w)) &\n",
    "        (y_f115w_cutout > hsize_f115w) & (y_f115w_cutout < (cutout_f115w.shape[0] -1 - hsize_f115w)))\n",
    "\n",
    "x_f200w_cutout = psf_stars_f200w_cutout['x_centroid']  \n",
    "y_f200w_cutout = psf_stars_f200w_cutout['y_centroid'] \n",
    "mask_f200w_cutout = ((x_f200w_cutout > hsize_f200w) & (x_f200w_cutout < (cutout_f200w.shape[1] -1 - hsize_f200w)) &\n",
    "        (y_f200w_cutout > hsize_f200w) & (y_f200w_cutout < (cutout_f200w.shape[0] -1 - hsize_f200w)))\n",
    "\n",
    "stars_tbl_f115w_cutout = Table()\n",
    "stars_tbl_f115w_cutout['x'] = x_f115w_cutout[mask_f115w_cutout]  \n",
    "stars_tbl_f115w_cutout['y'] = y_f115w_cutout[mask_f115w_cutout]  \n",
    "stars_tbl_f200w_cutout = Table()\n",
    "stars_tbl_f200w_cutout['x'] = x_f200w_cutout[mask_f200w_cutout]  \n",
    "stars_tbl_f200w_cutout['y'] = y_f200w_cutout[mask_f200w_cutout]  \n",
    "\n",
    "data_f115w_cutout_bkgsub = cutout_f115w.data.copy()\n",
    "data_f200w_cutout_bkgsub = cutout_f200w.data.copy()\n",
    "\n",
    "data_f115w_cutout_bkgsub -= bkg_f115w_cutout\n",
    "data_f200w_cutout_bkgsub -= bkg_f200w_cutout\n",
    "\n",
    "nddata_f115w_cutout = NDData(data = data_f115w_cutout_bkgsub)\n",
    "nddata_f200w_cutout = NDData(data = data_f200w_cutout_bkgsub)\n",
    "\n",
    "stars_f115w_cutout = extract_stars(nddata_f115w_cutout, stars_tbl_f115w_cutout, size=size_f115w)\n",
    "stars_f200w_cutout = extract_stars(nddata_f200w_cutout, stars_tbl_f200w_cutout, size=size_f200w)"
   ]
  },
  {
   "cell_type": "code",
   "execution_count": null,
   "metadata": {},
   "outputs": [],
   "source": [
    "nrows = 3\n",
    "ncols = 3\n",
    "fig, ax = plt.subplots(nrows=nrows, ncols=ncols, figsize=(20, 20),\n",
    "                       squeeze=True)\n",
    "ax = ax.ravel()\n",
    "for i in range(nrows*ncols):\n",
    "    norm = simple_norm(stars_f115w_cutout[i], 'log', percent=99.)\n",
    "    ax[i].imshow(stars_f115w_cutout[i], norm=norm) "
   ]
  },
  {
   "cell_type": "markdown",
   "metadata": {},
   "source": [
    "## Note for developers and To Do:\n",
    "\n",
    "### Build a function to create a grid of ePSF\n",
    "\n",
    "Two functions:\n",
    "* count PSF stars in the grid \n",
    "* create a gridded ePSF\n",
    "\n",
    "The purpose of the first function is to count how many good PSF stars are in each sub-region defined by the grid number N. The function should start from the number provided by the user and iterate until the minimum grid size 2x2. The function could be something like:\n",
    "\n",
    "* def count_psfstars(filename = table, number = N, save = False)\n",
    "    * filename: table obtained from my_finder \n",
    "    * number: maximum number of the fiducial point for the grid (i.e. number = 4 will create a 4 x 4 grid and 16 fiducial point). The function will iterate from N x N to 2 x 2. \n",
    "    * save: if False (default), the function cycle through the different grid size and print the number of PSF stars in each subregion of the grid (i.e., if number = 4, it will print the number of PSF stars found in each subregion of the 4x4, 3x3, and 2x2 grid). If True the function create N x N tables, 1 for each subregion, containing the PSF stars that will be used to create the effective PSFs.\n",
    "\n",
    "The second function is a loop over the different source catalogs that creates a grid of PSFs with EPSFBuilder. The function will return a a GriddedEPSFModel object containing a 3D array of N  ×  n  ×  n. The 3D array represents the N number of 2D n  ×  n ePSFs created. It should include a grid_xypos key which will state the position of the PSF on the detector for each of the PSFs. The order of the tuples in grid_xypos refers to the number the PSF is in the 3D array."
   ]
  },
  {
   "cell_type": "markdown",
   "metadata": {},
   "source": [
    "## Perform PSF Photometry\n",
    "\n",
    "**Note**: still working on the parameter optimization"
   ]
  },
  {
   "cell_type": "code",
   "execution_count": null,
   "metadata": {},
   "outputs": [],
   "source": [
    "iraffind_f115w = IRAFStarFinder(threshold=5*std_f115w_cutout + bkg_f115w_cutout,\n",
    "                          fwhm=sigma_psf_f115w*gaussian_sigma_to_fwhm,\n",
    "                          minsep_fwhm=0.5, roundhi=1.0, roundlo=-1.0,\n",
    "                          sharplo=0.30, sharphi=1.40)\n",
    "\n",
    "iraffind_f200w = IRAFStarFinder(threshold=5*std_f200w_cutout + bkg_f200w_cutout,\n",
    "                          fwhm=sigma_psf_f200w*gaussian_sigma_to_fwhm,\n",
    "                          minsep_fwhm=0.5, roundhi=1.0, roundlo=-1.0,\n",
    "                          sharplo=0.30, sharphi=1.40)\n",
    "\n",
    "daogroup_f115w = DAOGroup(5.0*sigma_psf_f115w*gaussian_sigma_to_fwhm)\n",
    "daogroup_f200w = DAOGroup(5.0*sigma_psf_f200w*gaussian_sigma_to_fwhm)\n",
    "\n",
    "fitter = LevMarLSQFitter()\n",
    "\n",
    "psf_model_f115w = epsf_f115w.copy()\n",
    "psf_model_f200w = epsf_f200w.copy()\n",
    "\n",
    "\n",
    "tic = time.perf_counter()\n",
    "phot_f115w = IterativelySubtractedPSFPhotometry(finder=iraffind_f115w, group_maker=daogroup_f115w,\n",
    "                                                bkg_estimator=mmm_bkg, psf_model=psf_model_f115w,\n",
    "                                                fitter=LevMarLSQFitter(),\n",
    "                                                niters=2, fitshape=(11,11), aperture_radius = 3)\n",
    "\n",
    "result_tab_f115w = phot_f115w(cutout_f115w.data)\n",
    "\n",
    "toc = time.perf_counter()\n",
    "\n",
    "print(\"Time elapsed:\", toc - tic, \"Number of sources detected in F115W:\", len(result_tab_f115w))\n",
    "\n",
    "tic = time.perf_counter()\n",
    "\n",
    "phot_f200w = IterativelySubtractedPSFPhotometry(finder=iraffind_f200w, group_maker=daogroup_f200w,\n",
    "                                                bkg_estimator=mmm_bkg, psf_model=psf_model_f200w,\n",
    "                                                fitter=LevMarLSQFitter(),\n",
    "                                                niters=2, fitshape=(11,11), aperture_radius = 4)\n",
    "\n",
    "result_tab_f200w = phot_f200w(cutout_f200w.data)\n",
    "\n",
    "toc = time.perf_counter()\n",
    "\n",
    "print(\"Time elapsed:\", toc - tic,  \"Number of sources detected in F200W:\", len(result_tab_f200w))"
   ]
  },
  {
   "cell_type": "markdown",
   "metadata": {},
   "source": [
    "**Note**: cell below is for the photometry of the whole field. Run time for the F115W is ~ 25 min, whereas reduction of the F200W image fails with the following error message: \n",
    "\n",
    "*RecursionError: maximum recursion depth exceeded while calling a Python object*\n",
    "\n",
    "To run the photometry on the whole field, uncomment cell below. "
   ]
  },
  {
   "cell_type": "code",
   "execution_count": null,
   "metadata": {},
   "outputs": [],
   "source": [
    "#iraffind_f115w = IRAFStarFinder(threshold=5*std_f115w + bkg_f115w,\n",
    "                          #fwhm=sigma_psf_f115w*gaussian_sigma_to_fwhm,\n",
    "                          #minsep_fwhm=0.5, roundhi=1.0, roundlo=-1.0,\n",
    "                          #sharplo=0.30, sharphi=1.40)\n",
    "\n",
    "#iraffind_f200w = IRAFStarFinder(threshold=5*std_f200w + bkg_f200w,\n",
    "                          #fwhm=sigma_psf_f200w*gaussian_sigma_to_fwhm,\n",
    "                          #minsep_fwhm=0.5, roundhi=1.0, roundlo=-1.0,\n",
    "                          #sharplo=0.30, sharphi=1.40)\n",
    "\n",
    "#tic = time.perf_counter()\n",
    "#phot_f115w = IterativelySubtractedPSFPhotometry(finder=iraffind_f115w, group_maker=daogroup_f115w,\n",
    "                                                #bkg_estimator=mmm_bkg, psf_model=psf_model_f115w,\n",
    "                                                #fitter=LevMarLSQFitter(),\n",
    "                                                #niters=2, fitshape=(11,11), aperture_radius = 3)\n",
    "\n",
    "#result_tab_f115w = phot_f115w(data_f115w)\n",
    "\n",
    "#toc = time.perf_counter()\n",
    "\n",
    "#print(\"Time elapsed:\", toc - tic, \"Number of sources detected in F115W:\", len(result_tab_f115w))\n",
    "\n",
    "#tic = time.perf_counter()\n",
    "\n",
    "#phot_f200w = IterativelySubtractedPSFPhotometry(finder=iraffind_f200w, group_maker=daogroup_f200w,\n",
    "                                                #bkg_estimator=mmm_bkg, psf_model=psf_model_f200w,\n",
    "                                                #fitter=LevMarLSQFitter(),\n",
    "                                                #niters=2, fitshape=(11,11), aperture_radius = 4)\n",
    "\n",
    "#result_tab_f200w = phot_f200w(data_f200w)"
   ]
  },
  {
   "cell_type": "markdown",
   "metadata": {},
   "source": [
    "### Display subtracted image"
   ]
  },
  {
   "cell_type": "code",
   "execution_count": null,
   "metadata": {},
   "outputs": [],
   "source": [
    "diff_f115w = phot_f115w.get_residual_image()\n",
    "diff_f200w = phot_f200w.get_residual_image()\n",
    "\n",
    "plt.figure(figsize=(14,14))\n",
    "\n",
    "ax1 = plt.subplot(2,2,1)\n",
    "plt.xlabel(\"X [px]\")\n",
    "plt.ylabel(\"Y [px]\")\n",
    "ax1.imshow(cutout_f115w.data, norm=norm_f115w_cutout, cmap = 'Greys')\n",
    "\n",
    "ax2 = plt.subplot(2,2,2)\n",
    "plt.xlabel(\"X [px]\")\n",
    "plt.ylabel(\"Y [px]\")\n",
    "ax2.imshow(cutout_f200w.data, norm=norm_f200w_cutout, cmap = 'Greys')\n",
    "\n",
    "ax3 = plt.subplot(2,2,3)\n",
    "plt.xlabel(\"X [px]\")\n",
    "plt.ylabel(\"Y [px]\")\n",
    "ax3.imshow(diff_f115w, norm=norm_f115w_cutout, cmap = 'Greys')\n",
    "\n",
    "ax4 = plt.subplot(2,2,4)\n",
    "plt.xlabel(\"X [px]\")\n",
    "plt.ylabel(\"Y [px]\")\n",
    "ax4.imshow(diff_f200w, norm=norm_f200w_cutout, cmap = 'Greys')\n"
   ]
  },
  {
   "cell_type": "markdown",
   "metadata": {},
   "source": [
    "## Example 2: PSF Photometry using a grid of fiducial PSFs from WebbPSF\n",
    "\n",
    "**Note**: I was unable to run the photometry using a grid of PSFs (i.e., I killed the process after 4 hours when it was still going through the first iteration). \n",
    "\n",
    "I show below how to create a grid of PSFs with WebbPSF and then I will perform the photometry on the cutout using a single PSF obtained for the position (x,y) = (100,100). Note that also using a single PSF the photometry step takes several minutes.  "
   ]
  },
  {
   "cell_type": "code",
   "execution_count": null,
   "metadata": {},
   "outputs": [],
   "source": [
    "nrc = webbpsf.NIRCam()\n",
    "nrc.filter = \"F115W\"\n",
    "nrc.detector = \"NRCB1\"\n",
    "\n",
    "# number of PSF to create \n",
    "num = 16\n",
    "\n",
    "grid_f115w = nrc.psf_grid(num_psfs = num, all_detectors = False, save = True)\n",
    "\n",
    "nrc.filter = \"F200W\"\n",
    "\n",
    "grid_f200w = nrc.psf_grid(num_psfs = num, all_detectors = False, save = True)"
   ]
  },
  {
   "cell_type": "markdown",
   "metadata": {},
   "source": [
    "To use the grid of PSFs uncomment cell below.\n",
    "\n",
    "**Note the warning above about the runtime**"
   ]
  },
  {
   "cell_type": "code",
   "execution_count": null,
   "metadata": {},
   "outputs": [],
   "source": [
    "#psfs_webbpsf_f115w = grid_f115w.copy()\n",
    "#psfs_webbpsf_f200w = grid_f200w.copy()\n",
    "\n",
    "#iraffind_f115w = IRAFStarFinder(threshold=5*std_f115w + bkg_f115w,\n",
    "                          #fwhm=sigma_psf_f115w*gaussian_sigma_to_fwhm,\n",
    "                          #minsep_fwhm=0.5, roundhi=1.0, roundlo=-1.0,\n",
    "                          #sharplo=0.30, sharphi=1.40)\n",
    "\n",
    "#iraffind_f200w = IRAFStarFinder(threshold=5*std_f200w + bkg_f200w,\n",
    "                          #fwhm=sigma_psf_f200w*gaussian_sigma_to_fwhm,\n",
    "                          #minsep_fwhm=0.5, roundhi=1.0, roundlo=-1.0,\n",
    "                          #sharplo=0.30, sharphi=1.40)\n",
    "\n",
    "#tic = time.perf_counter()\n",
    "#phot_f115w_grid = IterativelySubtractedPSFPhotometry(finder=iraffind_f115w, group_maker=daogroup_f115w,\n",
    "                                                #bkg_estimator=mmm_bkg, psf_model=psfs_webbpsf_f115w,\n",
    "                                                #fitter=LevMarLSQFitter(),\n",
    "                                                #niters=2, fitshape=(11,11), aperture_radius = 3)\n",
    "\n",
    "#result_tab_f115w_grid = phot_f115w_grid(data_f115w)\n",
    "\n",
    "#toc = time.perf_counter()\n",
    "\n",
    "#print(\"Time elapsed:\", toc - tic, \"Number of sources detected in F115W:\", len(result_tab_f115w))\n",
    "\n",
    "#tic = time.perf_counter()\n",
    "\n",
    "#phot_f200w_grid = IterativelySubtractedPSFPhotometry(finder=iraffind_f200w, group_maker=daogroup_f200w,\n",
    "                                                #bkg_estimator=mmm_bkg, psf_model=psfs_webbpsf_f200w,\n",
    "                                                #fitter=LevMarLSQFitter(),\n",
    "                                                #niters=2, fitshape=(11,11), aperture_radius = 4)\n",
    "\n",
    "#result_tab_f200w_grid = phot_f200w_grid(data_f200w)\n"
   ]
  },
  {
   "cell_type": "code",
   "execution_count": null,
   "metadata": {},
   "outputs": [],
   "source": [
    "nrc = webbpsf.NIRCam()\n",
    "\n",
    "nrc.filter = \"F115W\"\n",
    "nrc.detector = \"NRCB1\"\n",
    "\n",
    "# number of PSF to create \n",
    "num = 1\n",
    "nrc.detector_position = (100,100)\n",
    "single_f115w = nrc.psf_grid(num_psfs = num, all_detectors = False, fov_pixels = 15, single_psf_centered = False)\n",
    "\n",
    "nrc.filter = \"F200W\"\n",
    "\n",
    "single_f200w = nrc.psf_grid(num_psfs = num, all_detectors = False, fov_pixels = 15, single_psf_centered = False)"
   ]
  },
  {
   "cell_type": "markdown",
   "metadata": {},
   "source": [
    "### Perform Photometry on the cutout images using the model PSF from WebbPSF"
   ]
  },
  {
   "cell_type": "code",
   "execution_count": null,
   "metadata": {},
   "outputs": [],
   "source": [
    "iraffind_f115w = IRAFStarFinder(threshold=5*std_f115w_cutout + bkg_f115w_cutout,\n",
    "                          fwhm=sigma_psf_f115w*gaussian_sigma_to_fwhm,\n",
    "                          minsep_fwhm=0.5, roundhi=1.0, roundlo=-1.0,\n",
    "                          sharplo=0.30, sharphi=1.40)\n",
    "\n",
    "iraffind_f200w = IRAFStarFinder(threshold=5*std_f200w_cutout + bkg_f200w_cutout,\n",
    "                          fwhm=sigma_psf_f200w*gaussian_sigma_to_fwhm,\n",
    "                          minsep_fwhm=0.5, roundhi=1.0, roundlo=-1.0,\n",
    "                          sharplo=0.30, sharphi=1.40)\n",
    "\n",
    "daogroup_f115w = DAOGroup(5.0*sigma_psf_f115w*gaussian_sigma_to_fwhm)\n",
    "daogroup_f200w = DAOGroup(5.0*sigma_psf_f200w*gaussian_sigma_to_fwhm)\n",
    "\n",
    "fitter = LevMarLSQFitter()\n",
    "\n",
    "psf_single_f115w = single_f115w.copy()\n",
    "psf_single_f200w = single_f200w.copy()\n",
    "\n",
    "tic = time.perf_counter()\n",
    "phot_f115w_webbpsf_single = IterativelySubtractedPSFPhotometry(finder=iraffind_f115w, group_maker=daogroup_f115w,\n",
    "                                                bkg_estimator=mmm_bkg, psf_model=psf_single_f115w,\n",
    "                                                fitter=LevMarLSQFitter(),\n",
    "                                                niters=2, fitshape=(11,11), aperture_radius = 3)\n",
    "\n",
    "result_tab_f115w_webbpsf_single = phot_f115w_webbpsf_single(cutout_f115w.data)\n",
    "\n",
    "toc = time.perf_counter()\n",
    "\n",
    "print(\"Time elapsed:\", toc - tic, \"Number of sources detected in F115W:\", len(result_tab_f115w_webbpsf_single))\n",
    "\n",
    "tic = time.perf_counter()\n",
    "\n",
    "phot_f200w_webbpsf_single = IterativelySubtractedPSFPhotometry(finder=iraffind_f200w, group_maker=daogroup_f200w,\n",
    "                                                bkg_estimator=mmm_bkg, psf_model=psf_single_f200w,\n",
    "                                                fitter=LevMarLSQFitter(),\n",
    "                                                niters=2, fitshape=(11,11), aperture_radius = 4)\n",
    "\n",
    "result_tab_f200w_webbpsf_single = phot_f200w_webbpsf_single(cutout_f200w.data)\n",
    "\n",
    "toc = time.perf_counter()\n",
    "\n",
    "print(\"Time elapsed:\", toc - tic,  \"Number of sources detected in F200W:\", len(result_tab_f200w_webbpsf_single))"
   ]
  },
  {
   "cell_type": "markdown",
   "metadata": {},
   "source": [
    "### Display the subtracted images"
   ]
  },
  {
   "cell_type": "code",
   "execution_count": null,
   "metadata": {},
   "outputs": [],
   "source": [
    "diff_f115w_webbpsf_single = phot_f115w_webbpsf_single.get_residual_image()\n",
    "diff_f200w_webbpsf_single = phot_f200w_webbpsf_single.get_residual_image()\n",
    "\n",
    "plt.figure(figsize=(14,14))\n",
    "\n",
    "ax1 = plt.subplot(2,2,1)\n",
    "plt.xlabel(\"X [px]\")\n",
    "plt.ylabel(\"Y [px]\")\n",
    "ax1.imshow(cutout_f115w.data, norm=norm_f115w_cutout, cmap = 'Greys')\n",
    "\n",
    "ax2 = plt.subplot(2,2,2)\n",
    "plt.xlabel(\"X [px]\")\n",
    "plt.ylabel(\"Y [px]\")\n",
    "ax2.imshow(cutout_f200w.data, norm=norm_f200w_cutout, cmap = 'Greys')\n",
    "\n",
    "ax3 = plt.subplot(2,2,3)\n",
    "plt.xlabel(\"X [px]\")\n",
    "plt.ylabel(\"Y [px]\")\n",
    "ax3.imshow(diff_f115w_webbpsf_single, norm=norm_f115w_cutout, cmap = 'Greys')\n",
    "\n",
    "ax4 = plt.subplot(2,2,4)\n",
    "plt.xlabel(\"X [px]\")\n",
    "plt.ylabel(\"Y [px]\")\n",
    "ax4.imshow(diff_f200w_webbpsf_single, norm=norm_f200w_cutout, cmap = 'Greys')\n"
   ]
  },
  {
   "cell_type": "markdown",
   "metadata": {},
   "source": [
    "## Preliminary Test: Color-Magnitude Diagram\n",
    "\n",
    "Comparison between the PSF photometry and the input stars"
   ]
  },
  {
   "cell_type": "markdown",
   "metadata": {},
   "source": [
    "### Select stars with positive flux and convert to magnitudes"
   ]
  },
  {
   "cell_type": "code",
   "execution_count": null,
   "metadata": {},
   "outputs": [],
   "source": [
    "# ePSF \n",
    "\n",
    "flux_f115w = result_tab_f115w['flux_fit']\n",
    "x_f115w = result_tab_f115w['x_fit']\n",
    "y_f115w = result_tab_f115w['y_fit']\n",
    "\n",
    "mask_goodstar_f115w = (flux_f115w > 0)\n",
    "\n",
    "mag_det_f115w = -2.5 * np.log10(flux_f115w[mask_goodstar_f115w])\n",
    "x_det_f115w = x_f115w[mask_goodstar_f115w]\n",
    "y_det_f115w = y_f115w[mask_goodstar_f115w]\n",
    "\n",
    "\n",
    "flux_f200w = result_tab_f200w['flux_fit']\n",
    "x_f200w = result_tab_f200w['x_fit']\n",
    "y_f200w = result_tab_f200w['y_fit']\n",
    "\n",
    "mask_goodstar_f200w = (flux_f200w > 0)\n",
    "mag_det_f200w = -2.5 * np.log10(flux_f200w[mask_goodstar_f200w])\n",
    "x_det_f200w = x_f200w[mask_goodstar_f200w]\n",
    "y_det_f200w = y_f200w[mask_goodstar_f200w]\n",
    "\n",
    "flux_f115w = result_tab_f115w['flux_fit']\n",
    "x_f115w = result_tab_f115w['x_fit']\n",
    "y_f115w = result_tab_f115w['y_fit']\n",
    "\n",
    "# WebbPSF\n",
    "\n",
    "flux_f115w_webbpsf = result_tab_f115w_webbpsf_single['flux_fit']\n",
    "x_f115w_webbpsf = result_tab_f115w_webbpsf_single['x_fit']\n",
    "y_f115w_webbpsf = result_tab_f115w_webbpsf_single['y_fit']\n",
    "\n",
    "mask_goodstar_f115w_webbpsf = (flux_f115w_webbpsf > 0)\n",
    "\n",
    "mag_det_f115w_webbpsf = -2.5 * np.log10(flux_f115w_webbpsf[mask_goodstar_f115w_webbpsf])\n",
    "x_det_f115w_webbpsf = x_f115w_webbpsf[mask_goodstar_f115w_webbpsf]\n",
    "y_det_f115w_webbpsf = y_f115w_webbpsf[mask_goodstar_f115w_webbpsf]\n",
    "\n",
    "flux_f200w_webbpsf = result_tab_f200w_webbpsf_single['flux_fit']\n",
    "x_f200w_webbpsf = result_tab_f200w_webbpsf_single['x_fit']\n",
    "y_f200w_webbpsf = result_tab_f200w_webbpsf_single['y_fit']\n",
    "\n",
    "mask_goodstar_f200w_webbpsf = (flux_f200w_webbpsf > 0)\n",
    "mag_det_f200w_webbpsf = -2.5 * np.log10(flux_f200w_webbpsf[mask_goodstar_f200w_webbpsf])\n",
    "x_det_f200w_webbpsf = x_f200w_webbpsf[mask_goodstar_f200w_webbpsf]\n",
    "y_det_f200w_webbpsf = y_f200w_webbpsf[mask_goodstar_f200w_webbpsf]"
   ]
  },
  {
   "cell_type": "markdown",
   "metadata": {},
   "source": [
    "### Cross-match the catalogs"
   ]
  },
  {
   "cell_type": "code",
   "execution_count": null,
   "metadata": {},
   "outputs": [],
   "source": [
    "radec_f115w = pixel_to_skycoord(x_det_f115w, y_det_f115w, imwcs_f115w, origin=0, cls=None)\n",
    "radec_f200w = pixel_to_skycoord(x_det_f200w, y_det_f200w, imwcs_f200w, origin=0, cls=None)\n",
    "\n",
    "idx, d2d, d3d = match_coordinates_sky(radec_f115w, radec_f200w)\n",
    "\n",
    "max_sep = 0.015 * u.arcsec\n",
    "sep_constraint = d2d < max_sep\n",
    "f115w_matches = radec_f115w[sep_constraint]\n",
    "f200w_matches = radec_f200w[idx[sep_constraint]]\n",
    "print(\"Number of matched sources:\", len(f115w_matches))\n",
    "\n",
    "radec_f115w_webbpsf = pixel_to_skycoord(x_det_f115w_webbpsf, y_det_f115w_webbpsf, imwcs_f115w, origin=0, cls=None)\n",
    "radec_f200w_webbpsf = pixel_to_skycoord(x_det_f200w_webbpsf, y_det_f200w_webbpsf, imwcs_f200w, origin=0, cls=None)\n",
    "\n",
    "idx_webbpsf, d2d_webbpsf, d3d_webbpsf = match_coordinates_sky(radec_f115w_webbpsf, radec_f200w_webbpsf)\n",
    "\n",
    "sep_constraint_webbpsf = d2d_webbpsf < max_sep\n",
    "f115w_matches_webbpsf = radec_f115w_webbpsf[sep_constraint_webbpsf]\n",
    "f200w_matches_webbpsf = radec_f200w_webbpsf[idx_webbpsf[sep_constraint_webbpsf]]\n",
    "print(\"Number of matched sources:\", len(f115w_matches_webbpsf))\n",
    "\n",
    "F115W_epsf = mag_det_f115w[sep_constraint]\n",
    "F200W_epsf = mag_det_f200w[idx[sep_constraint]]\n",
    "F115W_webbpsf = mag_det_f115w_webbpsf[sep_constraint_webbpsf]\n",
    "F200W_webbpsf = mag_det_f200w_webbpsf[idx_webbpsf[sep_constraint_webbpsf]]"
   ]
  },
  {
   "cell_type": "markdown",
   "metadata": {},
   "source": [
    "### Import the LMC calibration field catalog and select the objects in the 2D cutout"
   ]
  },
  {
   "cell_type": "code",
   "execution_count": null,
   "metadata": {},
   "outputs": [],
   "source": [
    "input_cat1 = 'https://data.science.stsci.edu/redirect/JWST/jwst-data_analysis_tools/psf_photometry/jw01072001001_01101_00001_nrcb1_uncal_pointsources.list' \n",
    "\n",
    "cat_f115w = pd.read_csv(input_cat1, header = None, sep='\\s+', names=['x_f115w','y_f115w','f115w_in'], comment='#',\n",
    "                        skiprows=0, usecols=(5,6,7))\n",
    "\n",
    "input_cat2 = 'https://data.science.stsci.edu/redirect/JWST/jwst-data_analysis_tools/psf_photometry/jw01072001001_01101_00005_nrcb1_uncal_pointsources.list' \n",
    "\n",
    "cat_f200w = pd.read_csv(input_cat2, header = None, sep='\\s+', names=['x_f200w','y_f200w','f200w_in'], comment='#',\n",
    "                        skiprows=0, usecols=(5,6,7))\n",
    "\n",
    "cat_f115w_sel = cat_f115w[(cat_f115w['x_f115w'] > 0) & (cat_f115w['x_f115w'] < 200) \n",
    "                          & (cat_f115w['y_f115w'] > 0) & (cat_f115w['y_f115w'] < 200)]\n",
    "\n",
    "cat_f200w_sel = cat_f200w[(cat_f200w['x_f200w'] > 0) & (cat_f200w['x_f200w'] < 200) \n",
    "                          & (cat_f200w['y_f200w'] > 0) & (cat_f200w['y_f200w'] < 200)]"
   ]
  },
  {
   "cell_type": "markdown",
   "metadata": {},
   "source": [
    "### Plot the Color-Magnitude Diagrams"
   ]
  },
  {
   "cell_type": "code",
   "execution_count": null,
   "metadata": {},
   "outputs": [],
   "source": [
    "plt.figure(figsize=(12,10))\n",
    "plt.clf()\n",
    "\n",
    "font1 = {'family' : 'serif',\n",
    "      'color': 'black',\n",
    "      'weight': 'normal',\n",
    "      'size': '12'}\n",
    "\n",
    "font2 = {'family' : 'serif',\n",
    "      'color': 'black',\n",
    "      'weight': 'normal',\n",
    "      'size': '20'}\n",
    "\n",
    "ax1 = plt.subplot(1,3,1)\n",
    "\n",
    "xlim0 = 0.1\n",
    "xlim1 = 1.2\n",
    "ylim0 = 25 \n",
    "ylim1 = 17\n",
    "\n",
    "ax1.set_xlim(xlim0,xlim1)\n",
    "ax1.set_ylim(ylim0,ylim1)\n",
    "\n",
    "ax1.xaxis.set_major_locator(ticker.AutoLocator())\n",
    "ax1.xaxis.set_minor_locator(ticker.AutoMinorLocator())\n",
    "ax1.yaxis.set_major_locator(ticker.AutoLocator())\n",
    "ax1.yaxis.set_minor_locator(ticker.AutoMinorLocator())\n",
    "\n",
    "ax1.scatter(cat_f115w_sel['f115w_in'] - cat_f200w_sel['f200w_in'], cat_f115w_sel['f115w_in'] , s = 50, color = 'k')\n",
    "\n",
    "ax1.set_xlabel(\"F115W - F200W\", fontdict = font2)\n",
    "ax1.set_ylabel(\"F115W\", fontdict = font2)\n",
    "ax1.text(0.15, 17.35, \"Input\", fontdict = font2)\n",
    "\n",
    "ax2 = plt.subplot(1,3,2)\n",
    "\n",
    "xlim0 = -0.3\n",
    "xlim1 = 0.8\n",
    "ylim0 = -1 \n",
    "ylim1 = -9\n",
    "\n",
    "ax2.set_xlim(xlim0,xlim1)\n",
    "ax2.set_ylim(ylim0,ylim1)\n",
    "\n",
    "ax2.xaxis.set_major_locator(ticker.AutoLocator())\n",
    "ax2.xaxis.set_minor_locator(ticker.AutoMinorLocator())\n",
    "ax2.yaxis.set_major_locator(ticker.AutoLocator())\n",
    "ax2.yaxis.set_minor_locator(ticker.AutoMinorLocator())\n",
    "\n",
    "ax2.scatter(F115W_epsf - F200W_epsf, F115W_epsf, s = 50, color = 'k')\n",
    "ax2.text(-0.25, -8.65, \"effective PSF\", fontdict = font2)\n",
    "\n",
    "ax2.set_xlabel(\"F115W - F200W\", fontdict = font2)\n",
    "ax2.set_ylabel(\"F115W\", fontdict = font2)\n",
    "\n",
    "ax3 = plt.subplot(1,3,3)\n",
    "\n",
    "xlim0 = -0.4\n",
    "xlim1 = 0.7\n",
    "ylim0 = -1 \n",
    "ylim1 = -9\n",
    "\n",
    "ax3.set_xlim(xlim0,xlim1)\n",
    "ax3.set_ylim(ylim0,ylim1)\n",
    "\n",
    "ax3.xaxis.set_major_locator(ticker.AutoLocator())\n",
    "ax3.xaxis.set_minor_locator(ticker.AutoMinorLocator())\n",
    "ax3.yaxis.set_major_locator(ticker.AutoLocator())\n",
    "ax3.yaxis.set_minor_locator(ticker.AutoMinorLocator())\n",
    "\n",
    "ax3.scatter(F115W_webbpsf - F200W_webbpsf, F115W_webbpsf, s = 50, color = 'k')\n",
    "ax3.text(-0.35, -8.65, \"WebbPSF\", fontdict = font2)\n",
    "\n",
    "ax3.set_xlabel(\"F115W - F200W\", fontdict = font2)\n",
    "ax3.set_ylabel(\"F115W\", fontdict = font2)\n",
    "\n",
    "plt.tight_layout()"
   ]
  },
  {
   "cell_type": "code",
   "execution_count": null,
   "metadata": {},
   "outputs": [],
   "source": []
  }
 ],
 "metadata": {
  "kernelspec": {
   "display_name": "Python 3",
   "language": "python",
   "name": "python3"
  },
  "language_info": {
   "codemirror_mode": {
    "name": "ipython",
    "version": 3
   },
   "file_extension": ".py",
   "mimetype": "text/x-python",
   "name": "python",
   "nbconvert_exporter": "python",
   "pygments_lexer": "ipython3",
   "version": "3.8.3"
  }
 },
 "nbformat": 4,
 "nbformat_minor": 2
}
