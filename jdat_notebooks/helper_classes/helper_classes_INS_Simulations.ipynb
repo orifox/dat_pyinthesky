{
 "cells": [
  {
   "cell_type": "code",
   "execution_count": 1,
   "metadata": {},
   "outputs": [],
   "source": [
    "#This notebook aims to measure the SNR of each star we are looking at in K-band\n",
    "\n",
    "import numpy as np\n",
    "import glob\n",
    "from astropy.io import fits\n",
    "import matplotlib.pyplot as plt\n",
    "from matplotlib.colors import LogNorm, ListedColormap\n",
    "from scipy.stats import sigmaclip, binned_statistic as bs\n",
    "from scipy.spatial import KDTree\n",
    "from astropy.stats import sigma_clip\n",
    "import pandas as pd\n",
    "from multiprocessing import Pool\n",
    "import time\n",
    "import math\n",
    "from matplotlib.ticker import MaxNLocator\n",
    "from matplotlib.backends.backend_pdf import PdfPages\n",
    "import astropy.time\n",
    "from astropy.stats import sigma_clip\n",
    "%matplotlib inline"
   ]
  },
  {
   "cell_type": "code",
   "execution_count": 2,
   "metadata": {},
   "outputs": [],
   "source": [
    "import jdaviz"
   ]
  },
  {
   "cell_type": "code",
   "execution_count": 3,
   "metadata": {},
   "outputs": [],
   "source": [
    "from jdaviz import SpecViz\n",
    "from jdaviz import CubeViz\n",
    "from jdaviz import MosViz\n",
    "from jdaviz import Imviz"
   ]
  },
  {
   "cell_type": "code",
   "execution_count": 4,
   "metadata": {},
   "outputs": [],
   "source": [
    "import warnings\n",
    "warnings.simplefilter('ignore')"
   ]
  },
  {
   "cell_type": "markdown",
   "metadata": {},
   "source": [
    "NIRSpec MOS\\\n",
    "NIRSpec IFU\\\n",
    "NIRSpec FS\\\n",
    "NIRSpec BOTS\\\n",
    "\\\n",
    "MIRI Imager\\\n",
    "MIRI LRS\\\n",
    "MIRI MRS\\\n",
    "MIRI Coronagraphic Imaging\\\n",
    "\\\n",
    "NIRCam Imaging\\\n",
    "NIRCam Coronagraphic Imaging\\\n",
    "NIRCam Grism TSO\\\n",
    "NIRCam WFSS\\\n",
    "\\\n",
    "NIRISS Imaging\\\n",
    "NIRISS WFSS\\\n",
    "NIRISS SOSS\\\n",
    "NIRISS AMI\\"
   ]
  },
  {
   "cell_type": "markdown",
   "metadata": {},
   "source": [
    "## NIRSpec MOS"
   ]
  },
  {
   "cell_type": "code",
   "execution_count": 5,
   "metadata": {},
   "outputs": [
    {
     "data": {
      "application/vnd.jupyter.widget-view+json": {
       "model_id": "bb5bd44a23b74c3399f9040daefd7b15",
       "version_major": 2,
       "version_minor": 0
      },
      "text/plain": [
       "Application(components={'g-viewer-tab': '<template>\\n  <component :is=\"stack.container\">\\n    <g-viewer-tab\\n …"
      ]
     },
     "metadata": {},
     "output_type": "display_data"
    },
    {
     "ename": "IndexError",
     "evalue": "list index out of range",
     "output_type": "error",
     "traceback": [
      "\u001b[0;31m---------------------------------------------------------------------------\u001b[0m",
      "\u001b[0;31mIndexError\u001b[0m                                Traceback (most recent call last)",
      "\u001b[0;32m~/miniconda3/envs/helper/lib/python3.9/site-packages/ipywidgets/widgets/widget.py\u001b[0m in \u001b[0;36m_handle_msg\u001b[0;34m(self, msg)\u001b[0m\n\u001b[1;32m    674\u001b[0m                 \u001b[0;32mif\u001b[0m \u001b[0;34m'buffer_paths'\u001b[0m \u001b[0;32min\u001b[0m \u001b[0mdata\u001b[0m\u001b[0;34m:\u001b[0m\u001b[0;34m\u001b[0m\u001b[0;34m\u001b[0m\u001b[0m\n\u001b[1;32m    675\u001b[0m                     \u001b[0m_put_buffers\u001b[0m\u001b[0;34m(\u001b[0m\u001b[0mstate\u001b[0m\u001b[0;34m,\u001b[0m \u001b[0mdata\u001b[0m\u001b[0;34m[\u001b[0m\u001b[0;34m'buffer_paths'\u001b[0m\u001b[0;34m]\u001b[0m\u001b[0;34m,\u001b[0m \u001b[0mmsg\u001b[0m\u001b[0;34m[\u001b[0m\u001b[0;34m'buffers'\u001b[0m\u001b[0;34m]\u001b[0m\u001b[0;34m)\u001b[0m\u001b[0;34m\u001b[0m\u001b[0;34m\u001b[0m\u001b[0m\n\u001b[0;32m--> 676\u001b[0;31m                 \u001b[0mself\u001b[0m\u001b[0;34m.\u001b[0m\u001b[0mset_state\u001b[0m\u001b[0;34m(\u001b[0m\u001b[0mstate\u001b[0m\u001b[0;34m)\u001b[0m\u001b[0;34m\u001b[0m\u001b[0;34m\u001b[0m\u001b[0m\n\u001b[0m\u001b[1;32m    677\u001b[0m \u001b[0;34m\u001b[0m\u001b[0m\n\u001b[1;32m    678\u001b[0m         \u001b[0;31m# Handle a state request.\u001b[0m\u001b[0;34m\u001b[0m\u001b[0;34m\u001b[0m\u001b[0;34m\u001b[0m\u001b[0m\n",
      "\u001b[0;32m~/miniconda3/envs/helper/lib/python3.9/site-packages/ipywidgets/widgets/widget.py\u001b[0m in \u001b[0;36mset_state\u001b[0;34m(self, sync_data)\u001b[0m\n\u001b[1;32m    543\u001b[0m                     from_json = self.trait_metadata(name, 'from_json',\n\u001b[1;32m    544\u001b[0m                                                     self._trait_from_json)\n\u001b[0;32m--> 545\u001b[0;31m                     \u001b[0mself\u001b[0m\u001b[0;34m.\u001b[0m\u001b[0mset_trait\u001b[0m\u001b[0;34m(\u001b[0m\u001b[0mname\u001b[0m\u001b[0;34m,\u001b[0m \u001b[0mfrom_json\u001b[0m\u001b[0;34m(\u001b[0m\u001b[0msync_data\u001b[0m\u001b[0;34m[\u001b[0m\u001b[0mname\u001b[0m\u001b[0;34m]\u001b[0m\u001b[0;34m,\u001b[0m \u001b[0mself\u001b[0m\u001b[0;34m)\u001b[0m\u001b[0;34m)\u001b[0m\u001b[0;34m\u001b[0m\u001b[0;34m\u001b[0m\u001b[0m\n\u001b[0m\u001b[1;32m    546\u001b[0m \u001b[0;34m\u001b[0m\u001b[0m\n\u001b[1;32m    547\u001b[0m     \u001b[0;32mdef\u001b[0m \u001b[0msend\u001b[0m\u001b[0;34m(\u001b[0m\u001b[0mself\u001b[0m\u001b[0;34m,\u001b[0m \u001b[0mcontent\u001b[0m\u001b[0;34m,\u001b[0m \u001b[0mbuffers\u001b[0m\u001b[0;34m=\u001b[0m\u001b[0;32mNone\u001b[0m\u001b[0;34m)\u001b[0m\u001b[0;34m:\u001b[0m\u001b[0;34m\u001b[0m\u001b[0;34m\u001b[0m\u001b[0m\n",
      "\u001b[0;32m~/miniconda3/envs/helper/lib/python3.9/site-packages/glue_jupyter/state_traitlets_helpers.py\u001b[0m in \u001b[0;36mupdate_state_from_json\u001b[0;34m(self, json, widget)\u001b[0m\n\u001b[1;32m    149\u001b[0m         \u001b[0mself\u001b[0m\u001b[0;34m.\u001b[0m\u001b[0m_block_on_state_change\u001b[0m \u001b[0;34m=\u001b[0m \u001b[0;32mTrue\u001b[0m\u001b[0;34m\u001b[0m\u001b[0;34m\u001b[0m\u001b[0m\n\u001b[1;32m    150\u001b[0m         \u001b[0;32mtry\u001b[0m\u001b[0;34m:\u001b[0m\u001b[0;34m\u001b[0m\u001b[0;34m\u001b[0m\u001b[0m\n\u001b[0;32m--> 151\u001b[0;31m             \u001b[0mupdate_state_from_dict\u001b[0m\u001b[0;34m(\u001b[0m\u001b[0mstate\u001b[0m\u001b[0;34m,\u001b[0m \u001b[0mjson\u001b[0m\u001b[0;34m)\u001b[0m\u001b[0;34m\u001b[0m\u001b[0;34m\u001b[0m\u001b[0m\n\u001b[0m\u001b[1;32m    152\u001b[0m         \u001b[0;32mfinally\u001b[0m\u001b[0;34m:\u001b[0m\u001b[0;34m\u001b[0m\u001b[0;34m\u001b[0m\u001b[0m\n\u001b[1;32m    153\u001b[0m             \u001b[0mself\u001b[0m\u001b[0;34m.\u001b[0m\u001b[0m_block_on_state_change\u001b[0m \u001b[0;34m=\u001b[0m \u001b[0;32mFalse\u001b[0m\u001b[0;34m\u001b[0m\u001b[0;34m\u001b[0m\u001b[0m\n",
      "\u001b[0;32m~/miniconda3/envs/helper/lib/python3.9/site-packages/glue_jupyter/state_traitlets_helpers.py\u001b[0m in \u001b[0;36mupdate_state_from_dict\u001b[0;34m(state, changes)\u001b[0m\n\u001b[1;32m     49\u001b[0m                         \u001b[0mupdate_state_from_dict\u001b[0m\u001b[0;34m(\u001b[0m\u001b[0mcallback_list\u001b[0m\u001b[0;34m[\u001b[0m\u001b[0mi\u001b[0m\u001b[0;34m]\u001b[0m\u001b[0;34m,\u001b[0m \u001b[0mchanges\u001b[0m\u001b[0;34m[\u001b[0m\u001b[0mname\u001b[0m\u001b[0;34m]\u001b[0m\u001b[0;34m[\u001b[0m\u001b[0mi\u001b[0m\u001b[0;34m]\u001b[0m\u001b[0;34m)\u001b[0m\u001b[0;34m\u001b[0m\u001b[0;34m\u001b[0m\u001b[0m\n\u001b[1;32m     50\u001b[0m                     \u001b[0;32melse\u001b[0m\u001b[0;34m:\u001b[0m\u001b[0;34m\u001b[0m\u001b[0;34m\u001b[0m\u001b[0m\n\u001b[0;32m---> 51\u001b[0;31m                         if (changes[name][i] != MAGIC_IGNORE and\n\u001b[0m\u001b[1;32m     52\u001b[0m                                 callback_list[i] != changes[name][i]):\n\u001b[1;32m     53\u001b[0m                             \u001b[0mcallback_list\u001b[0m\u001b[0;34m[\u001b[0m\u001b[0mi\u001b[0m\u001b[0;34m]\u001b[0m \u001b[0;34m=\u001b[0m \u001b[0mchanges\u001b[0m\u001b[0;34m[\u001b[0m\u001b[0mname\u001b[0m\u001b[0;34m]\u001b[0m\u001b[0;34m[\u001b[0m\u001b[0mi\u001b[0m\u001b[0;34m]\u001b[0m\u001b[0;34m\u001b[0m\u001b[0;34m\u001b[0m\u001b[0m\n",
      "\u001b[0;31mIndexError\u001b[0m: list index out of range"
     ]
    },
    {
     "ename": "IndexError",
     "evalue": "list index out of range",
     "output_type": "error",
     "traceback": [
      "\u001b[0;31m---------------------------------------------------------------------------\u001b[0m",
      "\u001b[0;31mIndexError\u001b[0m                                Traceback (most recent call last)",
      "\u001b[0;32m~/miniconda3/envs/helper/lib/python3.9/site-packages/ipywidgets/widgets/widget.py\u001b[0m in \u001b[0;36m_handle_msg\u001b[0;34m(self, msg)\u001b[0m\n\u001b[1;32m    674\u001b[0m                 \u001b[0;32mif\u001b[0m \u001b[0;34m'buffer_paths'\u001b[0m \u001b[0;32min\u001b[0m \u001b[0mdata\u001b[0m\u001b[0;34m:\u001b[0m\u001b[0;34m\u001b[0m\u001b[0;34m\u001b[0m\u001b[0m\n\u001b[1;32m    675\u001b[0m                     \u001b[0m_put_buffers\u001b[0m\u001b[0;34m(\u001b[0m\u001b[0mstate\u001b[0m\u001b[0;34m,\u001b[0m \u001b[0mdata\u001b[0m\u001b[0;34m[\u001b[0m\u001b[0;34m'buffer_paths'\u001b[0m\u001b[0;34m]\u001b[0m\u001b[0;34m,\u001b[0m \u001b[0mmsg\u001b[0m\u001b[0;34m[\u001b[0m\u001b[0;34m'buffers'\u001b[0m\u001b[0;34m]\u001b[0m\u001b[0;34m)\u001b[0m\u001b[0;34m\u001b[0m\u001b[0;34m\u001b[0m\u001b[0m\n\u001b[0;32m--> 676\u001b[0;31m                 \u001b[0mself\u001b[0m\u001b[0;34m.\u001b[0m\u001b[0mset_state\u001b[0m\u001b[0;34m(\u001b[0m\u001b[0mstate\u001b[0m\u001b[0;34m)\u001b[0m\u001b[0;34m\u001b[0m\u001b[0;34m\u001b[0m\u001b[0m\n\u001b[0m\u001b[1;32m    677\u001b[0m \u001b[0;34m\u001b[0m\u001b[0m\n\u001b[1;32m    678\u001b[0m         \u001b[0;31m# Handle a state request.\u001b[0m\u001b[0;34m\u001b[0m\u001b[0;34m\u001b[0m\u001b[0;34m\u001b[0m\u001b[0m\n",
      "\u001b[0;32m~/miniconda3/envs/helper/lib/python3.9/site-packages/ipywidgets/widgets/widget.py\u001b[0m in \u001b[0;36mset_state\u001b[0;34m(self, sync_data)\u001b[0m\n\u001b[1;32m    543\u001b[0m                     from_json = self.trait_metadata(name, 'from_json',\n\u001b[1;32m    544\u001b[0m                                                     self._trait_from_json)\n\u001b[0;32m--> 545\u001b[0;31m                     \u001b[0mself\u001b[0m\u001b[0;34m.\u001b[0m\u001b[0mset_trait\u001b[0m\u001b[0;34m(\u001b[0m\u001b[0mname\u001b[0m\u001b[0;34m,\u001b[0m \u001b[0mfrom_json\u001b[0m\u001b[0;34m(\u001b[0m\u001b[0msync_data\u001b[0m\u001b[0;34m[\u001b[0m\u001b[0mname\u001b[0m\u001b[0;34m]\u001b[0m\u001b[0;34m,\u001b[0m \u001b[0mself\u001b[0m\u001b[0;34m)\u001b[0m\u001b[0;34m)\u001b[0m\u001b[0;34m\u001b[0m\u001b[0;34m\u001b[0m\u001b[0m\n\u001b[0m\u001b[1;32m    546\u001b[0m \u001b[0;34m\u001b[0m\u001b[0m\n\u001b[1;32m    547\u001b[0m     \u001b[0;32mdef\u001b[0m \u001b[0msend\u001b[0m\u001b[0;34m(\u001b[0m\u001b[0mself\u001b[0m\u001b[0;34m,\u001b[0m \u001b[0mcontent\u001b[0m\u001b[0;34m,\u001b[0m \u001b[0mbuffers\u001b[0m\u001b[0;34m=\u001b[0m\u001b[0;32mNone\u001b[0m\u001b[0;34m)\u001b[0m\u001b[0;34m:\u001b[0m\u001b[0;34m\u001b[0m\u001b[0;34m\u001b[0m\u001b[0m\n",
      "\u001b[0;32m~/miniconda3/envs/helper/lib/python3.9/site-packages/glue_jupyter/state_traitlets_helpers.py\u001b[0m in \u001b[0;36mupdate_state_from_json\u001b[0;34m(self, json, widget)\u001b[0m\n\u001b[1;32m    149\u001b[0m         \u001b[0mself\u001b[0m\u001b[0;34m.\u001b[0m\u001b[0m_block_on_state_change\u001b[0m \u001b[0;34m=\u001b[0m \u001b[0;32mTrue\u001b[0m\u001b[0;34m\u001b[0m\u001b[0;34m\u001b[0m\u001b[0m\n\u001b[1;32m    150\u001b[0m         \u001b[0;32mtry\u001b[0m\u001b[0;34m:\u001b[0m\u001b[0;34m\u001b[0m\u001b[0;34m\u001b[0m\u001b[0m\n\u001b[0;32m--> 151\u001b[0;31m             \u001b[0mupdate_state_from_dict\u001b[0m\u001b[0;34m(\u001b[0m\u001b[0mstate\u001b[0m\u001b[0;34m,\u001b[0m \u001b[0mjson\u001b[0m\u001b[0;34m)\u001b[0m\u001b[0;34m\u001b[0m\u001b[0;34m\u001b[0m\u001b[0m\n\u001b[0m\u001b[1;32m    152\u001b[0m         \u001b[0;32mfinally\u001b[0m\u001b[0;34m:\u001b[0m\u001b[0;34m\u001b[0m\u001b[0;34m\u001b[0m\u001b[0m\n\u001b[1;32m    153\u001b[0m             \u001b[0mself\u001b[0m\u001b[0;34m.\u001b[0m\u001b[0m_block_on_state_change\u001b[0m \u001b[0;34m=\u001b[0m \u001b[0;32mFalse\u001b[0m\u001b[0;34m\u001b[0m\u001b[0;34m\u001b[0m\u001b[0m\n",
      "\u001b[0;32m~/miniconda3/envs/helper/lib/python3.9/site-packages/glue_jupyter/state_traitlets_helpers.py\u001b[0m in \u001b[0;36mupdate_state_from_dict\u001b[0;34m(state, changes)\u001b[0m\n\u001b[1;32m     49\u001b[0m                         \u001b[0mupdate_state_from_dict\u001b[0m\u001b[0;34m(\u001b[0m\u001b[0mcallback_list\u001b[0m\u001b[0;34m[\u001b[0m\u001b[0mi\u001b[0m\u001b[0;34m]\u001b[0m\u001b[0;34m,\u001b[0m \u001b[0mchanges\u001b[0m\u001b[0;34m[\u001b[0m\u001b[0mname\u001b[0m\u001b[0;34m]\u001b[0m\u001b[0;34m[\u001b[0m\u001b[0mi\u001b[0m\u001b[0;34m]\u001b[0m\u001b[0;34m)\u001b[0m\u001b[0;34m\u001b[0m\u001b[0;34m\u001b[0m\u001b[0m\n\u001b[1;32m     50\u001b[0m                     \u001b[0;32melse\u001b[0m\u001b[0;34m:\u001b[0m\u001b[0;34m\u001b[0m\u001b[0;34m\u001b[0m\u001b[0m\n\u001b[0;32m---> 51\u001b[0;31m                         if (changes[name][i] != MAGIC_IGNORE and\n\u001b[0m\u001b[1;32m     52\u001b[0m                                 callback_list[i] != changes[name][i]):\n\u001b[1;32m     53\u001b[0m                             \u001b[0mcallback_list\u001b[0m\u001b[0;34m[\u001b[0m\u001b[0mi\u001b[0m\u001b[0;34m]\u001b[0m \u001b[0;34m=\u001b[0m \u001b[0mchanges\u001b[0m\u001b[0;34m[\u001b[0m\u001b[0mname\u001b[0m\u001b[0;34m]\u001b[0m\u001b[0;34m[\u001b[0m\u001b[0mi\u001b[0m\u001b[0;34m]\u001b[0m\u001b[0;34m\u001b[0m\u001b[0;34m\u001b[0m\u001b[0m\n",
      "\u001b[0;31mIndexError\u001b[0m: list index out of range"
     ]
    }
   ],
   "source": [
    "mosviz = MosViz()\n",
    "mosviz.app"
   ]
  },
  {
   "cell_type": "markdown",
   "metadata": {},
   "source": [
    "The MOSViz parsers accepts lists of `Spectrum1D`, `SpectralCube`, and `CCDData` for 1D, 2D, and image data respectively. Alternatively, and the method used below, users can provide lists of file paths and MOSViz will internally attempt to parse them as their respective data type."
   ]
  },
  {
   "cell_type": "code",
   "execution_count": 6,
   "metadata": {},
   "outputs": [
    {
     "name": "stdout",
     "output_type": "stream",
     "text": [
      "01507 ...s01507_combined_noadjustment_x1d.fits ...s01507_combined_noadjustment_s2d.fits ...cutout01507.fits\n",
      "02140 ...s02140_combined_noadjustment_x1d.fits ...s02140_combined_noadjustment_s2d.fits ...cutout02140.fits\n",
      "03339 ...s03339_combined_noadjustment_x1d.fits ...s03339_combined_noadjustment_s2d.fits ...cutout03339.fits\n",
      "05136 ...s05136_combined_noadjustment_x1d.fits ...s05136_combined_noadjustment_s2d.fits ...cutout05136.fits\n",
      "05803 ...s05803_combined_noadjustment_x1d.fits ...s05803_combined_noadjustment_s2d.fits ...cutout05803.fits\n",
      "05947 ...s05947_combined_noadjustment_x1d.fits ...s05947_combined_noadjustment_s2d.fits ...cutout05947.fits\n",
      "06811 ...s06811_combined_noadjustment_x1d.fits ...s06811_combined_noadjustment_s2d.fits ...cutout06811.fits\n",
      "07572 ...s07572_combined_noadjustment_x1d.fits ...s07572_combined_noadjustment_s2d.fits ...cutout07572.fits\n",
      "07640 ...s07640_combined_noadjustment_x1d.fits ...s07640_combined_noadjustment_s2d.fits ...cutout07640.fits\n",
      "11836 ...s11836_combined_noadjustment_x1d.fits ...s11836_combined_noadjustment_s2d.fits ...cutout11836.fits\n",
      "12042 ...s12042_combined_noadjustment_x1d.fits ...s12042_combined_noadjustment_s2d.fits ...cutout12042.fits\n",
      "12351 ...s12351_combined_noadjustment_x1d.fits ...s12351_combined_noadjustment_s2d.fits ...cutout12351.fits\n",
      "12514 ...s12514_combined_noadjustment_x1d.fits ...s12514_combined_noadjustment_s2d.fits ...cutout12514.fits\n",
      "13179 ...s13179_combined_noadjustment_x1d.fits ...s13179_combined_noadjustment_s2d.fits ...cutout13179.fits\n",
      "14163 ...s14163_combined_noadjustment_x1d.fits ...s14163_combined_noadjustment_s2d.fits ...cutout14163.fits\n",
      "15099 ...s15099_combined_noadjustment_x1d.fits ...s15099_combined_noadjustment_s2d.fits ...cutout15099.fits\n",
      "15177 ...s15177_combined_noadjustment_x1d.fits ...s15177_combined_noadjustment_s2d.fits ...cutout15177.fits\n",
      "15260 ...s15260_combined_noadjustment_x1d.fits ...s15260_combined_noadjustment_s2d.fits ...cutout15260.fits\n",
      "15687 ...s15687_combined_noadjustment_x1d.fits ...s15687_combined_noadjustment_s2d.fits ...cutout15687.fits\n",
      "18384 ...s18384_combined_noadjustment_x1d.fits ...s18384_combined_noadjustment_s2d.fits ...cutout18384.fits\n",
      "18745 ...s18745_combined_noadjustment_x1d.fits ...s18745_combined_noadjustment_s2d.fits ...cutout18745.fits\n",
      "21358 ...s21358_combined_noadjustment_x1d.fits ...s21358_combined_noadjustment_s2d.fits ...cutout21358.fits\n",
      "22845 ...s22845_combined_noadjustment_x1d.fits ...s22845_combined_noadjustment_s2d.fits ...cutout22845.fits\n",
      "24323 ...s24323_combined_noadjustment_x1d.fits ...s24323_combined_noadjustment_s2d.fits ...cutout24323.fits\n",
      "33784 ...s33784_combined_noadjustment_x1d.fits ...s33784_combined_noadjustment_s2d.fits ...cutout33784.fits\n",
      "35896 ...s35896_combined_noadjustment_x1d.fits ...s35896_combined_noadjustment_s2d.fits ...cutout35896.fits\n",
      "37653 ...s37653_combined_noadjustment_x1d.fits ...s37653_combined_noadjustment_s2d.fits ...cutout37653.fits\n",
      "42812 ...s42812_combined_noadjustment_x1d.fits ...s42812_combined_noadjustment_s2d.fits ...cutout42812.fits\n",
      "44372 ...s44372_combined_noadjustment_x1d.fits ...s44372_combined_noadjustment_s2d.fits ...cutout44372.fits\n",
      "44785 ...s44785_combined_noadjustment_x1d.fits ...s44785_combined_noadjustment_s2d.fits ...cutout44785.fits\n",
      "46018 ...s46018_combined_noadjustment_x1d.fits ...s46018_combined_noadjustment_s2d.fits ...cutout46018.fits\n",
      "46439 ...s46439_combined_noadjustment_x1d.fits ...s46439_combined_noadjustment_s2d.fits ...cutout46439.fits\n",
      "50873 ...s50873_combined_noadjustment_x1d.fits ...s50873_combined_noadjustment_s2d.fits ...cutout50873.fits\n"
     ]
    }
   ],
   "source": [
    "import glob\n",
    "from astropy.utils.data import download_file\n",
    "import tempfile\n",
    "import pathlib\n",
    "from zipfile import ZipFile\n",
    "\n",
    "# Lists of data products\n",
    "slit_id = []\n",
    "spectra_1d = []\n",
    "spectra_2d = []\n",
    "cutouts = []\n",
    "\n",
    "#Central Store data directories\n",
    "file_location = \"central\"\n",
    "if file_location == \"central\":\n",
    "    cutouts_path = \"/user/jotor/mosviz-cutouts/\"\n",
    "    level3_path = \"/grp/jwst/wit4/nirspec/Muzerolle/Sim_products/CEERS_PRISM/\"\n",
    "else:\n",
    "    #Local data directories\n",
    "    level3_path = \"/Users/pogle/Desktop/newcomputer/CEERS/CEERS_PRISM/\"\n",
    "    cutouts_path = \"/Users/pogle/Desktop/newcomputer/CEERS/CEERS_PRISM_cutouts/\"\n",
    "\n",
    "for file_path in glob.glob(str(level3_path+'*')):\n",
    "    if ('x1d' in file_path) & ('combined' in file_path):\n",
    "        spectra_1d.append(file_path)\n",
    "        if file_location == \"central\":\n",
    "            slitid = file_path[88:93]\n",
    "        else:\n",
    "            slitid = file_path[81:86]\n",
    "        slit_id.append(slitid)\n",
    "    elif ('s2d' in file_path) & ('combined' in file_path):\n",
    "        spectra_2d.append(file_path)\n",
    "#for file_path in glob.glob(str(cutouts_path+'*')):\n",
    "#    if ('cutout' in file_path) & ('.fits' in file_path):\n",
    "#        cutouts.append(file_path)   \n",
    " \n",
    "#Sort the slit ids and filenames\n",
    "slit_id_sorted = sorted (slit_id)    \n",
    "spectra_1d_sorted = sorted(spectra_1d)\n",
    "spectra_2d_sorted = sorted(spectra_2d)\n",
    "\n",
    "#Cutout filenames\n",
    "cutouts_sorted = []\n",
    "for s_id in slit_id_sorted: cutouts_sorted.append(cutouts_path+\"cutout\"+s_id+\".fits\")\n",
    "    \n",
    "#Print out the matched filenames for each slit\n",
    "for s_id, f_1d, f_2d, f_cut in zip(slit_id_sorted, spectra_1d_sorted, spectra_2d_sorted, cutouts_sorted): \n",
    "    if file_location == \"central\":\n",
    "        print(s_id, \"...\"+f_1d[87:], \"...\"+f_2d[87:], \"...\"+f_cut[27:])\n",
    "    else:\n",
    "        print(s_id, \"...\"+f_1d[80:], \"...\"+f_2d[80:], \"...\"+f_cut[59:])    \n",
    "\n"
   ]
  },
  {
   "cell_type": "code",
   "execution_count": 7,
   "metadata": {},
   "outputs": [
    {
     "name": "stderr",
     "output_type": "stream",
     "text": [
      "WARNING:root:No 'BUNIT' defined in the header, using 'Jy'.\n",
      "2021-06-25 13:59:51,481 - stpipe - WARNING - No 'BUNIT' defined in the header, using 'Jy'.\n",
      "WARNING:stpipe:No 'BUNIT' defined in the header, using 'Jy'.\n",
      "WARNING:root:No 'BUNIT' defined in the header, using 'Jy'.\n",
      "2021-06-25 13:59:51,665 - stpipe - WARNING - No 'BUNIT' defined in the header, using 'Jy'.\n",
      "WARNING:stpipe:No 'BUNIT' defined in the header, using 'Jy'.\n",
      "WARNING:root:No 'BUNIT' defined in the header, using 'Jy'.\n",
      "2021-06-25 13:59:51,854 - stpipe - WARNING - No 'BUNIT' defined in the header, using 'Jy'.\n",
      "WARNING:stpipe:No 'BUNIT' defined in the header, using 'Jy'.\n",
      "WARNING:root:No 'BUNIT' defined in the header, using 'Jy'.\n",
      "2021-06-25 13:59:52,045 - stpipe - WARNING - No 'BUNIT' defined in the header, using 'Jy'.\n",
      "WARNING:stpipe:No 'BUNIT' defined in the header, using 'Jy'.\n",
      "WARNING:root:No 'BUNIT' defined in the header, using 'Jy'.\n",
      "2021-06-25 13:59:52,243 - stpipe - WARNING - No 'BUNIT' defined in the header, using 'Jy'.\n",
      "WARNING:stpipe:No 'BUNIT' defined in the header, using 'Jy'.\n",
      "WARNING:root:No 'BUNIT' defined in the header, using 'Jy'.\n",
      "2021-06-25 13:59:52,449 - stpipe - WARNING - No 'BUNIT' defined in the header, using 'Jy'.\n",
      "WARNING:stpipe:No 'BUNIT' defined in the header, using 'Jy'.\n",
      "WARNING:root:No 'BUNIT' defined in the header, using 'Jy'.\n",
      "2021-06-25 13:59:52,633 - stpipe - WARNING - No 'BUNIT' defined in the header, using 'Jy'.\n",
      "WARNING:stpipe:No 'BUNIT' defined in the header, using 'Jy'.\n",
      "WARNING:root:No 'BUNIT' defined in the header, using 'Jy'.\n",
      "2021-06-25 13:59:52,821 - stpipe - WARNING - No 'BUNIT' defined in the header, using 'Jy'.\n",
      "WARNING:stpipe:No 'BUNIT' defined in the header, using 'Jy'.\n",
      "WARNING:root:No 'BUNIT' defined in the header, using 'Jy'.\n",
      "2021-06-25 13:59:53,004 - stpipe - WARNING - No 'BUNIT' defined in the header, using 'Jy'.\n",
      "WARNING:stpipe:No 'BUNIT' defined in the header, using 'Jy'.\n",
      "WARNING:root:No 'BUNIT' defined in the header, using 'Jy'.\n",
      "2021-06-25 13:59:53,202 - stpipe - WARNING - No 'BUNIT' defined in the header, using 'Jy'.\n",
      "WARNING:stpipe:No 'BUNIT' defined in the header, using 'Jy'.\n",
      "WARNING:root:No 'BUNIT' defined in the header, using 'Jy'.\n",
      "2021-06-25 13:59:53,411 - stpipe - WARNING - No 'BUNIT' defined in the header, using 'Jy'.\n",
      "WARNING:stpipe:No 'BUNIT' defined in the header, using 'Jy'.\n",
      "WARNING:root:No 'BUNIT' defined in the header, using 'Jy'.\n",
      "2021-06-25 13:59:53,607 - stpipe - WARNING - No 'BUNIT' defined in the header, using 'Jy'.\n",
      "WARNING:stpipe:No 'BUNIT' defined in the header, using 'Jy'.\n",
      "WARNING:root:No 'BUNIT' defined in the header, using 'Jy'.\n",
      "2021-06-25 13:59:53,790 - stpipe - WARNING - No 'BUNIT' defined in the header, using 'Jy'.\n",
      "WARNING:stpipe:No 'BUNIT' defined in the header, using 'Jy'.\n",
      "WARNING:root:No 'BUNIT' defined in the header, using 'Jy'.\n",
      "2021-06-25 13:59:53,990 - stpipe - WARNING - No 'BUNIT' defined in the header, using 'Jy'.\n",
      "WARNING:stpipe:No 'BUNIT' defined in the header, using 'Jy'.\n",
      "WARNING:root:No 'BUNIT' defined in the header, using 'Jy'.\n",
      "2021-06-25 13:59:54,200 - stpipe - WARNING - No 'BUNIT' defined in the header, using 'Jy'.\n",
      "WARNING:stpipe:No 'BUNIT' defined in the header, using 'Jy'.\n"
     ]
    }
   ],
   "source": [
    "#mosviz.load_data(spectra_1d, spectra_2d, images=images)\n",
    "\n",
    "# Or alternatively: \n",
    "mosviz.load_metadata(cutouts_sorted[0:15])           #Only show the first 15, otherwise it takes too long (8min)  \n",
    "mosviz.load_1d_spectra(spectra_1d_sorted[0:15])  \n",
    "mosviz.load_2d_spectra(spectra_2d_sorted[0:15]) \n",
    "mosviz.load_images(cutouts_sorted[0:15])"
   ]
  },
  {
   "cell_type": "markdown",
   "metadata": {},
   "source": [
    "## NIRSpec IFU"
   ]
  },
  {
   "cell_type": "code",
   "execution_count": 8,
   "metadata": {},
   "outputs": [],
   "source": [
    "#level3\n",
    "cube = download_file('https://data.science.stsci.edu/redirect/JWST/jwst-data_analysis_tools/helper_classes/NIRSpec/IFU/q3d_pipeline_products_20210507/NRS00001-QG-F100LP-G140H_comb_1234_g140h-f100lp_s3d.fits')"
   ]
  },
  {
   "cell_type": "code",
   "execution_count": 9,
   "metadata": {},
   "outputs": [
    {
     "data": {
      "application/vnd.jupyter.widget-view+json": {
       "model_id": "20df2869bdf6463eac9d134f7c94bd33",
       "version_major": 2,
       "version_minor": 0
      },
      "text/plain": [
       "Application(components={'g-viewer-tab': '<template>\\n  <component :is=\"stack.container\">\\n    <g-viewer-tab\\n …"
      ]
     },
     "metadata": {},
     "output_type": "display_data"
    }
   ],
   "source": [
    "cubeviz = CubeViz()\n",
    "cubeviz.app"
   ]
  },
  {
   "cell_type": "code",
   "execution_count": 10,
   "metadata": {},
   "outputs": [
    {
     "name": "stderr",
     "output_type": "stream",
     "text": [
      "WARNING: No spectral axis found; header may be non-compliant. [spectral_cube.cube_utils]\n",
      "WARNING:astropy:No spectral axis found; header may be non-compliant.\n",
      "2021-06-25 14:12:01,547 - stpipe - WARNING - No spectral axis found; header may be non-compliant.\n",
      "WARNING:stpipe:No spectral axis found; header may be non-compliant.\n",
      "WARNING: No spectral axis found; header may be non-compliant. [spectral_cube.cube_utils]\n",
      "WARNING:astropy:No spectral axis found; header may be non-compliant.\n",
      "2021-06-25 14:12:01,578 - stpipe - WARNING - No spectral axis found; header may be non-compliant.\n",
      "WARNING:stpipe:No spectral axis found; header may be non-compliant.\n",
      "WARNING: No spectral axis found; header may be non-compliant. [spectral_cube.cube_utils]\n",
      "WARNING:astropy:No spectral axis found; header may be non-compliant.\n",
      "2021-06-25 14:12:01,584 - stpipe - WARNING - No spectral axis found; header may be non-compliant.\n",
      "WARNING:stpipe:No spectral axis found; header may be non-compliant.\n",
      "WARNING: No spectral axis found; header may be non-compliant. [spectral_cube.cube_utils]\n",
      "WARNING:astropy:No spectral axis found; header may be non-compliant.\n",
      "2021-06-25 14:12:02,229 - stpipe - WARNING - No spectral axis found; header may be non-compliant.\n",
      "WARNING:stpipe:No spectral axis found; header may be non-compliant.\n",
      "WARNING: No spectral axis found; header may be non-compliant. [spectral_cube.cube_utils]\n",
      "WARNING:astropy:No spectral axis found; header may be non-compliant.\n",
      "2021-06-25 14:12:02,500 - stpipe - WARNING - No spectral axis found; header may be non-compliant.\n",
      "WARNING:stpipe:No spectral axis found; header may be non-compliant.\n",
      "WARNING: No spectral axis found; header may be non-compliant. [spectral_cube.cube_utils]\n",
      "WARNING:astropy:No spectral axis found; header may be non-compliant.\n",
      "2021-06-25 14:12:02,759 - stpipe - WARNING - No spectral axis found; header may be non-compliant.\n",
      "WARNING:stpipe:No spectral axis found; header may be non-compliant.\n"
     ]
    }
   ],
   "source": [
    "cubeviz.load_data(cube)"
   ]
  },
  {
   "cell_type": "code",
   "execution_count": 11,
   "metadata": {},
   "outputs": [],
   "source": [
    "from jdaviz import SpecViz\n",
    "specviz = SpecViz()"
   ]
  },
  {
   "cell_type": "code",
   "execution_count": 12,
   "metadata": {},
   "outputs": [
    {
     "data": {
      "application/vnd.jupyter.widget-view+json": {
       "model_id": "c66588c52c4745e9a6fd02a3c7dbe78c",
       "version_major": 2,
       "version_minor": 0
      },
      "text/plain": [
       "Application(components={'g-viewer-tab': '<template>\\n  <component :is=\"stack.container\">\\n    <g-viewer-tab\\n …"
      ]
     },
     "metadata": {},
     "output_type": "display_data"
    }
   ],
   "source": [
    "#Developer note: How do you scroll interactingvely with the mouse?\n",
    "specviz.app"
   ]
  },
  {
   "cell_type": "code",
   "execution_count": 13,
   "metadata": {},
   "outputs": [],
   "source": [
    "#level3\n",
    "spectrum = download_file('https://data.science.stsci.edu/redirect/JWST/jwst-data_analysis_tools/helper_classes/NIRSpec/IFU/q3d_pipeline_products_20210507/NRS00001-QG-F100LP-G140H_comb_1234_g140h-f100lp_x1d.fits')\n",
    "specviz.load_spectrum(spectrum, \"IFU 1D\")"
   ]
  },
  {
   "cell_type": "code",
   "execution_count": 14,
   "metadata": {},
   "outputs": [],
   "source": [
    "#level2\n",
    "cube = download_file('https://data.science.stsci.edu/redirect/JWST/jwst-data_analysis_tools/helper_classes/NIRSpec/IFU/q3d_pipeline_products_20210507/NRS00001-QG-F100LP-G140H-03_1_491_SE_2020-04-23T12h15m0_noflat_s3d.fits')"
   ]
  },
  {
   "cell_type": "code",
   "execution_count": 15,
   "metadata": {},
   "outputs": [
    {
     "data": {
      "application/vnd.jupyter.widget-view+json": {
       "model_id": "b388dc5913ae43a3a3c2e10c2dbe2d07",
       "version_major": 2,
       "version_minor": 0
      },
      "text/plain": [
       "Application(components={'g-viewer-tab': '<template>\\n  <component :is=\"stack.container\">\\n    <g-viewer-tab\\n …"
      ]
     },
     "metadata": {},
     "output_type": "display_data"
    }
   ],
   "source": [
    "cubeviz = CubeViz()\n",
    "cubeviz.app"
   ]
  },
  {
   "cell_type": "code",
   "execution_count": 16,
   "metadata": {},
   "outputs": [
    {
     "name": "stderr",
     "output_type": "stream",
     "text": [
      "WARNING: No spectral axis found; header may be non-compliant. [spectral_cube.cube_utils]\n",
      "WARNING:astropy:No spectral axis found; header may be non-compliant.\n",
      "2021-06-25 14:14:35,175 - stpipe - WARNING - No spectral axis found; header may be non-compliant.\n",
      "WARNING:stpipe:No spectral axis found; header may be non-compliant.\n",
      "WARNING: No spectral axis found; header may be non-compliant. [spectral_cube.cube_utils]\n",
      "WARNING:astropy:No spectral axis found; header may be non-compliant.\n",
      "2021-06-25 14:14:35,194 - stpipe - WARNING - No spectral axis found; header may be non-compliant.\n",
      "WARNING:stpipe:No spectral axis found; header may be non-compliant.\n",
      "WARNING: No spectral axis found; header may be non-compliant. [spectral_cube.cube_utils]\n",
      "WARNING:astropy:No spectral axis found; header may be non-compliant.\n",
      "2021-06-25 14:14:35,199 - stpipe - WARNING - No spectral axis found; header may be non-compliant.\n",
      "WARNING:stpipe:No spectral axis found; header may be non-compliant.\n",
      "WARNING: No spectral axis found; header may be non-compliant. [spectral_cube.cube_utils]\n",
      "WARNING:astropy:No spectral axis found; header may be non-compliant.\n",
      "2021-06-25 14:14:35,595 - stpipe - WARNING - No spectral axis found; header may be non-compliant.\n",
      "WARNING:stpipe:No spectral axis found; header may be non-compliant.\n",
      "WARNING: No spectral axis found; header may be non-compliant. [spectral_cube.cube_utils]\n",
      "WARNING:astropy:No spectral axis found; header may be non-compliant.\n",
      "2021-06-25 14:14:35,798 - stpipe - WARNING - No spectral axis found; header may be non-compliant.\n",
      "WARNING:stpipe:No spectral axis found; header may be non-compliant.\n",
      "WARNING: No spectral axis found; header may be non-compliant. [spectral_cube.cube_utils]\n",
      "WARNING:astropy:No spectral axis found; header may be non-compliant.\n",
      "2021-06-25 14:14:36,015 - stpipe - WARNING - No spectral axis found; header may be non-compliant.\n",
      "WARNING:stpipe:No spectral axis found; header may be non-compliant.\n"
     ]
    }
   ],
   "source": [
    "cubeviz.load_data(cube)"
   ]
  },
  {
   "cell_type": "code",
   "execution_count": 17,
   "metadata": {},
   "outputs": [
    {
     "data": {
      "application/vnd.jupyter.widget-view+json": {
       "model_id": "c66588c52c4745e9a6fd02a3c7dbe78c",
       "version_major": 2,
       "version_minor": 0
      },
      "text/plain": [
       "Application(components={'g-viewer-tab': '<template>\\n  <component :is=\"stack.container\">\\n    <g-viewer-tab\\n …"
      ]
     },
     "metadata": {},
     "output_type": "display_data"
    }
   ],
   "source": [
    "#level2\n",
    "specviz.app"
   ]
  },
  {
   "cell_type": "code",
   "execution_count": 18,
   "metadata": {},
   "outputs": [
    {
     "name": "stderr",
     "output_type": "stream",
     "text": [
      "WARNING:root:No data item with id '88e35d5f-77b3-4a07-a180-8a627c1957fb' found in viewer '42ca0252-abac-4e39-bcf8-51e4e35b9cc4'.\n",
      "2021-06-25 14:15:30,247 - stpipe - WARNING - No data item with id '88e35d5f-77b3-4a07-a180-8a627c1957fb' found in viewer '42ca0252-abac-4e39-bcf8-51e4e35b9cc4'.\n",
      "WARNING:stpipe:No data item with id '88e35d5f-77b3-4a07-a180-8a627c1957fb' found in viewer '42ca0252-abac-4e39-bcf8-51e4e35b9cc4'.\n"
     ]
    }
   ],
   "source": [
    "spectrum = download_file('https://data.science.stsci.edu/redirect/JWST/jwst-data_analysis_tools/helper_classes/NIRSpec/IFU/q3d_pipeline_products_20210507/NRS00001-QG-F100LP-G140H-04_1_492_SE_2020-04-23T12h15m0_noflat_x1d.fits')\n",
    "specviz.load_spectrum(spectrum, \"IFU 1D\")"
   ]
  },
  {
   "cell_type": "markdown",
   "metadata": {},
   "source": [
    "## NIRSpec FS"
   ]
  },
  {
   "cell_type": "code",
   "execution_count": 19,
   "metadata": {},
   "outputs": [],
   "source": [
    "from jdaviz import SpecViz\n",
    "specviz = SpecViz()"
   ]
  },
  {
   "cell_type": "code",
   "execution_count": 20,
   "metadata": {},
   "outputs": [
    {
     "data": {
      "application/vnd.jupyter.widget-view+json": {
       "model_id": "38db9421fdc1419fabf7c8535a3f5099",
       "version_major": 2,
       "version_minor": 0
      },
      "text/plain": [
       "Application(components={'g-viewer-tab': '<template>\\n  <component :is=\"stack.container\">\\n    <g-viewer-tab\\n …"
      ]
     },
     "metadata": {},
     "output_type": "display_data"
    }
   ],
   "source": [
    "#Developer note: How do you scroll interactingvely with the mouse?\n",
    "specviz.app"
   ]
  },
  {
   "cell_type": "code",
   "execution_count": 22,
   "metadata": {},
   "outputs": [],
   "source": [
    "#level2\n",
    "spectrum = download_file('https://data.science.stsci.edu/redirect/JWST/jwst-data_analysis_tools/helper_classes/NIRSpec/FS/jwebbinar/nirspec_data/nirspec_fssim_d1_x1d.fits')\n",
    "specviz.load_spectrum(spectrum, \"FS 1D\")"
   ]
  },
  {
   "cell_type": "code",
   "execution_count": 23,
   "metadata": {},
   "outputs": [],
   "source": [
    "from jdaviz import Specviz2d\n",
    "specviz2d = Specviz2d()"
   ]
  },
  {
   "cell_type": "code",
   "execution_count": 24,
   "metadata": {},
   "outputs": [
    {
     "data": {
      "application/vnd.jupyter.widget-view+json": {
       "model_id": "049daa4415d542f599fc94f77a47786d",
       "version_major": 2,
       "version_minor": 0
      },
      "text/plain": [
       "Application(components={'g-viewer-tab': '<template>\\n  <component :is=\"stack.container\">\\n    <g-viewer-tab\\n …"
      ]
     },
     "metadata": {},
     "output_type": "display_data"
    }
   ],
   "source": [
    "#Developer note: How do you scroll interactingvely with the mouse?\n",
    "specviz2d.app"
   ]
  },
  {
   "cell_type": "code",
   "execution_count": 25,
   "metadata": {},
   "outputs": [
    {
     "ename": "KeyError",
     "evalue": "'wcs'",
     "output_type": "error",
     "traceback": [
      "\u001b[0;31m---------------------------------------------------------------------------\u001b[0m",
      "\u001b[0;31mKeyError\u001b[0m                                  Traceback (most recent call last)",
      "\u001b[0;32m<ipython-input-25-c2b42663f3f5>\u001b[0m in \u001b[0;36m<module>\u001b[0;34m\u001b[0m\n\u001b[1;32m      4\u001b[0m \u001b[0mspectrum\u001b[0m \u001b[0;34m=\u001b[0m \u001b[0mdownload_file\u001b[0m\u001b[0;34m(\u001b[0m\u001b[0;34m'https://data.science.stsci.edu/redirect/JWST/jwst-data_analysis_tools/helper_classes/NIRSpec/FS/jwebbinar/nirspec_data/nirspec_fssim_d1_s2d.fits'\u001b[0m\u001b[0;34m)\u001b[0m\u001b[0;34m\u001b[0m\u001b[0;34m\u001b[0m\u001b[0m\n\u001b[1;32m      5\u001b[0m \u001b[0;34m\u001b[0m\u001b[0m\n\u001b[0;32m----> 6\u001b[0;31m \u001b[0mspecviz2d\u001b[0m\u001b[0;34m.\u001b[0m\u001b[0mload_data\u001b[0m\u001b[0;34m(\u001b[0m\u001b[0mspectrum\u001b[0m\u001b[0;34m)\u001b[0m\u001b[0;34m\u001b[0m\u001b[0;34m\u001b[0m\u001b[0m\n\u001b[0m",
      "\u001b[0;32m~/miniconda3/envs/helper/lib/python3.9/site-packages/jdaviz/configs/specviz2d/helper.py\u001b[0m in \u001b[0;36mload_data\u001b[0;34m(self, spectrum_2d, spectrum_1d, spectrum_1d_label, spectrum_2d_label, show_in_viewer)\u001b[0m\n\u001b[1;32m    125\u001b[0m \u001b[0;34m\u001b[0m\u001b[0m\n\u001b[1;32m    126\u001b[0m         \u001b[0;32mif\u001b[0m \u001b[0mspectrum_2d\u001b[0m \u001b[0;32mis\u001b[0m \u001b[0;32mnot\u001b[0m \u001b[0;32mNone\u001b[0m\u001b[0;34m:\u001b[0m\u001b[0;34m\u001b[0m\u001b[0;34m\u001b[0m\u001b[0m\n\u001b[0;32m--> 127\u001b[0;31m             self.app.load_data(spectrum_2d, parser_reference=\"mosviz-spec2d-parser\",\n\u001b[0m\u001b[1;32m    128\u001b[0m                                \u001b[0mdata_labels\u001b[0m\u001b[0;34m=\u001b[0m\u001b[0mspectrum_2d_label\u001b[0m\u001b[0;34m,\u001b[0m\u001b[0;34m\u001b[0m\u001b[0;34m\u001b[0m\u001b[0m\n\u001b[1;32m    129\u001b[0m                                \u001b[0mshow_in_viewer\u001b[0m\u001b[0;34m=\u001b[0m\u001b[0mshow_in_viewer\u001b[0m\u001b[0;34m,\u001b[0m\u001b[0;34m\u001b[0m\u001b[0;34m\u001b[0m\u001b[0m\n",
      "\u001b[0;32m~/miniconda3/envs/helper/lib/python3.9/site-packages/jdaviz/app.py\u001b[0m in \u001b[0;36mload_data\u001b[0;34m(self, file_obj, parser_reference, **kwargs)\u001b[0m\n\u001b[1;32m    306\u001b[0m                 \u001b[0;31m# If the parser returns something other than known, assume it's\u001b[0m\u001b[0;34m\u001b[0m\u001b[0;34m\u001b[0m\u001b[0;34m\u001b[0m\u001b[0m\n\u001b[1;32m    307\u001b[0m                 \u001b[0;31m#  a message we want to make the user aware of.\u001b[0m\u001b[0;34m\u001b[0m\u001b[0;34m\u001b[0m\u001b[0;34m\u001b[0m\u001b[0m\n\u001b[0;32m--> 308\u001b[0;31m                 \u001b[0mmsg\u001b[0m \u001b[0;34m=\u001b[0m \u001b[0mparser\u001b[0m\u001b[0;34m(\u001b[0m\u001b[0mself\u001b[0m\u001b[0;34m,\u001b[0m \u001b[0mfile_obj\u001b[0m\u001b[0;34m,\u001b[0m \u001b[0;34m**\u001b[0m\u001b[0mkwargs\u001b[0m\u001b[0;34m)\u001b[0m\u001b[0;34m\u001b[0m\u001b[0;34m\u001b[0m\u001b[0m\n\u001b[0m\u001b[1;32m    309\u001b[0m \u001b[0;34m\u001b[0m\u001b[0m\n\u001b[1;32m    310\u001b[0m                 \u001b[0;32mif\u001b[0m \u001b[0mmsg\u001b[0m \u001b[0;32mis\u001b[0m \u001b[0;32mnot\u001b[0m \u001b[0;32mNone\u001b[0m\u001b[0;34m:\u001b[0m\u001b[0;34m\u001b[0m\u001b[0;34m\u001b[0m\u001b[0m\n",
      "\u001b[0;32m~/miniconda3/envs/helper/lib/python3.9/site-packages/jdaviz/configs/mosviz/plugins/parsers.py\u001b[0m in \u001b[0;36mmos_spec2d_parser\u001b[0;34m(app, data_obj, data_labels, add_to_table, show_in_viewer)\u001b[0m\n\u001b[1;32m    206\u001b[0m \u001b[0;34m\u001b[0m\u001b[0m\n\u001b[1;32m    207\u001b[0m     \u001b[0;32mif\u001b[0m \u001b[0m_check_is_file\u001b[0m\u001b[0;34m(\u001b[0m\u001b[0mdata_obj\u001b[0m\u001b[0;34m)\u001b[0m\u001b[0;34m:\u001b[0m\u001b[0;34m\u001b[0m\u001b[0;34m\u001b[0m\u001b[0m\n\u001b[0;32m--> 208\u001b[0;31m         \u001b[0mdata_obj\u001b[0m \u001b[0;34m=\u001b[0m \u001b[0;34m[\u001b[0m\u001b[0m_parse_as_cube\u001b[0m\u001b[0;34m(\u001b[0m\u001b[0mdata_obj\u001b[0m\u001b[0;34m)\u001b[0m\u001b[0;34m]\u001b[0m\u001b[0;34m\u001b[0m\u001b[0;34m\u001b[0m\u001b[0m\n\u001b[0m\u001b[1;32m    209\u001b[0m \u001b[0;34m\u001b[0m\u001b[0m\n\u001b[1;32m    210\u001b[0m     \u001b[0;32mif\u001b[0m \u001b[0misinstance\u001b[0m\u001b[0;34m(\u001b[0m\u001b[0mdata_labels\u001b[0m\u001b[0;34m,\u001b[0m \u001b[0mstr\u001b[0m\u001b[0;34m)\u001b[0m\u001b[0;34m:\u001b[0m\u001b[0;34m\u001b[0m\u001b[0;34m\u001b[0m\u001b[0m\n",
      "\u001b[0;32m~/miniconda3/envs/helper/lib/python3.9/site-packages/jdaviz/configs/mosviz/plugins/parsers.py\u001b[0m in \u001b[0;36m_parse_as_cube\u001b[0;34m(path)\u001b[0m\n\u001b[1;32m    179\u001b[0m \u001b[0;34m\u001b[0m\u001b[0m\n\u001b[1;32m    180\u001b[0m             \u001b[0mfa\u001b[0m \u001b[0;34m=\u001b[0m \u001b[0mAsdfInFits\u001b[0m\u001b[0;34m.\u001b[0m\u001b[0mopen\u001b[0m\u001b[0;34m(\u001b[0m\u001b[0mpath\u001b[0m\u001b[0;34m)\u001b[0m\u001b[0;34m\u001b[0m\u001b[0;34m\u001b[0m\u001b[0m\n\u001b[0;32m--> 181\u001b[0;31m             \u001b[0mgwcs\u001b[0m \u001b[0;34m=\u001b[0m \u001b[0mfa\u001b[0m\u001b[0;34m.\u001b[0m\u001b[0mtree\u001b[0m\u001b[0;34m[\u001b[0m\u001b[0;34m'meta'\u001b[0m\u001b[0;34m]\u001b[0m\u001b[0;34m[\u001b[0m\u001b[0;34m'wcs'\u001b[0m\u001b[0;34m]\u001b[0m\u001b[0;34m\u001b[0m\u001b[0;34m\u001b[0m\u001b[0m\n\u001b[0m\u001b[1;32m    182\u001b[0m \u001b[0;34m\u001b[0m\u001b[0m\n\u001b[1;32m    183\u001b[0m             \u001b[0mheader\u001b[0m\u001b[0;34m[\u001b[0m\u001b[0;34m'CTYPE1'\u001b[0m\u001b[0;34m]\u001b[0m \u001b[0;34m=\u001b[0m \u001b[0;34m'RA---TAN'\u001b[0m\u001b[0;34m\u001b[0m\u001b[0;34m\u001b[0m\u001b[0m\n",
      "\u001b[0;31mKeyError\u001b[0m: 'wcs'"
     ]
    }
   ],
   "source": [
    "spectrum = download_file('https://data.science.stsci.edu/redirect/JWST/jwst-data_analysis_tools/helper_classes/NIRSpec/FS/jwebbinar/nirspec_data/nirspec_fssim_d1_s2d.fits')\n",
    "specviz2d.load_data(spectrum)"
   ]
  },
  {
   "cell_type": "code",
   "execution_count": 26,
   "metadata": {},
   "outputs": [
    {
     "data": {
      "application/vnd.jupyter.widget-view+json": {
       "model_id": "38db9421fdc1419fabf7c8535a3f5099",
       "version_major": 2,
       "version_minor": 0
      },
      "text/plain": [
       "Application(components={'g-viewer-tab': '<template>\\n  <component :is=\"stack.container\">\\n    <g-viewer-tab\\n …"
      ]
     },
     "metadata": {},
     "output_type": "display_data"
    }
   ],
   "source": [
    "#Developer note: How do you scroll interactingvely with the mouse?\n",
    "specviz.app"
   ]
  },
  {
   "cell_type": "code",
   "execution_count": 28,
   "metadata": {},
   "outputs": [
    {
     "name": "stderr",
     "output_type": "stream",
     "text": [
      "WARNING:root:No data item with id '8b04d39c-818e-49a6-8756-f14ac9e0bdd7' found in viewer '7f38e055-a7af-4ad6-ade6-e0e5a5b476a8'.\n",
      "2021-06-25 14:28:39,305 - stpipe - WARNING - No data item with id '8b04d39c-818e-49a6-8756-f14ac9e0bdd7' found in viewer '7f38e055-a7af-4ad6-ade6-e0e5a5b476a8'.\n",
      "WARNING:stpipe:No data item with id '8b04d39c-818e-49a6-8756-f14ac9e0bdd7' found in viewer '7f38e055-a7af-4ad6-ade6-e0e5a5b476a8'.\n"
     ]
    }
   ],
   "source": [
    "#level3\n",
    "spectrum = download_file('https://data.science.stsci.edu/redirect/JWST/jwst-data_analysis_tools/helper_classes/NIRSpec/FS/jwebbinar/nirspec_data/nirspec_fssim_s00001_nirspec_clear-prism-s200a1-subs200a1_x1d.fits')\n",
    "specviz.load_spectrum(spectrum, \"FS 1D\")"
   ]
  },
  {
   "cell_type": "code",
   "execution_count": 29,
   "metadata": {},
   "outputs": [
    {
     "data": {
      "application/vnd.jupyter.widget-view+json": {
       "model_id": "049daa4415d542f599fc94f77a47786d",
       "version_major": 2,
       "version_minor": 0
      },
      "text/plain": [
       "Application(components={'g-viewer-tab': '<template>\\n  <component :is=\"stack.container\">\\n    <g-viewer-tab\\n …"
      ]
     },
     "metadata": {},
     "output_type": "display_data"
    }
   ],
   "source": [
    "#Developer note: How do you scroll interactingvely with the mouse?\n",
    "specviz2d.app"
   ]
  },
  {
   "cell_type": "code",
   "execution_count": 30,
   "metadata": {},
   "outputs": [],
   "source": [
    "#level3\n",
    "spectrum = download_file('https://data.science.stsci.edu/redirect/JWST/jwst-data_analysis_tools/helper_classes/NIRSpec/FS/jwebbinar/nirspec_data/nirspec_fssim_s00001_nirspec_clear-prism-s200a1-subs200a1_s2d.fits')\n",
    "specviz2d.load_data(spectrum)"
   ]
  },
  {
   "cell_type": "markdown",
   "metadata": {},
   "source": [
    "## NIRSpec BOTS\n"
   ]
  },
  {
   "cell_type": "code",
   "execution_count": 42,
   "metadata": {},
   "outputs": [],
   "source": [
    "#Not sure we will support?  But some possible code below"
   ]
  },
  {
   "cell_type": "code",
   "execution_count": 31,
   "metadata": {},
   "outputs": [],
   "source": [
    "#import pickle\n",
    "#fn_jw='/Users/ofox/data/jwst/dat_pyinthesky/jdat_notebooks/helper_classes/data/NIRSpec/BOTS/jwst_data.pickle'\n",
    "#dbfile = open(fn_jw, 'rb') # for reading also binary mode is important\n",
    "#jwst_data = pickle.load(dbfile)\n",
    "#print('Loading JWST data from Pickle File')\n",
    "#bjd            =jwst_data['bjd']\n",
    "#wsdata_all     =jwst_data['wsdata_all']\n",
    "#shx            =jwst_data['shx']\n",
    "#shy            =jwst_data['shy']\n",
    "#common_mode    =jwst_data['common_mode']\n",
    "#all_spec       =jwst_data['all_spec']\n",
    "#exposure_length=jwst_data['exposure_length']\n",
    "#dbfile.close()    "
   ]
  },
  {
   "cell_type": "code",
   "execution_count": 32,
   "metadata": {},
   "outputs": [],
   "source": [
    "##Sort data\n",
    "#srt=np.argsort(bjd) #index to sort\n",
    "#bjd=bjd[srt]\n",
    "##total_counts=total_counts[srt]\n",
    "#exposure_length=exposure_length[srt]\n",
    "#all_spec[:,:,:]=all_spec[:,:,srt]\n",
    "#\n",
    "## Get Wavelegnth of Data\n",
    "##file_wave = download_file('https://data.science.stsci.edu/redirect/JWST/jwst-data_analysis_tools/transit_spectroscopy_notebook/JWST_NIRSpec_wavelength_microns.txt')\n",
    "#file_wave = '/Users/ofox/data/jwst/dat_pyinthesky/jdat_notebooks/helper_classes/data/NIRSpec/BOTS/JWST_NIRSpec_wavelength_microns.txt'\n",
    "#f = open(file_wave, 'r')\n",
    "#wsdata_all = np.genfromtxt(f)\n",
    "#    \n",
    "#print('wsdata size :',wsdata_all.shape)\n",
    "#print('Data wavelength Loaded :',wsdata_all)\n",
    "#print('wsdata new size :',wsdata_all.shape)"
   ]
  },
  {
   "cell_type": "code",
   "execution_count": 33,
   "metadata": {},
   "outputs": [],
   "source": [
    "##---------------------------------------------------------\n",
    "## Read in Detrending parameters\n",
    "## Mean of parameter must be 0.0 to be properly normalized\n",
    "## Idealy standard deviation of paramter = 1.0\n",
    "##file_xy=download_file('https://data.science.stsci.edu/redirect/JWST/jwst-data_analysis_tools/transit_spectroscopy_notebook/JWST_NIRSpec_Xposs_Yposs_CM_detrending.txt')\n",
    "#file_xy='/Users/ofox/data/jwst/dat_pyinthesky/jdat_notebooks/helper_classes/data/NIRSpec/BOTS/JWST_NIRSpec_Xposs_Yposs_CM_detrending.txt'\n",
    "#f = open(file_xy, 'r')\n",
    "#data = np.genfromtxt(f, delimiter=',')\n",
    "#shx        = data[:,0]\n",
    "#shy        = data[:,1]\n",
    "#common_mode= data[:,2]\n",
    "#    \n",
    "##Store Data into a pickle file\n",
    "#jwst_data={'bjd':bjd, 'wsdata_all':wsdata_all, 'shx':shx , 'shy':shy , 'common_mode':common_mode, 'all_spec':all_spec, 'exposure_length':exposure_length}\n",
    "#dbfile = open('jwst_data.pickle', 'ab') # Its important to use binary mode\n",
    "#pickle.dump(jwst_data,dbfile)\n",
    "#dbfile.close()\n",
    "##---------------------------------------------------------"
   ]
  },
  {
   "cell_type": "code",
   "execution_count": 34,
   "metadata": {},
   "outputs": [],
   "source": [
    "##2D Spectra\n",
    "#from jdaviz import Specviz2d\n",
    "#specviz2d = Specviz2d()"
   ]
  },
  {
   "cell_type": "code",
   "execution_count": 35,
   "metadata": {},
   "outputs": [],
   "source": [
    "##Developer note: How do you scroll interactingvely with the mouse?\n",
    "#specviz2d.app"
   ]
  },
  {
   "cell_type": "code",
   "execution_count": 36,
   "metadata": {},
   "outputs": [],
   "source": [
    "##spectrum = '/Users/ofox/data/jwst/dat_pyinthesky/jdat_notebooks/helper_classes/data/NIRSpec/FS/jw00636-o019_s00002_nirspec_f100lp-g140m-s200a2-subs200a2_s2d.fits'\n",
    "#expnum=2 \n",
    "#specviz2d.load_data(all_spec[:,:,expnum])"
   ]
  },
  {
   "cell_type": "code",
   "execution_count": 37,
   "metadata": {},
   "outputs": [],
   "source": [
    "#import matplotlib.ticker as ticker\n",
    "#\n",
    "#expnum=2                                           #Choose Exposure number to view\n",
    "#\n",
    "#plt.rcParams['figure.figsize'] = [10.0, 3.0]           # Figure dimensions\n",
    "#plt.rcParams['figure.dpi']     = 200                   # Resolution\n",
    "#plt.rcParams['savefig.dpi']    = 200\n",
    "#plt.rcParams['image.aspect']   = 5                     # Aspect ratio (the CCD is quite long!!!)\n",
    "#plt.cmap = plt.cm.magma\n",
    "#plt.cmap.set_bad('k',1.)\n",
    "#plt.rcParams['image.cmap'] = 'magma'                   # Colormap.\n",
    "#plt.rcParams['image.interpolation'] = None\n",
    "#plt.rcParams['image.origin'] = 'lower'\n",
    "#plt.rcParams['font.family'] = \"monospace\"\n",
    "#plt.rcParams['font.monospace'] = 'DejaVu Sans Mono'\n",
    "#\n",
    "#img=all_spec[:,:,expnum]\n",
    "#zeros=np.where(img <= 0)     #Plot on a log scale, so set zero or negitive values to a small number \n",
    "#img[zeros]=1E-10\n",
    "#fig,axs = plt.subplots()\n",
    "#f=axs.imshow(np.log10(img),vmin=0) #Plot image\n",
    "#plt.xlabel('x-pixel')\n",
    "#plt.ylabel('y-pixel')\n",
    "#axs.yaxis.set_major_locator(ticker.MultipleLocator(5))\n",
    "#axs.yaxis.set_minor_locator(ticker.MultipleLocator(1))\n",
    "#axs.xaxis.set_major_locator(ticker.MultipleLocator(50))\n",
    "#axs.xaxis.set_minor_locator(ticker.MultipleLocator(10))\n",
    "#plt.title('2D NIRSpec Image of Exposure '+str(expnum))\n",
    "#fig.colorbar(f,label='Log$_{10}$ Electron counts',ax=axs)\n",
    "#plt.show()"
   ]
  },
  {
   "cell_type": "code",
   "execution_count": 38,
   "metadata": {},
   "outputs": [],
   "source": [
    "#all_spec.shape\n",
    "#y_lower = 11                                             # Lower extraction aperature\n",
    "#y_upper = 18                                             # Upper extraction aperature\n",
    "#all_spec_1D=np.sum(all_spec[y_lower:y_upper,:,:],axis=0) # Sum along Y-axis from pixels 11 to 18\n",
    "#\n",
    "##Plot \n",
    "#\n",
    "#plt.rcParams['figure.figsize'] = [10.0, 3.0]           # Figure dimensions\n",
    "#plt.rcParams['figure.dpi']     = 200                   # Resolution\n",
    "#plt.rcParams['savefig.dpi']    = 200\n",
    "#plt.rcParams['image.aspect']   = 5                     # Aspect ratio (the CCD is quite long!!!)\n",
    "#plt.cmap = plt.cm.magma\n",
    "#plt.cmap.set_bad('k',1.)\n",
    "#plt.rcParams['image.cmap'] = 'magma'                   # Colormap.\n",
    "#plt.rcParams['image.interpolation'] = None\n",
    "#plt.rcParams['image.origin'] = 'lower'\n",
    "#plt.rcParams['font.family'] = \"monospace\"\n",
    "#plt.rcParams['font.monospace'] = 'DejaVu Sans Mono'\n",
    "#\n",
    "#img=all_spec[:,:,expnum]\n",
    "#zeros=np.where(img <= 0)     #Plot on a log scale, so set zero or negitive values to a small number \n",
    "#img[zeros]=1E-10\n",
    "#fig,axs = plt.subplots()\n",
    "#f=axs.imshow(np.log10(img),vmin=0) #Plot image\n",
    "#plt.xlabel('x-pixel')\n",
    "#plt.ylabel('y-pixel')\n",
    "#axs.yaxis.set_major_locator(ticker.MultipleLocator(5))\n",
    "#axs.yaxis.set_minor_locator(ticker.MultipleLocator(1))\n",
    "#axs.xaxis.set_major_locator(ticker.MultipleLocator(50))\n",
    "#axs.xaxis.set_minor_locator(ticker.MultipleLocator(10))\n",
    "#plt.axhline(y_lower, color = 'w', ls = 'dashed')\n",
    "#plt.axhline(y_upper, color = 'w', ls = 'dashed')\n",
    "#plt.title('2D NIRSpec Image of Exposure '+str(expnum))\n",
    "#fig.colorbar(f,label='Log$_{10}$ Electron counts',ax=axs)\n",
    "#plt.show()"
   ]
  },
  {
   "cell_type": "code",
   "execution_count": 39,
   "metadata": {},
   "outputs": [],
   "source": [
    "#fig,axs = plt.subplots()\n",
    "#f=plt.plot(wsdata_all,all_spec_1D[:,0], linewidth=2,zorder=0)  #overplot Transit model at data\n",
    "#plt.xlabel('Wavelength ($\\mu$m)')\n",
    "#plt.ylabel('Flux (e-)')\n",
    "#axs.xaxis.set_major_locator(ticker.MultipleLocator(0.5))\n",
    "#axs.xaxis.set_minor_locator(ticker.MultipleLocator(0.1))\n",
    "#plt.annotate('H$_2$O',xy=(3.0,42000))\n",
    "#plt.annotate('CO$_2$',xy=(4.2,42000))\n",
    "#plt.show()"
   ]
  },
  {
   "cell_type": "markdown",
   "metadata": {},
   "source": [
    "## NIRISS Imaging\n"
   ]
  },
  {
   "cell_type": "code",
   "execution_count": null,
   "metadata": {},
   "outputs": [],
   "source": [
    "#Do not currently exist"
   ]
  },
  {
   "cell_type": "markdown",
   "metadata": {},
   "source": [
    "## NIRISS WFSS"
   ]
  },
  {
   "cell_type": "code",
   "execution_count": null,
   "metadata": {},
   "outputs": [],
   "source": [
    "#Not sure which data files to support with this"
   ]
  },
  {
   "cell_type": "markdown",
   "metadata": {},
   "source": [
    "## NIRISS SOSS"
   ]
  },
  {
   "cell_type": "code",
   "execution_count": 40,
   "metadata": {},
   "outputs": [],
   "source": [
    "#Not sure we will support?"
   ]
  },
  {
   "cell_type": "markdown",
   "metadata": {},
   "source": [
    "## NIRISS AMI"
   ]
  },
  {
   "cell_type": "code",
   "execution_count": 41,
   "metadata": {},
   "outputs": [],
   "source": [
    "#Not sure we will support?"
   ]
  },
  {
   "cell_type": "code",
   "execution_count": 43,
   "metadata": {},
   "outputs": [],
   "source": [
    "## The data file is now in the current working directory\n",
    "#calib_oifits = '/Users/ofox/data/jwst/dat_pyinthesky/jdat_notebooks/helper_classes/data/NIRISS/AMI/niriss_ami_binary3/calib_ABDOR_NIRISS_g7s6_F480M_59670.0.0f.oifits'\n",
    "## Display OIFITS file information\n",
    "#fits.info(calib_oifits)"
   ]
  },
  {
   "cell_type": "code",
   "execution_count": 44,
   "metadata": {},
   "outputs": [],
   "source": [
    "##Developer Notes: Ask how to remove other files from viewer before and after opening data\n",
    "#imviz.load_data(calib_oifits, data_label='NIRISS AMI Imaging')\n",
    "#viewer = imviz.app.get_viewer('viewer-1')\n",
    "#imviz.app"
   ]
  },
  {
   "cell_type": "code",
   "execution_count": 45,
   "metadata": {},
   "outputs": [],
   "source": [
    "#from astropy.utils.data import download_file\n",
    "#gc_2mass_j = download_file('https://www.astropy.org/astropy-data/galactic_center/gc_2mass_j.fits', cache=True)\n",
    "#gc_msx_e = download_file('https://www.astropy.org/astropy-data/galactic_center/gc_msx_e.fits', cache=True)"
   ]
  },
  {
   "cell_type": "code",
   "execution_count": 46,
   "metadata": {},
   "outputs": [],
   "source": [
    "#from jdaviz import Imviz\n",
    "#import matplotlib.pyplot as plt\n",
    "#\n",
    "#imviz = Imviz()\n",
    "#imviz.load_data(gc_2mass_j, data_label='gc_2mass_j')\n",
    "#imviz.load_data(gc_msx_e, data_label='gc_msx_e', show_in_viewer=False)\n",
    "#\n",
    "#viewer = imviz.app.get_viewer('viewer-1')\n",
    "#\n",
    "#imviz.app"
   ]
  },
  {
   "cell_type": "markdown",
   "metadata": {},
   "source": [
    "## NIRCam Imaging"
   ]
  },
  {
   "cell_type": "code",
   "execution_count": 48,
   "metadata": {},
   "outputs": [],
   "source": [
    "nircam_imaging = download_file('https://data.science.stsci.edu/redirect/JWST/jwst-data_analysis_tools/helper_classes/NIRCam/Imaging/images_level3/LMC_F070W_nrcb1_combined_PrimaryDither_1_SubpxDither_4_i2d.fits')"
   ]
  },
  {
   "cell_type": "code",
   "execution_count": 49,
   "metadata": {},
   "outputs": [],
   "source": [
    "from jwst import datamodels\n",
    "#from jdaviz import Imviz\n",
    "imviz = Imviz()"
   ]
  },
  {
   "cell_type": "code",
   "execution_count": 50,
   "metadata": {},
   "outputs": [
    {
     "name": "stderr",
     "output_type": "stream",
     "text": [
      "WARNING:py.warnings:/Users/ofox/miniconda3/envs/helper/lib/python3.9/site-packages/jwst/datamodels/drizproduct.py:10: DeprecationWarning: DrizProduct is deprecated and will be removed.  Use ImageModel.\n",
      "  warnings.warn(message=\"DrizProduct is deprecated and will be removed.  \"\n",
      "\n",
      "2021-06-25 16:00:23,416 - stpipe - WARNING - /Users/ofox/miniconda3/envs/helper/lib/python3.9/site-packages/jwst/datamodels/drizproduct.py:10: DeprecationWarning: DrizProduct is deprecated and will be removed.  Use ImageModel.\n",
      "  warnings.warn(message=\"DrizProduct is deprecated and will be removed.  \"\n",
      "\n",
      "WARNING:stpipe:/Users/ofox/miniconda3/envs/helper/lib/python3.9/site-packages/jwst/datamodels/drizproduct.py:10: DeprecationWarning: DrizProduct is deprecated and will be removed.  Use ImageModel.\n",
      "  warnings.warn(message=\"DrizProduct is deprecated and will be removed.  \"\n",
      "\n",
      "WARNING:py.warnings:/Users/ofox/miniconda3/envs/helper/lib/python3.9/site-packages/glue/core/component.py:96: DeprecationWarning: `np.complex` is a deprecated alias for the builtin `complex`. To silence this warning, use `complex` by itself. Doing this will not modify any behavior and is safe. If you specifically wanted the numpy scalar type, use `np.complex128` here.\n",
      "Deprecated in NumPy 1.20; for more details and guidance: https://numpy.org/devdocs/release/1.20.0-notes.html#deprecations\n",
      "  return np.can_cast(self[(0,) * self.ndim].dtype, np.complex)\n",
      "\n",
      "2021-06-25 16:00:24,177 - stpipe - WARNING - /Users/ofox/miniconda3/envs/helper/lib/python3.9/site-packages/glue/core/component.py:96: DeprecationWarning: `np.complex` is a deprecated alias for the builtin `complex`. To silence this warning, use `complex` by itself. Doing this will not modify any behavior and is safe. If you specifically wanted the numpy scalar type, use `np.complex128` here.\n",
      "Deprecated in NumPy 1.20; for more details and guidance: https://numpy.org/devdocs/release/1.20.0-notes.html#deprecations\n",
      "  return np.can_cast(self[(0,) * self.ndim].dtype, np.complex)\n",
      "\n",
      "WARNING:stpipe:/Users/ofox/miniconda3/envs/helper/lib/python3.9/site-packages/glue/core/component.py:96: DeprecationWarning: `np.complex` is a deprecated alias for the builtin `complex`. To silence this warning, use `complex` by itself. Doing this will not modify any behavior and is safe. If you specifically wanted the numpy scalar type, use `np.complex128` here.\n",
      "Deprecated in NumPy 1.20; for more details and guidance: https://numpy.org/devdocs/release/1.20.0-notes.html#deprecations\n",
      "  return np.can_cast(self[(0,) * self.ndim].dtype, np.complex)\n",
      "\n",
      "WARNING:py.warnings:/Users/ofox/miniconda3/envs/helper/lib/python3.9/site-packages/glue/core/component.py:96: DeprecationWarning: `np.complex` is a deprecated alias for the builtin `complex`. To silence this warning, use `complex` by itself. Doing this will not modify any behavior and is safe. If you specifically wanted the numpy scalar type, use `np.complex128` here.\n",
      "Deprecated in NumPy 1.20; for more details and guidance: https://numpy.org/devdocs/release/1.20.0-notes.html#deprecations\n",
      "  return np.can_cast(self[(0,) * self.ndim].dtype, np.complex)\n",
      "\n",
      "2021-06-25 16:00:24,314 - stpipe - WARNING - /Users/ofox/miniconda3/envs/helper/lib/python3.9/site-packages/glue/core/component.py:96: DeprecationWarning: `np.complex` is a deprecated alias for the builtin `complex`. To silence this warning, use `complex` by itself. Doing this will not modify any behavior and is safe. If you specifically wanted the numpy scalar type, use `np.complex128` here.\n",
      "Deprecated in NumPy 1.20; for more details and guidance: https://numpy.org/devdocs/release/1.20.0-notes.html#deprecations\n",
      "  return np.can_cast(self[(0,) * self.ndim].dtype, np.complex)\n",
      "\n",
      "WARNING:stpipe:/Users/ofox/miniconda3/envs/helper/lib/python3.9/site-packages/glue/core/component.py:96: DeprecationWarning: `np.complex` is a deprecated alias for the builtin `complex`. To silence this warning, use `complex` by itself. Doing this will not modify any behavior and is safe. If you specifically wanted the numpy scalar type, use `np.complex128` here.\n",
      "Deprecated in NumPy 1.20; for more details and guidance: https://numpy.org/devdocs/release/1.20.0-notes.html#deprecations\n",
      "  return np.can_cast(self[(0,) * self.ndim].dtype, np.complex)\n",
      "\n",
      "WARNING:py.warnings:/Users/ofox/miniconda3/envs/helper/lib/python3.9/site-packages/glue/core/component.py:96: DeprecationWarning: `np.complex` is a deprecated alias for the builtin `complex`. To silence this warning, use `complex` by itself. Doing this will not modify any behavior and is safe. If you specifically wanted the numpy scalar type, use `np.complex128` here.\n",
      "Deprecated in NumPy 1.20; for more details and guidance: https://numpy.org/devdocs/release/1.20.0-notes.html#deprecations\n",
      "  return np.can_cast(self[(0,) * self.ndim].dtype, np.complex)\n",
      "\n",
      "2021-06-25 16:00:24,317 - stpipe - WARNING - /Users/ofox/miniconda3/envs/helper/lib/python3.9/site-packages/glue/core/component.py:96: DeprecationWarning: `np.complex` is a deprecated alias for the builtin `complex`. To silence this warning, use `complex` by itself. Doing this will not modify any behavior and is safe. If you specifically wanted the numpy scalar type, use `np.complex128` here.\n",
      "Deprecated in NumPy 1.20; for more details and guidance: https://numpy.org/devdocs/release/1.20.0-notes.html#deprecations\n",
      "  return np.can_cast(self[(0,) * self.ndim].dtype, np.complex)\n",
      "\n",
      "WARNING:stpipe:/Users/ofox/miniconda3/envs/helper/lib/python3.9/site-packages/glue/core/component.py:96: DeprecationWarning: `np.complex` is a deprecated alias for the builtin `complex`. To silence this warning, use `complex` by itself. Doing this will not modify any behavior and is safe. If you specifically wanted the numpy scalar type, use `np.complex128` here.\n",
      "Deprecated in NumPy 1.20; for more details and guidance: https://numpy.org/devdocs/release/1.20.0-notes.html#deprecations\n",
      "  return np.can_cast(self[(0,) * self.ndim].dtype, np.complex)\n",
      "\n"
     ]
    },
    {
     "data": {
      "application/vnd.jupyter.widget-view+json": {
       "model_id": "755b5d4df1454161b27d11ed9d681c3c",
       "version_major": 2,
       "version_minor": 0
      },
      "text/plain": [
       "Application(components={'g-viewer-tab': '<template>\\n  <component :is=\"stack.container\">\\n    <g-viewer-tab\\n …"
      ]
     },
     "metadata": {},
     "output_type": "display_data"
    }
   ],
   "source": [
    "#Developer Notes: Ask how to remove other files from viewer before and after opening data\n",
    "imviz.load_data(nircam_imaging, data_label='NIRCam Imaging')\n",
    "\n",
    "viewer = imviz.app.get_viewer('viewer-1')\n",
    "\n",
    "imviz.app"
   ]
  },
  {
   "cell_type": "markdown",
   "metadata": {},
   "source": [
    "## NIRCam Coronagraphic Imaging"
   ]
  },
  {
   "cell_type": "code",
   "execution_count": 52,
   "metadata": {},
   "outputs": [],
   "source": [
    "#Not sure which data files to support with this"
   ]
  },
  {
   "cell_type": "markdown",
   "metadata": {},
   "source": [
    "## NIRCam Grism TSO"
   ]
  },
  {
   "cell_type": "code",
   "execution_count": 53,
   "metadata": {},
   "outputs": [],
   "source": [
    "#Not sure we will support?"
   ]
  },
  {
   "cell_type": "markdown",
   "metadata": {},
   "source": [
    "## NIRCam WFSS"
   ]
  },
  {
   "cell_type": "code",
   "execution_count": 54,
   "metadata": {},
   "outputs": [],
   "source": [
    "#Not sure which data files to support with this"
   ]
  },
  {
   "cell_type": "markdown",
   "metadata": {},
   "source": [
    "## MIRI Imaging"
   ]
  },
  {
   "cell_type": "code",
   "execution_count": 59,
   "metadata": {},
   "outputs": [
    {
     "name": "stderr",
     "output_type": "stream",
     "text": [
      "WARNING:py.warnings:/Users/ofox/miniconda3/envs/helper/lib/python3.9/site-packages/ipykernel/ipkernel.py:287: DeprecationWarning: `should_run_async` will not call `transform_cell` automatically in the future. Please pass the result to `transformed_cell` argument and any exception that happen during thetransform in `preprocessing_exc_tuple` in IPython 7.17 and above.\n",
      "  and should_run_async(code)\n",
      "\n",
      "2021-06-25 16:11:57,189 - stpipe - WARNING - /Users/ofox/miniconda3/envs/helper/lib/python3.9/site-packages/ipykernel/ipkernel.py:287: DeprecationWarning: `should_run_async` will not call `transform_cell` automatically in the future. Please pass the result to `transformed_cell` argument and any exception that happen during thetransform in `preprocessing_exc_tuple` in IPython 7.17 and above.\n",
      "  and should_run_async(code)\n",
      "\n",
      "WARNING:stpipe:/Users/ofox/miniconda3/envs/helper/lib/python3.9/site-packages/ipykernel/ipkernel.py:287: DeprecationWarning: `should_run_async` will not call `transform_cell` automatically in the future. Please pass the result to `transformed_cell` argument and any exception that happen during thetransform in `preprocessing_exc_tuple` in IPython 7.17 and above.\n",
      "  and should_run_async(code)\n",
      "\n"
     ]
    }
   ],
   "source": [
    "miri_imaging = download_file('https://data.science.stsci.edu/redirect/JWST/jwst-data_analysis_tools/helper_classes/MIRI/Imaging/mirisim/complex_scene_F770W_combined_i2d.fits')"
   ]
  },
  {
   "cell_type": "code",
   "execution_count": 60,
   "metadata": {},
   "outputs": [
    {
     "name": "stderr",
     "output_type": "stream",
     "text": [
      "WARNING:py.warnings:/Users/ofox/miniconda3/envs/helper/lib/python3.9/site-packages/ipywidgets/widgets/widget.py:412: DeprecationWarning: Passing unrecognized arguments to super(Figure).__init__(scales={'x': LinearScale(allow_padding=False, max=1.0, min=0.0), 'y': LinearScale(max=1.0, min=0.0)}).\n",
      "object.__init__() takes exactly one argument (the instance to initialize)\n",
      "This is deprecated in traitlets 4.2.This error will be raised in a future release of traitlets.\n",
      "  super(Widget, self).__init__(**kwargs)\n",
      "\n",
      "2021-06-25 16:12:04,458 - stpipe - WARNING - /Users/ofox/miniconda3/envs/helper/lib/python3.9/site-packages/ipywidgets/widgets/widget.py:412: DeprecationWarning: Passing unrecognized arguments to super(Figure).__init__(scales={'x': LinearScale(allow_padding=False, max=1.0, min=0.0), 'y': LinearScale(max=1.0, min=0.0)}).\n",
      "object.__init__() takes exactly one argument (the instance to initialize)\n",
      "This is deprecated in traitlets 4.2.This error will be raised in a future release of traitlets.\n",
      "  super(Widget, self).__init__(**kwargs)\n",
      "\n",
      "WARNING:stpipe:/Users/ofox/miniconda3/envs/helper/lib/python3.9/site-packages/ipywidgets/widgets/widget.py:412: DeprecationWarning: Passing unrecognized arguments to super(Figure).__init__(scales={'x': LinearScale(allow_padding=False, max=1.0, min=0.0), 'y': LinearScale(max=1.0, min=0.0)}).\n",
      "object.__init__() takes exactly one argument (the instance to initialize)\n",
      "This is deprecated in traitlets 4.2.This error will be raised in a future release of traitlets.\n",
      "  super(Widget, self).__init__(**kwargs)\n",
      "\n"
     ]
    }
   ],
   "source": [
    "from jwst import datamodels\n",
    "imviz = Imviz()"
   ]
  },
  {
   "cell_type": "code",
   "execution_count": 61,
   "metadata": {},
   "outputs": [
    {
     "name": "stderr",
     "output_type": "stream",
     "text": [
      "WARNING:py.warnings:/Users/ofox/miniconda3/envs/helper/lib/python3.9/site-packages/jwst/datamodels/drizproduct.py:10: DeprecationWarning: DrizProduct is deprecated and will be removed.  Use ImageModel.\n",
      "  warnings.warn(message=\"DrizProduct is deprecated and will be removed.  \"\n",
      "\n",
      "2021-06-25 16:12:08,227 - stpipe - WARNING - /Users/ofox/miniconda3/envs/helper/lib/python3.9/site-packages/jwst/datamodels/drizproduct.py:10: DeprecationWarning: DrizProduct is deprecated and will be removed.  Use ImageModel.\n",
      "  warnings.warn(message=\"DrizProduct is deprecated and will be removed.  \"\n",
      "\n",
      "WARNING:stpipe:/Users/ofox/miniconda3/envs/helper/lib/python3.9/site-packages/jwst/datamodels/drizproduct.py:10: DeprecationWarning: DrizProduct is deprecated and will be removed.  Use ImageModel.\n",
      "  warnings.warn(message=\"DrizProduct is deprecated and will be removed.  \"\n",
      "\n",
      "WARNING:py.warnings:/Users/ofox/miniconda3/envs/helper/lib/python3.9/site-packages/glue/core/component.py:96: DeprecationWarning: `np.complex` is a deprecated alias for the builtin `complex`. To silence this warning, use `complex` by itself. Doing this will not modify any behavior and is safe. If you specifically wanted the numpy scalar type, use `np.complex128` here.\n",
      "Deprecated in NumPy 1.20; for more details and guidance: https://numpy.org/devdocs/release/1.20.0-notes.html#deprecations\n",
      "  return np.can_cast(self[(0,) * self.ndim].dtype, np.complex)\n",
      "\n",
      "2021-06-25 16:12:08,641 - stpipe - WARNING - /Users/ofox/miniconda3/envs/helper/lib/python3.9/site-packages/glue/core/component.py:96: DeprecationWarning: `np.complex` is a deprecated alias for the builtin `complex`. To silence this warning, use `complex` by itself. Doing this will not modify any behavior and is safe. If you specifically wanted the numpy scalar type, use `np.complex128` here.\n",
      "Deprecated in NumPy 1.20; for more details and guidance: https://numpy.org/devdocs/release/1.20.0-notes.html#deprecations\n",
      "  return np.can_cast(self[(0,) * self.ndim].dtype, np.complex)\n",
      "\n",
      "WARNING:stpipe:/Users/ofox/miniconda3/envs/helper/lib/python3.9/site-packages/glue/core/component.py:96: DeprecationWarning: `np.complex` is a deprecated alias for the builtin `complex`. To silence this warning, use `complex` by itself. Doing this will not modify any behavior and is safe. If you specifically wanted the numpy scalar type, use `np.complex128` here.\n",
      "Deprecated in NumPy 1.20; for more details and guidance: https://numpy.org/devdocs/release/1.20.0-notes.html#deprecations\n",
      "  return np.can_cast(self[(0,) * self.ndim].dtype, np.complex)\n",
      "\n",
      "WARNING:py.warnings:/Users/ofox/miniconda3/envs/helper/lib/python3.9/site-packages/glue/core/component.py:96: DeprecationWarning: `np.complex` is a deprecated alias for the builtin `complex`. To silence this warning, use `complex` by itself. Doing this will not modify any behavior and is safe. If you specifically wanted the numpy scalar type, use `np.complex128` here.\n",
      "Deprecated in NumPy 1.20; for more details and guidance: https://numpy.org/devdocs/release/1.20.0-notes.html#deprecations\n",
      "  return np.can_cast(self[(0,) * self.ndim].dtype, np.complex)\n",
      "\n",
      "2021-06-25 16:12:08,658 - stpipe - WARNING - /Users/ofox/miniconda3/envs/helper/lib/python3.9/site-packages/glue/core/component.py:96: DeprecationWarning: `np.complex` is a deprecated alias for the builtin `complex`. To silence this warning, use `complex` by itself. Doing this will not modify any behavior and is safe. If you specifically wanted the numpy scalar type, use `np.complex128` here.\n",
      "Deprecated in NumPy 1.20; for more details and guidance: https://numpy.org/devdocs/release/1.20.0-notes.html#deprecations\n",
      "  return np.can_cast(self[(0,) * self.ndim].dtype, np.complex)\n",
      "\n",
      "WARNING:stpipe:/Users/ofox/miniconda3/envs/helper/lib/python3.9/site-packages/glue/core/component.py:96: DeprecationWarning: `np.complex` is a deprecated alias for the builtin `complex`. To silence this warning, use `complex` by itself. Doing this will not modify any behavior and is safe. If you specifically wanted the numpy scalar type, use `np.complex128` here.\n",
      "Deprecated in NumPy 1.20; for more details and guidance: https://numpy.org/devdocs/release/1.20.0-notes.html#deprecations\n",
      "  return np.can_cast(self[(0,) * self.ndim].dtype, np.complex)\n",
      "\n",
      "WARNING:py.warnings:/Users/ofox/miniconda3/envs/helper/lib/python3.9/site-packages/glue/core/component.py:96: DeprecationWarning: `np.complex` is a deprecated alias for the builtin `complex`. To silence this warning, use `complex` by itself. Doing this will not modify any behavior and is safe. If you specifically wanted the numpy scalar type, use `np.complex128` here.\n",
      "Deprecated in NumPy 1.20; for more details and guidance: https://numpy.org/devdocs/release/1.20.0-notes.html#deprecations\n",
      "  return np.can_cast(self[(0,) * self.ndim].dtype, np.complex)\n",
      "\n",
      "2021-06-25 16:12:08,661 - stpipe - WARNING - /Users/ofox/miniconda3/envs/helper/lib/python3.9/site-packages/glue/core/component.py:96: DeprecationWarning: `np.complex` is a deprecated alias for the builtin `complex`. To silence this warning, use `complex` by itself. Doing this will not modify any behavior and is safe. If you specifically wanted the numpy scalar type, use `np.complex128` here.\n",
      "Deprecated in NumPy 1.20; for more details and guidance: https://numpy.org/devdocs/release/1.20.0-notes.html#deprecations\n",
      "  return np.can_cast(self[(0,) * self.ndim].dtype, np.complex)\n",
      "\n",
      "WARNING:stpipe:/Users/ofox/miniconda3/envs/helper/lib/python3.9/site-packages/glue/core/component.py:96: DeprecationWarning: `np.complex` is a deprecated alias for the builtin `complex`. To silence this warning, use `complex` by itself. Doing this will not modify any behavior and is safe. If you specifically wanted the numpy scalar type, use `np.complex128` here.\n",
      "Deprecated in NumPy 1.20; for more details and guidance: https://numpy.org/devdocs/release/1.20.0-notes.html#deprecations\n",
      "  return np.can_cast(self[(0,) * self.ndim].dtype, np.complex)\n",
      "\n"
     ]
    },
    {
     "data": {
      "application/vnd.jupyter.widget-view+json": {
       "model_id": "80e7b4a4e15e4b7faa4258fc4a2192e4",
       "version_major": 2,
       "version_minor": 0
      },
      "text/plain": [
       "Application(components={'g-viewer-tab': '<template>\\n  <component :is=\"stack.container\">\\n    <g-viewer-tab\\n …"
      ]
     },
     "metadata": {},
     "output_type": "display_data"
    }
   ],
   "source": [
    "#Developer Notes: Ask how to remove other files from viewer before and after opening data\n",
    "imviz.load_data(nircam_imaging, data_label='NIRCam Imaging')\n",
    "\n",
    "viewer = imviz.app.get_viewer('viewer-1')\n",
    "\n",
    "imviz.app"
   ]
  },
  {
   "cell_type": "markdown",
   "metadata": {},
   "source": [
    "## MIRI LRS Slit"
   ]
  },
  {
   "cell_type": "code",
   "execution_count": 63,
   "metadata": {},
   "outputs": [
    {
     "name": "stderr",
     "output_type": "stream",
     "text": [
      "WARNING:py.warnings:/Users/ofox/miniconda3/envs/helper/lib/python3.9/site-packages/ipywidgets/widgets/widget.py:412: DeprecationWarning: Passing unrecognized arguments to super(Figure).__init__(scales={'x': LinearScale(allow_padding=False, max=1.0, min=0.0), 'y': LinearScale(max=1.0, min=0.0)}).\n",
      "object.__init__() takes exactly one argument (the instance to initialize)\n",
      "This is deprecated in traitlets 4.2.This error will be raised in a future release of traitlets.\n",
      "  super(Widget, self).__init__(**kwargs)\n",
      "\n",
      "2021-06-25 16:14:07,156 - stpipe - WARNING - /Users/ofox/miniconda3/envs/helper/lib/python3.9/site-packages/ipywidgets/widgets/widget.py:412: DeprecationWarning: Passing unrecognized arguments to super(Figure).__init__(scales={'x': LinearScale(allow_padding=False, max=1.0, min=0.0), 'y': LinearScale(max=1.0, min=0.0)}).\n",
      "object.__init__() takes exactly one argument (the instance to initialize)\n",
      "This is deprecated in traitlets 4.2.This error will be raised in a future release of traitlets.\n",
      "  super(Widget, self).__init__(**kwargs)\n",
      "\n",
      "WARNING:stpipe:/Users/ofox/miniconda3/envs/helper/lib/python3.9/site-packages/ipywidgets/widgets/widget.py:412: DeprecationWarning: Passing unrecognized arguments to super(Figure).__init__(scales={'x': LinearScale(allow_padding=False, max=1.0, min=0.0), 'y': LinearScale(max=1.0, min=0.0)}).\n",
      "object.__init__() takes exactly one argument (the instance to initialize)\n",
      "This is deprecated in traitlets 4.2.This error will be raised in a future release of traitlets.\n",
      "  super(Widget, self).__init__(**kwargs)\n",
      "\n"
     ]
    }
   ],
   "source": [
    "from jdaviz import Specviz2d\n",
    "specviz2d = Specviz2d()"
   ]
  },
  {
   "cell_type": "code",
   "execution_count": 64,
   "metadata": {},
   "outputs": [
    {
     "data": {
      "application/vnd.jupyter.widget-view+json": {
       "model_id": "dfa7145047f644abbd6fda11c49f4c1d",
       "version_major": 2,
       "version_minor": 0
      },
      "text/plain": [
       "Application(components={'g-viewer-tab': '<template>\\n  <component :is=\"stack.container\">\\n    <g-viewer-tab\\n …"
      ]
     },
     "metadata": {},
     "output_type": "display_data"
    }
   ],
   "source": [
    "#Developer note: How do you scroll interactingvely with the mouse?\n",
    "specviz2d.app"
   ]
  },
  {
   "cell_type": "code",
   "execution_count": 65,
   "metadata": {},
   "outputs": [
    {
     "name": "stderr",
     "output_type": "stream",
     "text": [
      "WARNING:py.warnings:/Users/ofox/miniconda3/envs/helper/lib/python3.9/site-packages/glue/core/component.py:96: DeprecationWarning: `np.complex` is a deprecated alias for the builtin `complex`. To silence this warning, use `complex` by itself. Doing this will not modify any behavior and is safe. If you specifically wanted the numpy scalar type, use `np.complex128` here.\n",
      "Deprecated in NumPy 1.20; for more details and guidance: https://numpy.org/devdocs/release/1.20.0-notes.html#deprecations\n",
      "  return np.can_cast(self[(0,) * self.ndim].dtype, np.complex)\n",
      "\n",
      "2021-06-25 16:14:14,924 - stpipe - WARNING - /Users/ofox/miniconda3/envs/helper/lib/python3.9/site-packages/glue/core/component.py:96: DeprecationWarning: `np.complex` is a deprecated alias for the builtin `complex`. To silence this warning, use `complex` by itself. Doing this will not modify any behavior and is safe. If you specifically wanted the numpy scalar type, use `np.complex128` here.\n",
      "Deprecated in NumPy 1.20; for more details and guidance: https://numpy.org/devdocs/release/1.20.0-notes.html#deprecations\n",
      "  return np.can_cast(self[(0,) * self.ndim].dtype, np.complex)\n",
      "\n",
      "WARNING:stpipe:/Users/ofox/miniconda3/envs/helper/lib/python3.9/site-packages/glue/core/component.py:96: DeprecationWarning: `np.complex` is a deprecated alias for the builtin `complex`. To silence this warning, use `complex` by itself. Doing this will not modify any behavior and is safe. If you specifically wanted the numpy scalar type, use `np.complex128` here.\n",
      "Deprecated in NumPy 1.20; for more details and guidance: https://numpy.org/devdocs/release/1.20.0-notes.html#deprecations\n",
      "  return np.can_cast(self[(0,) * self.ndim].dtype, np.complex)\n",
      "\n",
      "WARNING:py.warnings:/Users/ofox/miniconda3/envs/helper/lib/python3.9/site-packages/glue/core/component.py:96: DeprecationWarning: `np.complex` is a deprecated alias for the builtin `complex`. To silence this warning, use `complex` by itself. Doing this will not modify any behavior and is safe. If you specifically wanted the numpy scalar type, use `np.complex128` here.\n",
      "Deprecated in NumPy 1.20; for more details and guidance: https://numpy.org/devdocs/release/1.20.0-notes.html#deprecations\n",
      "  return np.can_cast(self[(0,) * self.ndim].dtype, np.complex)\n",
      "\n",
      "2021-06-25 16:14:14,927 - stpipe - WARNING - /Users/ofox/miniconda3/envs/helper/lib/python3.9/site-packages/glue/core/component.py:96: DeprecationWarning: `np.complex` is a deprecated alias for the builtin `complex`. To silence this warning, use `complex` by itself. Doing this will not modify any behavior and is safe. If you specifically wanted the numpy scalar type, use `np.complex128` here.\n",
      "Deprecated in NumPy 1.20; for more details and guidance: https://numpy.org/devdocs/release/1.20.0-notes.html#deprecations\n",
      "  return np.can_cast(self[(0,) * self.ndim].dtype, np.complex)\n",
      "\n",
      "WARNING:stpipe:/Users/ofox/miniconda3/envs/helper/lib/python3.9/site-packages/glue/core/component.py:96: DeprecationWarning: `np.complex` is a deprecated alias for the builtin `complex`. To silence this warning, use `complex` by itself. Doing this will not modify any behavior and is safe. If you specifically wanted the numpy scalar type, use `np.complex128` here.\n",
      "Deprecated in NumPy 1.20; for more details and guidance: https://numpy.org/devdocs/release/1.20.0-notes.html#deprecations\n",
      "  return np.can_cast(self[(0,) * self.ndim].dtype, np.complex)\n",
      "\n",
      "WARNING:py.warnings:/Users/ofox/miniconda3/envs/helper/lib/python3.9/site-packages/glue/core/component.py:96: DeprecationWarning: `np.complex` is a deprecated alias for the builtin `complex`. To silence this warning, use `complex` by itself. Doing this will not modify any behavior and is safe. If you specifically wanted the numpy scalar type, use `np.complex128` here.\n",
      "Deprecated in NumPy 1.20; for more details and guidance: https://numpy.org/devdocs/release/1.20.0-notes.html#deprecations\n",
      "  return np.can_cast(self[(0,) * self.ndim].dtype, np.complex)\n",
      "\n",
      "2021-06-25 16:14:14,930 - stpipe - WARNING - /Users/ofox/miniconda3/envs/helper/lib/python3.9/site-packages/glue/core/component.py:96: DeprecationWarning: `np.complex` is a deprecated alias for the builtin `complex`. To silence this warning, use `complex` by itself. Doing this will not modify any behavior and is safe. If you specifically wanted the numpy scalar type, use `np.complex128` here.\n",
      "Deprecated in NumPy 1.20; for more details and guidance: https://numpy.org/devdocs/release/1.20.0-notes.html#deprecations\n",
      "  return np.can_cast(self[(0,) * self.ndim].dtype, np.complex)\n",
      "\n",
      "WARNING:stpipe:/Users/ofox/miniconda3/envs/helper/lib/python3.9/site-packages/glue/core/component.py:96: DeprecationWarning: `np.complex` is a deprecated alias for the builtin `complex`. To silence this warning, use `complex` by itself. Doing this will not modify any behavior and is safe. If you specifically wanted the numpy scalar type, use `np.complex128` here.\n",
      "Deprecated in NumPy 1.20; for more details and guidance: https://numpy.org/devdocs/release/1.20.0-notes.html#deprecations\n",
      "  return np.can_cast(self[(0,) * self.ndim].dtype, np.complex)\n",
      "\n"
     ]
    },
    {
     "ename": "KeyError",
     "evalue": "\"Keyword 'WAVEND' not found.\"",
     "output_type": "error",
     "traceback": [
      "\u001b[0;31m---------------------------------------------------------------------------\u001b[0m",
      "\u001b[0;31mKeyError\u001b[0m                                  Traceback (most recent call last)",
      "\u001b[0;32m<ipython-input-65-3777a7361c09>\u001b[0m in \u001b[0;36m<module>\u001b[0;34m\u001b[0m\n\u001b[1;32m      1\u001b[0m \u001b[0;31m#Level3\u001b[0m\u001b[0;34m\u001b[0m\u001b[0;34m\u001b[0m\u001b[0;34m\u001b[0m\u001b[0m\n\u001b[1;32m      2\u001b[0m \u001b[0mspectrum\u001b[0m \u001b[0;34m=\u001b[0m \u001b[0mdownload_file\u001b[0m\u001b[0;34m(\u001b[0m\u001b[0;34m'https://data.science.stsci.edu/redirect/JWST/jwst-data_analysis_tools/helper_classes/MIRI/LRS/det_image_seq5_MIRIMAGE_P750Lexp1_s2d.fits'\u001b[0m\u001b[0;34m)\u001b[0m\u001b[0;34m\u001b[0m\u001b[0;34m\u001b[0m\u001b[0m\n\u001b[0;32m----> 3\u001b[0;31m \u001b[0mspecviz2d\u001b[0m\u001b[0;34m.\u001b[0m\u001b[0mload_data\u001b[0m\u001b[0;34m(\u001b[0m\u001b[0mspectrum\u001b[0m\u001b[0;34m)\u001b[0m\u001b[0;34m\u001b[0m\u001b[0;34m\u001b[0m\u001b[0m\n\u001b[0m",
      "\u001b[0;32m~/miniconda3/envs/helper/lib/python3.9/site-packages/jdaviz/configs/specviz2d/helper.py\u001b[0m in \u001b[0;36mload_data\u001b[0;34m(self, spectrum_2d, spectrum_1d, spectrum_1d_label, spectrum_2d_label, show_in_viewer)\u001b[0m\n\u001b[1;32m    131\u001b[0m             \u001b[0;31m# Collapse the 2D spectrum to 1D if no 1D spectrum provided\u001b[0m\u001b[0;34m\u001b[0m\u001b[0;34m\u001b[0m\u001b[0;34m\u001b[0m\u001b[0m\n\u001b[1;32m    132\u001b[0m             \u001b[0;32mif\u001b[0m \u001b[0mspectrum_1d\u001b[0m \u001b[0;32mis\u001b[0m \u001b[0;32mNone\u001b[0m\u001b[0;34m:\u001b[0m\u001b[0;34m\u001b[0m\u001b[0;34m\u001b[0m\u001b[0m\n\u001b[0;32m--> 133\u001b[0;31m                 self.app.load_data(spectrum_2d,\n\u001b[0m\u001b[1;32m    134\u001b[0m                                    \u001b[0mparser_reference\u001b[0m\u001b[0;34m=\u001b[0m\u001b[0;34m\"spec2d-1d-parser\"\u001b[0m\u001b[0;34m,\u001b[0m\u001b[0;34m\u001b[0m\u001b[0;34m\u001b[0m\u001b[0m\n\u001b[1;32m    135\u001b[0m                                    \u001b[0mdata_label\u001b[0m\u001b[0;34m=\u001b[0m\u001b[0mspectrum_1d_label\u001b[0m\u001b[0;34m,\u001b[0m\u001b[0;34m\u001b[0m\u001b[0;34m\u001b[0m\u001b[0m\n",
      "\u001b[0;32m~/miniconda3/envs/helper/lib/python3.9/site-packages/jdaviz/app.py\u001b[0m in \u001b[0;36mload_data\u001b[0;34m(self, file_obj, parser_reference, **kwargs)\u001b[0m\n\u001b[1;32m    306\u001b[0m                 \u001b[0;31m# If the parser returns something other than known, assume it's\u001b[0m\u001b[0;34m\u001b[0m\u001b[0;34m\u001b[0m\u001b[0;34m\u001b[0m\u001b[0m\n\u001b[1;32m    307\u001b[0m                 \u001b[0;31m#  a message we want to make the user aware of.\u001b[0m\u001b[0;34m\u001b[0m\u001b[0;34m\u001b[0m\u001b[0;34m\u001b[0m\u001b[0m\n\u001b[0;32m--> 308\u001b[0;31m                 \u001b[0mmsg\u001b[0m \u001b[0;34m=\u001b[0m \u001b[0mparser\u001b[0m\u001b[0;34m(\u001b[0m\u001b[0mself\u001b[0m\u001b[0;34m,\u001b[0m \u001b[0mfile_obj\u001b[0m\u001b[0;34m,\u001b[0m \u001b[0;34m**\u001b[0m\u001b[0mkwargs\u001b[0m\u001b[0;34m)\u001b[0m\u001b[0;34m\u001b[0m\u001b[0;34m\u001b[0m\u001b[0m\n\u001b[0m\u001b[1;32m    309\u001b[0m \u001b[0;34m\u001b[0m\u001b[0m\n\u001b[1;32m    310\u001b[0m                 \u001b[0;32mif\u001b[0m \u001b[0mmsg\u001b[0m \u001b[0;32mis\u001b[0m \u001b[0;32mnot\u001b[0m \u001b[0;32mNone\u001b[0m\u001b[0;34m:\u001b[0m\u001b[0;34m\u001b[0m\u001b[0;34m\u001b[0m\u001b[0m\n",
      "\u001b[0;32m~/miniconda3/envs/helper/lib/python3.9/site-packages/jdaviz/configs/specviz2d/plugins/parsers.py\u001b[0m in \u001b[0;36mspec2d_1d_parser\u001b[0;34m(app, data_obj, data_label, show_in_viewer)\u001b[0m\n\u001b[1;32m     47\u001b[0m         \u001b[0;32mexcept\u001b[0m \u001b[0mValueError\u001b[0m\u001b[0;34m:\u001b[0m\u001b[0;34m\u001b[0m\u001b[0;34m\u001b[0m\u001b[0m\n\u001b[1;32m     48\u001b[0m             \u001b[0mflux\u001b[0m \u001b[0;34m=\u001b[0m \u001b[0mu\u001b[0m\u001b[0;34m.\u001b[0m\u001b[0mQuantity\u001b[0m\u001b[0;34m(\u001b[0m\u001b[0mnp\u001b[0m\u001b[0;34m.\u001b[0m\u001b[0msum\u001b[0m\u001b[0;34m(\u001b[0m\u001b[0mdata\u001b[0m\u001b[0;34m,\u001b[0m \u001b[0mheader\u001b[0m\u001b[0;34m[\u001b[0m\u001b[0;34m'DISPAXIS'\u001b[0m\u001b[0;34m]\u001b[0m\u001b[0;34m-\u001b[0m\u001b[0;36m1\u001b[0m\u001b[0;34m)\u001b[0m\u001b[0;34m)\u001b[0m\u001b[0;34m\u001b[0m\u001b[0;34m\u001b[0m\u001b[0m\n\u001b[0;32m---> 49\u001b[0;31m         \u001b[0mstep\u001b[0m \u001b[0;34m=\u001b[0m \u001b[0;34m(\u001b[0m\u001b[0mheader\u001b[0m\u001b[0;34m[\u001b[0m\u001b[0;34m\"WAVEND\"\u001b[0m\u001b[0;34m]\u001b[0m \u001b[0;34m-\u001b[0m \u001b[0mheader\u001b[0m\u001b[0;34m[\u001b[0m\u001b[0;34m\"WAVSTART\"\u001b[0m\u001b[0;34m]\u001b[0m\u001b[0;34m)\u001b[0m\u001b[0;34m/\u001b[0m\u001b[0mlen\u001b[0m\u001b[0;34m(\u001b[0m\u001b[0mflux\u001b[0m\u001b[0;34m)\u001b[0m\u001b[0;34m\u001b[0m\u001b[0;34m\u001b[0m\u001b[0m\n\u001b[0m\u001b[1;32m     50\u001b[0m         spectral_axis = np.arange(header[\"WAVSTART\"], header[\"WAVEND\"],\n\u001b[1;32m     51\u001b[0m                                   step) * u.Unit(\"m\")\n",
      "\u001b[0;32m~/miniconda3/envs/helper/lib/python3.9/site-packages/astropy/io/fits/header.py\u001b[0m in \u001b[0;36m__getitem__\u001b[0;34m(self, key)\u001b[0m\n\u001b[1;32m    154\u001b[0m             \u001b[0mkeyword\u001b[0m \u001b[0;34m=\u001b[0m \u001b[0mkey\u001b[0m\u001b[0;34m\u001b[0m\u001b[0;34m\u001b[0m\u001b[0m\n\u001b[1;32m    155\u001b[0m \u001b[0;34m\u001b[0m\u001b[0m\n\u001b[0;32m--> 156\u001b[0;31m         \u001b[0mcard\u001b[0m \u001b[0;34m=\u001b[0m \u001b[0mself\u001b[0m\u001b[0;34m.\u001b[0m\u001b[0m_cards\u001b[0m\u001b[0;34m[\u001b[0m\u001b[0mself\u001b[0m\u001b[0;34m.\u001b[0m\u001b[0m_cardindex\u001b[0m\u001b[0;34m(\u001b[0m\u001b[0mkey\u001b[0m\u001b[0;34m)\u001b[0m\u001b[0;34m]\u001b[0m\u001b[0;34m\u001b[0m\u001b[0;34m\u001b[0m\u001b[0m\n\u001b[0m\u001b[1;32m    157\u001b[0m \u001b[0;34m\u001b[0m\u001b[0m\n\u001b[1;32m    158\u001b[0m         \u001b[0;32mif\u001b[0m \u001b[0mcard\u001b[0m\u001b[0;34m.\u001b[0m\u001b[0mfield_specifier\u001b[0m \u001b[0;32mis\u001b[0m \u001b[0;32mnot\u001b[0m \u001b[0;32mNone\u001b[0m \u001b[0;32mand\u001b[0m \u001b[0mkeyword\u001b[0m \u001b[0;34m==\u001b[0m \u001b[0mcard\u001b[0m\u001b[0;34m.\u001b[0m\u001b[0mrawkeyword\u001b[0m\u001b[0;34m:\u001b[0m\u001b[0;34m\u001b[0m\u001b[0;34m\u001b[0m\u001b[0m\n",
      "\u001b[0;32m~/miniconda3/envs/helper/lib/python3.9/site-packages/astropy/io/fits/header.py\u001b[0m in \u001b[0;36m_cardindex\u001b[0;34m(self, key)\u001b[0m\n\u001b[1;32m   1714\u001b[0m \u001b[0;34m\u001b[0m\u001b[0m\n\u001b[1;32m   1715\u001b[0m         \u001b[0;32mif\u001b[0m \u001b[0;32mnot\u001b[0m \u001b[0mindices\u001b[0m\u001b[0;34m:\u001b[0m\u001b[0;34m\u001b[0m\u001b[0;34m\u001b[0m\u001b[0m\n\u001b[0;32m-> 1716\u001b[0;31m             \u001b[0;32mraise\u001b[0m \u001b[0mKeyError\u001b[0m\u001b[0;34m(\u001b[0m\u001b[0;34mf\"Keyword {keyword!r} not found.\"\u001b[0m\u001b[0;34m)\u001b[0m\u001b[0;34m\u001b[0m\u001b[0;34m\u001b[0m\u001b[0m\n\u001b[0m\u001b[1;32m   1717\u001b[0m \u001b[0;34m\u001b[0m\u001b[0m\n\u001b[1;32m   1718\u001b[0m         \u001b[0;32mtry\u001b[0m\u001b[0;34m:\u001b[0m\u001b[0;34m\u001b[0m\u001b[0;34m\u001b[0m\u001b[0m\n",
      "\u001b[0;31mKeyError\u001b[0m: \"Keyword 'WAVEND' not found.\""
     ]
    }
   ],
   "source": [
    "#Level3\n",
    "spectrum = download_file('https://data.science.stsci.edu/redirect/JWST/jwst-data_analysis_tools/helper_classes/MIRI/LRS/det_image_seq5_MIRIMAGE_P750Lexp1_s2d.fits')\n",
    "specviz2d.load_data(spectrum)"
   ]
  },
  {
   "cell_type": "code",
   "execution_count": 69,
   "metadata": {},
   "outputs": [],
   "source": [
    "from jdaviz import SpecViz\n",
    "specviz = SpecViz()"
   ]
  },
  {
   "cell_type": "code",
   "execution_count": 70,
   "metadata": {},
   "outputs": [
    {
     "data": {
      "application/vnd.jupyter.widget-view+json": {
       "model_id": "742a2bfad298405db87b6c099d07758c",
       "version_major": 2,
       "version_minor": 0
      },
      "text/plain": [
       "Application(components={'g-viewer-tab': '<template>\\n  <component :is=\"stack.container\">\\n    <g-viewer-tab\\n …"
      ]
     },
     "metadata": {},
     "output_type": "display_data"
    }
   ],
   "source": [
    "#Developer note: How do you scroll interactingvely with the mouse?\n",
    "specviz.app"
   ]
  },
  {
   "cell_type": "code",
   "execution_count": 71,
   "metadata": {},
   "outputs": [
    {
     "ename": "RuntimeError",
     "evalue": "Keyword SRCTYPE is None.  It should be 'POINT' or 'EXTENDED'. Can't decide between `flux` and `surf_bright` columns.",
     "output_type": "error",
     "traceback": [
      "\u001b[0;31m---------------------------------------------------------------------------\u001b[0m",
      "\u001b[0;31mRuntimeError\u001b[0m                              Traceback (most recent call last)",
      "\u001b[0;32m<ipython-input-71-b66931f53659>\u001b[0m in \u001b[0;36m<module>\u001b[0;34m\u001b[0m\n\u001b[1;32m      1\u001b[0m \u001b[0;31m#Level3\u001b[0m\u001b[0;34m\u001b[0m\u001b[0;34m\u001b[0m\u001b[0;34m\u001b[0m\u001b[0m\n\u001b[1;32m      2\u001b[0m \u001b[0mspectrum\u001b[0m \u001b[0;34m=\u001b[0m \u001b[0mdownload_file\u001b[0m\u001b[0;34m(\u001b[0m\u001b[0;34m'https://data.science.stsci.edu/redirect/JWST/jwst-data_analysis_tools/helper_classes/MIRI/LRS/det_image_seq5_MIRIMAGE_P750Lexp1_x1d.fits'\u001b[0m\u001b[0;34m)\u001b[0m\u001b[0;34m\u001b[0m\u001b[0;34m\u001b[0m\u001b[0m\n\u001b[0;32m----> 3\u001b[0;31m \u001b[0mspecviz\u001b[0m\u001b[0;34m.\u001b[0m\u001b[0mload_spectrum\u001b[0m\u001b[0;34m(\u001b[0m\u001b[0mspectrum\u001b[0m\u001b[0;34m,\u001b[0m \u001b[0;34m\"LRS 1D\"\u001b[0m\u001b[0;34m)\u001b[0m\u001b[0;34m\u001b[0m\u001b[0;34m\u001b[0m\u001b[0m\n\u001b[0m",
      "\u001b[0;32m~/miniconda3/envs/helper/lib/python3.9/site-packages/jdaviz/configs/specviz/helper.py\u001b[0m in \u001b[0;36mload_spectrum\u001b[0;34m(self, data, data_label, format, show_in_viewer)\u001b[0m\n\u001b[1;32m     26\u001b[0m \u001b[0;34m\u001b[0m\u001b[0m\n\u001b[1;32m     27\u001b[0m     \u001b[0;32mdef\u001b[0m \u001b[0mload_spectrum\u001b[0m\u001b[0;34m(\u001b[0m\u001b[0mself\u001b[0m\u001b[0;34m,\u001b[0m \u001b[0mdata\u001b[0m\u001b[0;34m,\u001b[0m \u001b[0mdata_label\u001b[0m\u001b[0;34m=\u001b[0m\u001b[0;32mNone\u001b[0m\u001b[0;34m,\u001b[0m \u001b[0mformat\u001b[0m\u001b[0;34m=\u001b[0m\u001b[0;32mNone\u001b[0m\u001b[0;34m,\u001b[0m \u001b[0mshow_in_viewer\u001b[0m\u001b[0;34m=\u001b[0m\u001b[0;32mTrue\u001b[0m\u001b[0;34m)\u001b[0m\u001b[0;34m:\u001b[0m\u001b[0;34m\u001b[0m\u001b[0;34m\u001b[0m\u001b[0m\n\u001b[0;32m---> 28\u001b[0;31m         super().load_data(data,\n\u001b[0m\u001b[1;32m     29\u001b[0m                           \u001b[0;34m'specviz-spectrum1d-parser'\u001b[0m\u001b[0;34m,\u001b[0m\u001b[0;34m\u001b[0m\u001b[0;34m\u001b[0m\u001b[0m\n\u001b[1;32m     30\u001b[0m                           \u001b[0mdata_label\u001b[0m\u001b[0;34m=\u001b[0m\u001b[0mdata_label\u001b[0m\u001b[0;34m,\u001b[0m\u001b[0;34m\u001b[0m\u001b[0;34m\u001b[0m\u001b[0m\n",
      "\u001b[0;32m~/miniconda3/envs/helper/lib/python3.9/site-packages/jdaviz/core/helpers.py\u001b[0m in \u001b[0;36mload_data\u001b[0;34m(self, data, parser_reference, **kwargs)\u001b[0m\n\u001b[1;32m     39\u001b[0m \u001b[0;34m\u001b[0m\u001b[0m\n\u001b[1;32m     40\u001b[0m     \u001b[0;32mdef\u001b[0m \u001b[0mload_data\u001b[0m\u001b[0;34m(\u001b[0m\u001b[0mself\u001b[0m\u001b[0;34m,\u001b[0m \u001b[0mdata\u001b[0m\u001b[0;34m,\u001b[0m \u001b[0mparser_reference\u001b[0m\u001b[0;34m=\u001b[0m\u001b[0;32mNone\u001b[0m\u001b[0;34m,\u001b[0m \u001b[0;34m**\u001b[0m\u001b[0mkwargs\u001b[0m\u001b[0;34m)\u001b[0m\u001b[0;34m:\u001b[0m\u001b[0;34m\u001b[0m\u001b[0;34m\u001b[0m\u001b[0m\n\u001b[0;32m---> 41\u001b[0;31m         \u001b[0mself\u001b[0m\u001b[0;34m.\u001b[0m\u001b[0mapp\u001b[0m\u001b[0;34m.\u001b[0m\u001b[0mload_data\u001b[0m\u001b[0;34m(\u001b[0m\u001b[0mdata\u001b[0m\u001b[0;34m,\u001b[0m \u001b[0mparser_reference\u001b[0m\u001b[0;34m=\u001b[0m\u001b[0mparser_reference\u001b[0m\u001b[0;34m,\u001b[0m \u001b[0;34m**\u001b[0m\u001b[0mkwargs\u001b[0m\u001b[0;34m)\u001b[0m\u001b[0;34m\u001b[0m\u001b[0;34m\u001b[0m\u001b[0m\n\u001b[0m\u001b[1;32m     42\u001b[0m \u001b[0;34m\u001b[0m\u001b[0m\n\u001b[1;32m     43\u001b[0m     \u001b[0;34m@\u001b[0m\u001b[0mproperty\u001b[0m\u001b[0;34m\u001b[0m\u001b[0;34m\u001b[0m\u001b[0m\n",
      "\u001b[0;32m~/miniconda3/envs/helper/lib/python3.9/site-packages/jdaviz/app.py\u001b[0m in \u001b[0;36mload_data\u001b[0;34m(self, file_obj, parser_reference, **kwargs)\u001b[0m\n\u001b[1;32m    306\u001b[0m                 \u001b[0;31m# If the parser returns something other than known, assume it's\u001b[0m\u001b[0;34m\u001b[0m\u001b[0;34m\u001b[0m\u001b[0;34m\u001b[0m\u001b[0m\n\u001b[1;32m    307\u001b[0m                 \u001b[0;31m#  a message we want to make the user aware of.\u001b[0m\u001b[0;34m\u001b[0m\u001b[0;34m\u001b[0m\u001b[0;34m\u001b[0m\u001b[0m\n\u001b[0;32m--> 308\u001b[0;31m                 \u001b[0mmsg\u001b[0m \u001b[0;34m=\u001b[0m \u001b[0mparser\u001b[0m\u001b[0;34m(\u001b[0m\u001b[0mself\u001b[0m\u001b[0;34m,\u001b[0m \u001b[0mfile_obj\u001b[0m\u001b[0;34m,\u001b[0m \u001b[0;34m**\u001b[0m\u001b[0mkwargs\u001b[0m\u001b[0;34m)\u001b[0m\u001b[0;34m\u001b[0m\u001b[0;34m\u001b[0m\u001b[0m\n\u001b[0m\u001b[1;32m    309\u001b[0m \u001b[0;34m\u001b[0m\u001b[0m\n\u001b[1;32m    310\u001b[0m                 \u001b[0;32mif\u001b[0m \u001b[0mmsg\u001b[0m \u001b[0;32mis\u001b[0m \u001b[0;32mnot\u001b[0m \u001b[0;32mNone\u001b[0m\u001b[0;34m:\u001b[0m\u001b[0;34m\u001b[0m\u001b[0;34m\u001b[0m\u001b[0m\n",
      "\u001b[0;32m~/miniconda3/envs/helper/lib/python3.9/site-packages/jdaviz/configs/specviz/plugins/parsers.py\u001b[0m in \u001b[0;36mspecviz_spectrum1d_parser\u001b[0;34m(app, data, data_label, format, show_in_viewer)\u001b[0m\n\u001b[1;32m     36\u001b[0m \u001b[0;34m\u001b[0m\u001b[0m\n\u001b[1;32m     37\u001b[0m         \u001b[0;32mif\u001b[0m \u001b[0mpath\u001b[0m\u001b[0;34m.\u001b[0m\u001b[0mis_file\u001b[0m\u001b[0;34m(\u001b[0m\u001b[0;34m)\u001b[0m\u001b[0;34m:\u001b[0m\u001b[0;34m\u001b[0m\u001b[0;34m\u001b[0m\u001b[0m\n\u001b[0;32m---> 38\u001b[0;31m             \u001b[0mdata\u001b[0m \u001b[0;34m=\u001b[0m \u001b[0mSpectrum1D\u001b[0m\u001b[0;34m.\u001b[0m\u001b[0mread\u001b[0m\u001b[0;34m(\u001b[0m\u001b[0mstr\u001b[0m\u001b[0;34m(\u001b[0m\u001b[0mpath\u001b[0m\u001b[0;34m)\u001b[0m\u001b[0;34m,\u001b[0m \u001b[0mformat\u001b[0m\u001b[0;34m=\u001b[0m\u001b[0mformat\u001b[0m\u001b[0;34m)\u001b[0m\u001b[0;34m\u001b[0m\u001b[0;34m\u001b[0m\u001b[0m\n\u001b[0m\u001b[1;32m     39\u001b[0m         \u001b[0;32melse\u001b[0m\u001b[0;34m:\u001b[0m\u001b[0;34m\u001b[0m\u001b[0;34m\u001b[0m\u001b[0m\n\u001b[1;32m     40\u001b[0m             \u001b[0;32mraise\u001b[0m \u001b[0mFileNotFoundError\u001b[0m\u001b[0;34m(\u001b[0m\u001b[0;34m\"No such file: \"\u001b[0m \u001b[0;34m+\u001b[0m \u001b[0mstr\u001b[0m\u001b[0;34m(\u001b[0m\u001b[0mpath\u001b[0m\u001b[0;34m)\u001b[0m\u001b[0;34m)\u001b[0m\u001b[0;34m\u001b[0m\u001b[0;34m\u001b[0m\u001b[0m\n",
      "\u001b[0;32m~/miniconda3/envs/helper/lib/python3.9/site-packages/astropy/nddata/mixins/ndio.py\u001b[0m in \u001b[0;36m__call__\u001b[0;34m(self, *args, **kwargs)\u001b[0m\n\u001b[1;32m     56\u001b[0m \u001b[0;34m\u001b[0m\u001b[0m\n\u001b[1;32m     57\u001b[0m     \u001b[0;32mdef\u001b[0m \u001b[0m__call__\u001b[0m\u001b[0;34m(\u001b[0m\u001b[0mself\u001b[0m\u001b[0;34m,\u001b[0m \u001b[0;34m*\u001b[0m\u001b[0margs\u001b[0m\u001b[0;34m,\u001b[0m \u001b[0;34m**\u001b[0m\u001b[0mkwargs\u001b[0m\u001b[0;34m)\u001b[0m\u001b[0;34m:\u001b[0m\u001b[0;34m\u001b[0m\u001b[0;34m\u001b[0m\u001b[0m\n\u001b[0;32m---> 58\u001b[0;31m         \u001b[0;32mreturn\u001b[0m \u001b[0mregistry\u001b[0m\u001b[0;34m.\u001b[0m\u001b[0mread\u001b[0m\u001b[0;34m(\u001b[0m\u001b[0mself\u001b[0m\u001b[0;34m.\u001b[0m\u001b[0m_cls\u001b[0m\u001b[0;34m,\u001b[0m \u001b[0;34m*\u001b[0m\u001b[0margs\u001b[0m\u001b[0;34m,\u001b[0m \u001b[0;34m**\u001b[0m\u001b[0mkwargs\u001b[0m\u001b[0;34m)\u001b[0m\u001b[0;34m\u001b[0m\u001b[0;34m\u001b[0m\u001b[0m\n\u001b[0m\u001b[1;32m     59\u001b[0m \u001b[0;34m\u001b[0m\u001b[0m\n\u001b[1;32m     60\u001b[0m \u001b[0;34m\u001b[0m\u001b[0m\n",
      "\u001b[0;32m~/miniconda3/envs/helper/lib/python3.9/site-packages/astropy/io/registry.py\u001b[0m in \u001b[0;36mread\u001b[0;34m(cls, format, cache, *args, **kwargs)\u001b[0m\n\u001b[1;32m    518\u001b[0m \u001b[0;34m\u001b[0m\u001b[0m\n\u001b[1;32m    519\u001b[0m         \u001b[0mreader\u001b[0m \u001b[0;34m=\u001b[0m \u001b[0mget_reader\u001b[0m\u001b[0;34m(\u001b[0m\u001b[0mformat\u001b[0m\u001b[0;34m,\u001b[0m \u001b[0mcls\u001b[0m\u001b[0;34m)\u001b[0m\u001b[0;34m\u001b[0m\u001b[0;34m\u001b[0m\u001b[0m\n\u001b[0;32m--> 520\u001b[0;31m         \u001b[0mdata\u001b[0m \u001b[0;34m=\u001b[0m \u001b[0mreader\u001b[0m\u001b[0;34m(\u001b[0m\u001b[0;34m*\u001b[0m\u001b[0margs\u001b[0m\u001b[0;34m,\u001b[0m \u001b[0;34m**\u001b[0m\u001b[0mkwargs\u001b[0m\u001b[0;34m)\u001b[0m\u001b[0;34m\u001b[0m\u001b[0;34m\u001b[0m\u001b[0m\n\u001b[0m\u001b[1;32m    521\u001b[0m \u001b[0;34m\u001b[0m\u001b[0m\n\u001b[1;32m    522\u001b[0m         \u001b[0;32mif\u001b[0m \u001b[0;32mnot\u001b[0m \u001b[0misinstance\u001b[0m\u001b[0;34m(\u001b[0m\u001b[0mdata\u001b[0m\u001b[0;34m,\u001b[0m \u001b[0mcls\u001b[0m\u001b[0;34m)\u001b[0m\u001b[0;34m:\u001b[0m\u001b[0;34m\u001b[0m\u001b[0;34m\u001b[0m\u001b[0m\n",
      "\u001b[0;32m~/miniconda3/envs/helper/lib/python3.9/site-packages/specutils/io/default_loaders/jwst_reader.py\u001b[0m in \u001b[0;36mjwst_x1d_single_loader\u001b[0;34m(file_obj, **kwargs)\u001b[0m\n\u001b[1;32m     92\u001b[0m         \u001b[0mThe\u001b[0m \u001b[0mspectrum\u001b[0m \u001b[0mcontained\u001b[0m \u001b[0;32min\u001b[0m \u001b[0mthe\u001b[0m \u001b[0mfile\u001b[0m\u001b[0;34m.\u001b[0m\u001b[0;34m\u001b[0m\u001b[0;34m\u001b[0m\u001b[0m\n\u001b[1;32m     93\u001b[0m     \"\"\"\n\u001b[0;32m---> 94\u001b[0;31m     \u001b[0mspectrum_list\u001b[0m \u001b[0;34m=\u001b[0m \u001b[0m_jwst_x1d_loader\u001b[0m\u001b[0;34m(\u001b[0m\u001b[0mfile_obj\u001b[0m\u001b[0;34m,\u001b[0m \u001b[0;34m**\u001b[0m\u001b[0mkwargs\u001b[0m\u001b[0;34m)\u001b[0m\u001b[0;34m\u001b[0m\u001b[0;34m\u001b[0m\u001b[0m\n\u001b[0m\u001b[1;32m     95\u001b[0m     \u001b[0;32mif\u001b[0m \u001b[0mlen\u001b[0m\u001b[0;34m(\u001b[0m\u001b[0mspectrum_list\u001b[0m\u001b[0;34m)\u001b[0m \u001b[0;34m==\u001b[0m \u001b[0;36m1\u001b[0m\u001b[0;34m:\u001b[0m\u001b[0;34m\u001b[0m\u001b[0;34m\u001b[0m\u001b[0m\n\u001b[1;32m     96\u001b[0m         \u001b[0;32mreturn\u001b[0m \u001b[0mspectrum_list\u001b[0m\u001b[0;34m[\u001b[0m\u001b[0;36m0\u001b[0m\u001b[0;34m]\u001b[0m\u001b[0;34m\u001b[0m\u001b[0;34m\u001b[0m\u001b[0m\n",
      "\u001b[0;32m~/miniconda3/envs/helper/lib/python3.9/site-packages/specutils/io/default_loaders/jwst_reader.py\u001b[0m in \u001b[0;36m_jwst_x1d_loader\u001b[0;34m(file_obj, **kwargs)\u001b[0m\n\u001b[1;32m    169\u001b[0m \u001b[0;34m\u001b[0m\u001b[0m\n\u001b[1;32m    170\u001b[0m             \u001b[0;32melse\u001b[0m\u001b[0;34m:\u001b[0m\u001b[0;34m\u001b[0m\u001b[0;34m\u001b[0m\u001b[0m\n\u001b[0;32m--> 171\u001b[0;31m                 raise RuntimeError(f\"Keyword SRCTYPE is {srctype}.  It should \"\n\u001b[0m\u001b[1;32m    172\u001b[0m                                    \u001b[0;34m\"be 'POINT' or 'EXTENDED'. Can't decide between `flux` and \"\u001b[0m\u001b[0;34m\u001b[0m\u001b[0;34m\u001b[0m\u001b[0m\n\u001b[1;32m    173\u001b[0m                                    \"`surf_bright` columns.\")\n",
      "\u001b[0;31mRuntimeError\u001b[0m: Keyword SRCTYPE is None.  It should be 'POINT' or 'EXTENDED'. Can't decide between `flux` and `surf_bright` columns."
     ]
    }
   ],
   "source": [
    "#Level3\n",
    "spectrum = download_file('https://data.science.stsci.edu/redirect/JWST/jwst-data_analysis_tools/helper_classes/MIRI/LRS/det_image_seq5_MIRIMAGE_P750Lexp1_x1d.fits')\n",
    "specviz.load_spectrum(spectrum, \"LRS 1D\")"
   ]
  },
  {
   "cell_type": "markdown",
   "metadata": {},
   "source": [
    "## MIRI MRS"
   ]
  },
  {
   "cell_type": "code",
   "execution_count": 83,
   "metadata": {},
   "outputs": [
    {
     "name": "stderr",
     "output_type": "stream",
     "text": [
      "WARNING:py.warnings:/Users/ofox/miniconda3/envs/helper/lib/python3.9/site-packages/ipykernel/ipkernel.py:287: DeprecationWarning: `should_run_async` will not call `transform_cell` automatically in the future. Please pass the result to `transformed_cell` argument and any exception that happen during thetransform in `preprocessing_exc_tuple` in IPython 7.17 and above.\n",
      "  and should_run_async(code)\n",
      "\n",
      "2021-06-25 16:29:56,204 - stpipe - WARNING - /Users/ofox/miniconda3/envs/helper/lib/python3.9/site-packages/ipykernel/ipkernel.py:287: DeprecationWarning: `should_run_async` will not call `transform_cell` automatically in the future. Please pass the result to `transformed_cell` argument and any exception that happen during thetransform in `preprocessing_exc_tuple` in IPython 7.17 and above.\n",
      "  and should_run_async(code)\n",
      "\n",
      "WARNING:stpipe:/Users/ofox/miniconda3/envs/helper/lib/python3.9/site-packages/ipykernel/ipkernel.py:287: DeprecationWarning: `should_run_async` will not call `transform_cell` automatically in the future. Please pass the result to `transformed_cell` argument and any exception that happen during thetransform in `preprocessing_exc_tuple` in IPython 7.17 and above.\n",
      "  and should_run_async(code)\n",
      "\n"
     ]
    }
   ],
   "source": [
    "#Level 3 All Cube\n",
    "cube = download_file('https://data.science.stsci.edu/redirect/JWST/jwst-data_analysis_tools/helper_classes/MIRI/MRS/mirisim/allcube_ch1-2-3-4-shortlongmedium-_s3d.fits')"
   ]
  },
  {
   "cell_type": "code",
   "execution_count": 84,
   "metadata": {},
   "outputs": [
    {
     "name": "stderr",
     "output_type": "stream",
     "text": [
      "WARNING:py.warnings:/Users/ofox/miniconda3/envs/helper/lib/python3.9/site-packages/ipywidgets/widgets/widget.py:412: DeprecationWarning: Passing unrecognized arguments to super(Figure).__init__(scales={'x': LinearScale(allow_padding=False, max=1.0, min=0.0), 'y': LinearScale(max=1.0, min=0.0)}).\n",
      "object.__init__() takes exactly one argument (the instance to initialize)\n",
      "This is deprecated in traitlets 4.2.This error will be raised in a future release of traitlets.\n",
      "  super(Widget, self).__init__(**kwargs)\n",
      "\n",
      "2021-06-25 16:36:19,758 - stpipe - WARNING - /Users/ofox/miniconda3/envs/helper/lib/python3.9/site-packages/ipywidgets/widgets/widget.py:412: DeprecationWarning: Passing unrecognized arguments to super(Figure).__init__(scales={'x': LinearScale(allow_padding=False, max=1.0, min=0.0), 'y': LinearScale(max=1.0, min=0.0)}).\n",
      "object.__init__() takes exactly one argument (the instance to initialize)\n",
      "This is deprecated in traitlets 4.2.This error will be raised in a future release of traitlets.\n",
      "  super(Widget, self).__init__(**kwargs)\n",
      "\n",
      "WARNING:stpipe:/Users/ofox/miniconda3/envs/helper/lib/python3.9/site-packages/ipywidgets/widgets/widget.py:412: DeprecationWarning: Passing unrecognized arguments to super(Figure).__init__(scales={'x': LinearScale(allow_padding=False, max=1.0, min=0.0), 'y': LinearScale(max=1.0, min=0.0)}).\n",
      "object.__init__() takes exactly one argument (the instance to initialize)\n",
      "This is deprecated in traitlets 4.2.This error will be raised in a future release of traitlets.\n",
      "  super(Widget, self).__init__(**kwargs)\n",
      "\n"
     ]
    },
    {
     "data": {
      "application/vnd.jupyter.widget-view+json": {
       "model_id": "832311005b33485fb7e9c5baa18c673e",
       "version_major": 2,
       "version_minor": 0
      },
      "text/plain": [
       "Application(components={'g-viewer-tab': '<template>\\n  <component :is=\"stack.container\">\\n    <g-viewer-tab\\n …"
      ]
     },
     "metadata": {},
     "output_type": "display_data"
    }
   ],
   "source": [
    "cubeviz = CubeViz()\n",
    "cubeviz.app"
   ]
  },
  {
   "cell_type": "code",
   "execution_count": 85,
   "metadata": {},
   "outputs": [
    {
     "name": "stderr",
     "output_type": "stream",
     "text": [
      "WARNING: No spectral axis found; header may be non-compliant. [spectral_cube.cube_utils]\n",
      "WARNING:astropy:No spectral axis found; header may be non-compliant.\n",
      "2021-06-25 16:36:28,831 - stpipe - WARNING - No spectral axis found; header may be non-compliant.\n",
      "WARNING:stpipe:No spectral axis found; header may be non-compliant.\n",
      "WARNING: No spectral axis found; header may be non-compliant. [spectral_cube.cube_utils]\n",
      "WARNING:astropy:No spectral axis found; header may be non-compliant.\n",
      "2021-06-25 16:36:30,149 - stpipe - WARNING - No spectral axis found; header may be non-compliant.\n",
      "WARNING:stpipe:No spectral axis found; header may be non-compliant.\n",
      "WARNING: No spectral axis found; header may be non-compliant. [spectral_cube.cube_utils]\n",
      "WARNING:astropy:No spectral axis found; header may be non-compliant.\n",
      "2021-06-25 16:36:30,156 - stpipe - WARNING - No spectral axis found; header may be non-compliant.\n",
      "WARNING:stpipe:No spectral axis found; header may be non-compliant.\n",
      "WARNING:py.warnings:/Users/ofox/miniconda3/envs/helper/lib/python3.9/site-packages/jdaviz/configs/cubeviz/plugins/parsers.py:105: DeprecationWarning: The 'warn' function is deprecated, use 'warning' instead\n",
      "  logging.warn(e)\n",
      "\n",
      "2021-06-25 16:36:30,291 - stpipe - WARNING - /Users/ofox/miniconda3/envs/helper/lib/python3.9/site-packages/jdaviz/configs/cubeviz/plugins/parsers.py:105: DeprecationWarning: The 'warn' function is deprecated, use 'warning' instead\n",
      "  logging.warn(e)\n",
      "\n",
      "WARNING:stpipe:/Users/ofox/miniconda3/envs/helper/lib/python3.9/site-packages/jdaviz/configs/cubeviz/plugins/parsers.py:105: DeprecationWarning: The 'warn' function is deprecated, use 'warning' instead\n",
      "  logging.warn(e)\n",
      "\n",
      "WARNING:root:'NoneType' object has no attribute 'to_header'\n",
      "2021-06-25 16:36:30,293 - stpipe - WARNING - 'NoneType' object has no attribute 'to_header'\n",
      "WARNING:stpipe:'NoneType' object has no attribute 'to_header'\n",
      "WARNING: No spectral axis found; header may be non-compliant. [spectral_cube.cube_utils]\n",
      "WARNING:astropy:No spectral axis found; header may be non-compliant.\n",
      "2021-06-25 16:36:30,296 - stpipe - WARNING - No spectral axis found; header may be non-compliant.\n",
      "WARNING:stpipe:No spectral axis found; header may be non-compliant.\n",
      "WARNING:py.warnings:/Users/ofox/miniconda3/envs/helper/lib/python3.9/site-packages/jdaviz/configs/cubeviz/plugins/parsers.py:105: DeprecationWarning: The 'warn' function is deprecated, use 'warning' instead\n",
      "  logging.warn(e)\n",
      "\n",
      "2021-06-25 16:36:30,299 - stpipe - WARNING - /Users/ofox/miniconda3/envs/helper/lib/python3.9/site-packages/jdaviz/configs/cubeviz/plugins/parsers.py:105: DeprecationWarning: The 'warn' function is deprecated, use 'warning' instead\n",
      "  logging.warn(e)\n",
      "\n",
      "WARNING:stpipe:/Users/ofox/miniconda3/envs/helper/lib/python3.9/site-packages/jdaviz/configs/cubeviz/plugins/parsers.py:105: DeprecationWarning: The 'warn' function is deprecated, use 'warning' instead\n",
      "  logging.warn(e)\n",
      "\n",
      "WARNING:root:'NoneType' object has no attribute 'to_header'\n",
      "2021-06-25 16:36:30,300 - stpipe - WARNING - 'NoneType' object has no attribute 'to_header'\n",
      "WARNING:stpipe:'NoneType' object has no attribute 'to_header'\n",
      "WARNING: No spectral axis found; header may be non-compliant. [spectral_cube.cube_utils]\n",
      "WARNING:astropy:No spectral axis found; header may be non-compliant.\n",
      "2021-06-25 16:36:30,303 - stpipe - WARNING - No spectral axis found; header may be non-compliant.\n",
      "WARNING:stpipe:No spectral axis found; header may be non-compliant.\n",
      "WARNING:py.warnings:/Users/ofox/miniconda3/envs/helper/lib/python3.9/site-packages/jdaviz/configs/cubeviz/plugins/parsers.py:105: DeprecationWarning: The 'warn' function is deprecated, use 'warning' instead\n",
      "  logging.warn(e)\n",
      "\n",
      "2021-06-25 16:36:30,306 - stpipe - WARNING - /Users/ofox/miniconda3/envs/helper/lib/python3.9/site-packages/jdaviz/configs/cubeviz/plugins/parsers.py:105: DeprecationWarning: The 'warn' function is deprecated, use 'warning' instead\n",
      "  logging.warn(e)\n",
      "\n",
      "WARNING:stpipe:/Users/ofox/miniconda3/envs/helper/lib/python3.9/site-packages/jdaviz/configs/cubeviz/plugins/parsers.py:105: DeprecationWarning: The 'warn' function is deprecated, use 'warning' instead\n",
      "  logging.warn(e)\n",
      "\n",
      "WARNING:root:'NoneType' object has no attribute 'to_header'\n",
      "2021-06-25 16:36:30,307 - stpipe - WARNING - 'NoneType' object has no attribute 'to_header'\n",
      "WARNING:stpipe:'NoneType' object has no attribute 'to_header'\n",
      "WARNING: No spectral axis found; header may be non-compliant. [spectral_cube.cube_utils]\n",
      "WARNING:astropy:No spectral axis found; header may be non-compliant.\n",
      "2021-06-25 16:36:30,310 - stpipe - WARNING - No spectral axis found; header may be non-compliant.\n",
      "WARNING:stpipe:No spectral axis found; header may be non-compliant.\n",
      "WARNING:py.warnings:/Users/ofox/miniconda3/envs/helper/lib/python3.9/site-packages/jdaviz/configs/cubeviz/plugins/parsers.py:105: DeprecationWarning: The 'warn' function is deprecated, use 'warning' instead\n",
      "  logging.warn(e)\n",
      "\n",
      "2021-06-25 16:36:30,313 - stpipe - WARNING - /Users/ofox/miniconda3/envs/helper/lib/python3.9/site-packages/jdaviz/configs/cubeviz/plugins/parsers.py:105: DeprecationWarning: The 'warn' function is deprecated, use 'warning' instead\n",
      "  logging.warn(e)\n",
      "\n",
      "WARNING:stpipe:/Users/ofox/miniconda3/envs/helper/lib/python3.9/site-packages/jdaviz/configs/cubeviz/plugins/parsers.py:105: DeprecationWarning: The 'warn' function is deprecated, use 'warning' instead\n",
      "  logging.warn(e)\n",
      "\n",
      "WARNING:root:'NoneType' object has no attribute 'to_header'\n",
      "2021-06-25 16:36:30,314 - stpipe - WARNING - 'NoneType' object has no attribute 'to_header'\n",
      "WARNING:stpipe:'NoneType' object has no attribute 'to_header'\n"
     ]
    }
   ],
   "source": [
    "cubeviz.load_data(cube)"
   ]
  },
  {
   "cell_type": "code",
   "execution_count": 76,
   "metadata": {},
   "outputs": [],
   "source": [
    "from jdaviz import SpecViz\n",
    "specviz = SpecViz()"
   ]
  },
  {
   "cell_type": "code",
   "execution_count": 77,
   "metadata": {},
   "outputs": [
    {
     "data": {
      "application/vnd.jupyter.widget-view+json": {
       "model_id": "c6cc80d69eb941cd8c9570e09d0039e1",
       "version_major": 2,
       "version_minor": 0
      },
      "text/plain": [
       "Application(components={'g-viewer-tab': '<template>\\n  <component :is=\"stack.container\">\\n    <g-viewer-tab\\n …"
      ]
     },
     "metadata": {},
     "output_type": "display_data"
    }
   ],
   "source": [
    "#Level3 All Cube 1D\n",
    "#Developer note: How do you scroll interactingvely with the mouse?\n",
    "specviz.app"
   ]
  },
  {
   "cell_type": "code",
   "execution_count": 78,
   "metadata": {
    "scrolled": true
   },
   "outputs": [],
   "source": [
    "#spectrum = '/Users/ofox/data/jwst/dat_pyinthesky/jdat_notebooks/helper_classes/data/MIRI/MRS/combine_dithers_all_exposures_ch1-medium_x1d.fits'\n",
    "spectrum = download_file('https://data.science.stsci.edu/redirect/JWST/jwst-data_analysis_tools/helper_classes/MIRI/MRS/mirisim/allcube_ch1-2-3-4-shortlongmedium-_x1d.fits')\n",
    "\n",
    "\n",
    "specviz.load_spectrum(spectrum, \"MRS 1D\")"
   ]
  },
  {
   "cell_type": "code",
   "execution_count": 81,
   "metadata": {},
   "outputs": [],
   "source": [
    "#Level 3 Chan Cube\n",
    "cube = download_file('https://data.science.stsci.edu/redirect/JWST/jwst-data_analysis_tools/helper_classes/MIRI/MRS/mirisim/chancube_ch1-longshortmedium-_s3d.fits')"
   ]
  },
  {
   "cell_type": "code",
   "execution_count": 79,
   "metadata": {},
   "outputs": [
    {
     "name": "stderr",
     "output_type": "stream",
     "text": [
      "WARNING:py.warnings:/Users/ofox/miniconda3/envs/helper/lib/python3.9/site-packages/ipykernel/ipkernel.py:287: DeprecationWarning: `should_run_async` will not call `transform_cell` automatically in the future. Please pass the result to `transformed_cell` argument and any exception that happen during thetransform in `preprocessing_exc_tuple` in IPython 7.17 and above.\n",
      "  and should_run_async(code)\n",
      "\n",
      "2021-06-25 16:27:03,409 - stpipe - WARNING - /Users/ofox/miniconda3/envs/helper/lib/python3.9/site-packages/ipykernel/ipkernel.py:287: DeprecationWarning: `should_run_async` will not call `transform_cell` automatically in the future. Please pass the result to `transformed_cell` argument and any exception that happen during thetransform in `preprocessing_exc_tuple` in IPython 7.17 and above.\n",
      "  and should_run_async(code)\n",
      "\n",
      "WARNING:stpipe:/Users/ofox/miniconda3/envs/helper/lib/python3.9/site-packages/ipykernel/ipkernel.py:287: DeprecationWarning: `should_run_async` will not call `transform_cell` automatically in the future. Please pass the result to `transformed_cell` argument and any exception that happen during thetransform in `preprocessing_exc_tuple` in IPython 7.17 and above.\n",
      "  and should_run_async(code)\n",
      "\n",
      "WARNING:py.warnings:/Users/ofox/miniconda3/envs/helper/lib/python3.9/site-packages/ipywidgets/widgets/widget.py:412: DeprecationWarning: Passing unrecognized arguments to super(Figure).__init__(scales={'x': LinearScale(allow_padding=False, max=1.0, min=0.0), 'y': LinearScale(max=1.0, min=0.0)}).\n",
      "object.__init__() takes exactly one argument (the instance to initialize)\n",
      "This is deprecated in traitlets 4.2.This error will be raised in a future release of traitlets.\n",
      "  super(Widget, self).__init__(**kwargs)\n",
      "\n",
      "2021-06-25 16:27:03,545 - stpipe - WARNING - /Users/ofox/miniconda3/envs/helper/lib/python3.9/site-packages/ipywidgets/widgets/widget.py:412: DeprecationWarning: Passing unrecognized arguments to super(Figure).__init__(scales={'x': LinearScale(allow_padding=False, max=1.0, min=0.0), 'y': LinearScale(max=1.0, min=0.0)}).\n",
      "object.__init__() takes exactly one argument (the instance to initialize)\n",
      "This is deprecated in traitlets 4.2.This error will be raised in a future release of traitlets.\n",
      "  super(Widget, self).__init__(**kwargs)\n",
      "\n",
      "WARNING:stpipe:/Users/ofox/miniconda3/envs/helper/lib/python3.9/site-packages/ipywidgets/widgets/widget.py:412: DeprecationWarning: Passing unrecognized arguments to super(Figure).__init__(scales={'x': LinearScale(allow_padding=False, max=1.0, min=0.0), 'y': LinearScale(max=1.0, min=0.0)}).\n",
      "object.__init__() takes exactly one argument (the instance to initialize)\n",
      "This is deprecated in traitlets 4.2.This error will be raised in a future release of traitlets.\n",
      "  super(Widget, self).__init__(**kwargs)\n",
      "\n"
     ]
    },
    {
     "data": {
      "application/vnd.jupyter.widget-view+json": {
       "model_id": "048bc17488b341619cca87323b2944cf",
       "version_major": 2,
       "version_minor": 0
      },
      "text/plain": [
       "Application(components={'g-viewer-tab': '<template>\\n  <component :is=\"stack.container\">\\n    <g-viewer-tab\\n …"
      ]
     },
     "metadata": {},
     "output_type": "display_data"
    }
   ],
   "source": [
    "cubeviz = CubeViz()\n",
    "cubeviz.app"
   ]
  },
  {
   "cell_type": "code",
   "execution_count": 82,
   "metadata": {},
   "outputs": [
    {
     "name": "stderr",
     "output_type": "stream",
     "text": [
      "WARNING: No spectral axis found; header may be non-compliant. [spectral_cube.cube_utils]\n",
      "WARNING:astropy:No spectral axis found; header may be non-compliant.\n",
      "2021-06-25 16:29:00,049 - stpipe - WARNING - No spectral axis found; header may be non-compliant.\n",
      "WARNING:stpipe:No spectral axis found; header may be non-compliant.\n",
      "WARNING: No spectral axis found; header may be non-compliant. [spectral_cube.cube_utils]\n",
      "WARNING:astropy:No spectral axis found; header may be non-compliant.\n",
      "2021-06-25 16:29:00,080 - stpipe - WARNING - No spectral axis found; header may be non-compliant.\n",
      "WARNING:stpipe:No spectral axis found; header may be non-compliant.\n",
      "WARNING: No spectral axis found; header may be non-compliant. [spectral_cube.cube_utils]\n",
      "WARNING:astropy:No spectral axis found; header may be non-compliant.\n",
      "2021-06-25 16:29:00,085 - stpipe - WARNING - No spectral axis found; header may be non-compliant.\n",
      "WARNING:stpipe:No spectral axis found; header may be non-compliant.\n",
      "WARNING:py.warnings:/Users/ofox/miniconda3/envs/helper/lib/python3.9/site-packages/spectral_cube/masks.py:228: DeprecationWarning: `np.float` is a deprecated alias for the builtin `float`. To silence this warning, use `float` by itself. Doing this will not modify any behavior and is safe. If you specifically wanted the numpy scalar type, use `np.float64` here.\n",
      "Deprecated in NumPy 1.20; for more details and guidance: https://numpy.org/devdocs/release/1.20.0-notes.html#deprecations\n",
      "  dt = np.find_common_type([data.dtype], [np.float])\n",
      "\n",
      "2021-06-25 16:29:00,238 - stpipe - WARNING - /Users/ofox/miniconda3/envs/helper/lib/python3.9/site-packages/spectral_cube/masks.py:228: DeprecationWarning: `np.float` is a deprecated alias for the builtin `float`. To silence this warning, use `float` by itself. Doing this will not modify any behavior and is safe. If you specifically wanted the numpy scalar type, use `np.float64` here.\n",
      "Deprecated in NumPy 1.20; for more details and guidance: https://numpy.org/devdocs/release/1.20.0-notes.html#deprecations\n",
      "  dt = np.find_common_type([data.dtype], [np.float])\n",
      "\n",
      "WARNING:stpipe:/Users/ofox/miniconda3/envs/helper/lib/python3.9/site-packages/spectral_cube/masks.py:228: DeprecationWarning: `np.float` is a deprecated alias for the builtin `float`. To silence this warning, use `float` by itself. Doing this will not modify any behavior and is safe. If you specifically wanted the numpy scalar type, use `np.float64` here.\n",
      "Deprecated in NumPy 1.20; for more details and guidance: https://numpy.org/devdocs/release/1.20.0-notes.html#deprecations\n",
      "  dt = np.find_common_type([data.dtype], [np.float])\n",
      "\n",
      "WARNING:py.warnings:/Users/ofox/miniconda3/envs/helper/lib/python3.9/site-packages/spectral_cube/wcs_utils.py:395: DeprecationWarning: `np.float` is a deprecated alias for the builtin `float`. To silence this warning, use `float` by itself. Doing this will not modify any behavior and is safe. If you specifically wanted the numpy scalar type, use `np.float64` here.\n",
      "Deprecated in NumPy 1.20; for more details and guidance: https://numpy.org/devdocs/release/1.20.0-notes.html#deprecations\n",
      "  elif isinstance(c1[1], (float, np.float)):\n",
      "\n",
      "2021-06-25 16:29:00,324 - stpipe - WARNING - /Users/ofox/miniconda3/envs/helper/lib/python3.9/site-packages/spectral_cube/wcs_utils.py:395: DeprecationWarning: `np.float` is a deprecated alias for the builtin `float`. To silence this warning, use `float` by itself. Doing this will not modify any behavior and is safe. If you specifically wanted the numpy scalar type, use `np.float64` here.\n",
      "Deprecated in NumPy 1.20; for more details and guidance: https://numpy.org/devdocs/release/1.20.0-notes.html#deprecations\n",
      "  elif isinstance(c1[1], (float, np.float)):\n",
      "\n",
      "WARNING:stpipe:/Users/ofox/miniconda3/envs/helper/lib/python3.9/site-packages/spectral_cube/wcs_utils.py:395: DeprecationWarning: `np.float` is a deprecated alias for the builtin `float`. To silence this warning, use `float` by itself. Doing this will not modify any behavior and is safe. If you specifically wanted the numpy scalar type, use `np.float64` here.\n",
      "Deprecated in NumPy 1.20; for more details and guidance: https://numpy.org/devdocs/release/1.20.0-notes.html#deprecations\n",
      "  elif isinstance(c1[1], (float, np.float)):\n",
      "\n",
      "WARNING:py.warnings:/Users/ofox/miniconda3/envs/helper/lib/python3.9/site-packages/jdaviz/configs/cubeviz/plugins/parsers.py:114: DeprecationWarning: `np.int` is a deprecated alias for the builtin `int`. To silence this warning, use `int` by itself. Doing this will not modify any behavior and is safe. When replacing `np.int`, you may wish to use e.g. `np.int64` or `np.int32` to specify the precision. If you wish to review your current use, check the release note link for additional information.\n",
      "Deprecated in NumPy 1.20; for more details and guidance: https://numpy.org/devdocs/release/1.20.0-notes.html#deprecations\n",
      "  if hdu.data.dtype in (np.int, np.uint, np.uint32) or \\\n",
      "\n",
      "2021-06-25 16:29:00,398 - stpipe - WARNING - /Users/ofox/miniconda3/envs/helper/lib/python3.9/site-packages/jdaviz/configs/cubeviz/plugins/parsers.py:114: DeprecationWarning: `np.int` is a deprecated alias for the builtin `int`. To silence this warning, use `int` by itself. Doing this will not modify any behavior and is safe. When replacing `np.int`, you may wish to use e.g. `np.int64` or `np.int32` to specify the precision. If you wish to review your current use, check the release note link for additional information.\n",
      "Deprecated in NumPy 1.20; for more details and guidance: https://numpy.org/devdocs/release/1.20.0-notes.html#deprecations\n",
      "  if hdu.data.dtype in (np.int, np.uint, np.uint32) or \\\n",
      "\n",
      "WARNING:stpipe:/Users/ofox/miniconda3/envs/helper/lib/python3.9/site-packages/jdaviz/configs/cubeviz/plugins/parsers.py:114: DeprecationWarning: `np.int` is a deprecated alias for the builtin `int`. To silence this warning, use `int` by itself. Doing this will not modify any behavior and is safe. When replacing `np.int`, you may wish to use e.g. `np.int64` or `np.int32` to specify the precision. If you wish to review your current use, check the release note link for additional information.\n",
      "Deprecated in NumPy 1.20; for more details and guidance: https://numpy.org/devdocs/release/1.20.0-notes.html#deprecations\n",
      "  if hdu.data.dtype in (np.int, np.uint, np.uint32) or \\\n",
      "\n",
      "WARNING:py.warnings:/Users/ofox/miniconda3/envs/helper/lib/python3.9/site-packages/glue/core/component.py:96: DeprecationWarning: `np.complex` is a deprecated alias for the builtin `complex`. To silence this warning, use `complex` by itself. Doing this will not modify any behavior and is safe. If you specifically wanted the numpy scalar type, use `np.complex128` here.\n",
      "Deprecated in NumPy 1.20; for more details and guidance: https://numpy.org/devdocs/release/1.20.0-notes.html#deprecations\n",
      "  return np.can_cast(self[(0,) * self.ndim].dtype, np.complex)\n",
      "\n",
      "2021-06-25 16:29:00,414 - stpipe - WARNING - /Users/ofox/miniconda3/envs/helper/lib/python3.9/site-packages/glue/core/component.py:96: DeprecationWarning: `np.complex` is a deprecated alias for the builtin `complex`. To silence this warning, use `complex` by itself. Doing this will not modify any behavior and is safe. If you specifically wanted the numpy scalar type, use `np.complex128` here.\n",
      "Deprecated in NumPy 1.20; for more details and guidance: https://numpy.org/devdocs/release/1.20.0-notes.html#deprecations\n",
      "  return np.can_cast(self[(0,) * self.ndim].dtype, np.complex)\n",
      "\n",
      "WARNING:stpipe:/Users/ofox/miniconda3/envs/helper/lib/python3.9/site-packages/glue/core/component.py:96: DeprecationWarning: `np.complex` is a deprecated alias for the builtin `complex`. To silence this warning, use `complex` by itself. Doing this will not modify any behavior and is safe. If you specifically wanted the numpy scalar type, use `np.complex128` here.\n",
      "Deprecated in NumPy 1.20; for more details and guidance: https://numpy.org/devdocs/release/1.20.0-notes.html#deprecations\n",
      "  return np.can_cast(self[(0,) * self.ndim].dtype, np.complex)\n",
      "\n",
      "WARNING:py.warnings:/Users/ofox/miniconda3/envs/helper/lib/python3.9/site-packages/glue/core/component.py:96: DeprecationWarning: `np.complex` is a deprecated alias for the builtin `complex`. To silence this warning, use `complex` by itself. Doing this will not modify any behavior and is safe. If you specifically wanted the numpy scalar type, use `np.complex128` here.\n",
      "Deprecated in NumPy 1.20; for more details and guidance: https://numpy.org/devdocs/release/1.20.0-notes.html#deprecations\n",
      "  return np.can_cast(self[(0,) * self.ndim].dtype, np.complex)\n",
      "\n"
     ]
    },
    {
     "name": "stderr",
     "output_type": "stream",
     "text": [
      "2021-06-25 16:29:00,418 - stpipe - WARNING - /Users/ofox/miniconda3/envs/helper/lib/python3.9/site-packages/glue/core/component.py:96: DeprecationWarning: `np.complex` is a deprecated alias for the builtin `complex`. To silence this warning, use `complex` by itself. Doing this will not modify any behavior and is safe. If you specifically wanted the numpy scalar type, use `np.complex128` here.\n",
      "Deprecated in NumPy 1.20; for more details and guidance: https://numpy.org/devdocs/release/1.20.0-notes.html#deprecations\n",
      "  return np.can_cast(self[(0,) * self.ndim].dtype, np.complex)\n",
      "\n",
      "WARNING:stpipe:/Users/ofox/miniconda3/envs/helper/lib/python3.9/site-packages/glue/core/component.py:96: DeprecationWarning: `np.complex` is a deprecated alias for the builtin `complex`. To silence this warning, use `complex` by itself. Doing this will not modify any behavior and is safe. If you specifically wanted the numpy scalar type, use `np.complex128` here.\n",
      "Deprecated in NumPy 1.20; for more details and guidance: https://numpy.org/devdocs/release/1.20.0-notes.html#deprecations\n",
      "  return np.can_cast(self[(0,) * self.ndim].dtype, np.complex)\n",
      "\n",
      "WARNING:py.warnings:/Users/ofox/miniconda3/envs/helper/lib/python3.9/site-packages/glue/core/component.py:96: DeprecationWarning: `np.complex` is a deprecated alias for the builtin `complex`. To silence this warning, use `complex` by itself. Doing this will not modify any behavior and is safe. If you specifically wanted the numpy scalar type, use `np.complex128` here.\n",
      "Deprecated in NumPy 1.20; for more details and guidance: https://numpy.org/devdocs/release/1.20.0-notes.html#deprecations\n",
      "  return np.can_cast(self[(0,) * self.ndim].dtype, np.complex)\n",
      "\n",
      "2021-06-25 16:29:00,422 - stpipe - WARNING - /Users/ofox/miniconda3/envs/helper/lib/python3.9/site-packages/glue/core/component.py:96: DeprecationWarning: `np.complex` is a deprecated alias for the builtin `complex`. To silence this warning, use `complex` by itself. Doing this will not modify any behavior and is safe. If you specifically wanted the numpy scalar type, use `np.complex128` here.\n",
      "Deprecated in NumPy 1.20; for more details and guidance: https://numpy.org/devdocs/release/1.20.0-notes.html#deprecations\n",
      "  return np.can_cast(self[(0,) * self.ndim].dtype, np.complex)\n",
      "\n",
      "WARNING:stpipe:/Users/ofox/miniconda3/envs/helper/lib/python3.9/site-packages/glue/core/component.py:96: DeprecationWarning: `np.complex` is a deprecated alias for the builtin `complex`. To silence this warning, use `complex` by itself. Doing this will not modify any behavior and is safe. If you specifically wanted the numpy scalar type, use `np.complex128` here.\n",
      "Deprecated in NumPy 1.20; for more details and guidance: https://numpy.org/devdocs/release/1.20.0-notes.html#deprecations\n",
      "  return np.can_cast(self[(0,) * self.ndim].dtype, np.complex)\n",
      "\n",
      "WARNING: No spectral axis found; header may be non-compliant. [spectral_cube.cube_utils]\n",
      "WARNING:astropy:No spectral axis found; header may be non-compliant.\n",
      "2021-06-25 16:29:00,779 - stpipe - WARNING - No spectral axis found; header may be non-compliant.\n",
      "WARNING:stpipe:No spectral axis found; header may be non-compliant.\n",
      "WARNING:py.warnings:/Users/ofox/miniconda3/envs/helper/lib/python3.9/site-packages/spectral_cube/masks.py:228: DeprecationWarning: `np.float` is a deprecated alias for the builtin `float`. To silence this warning, use `float` by itself. Doing this will not modify any behavior and is safe. If you specifically wanted the numpy scalar type, use `np.float64` here.\n",
      "Deprecated in NumPy 1.20; for more details and guidance: https://numpy.org/devdocs/release/1.20.0-notes.html#deprecations\n",
      "  dt = np.find_common_type([data.dtype], [np.float])\n",
      "\n",
      "2021-06-25 16:29:00,805 - stpipe - WARNING - /Users/ofox/miniconda3/envs/helper/lib/python3.9/site-packages/spectral_cube/masks.py:228: DeprecationWarning: `np.float` is a deprecated alias for the builtin `float`. To silence this warning, use `float` by itself. Doing this will not modify any behavior and is safe. If you specifically wanted the numpy scalar type, use `np.float64` here.\n",
      "Deprecated in NumPy 1.20; for more details and guidance: https://numpy.org/devdocs/release/1.20.0-notes.html#deprecations\n",
      "  dt = np.find_common_type([data.dtype], [np.float])\n",
      "\n",
      "WARNING:stpipe:/Users/ofox/miniconda3/envs/helper/lib/python3.9/site-packages/spectral_cube/masks.py:228: DeprecationWarning: `np.float` is a deprecated alias for the builtin `float`. To silence this warning, use `float` by itself. Doing this will not modify any behavior and is safe. If you specifically wanted the numpy scalar type, use `np.float64` here.\n",
      "Deprecated in NumPy 1.20; for more details and guidance: https://numpy.org/devdocs/release/1.20.0-notes.html#deprecations\n",
      "  dt = np.find_common_type([data.dtype], [np.float])\n",
      "\n",
      "WARNING:py.warnings:/Users/ofox/miniconda3/envs/helper/lib/python3.9/site-packages/spectral_cube/wcs_utils.py:395: DeprecationWarning: `np.float` is a deprecated alias for the builtin `float`. To silence this warning, use `float` by itself. Doing this will not modify any behavior and is safe. If you specifically wanted the numpy scalar type, use `np.float64` here.\n",
      "Deprecated in NumPy 1.20; for more details and guidance: https://numpy.org/devdocs/release/1.20.0-notes.html#deprecations\n",
      "  elif isinstance(c1[1], (float, np.float)):\n",
      "\n",
      "2021-06-25 16:29:00,867 - stpipe - WARNING - /Users/ofox/miniconda3/envs/helper/lib/python3.9/site-packages/spectral_cube/wcs_utils.py:395: DeprecationWarning: `np.float` is a deprecated alias for the builtin `float`. To silence this warning, use `float` by itself. Doing this will not modify any behavior and is safe. If you specifically wanted the numpy scalar type, use `np.float64` here.\n",
      "Deprecated in NumPy 1.20; for more details and guidance: https://numpy.org/devdocs/release/1.20.0-notes.html#deprecations\n",
      "  elif isinstance(c1[1], (float, np.float)):\n",
      "\n",
      "WARNING:stpipe:/Users/ofox/miniconda3/envs/helper/lib/python3.9/site-packages/spectral_cube/wcs_utils.py:395: DeprecationWarning: `np.float` is a deprecated alias for the builtin `float`. To silence this warning, use `float` by itself. Doing this will not modify any behavior and is safe. If you specifically wanted the numpy scalar type, use `np.float64` here.\n",
      "Deprecated in NumPy 1.20; for more details and guidance: https://numpy.org/devdocs/release/1.20.0-notes.html#deprecations\n",
      "  elif isinstance(c1[1], (float, np.float)):\n",
      "\n",
      "WARNING:py.warnings:/Users/ofox/miniconda3/envs/helper/lib/python3.9/site-packages/jdaviz/configs/cubeviz/plugins/parsers.py:114: DeprecationWarning: `np.int` is a deprecated alias for the builtin `int`. To silence this warning, use `int` by itself. Doing this will not modify any behavior and is safe. When replacing `np.int`, you may wish to use e.g. `np.int64` or `np.int32` to specify the precision. If you wish to review your current use, check the release note link for additional information.\n",
      "Deprecated in NumPy 1.20; for more details and guidance: https://numpy.org/devdocs/release/1.20.0-notes.html#deprecations\n",
      "  if hdu.data.dtype in (np.int, np.uint, np.uint32) or \\\n",
      "\n",
      "2021-06-25 16:29:00,957 - stpipe - WARNING - /Users/ofox/miniconda3/envs/helper/lib/python3.9/site-packages/jdaviz/configs/cubeviz/plugins/parsers.py:114: DeprecationWarning: `np.int` is a deprecated alias for the builtin `int`. To silence this warning, use `int` by itself. Doing this will not modify any behavior and is safe. When replacing `np.int`, you may wish to use e.g. `np.int64` or `np.int32` to specify the precision. If you wish to review your current use, check the release note link for additional information.\n",
      "Deprecated in NumPy 1.20; for more details and guidance: https://numpy.org/devdocs/release/1.20.0-notes.html#deprecations\n",
      "  if hdu.data.dtype in (np.int, np.uint, np.uint32) or \\\n",
      "\n",
      "WARNING:stpipe:/Users/ofox/miniconda3/envs/helper/lib/python3.9/site-packages/jdaviz/configs/cubeviz/plugins/parsers.py:114: DeprecationWarning: `np.int` is a deprecated alias for the builtin `int`. To silence this warning, use `int` by itself. Doing this will not modify any behavior and is safe. When replacing `np.int`, you may wish to use e.g. `np.int64` or `np.int32` to specify the precision. If you wish to review your current use, check the release note link for additional information.\n",
      "Deprecated in NumPy 1.20; for more details and guidance: https://numpy.org/devdocs/release/1.20.0-notes.html#deprecations\n",
      "  if hdu.data.dtype in (np.int, np.uint, np.uint32) or \\\n",
      "\n"
     ]
    },
    {
     "name": "stderr",
     "output_type": "stream",
     "text": [
      "WARNING:py.warnings:/Users/ofox/miniconda3/envs/helper/lib/python3.9/site-packages/glue/core/component.py:96: DeprecationWarning: `np.complex` is a deprecated alias for the builtin `complex`. To silence this warning, use `complex` by itself. Doing this will not modify any behavior and is safe. If you specifically wanted the numpy scalar type, use `np.complex128` here.\n",
      "Deprecated in NumPy 1.20; for more details and guidance: https://numpy.org/devdocs/release/1.20.0-notes.html#deprecations\n",
      "  return np.can_cast(self[(0,) * self.ndim].dtype, np.complex)\n",
      "\n",
      "2021-06-25 16:29:00,972 - stpipe - WARNING - /Users/ofox/miniconda3/envs/helper/lib/python3.9/site-packages/glue/core/component.py:96: DeprecationWarning: `np.complex` is a deprecated alias for the builtin `complex`. To silence this warning, use `complex` by itself. Doing this will not modify any behavior and is safe. If you specifically wanted the numpy scalar type, use `np.complex128` here.\n",
      "Deprecated in NumPy 1.20; for more details and guidance: https://numpy.org/devdocs/release/1.20.0-notes.html#deprecations\n",
      "  return np.can_cast(self[(0,) * self.ndim].dtype, np.complex)\n",
      "\n",
      "WARNING:stpipe:/Users/ofox/miniconda3/envs/helper/lib/python3.9/site-packages/glue/core/component.py:96: DeprecationWarning: `np.complex` is a deprecated alias for the builtin `complex`. To silence this warning, use `complex` by itself. Doing this will not modify any behavior and is safe. If you specifically wanted the numpy scalar type, use `np.complex128` here.\n",
      "Deprecated in NumPy 1.20; for more details and guidance: https://numpy.org/devdocs/release/1.20.0-notes.html#deprecations\n",
      "  return np.can_cast(self[(0,) * self.ndim].dtype, np.complex)\n",
      "\n",
      "WARNING:py.warnings:/Users/ofox/miniconda3/envs/helper/lib/python3.9/site-packages/glue/core/component.py:96: DeprecationWarning: `np.complex` is a deprecated alias for the builtin `complex`. To silence this warning, use `complex` by itself. Doing this will not modify any behavior and is safe. If you specifically wanted the numpy scalar type, use `np.complex128` here.\n",
      "Deprecated in NumPy 1.20; for more details and guidance: https://numpy.org/devdocs/release/1.20.0-notes.html#deprecations\n",
      "  return np.can_cast(self[(0,) * self.ndim].dtype, np.complex)\n",
      "\n",
      "2021-06-25 16:29:00,976 - stpipe - WARNING - /Users/ofox/miniconda3/envs/helper/lib/python3.9/site-packages/glue/core/component.py:96: DeprecationWarning: `np.complex` is a deprecated alias for the builtin `complex`. To silence this warning, use `complex` by itself. Doing this will not modify any behavior and is safe. If you specifically wanted the numpy scalar type, use `np.complex128` here.\n",
      "Deprecated in NumPy 1.20; for more details and guidance: https://numpy.org/devdocs/release/1.20.0-notes.html#deprecations\n",
      "  return np.can_cast(self[(0,) * self.ndim].dtype, np.complex)\n",
      "\n",
      "WARNING:stpipe:/Users/ofox/miniconda3/envs/helper/lib/python3.9/site-packages/glue/core/component.py:96: DeprecationWarning: `np.complex` is a deprecated alias for the builtin `complex`. To silence this warning, use `complex` by itself. Doing this will not modify any behavior and is safe. If you specifically wanted the numpy scalar type, use `np.complex128` here.\n",
      "Deprecated in NumPy 1.20; for more details and guidance: https://numpy.org/devdocs/release/1.20.0-notes.html#deprecations\n",
      "  return np.can_cast(self[(0,) * self.ndim].dtype, np.complex)\n",
      "\n",
      "WARNING:py.warnings:/Users/ofox/miniconda3/envs/helper/lib/python3.9/site-packages/glue/core/component.py:96: DeprecationWarning: `np.complex` is a deprecated alias for the builtin `complex`. To silence this warning, use `complex` by itself. Doing this will not modify any behavior and is safe. If you specifically wanted the numpy scalar type, use `np.complex128` here.\n",
      "Deprecated in NumPy 1.20; for more details and guidance: https://numpy.org/devdocs/release/1.20.0-notes.html#deprecations\n",
      "  return np.can_cast(self[(0,) * self.ndim].dtype, np.complex)\n",
      "\n",
      "2021-06-25 16:29:00,980 - stpipe - WARNING - /Users/ofox/miniconda3/envs/helper/lib/python3.9/site-packages/glue/core/component.py:96: DeprecationWarning: `np.complex` is a deprecated alias for the builtin `complex`. To silence this warning, use `complex` by itself. Doing this will not modify any behavior and is safe. If you specifically wanted the numpy scalar type, use `np.complex128` here.\n",
      "Deprecated in NumPy 1.20; for more details and guidance: https://numpy.org/devdocs/release/1.20.0-notes.html#deprecations\n",
      "  return np.can_cast(self[(0,) * self.ndim].dtype, np.complex)\n",
      "\n",
      "WARNING:stpipe:/Users/ofox/miniconda3/envs/helper/lib/python3.9/site-packages/glue/core/component.py:96: DeprecationWarning: `np.complex` is a deprecated alias for the builtin `complex`. To silence this warning, use `complex` by itself. Doing this will not modify any behavior and is safe. If you specifically wanted the numpy scalar type, use `np.complex128` here.\n",
      "Deprecated in NumPy 1.20; for more details and guidance: https://numpy.org/devdocs/release/1.20.0-notes.html#deprecations\n",
      "  return np.can_cast(self[(0,) * self.ndim].dtype, np.complex)\n",
      "\n",
      "WARNING: No spectral axis found; header may be non-compliant. [spectral_cube.cube_utils]\n",
      "WARNING:astropy:No spectral axis found; header may be non-compliant.\n",
      "2021-06-25 16:29:01,055 - stpipe - WARNING - No spectral axis found; header may be non-compliant.\n",
      "WARNING:stpipe:No spectral axis found; header may be non-compliant.\n",
      "WARNING:py.warnings:/Users/ofox/miniconda3/envs/helper/lib/python3.9/site-packages/spectral_cube/masks.py:228: DeprecationWarning: `np.float` is a deprecated alias for the builtin `float`. To silence this warning, use `float` by itself. Doing this will not modify any behavior and is safe. If you specifically wanted the numpy scalar type, use `np.float64` here.\n",
      "Deprecated in NumPy 1.20; for more details and guidance: https://numpy.org/devdocs/release/1.20.0-notes.html#deprecations\n",
      "  dt = np.find_common_type([data.dtype], [np.float])\n",
      "\n",
      "2021-06-25 16:29:01,082 - stpipe - WARNING - /Users/ofox/miniconda3/envs/helper/lib/python3.9/site-packages/spectral_cube/masks.py:228: DeprecationWarning: `np.float` is a deprecated alias for the builtin `float`. To silence this warning, use `float` by itself. Doing this will not modify any behavior and is safe. If you specifically wanted the numpy scalar type, use `np.float64` here.\n",
      "Deprecated in NumPy 1.20; for more details and guidance: https://numpy.org/devdocs/release/1.20.0-notes.html#deprecations\n",
      "  dt = np.find_common_type([data.dtype], [np.float])\n",
      "\n",
      "WARNING:stpipe:/Users/ofox/miniconda3/envs/helper/lib/python3.9/site-packages/spectral_cube/masks.py:228: DeprecationWarning: `np.float` is a deprecated alias for the builtin `float`. To silence this warning, use `float` by itself. Doing this will not modify any behavior and is safe. If you specifically wanted the numpy scalar type, use `np.float64` here.\n",
      "Deprecated in NumPy 1.20; for more details and guidance: https://numpy.org/devdocs/release/1.20.0-notes.html#deprecations\n",
      "  dt = np.find_common_type([data.dtype], [np.float])\n",
      "\n",
      "WARNING:py.warnings:/Users/ofox/miniconda3/envs/helper/lib/python3.9/site-packages/spectral_cube/wcs_utils.py:395: DeprecationWarning: `np.float` is a deprecated alias for the builtin `float`. To silence this warning, use `float` by itself. Doing this will not modify any behavior and is safe. If you specifically wanted the numpy scalar type, use `np.float64` here.\n",
      "Deprecated in NumPy 1.20; for more details and guidance: https://numpy.org/devdocs/release/1.20.0-notes.html#deprecations\n",
      "  elif isinstance(c1[1], (float, np.float)):\n",
      "\n",
      "2021-06-25 16:29:01,093 - stpipe - WARNING - /Users/ofox/miniconda3/envs/helper/lib/python3.9/site-packages/spectral_cube/wcs_utils.py:395: DeprecationWarning: `np.float` is a deprecated alias for the builtin `float`. To silence this warning, use `float` by itself. Doing this will not modify any behavior and is safe. If you specifically wanted the numpy scalar type, use `np.float64` here.\n",
      "Deprecated in NumPy 1.20; for more details and guidance: https://numpy.org/devdocs/release/1.20.0-notes.html#deprecations\n",
      "  elif isinstance(c1[1], (float, np.float)):\n",
      "\n",
      "WARNING:stpipe:/Users/ofox/miniconda3/envs/helper/lib/python3.9/site-packages/spectral_cube/wcs_utils.py:395: DeprecationWarning: `np.float` is a deprecated alias for the builtin `float`. To silence this warning, use `float` by itself. Doing this will not modify any behavior and is safe. If you specifically wanted the numpy scalar type, use `np.float64` here.\n",
      "Deprecated in NumPy 1.20; for more details and guidance: https://numpy.org/devdocs/release/1.20.0-notes.html#deprecations\n",
      "  elif isinstance(c1[1], (float, np.float)):\n",
      "\n"
     ]
    },
    {
     "name": "stderr",
     "output_type": "stream",
     "text": [
      "WARNING:py.warnings:/Users/ofox/miniconda3/envs/helper/lib/python3.9/site-packages/jdaviz/configs/cubeviz/plugins/parsers.py:114: DeprecationWarning: `np.int` is a deprecated alias for the builtin `int`. To silence this warning, use `int` by itself. Doing this will not modify any behavior and is safe. When replacing `np.int`, you may wish to use e.g. `np.int64` or `np.int32` to specify the precision. If you wish to review your current use, check the release note link for additional information.\n",
      "Deprecated in NumPy 1.20; for more details and guidance: https://numpy.org/devdocs/release/1.20.0-notes.html#deprecations\n",
      "  if hdu.data.dtype in (np.int, np.uint, np.uint32) or \\\n",
      "\n",
      "2021-06-25 16:29:01,227 - stpipe - WARNING - /Users/ofox/miniconda3/envs/helper/lib/python3.9/site-packages/jdaviz/configs/cubeviz/plugins/parsers.py:114: DeprecationWarning: `np.int` is a deprecated alias for the builtin `int`. To silence this warning, use `int` by itself. Doing this will not modify any behavior and is safe. When replacing `np.int`, you may wish to use e.g. `np.int64` or `np.int32` to specify the precision. If you wish to review your current use, check the release note link for additional information.\n",
      "Deprecated in NumPy 1.20; for more details and guidance: https://numpy.org/devdocs/release/1.20.0-notes.html#deprecations\n",
      "  if hdu.data.dtype in (np.int, np.uint, np.uint32) or \\\n",
      "\n",
      "WARNING:stpipe:/Users/ofox/miniconda3/envs/helper/lib/python3.9/site-packages/jdaviz/configs/cubeviz/plugins/parsers.py:114: DeprecationWarning: `np.int` is a deprecated alias for the builtin `int`. To silence this warning, use `int` by itself. Doing this will not modify any behavior and is safe. When replacing `np.int`, you may wish to use e.g. `np.int64` or `np.int32` to specify the precision. If you wish to review your current use, check the release note link for additional information.\n",
      "Deprecated in NumPy 1.20; for more details and guidance: https://numpy.org/devdocs/release/1.20.0-notes.html#deprecations\n",
      "  if hdu.data.dtype in (np.int, np.uint, np.uint32) or \\\n",
      "\n",
      "WARNING:py.warnings:/Users/ofox/miniconda3/envs/helper/lib/python3.9/site-packages/glue/core/component.py:96: DeprecationWarning: `np.complex` is a deprecated alias for the builtin `complex`. To silence this warning, use `complex` by itself. Doing this will not modify any behavior and is safe. If you specifically wanted the numpy scalar type, use `np.complex128` here.\n",
      "Deprecated in NumPy 1.20; for more details and guidance: https://numpy.org/devdocs/release/1.20.0-notes.html#deprecations\n",
      "  return np.can_cast(self[(0,) * self.ndim].dtype, np.complex)\n",
      "\n",
      "2021-06-25 16:29:01,243 - stpipe - WARNING - /Users/ofox/miniconda3/envs/helper/lib/python3.9/site-packages/glue/core/component.py:96: DeprecationWarning: `np.complex` is a deprecated alias for the builtin `complex`. To silence this warning, use `complex` by itself. Doing this will not modify any behavior and is safe. If you specifically wanted the numpy scalar type, use `np.complex128` here.\n",
      "Deprecated in NumPy 1.20; for more details and guidance: https://numpy.org/devdocs/release/1.20.0-notes.html#deprecations\n",
      "  return np.can_cast(self[(0,) * self.ndim].dtype, np.complex)\n",
      "\n",
      "WARNING:stpipe:/Users/ofox/miniconda3/envs/helper/lib/python3.9/site-packages/glue/core/component.py:96: DeprecationWarning: `np.complex` is a deprecated alias for the builtin `complex`. To silence this warning, use `complex` by itself. Doing this will not modify any behavior and is safe. If you specifically wanted the numpy scalar type, use `np.complex128` here.\n",
      "Deprecated in NumPy 1.20; for more details and guidance: https://numpy.org/devdocs/release/1.20.0-notes.html#deprecations\n",
      "  return np.can_cast(self[(0,) * self.ndim].dtype, np.complex)\n",
      "\n",
      "WARNING:py.warnings:/Users/ofox/miniconda3/envs/helper/lib/python3.9/site-packages/glue/core/component.py:96: DeprecationWarning: `np.complex` is a deprecated alias for the builtin `complex`. To silence this warning, use `complex` by itself. Doing this will not modify any behavior and is safe. If you specifically wanted the numpy scalar type, use `np.complex128` here.\n",
      "Deprecated in NumPy 1.20; for more details and guidance: https://numpy.org/devdocs/release/1.20.0-notes.html#deprecations\n",
      "  return np.can_cast(self[(0,) * self.ndim].dtype, np.complex)\n",
      "\n",
      "2021-06-25 16:29:01,248 - stpipe - WARNING - /Users/ofox/miniconda3/envs/helper/lib/python3.9/site-packages/glue/core/component.py:96: DeprecationWarning: `np.complex` is a deprecated alias for the builtin `complex`. To silence this warning, use `complex` by itself. Doing this will not modify any behavior and is safe. If you specifically wanted the numpy scalar type, use `np.complex128` here.\n",
      "Deprecated in NumPy 1.20; for more details and guidance: https://numpy.org/devdocs/release/1.20.0-notes.html#deprecations\n",
      "  return np.can_cast(self[(0,) * self.ndim].dtype, np.complex)\n",
      "\n",
      "WARNING:stpipe:/Users/ofox/miniconda3/envs/helper/lib/python3.9/site-packages/glue/core/component.py:96: DeprecationWarning: `np.complex` is a deprecated alias for the builtin `complex`. To silence this warning, use `complex` by itself. Doing this will not modify any behavior and is safe. If you specifically wanted the numpy scalar type, use `np.complex128` here.\n",
      "Deprecated in NumPy 1.20; for more details and guidance: https://numpy.org/devdocs/release/1.20.0-notes.html#deprecations\n",
      "  return np.can_cast(self[(0,) * self.ndim].dtype, np.complex)\n",
      "\n",
      "WARNING:py.warnings:/Users/ofox/miniconda3/envs/helper/lib/python3.9/site-packages/glue/core/component.py:96: DeprecationWarning: `np.complex` is a deprecated alias for the builtin `complex`. To silence this warning, use `complex` by itself. Doing this will not modify any behavior and is safe. If you specifically wanted the numpy scalar type, use `np.complex128` here.\n",
      "Deprecated in NumPy 1.20; for more details and guidance: https://numpy.org/devdocs/release/1.20.0-notes.html#deprecations\n",
      "  return np.can_cast(self[(0,) * self.ndim].dtype, np.complex)\n",
      "\n",
      "2021-06-25 16:29:01,252 - stpipe - WARNING - /Users/ofox/miniconda3/envs/helper/lib/python3.9/site-packages/glue/core/component.py:96: DeprecationWarning: `np.complex` is a deprecated alias for the builtin `complex`. To silence this warning, use `complex` by itself. Doing this will not modify any behavior and is safe. If you specifically wanted the numpy scalar type, use `np.complex128` here.\n",
      "Deprecated in NumPy 1.20; for more details and guidance: https://numpy.org/devdocs/release/1.20.0-notes.html#deprecations\n",
      "  return np.can_cast(self[(0,) * self.ndim].dtype, np.complex)\n",
      "\n",
      "WARNING:stpipe:/Users/ofox/miniconda3/envs/helper/lib/python3.9/site-packages/glue/core/component.py:96: DeprecationWarning: `np.complex` is a deprecated alias for the builtin `complex`. To silence this warning, use `complex` by itself. Doing this will not modify any behavior and is safe. If you specifically wanted the numpy scalar type, use `np.complex128` here.\n",
      "Deprecated in NumPy 1.20; for more details and guidance: https://numpy.org/devdocs/release/1.20.0-notes.html#deprecations\n",
      "  return np.can_cast(self[(0,) * self.ndim].dtype, np.complex)\n",
      "\n",
      "WARNING: No spectral axis found; header may be non-compliant. [spectral_cube.cube_utils]\n",
      "WARNING:astropy:No spectral axis found; header may be non-compliant.\n",
      "2021-06-25 16:29:01,328 - stpipe - WARNING - No spectral axis found; header may be non-compliant.\n",
      "WARNING:stpipe:No spectral axis found; header may be non-compliant.\n",
      "WARNING:py.warnings:/Users/ofox/miniconda3/envs/helper/lib/python3.9/site-packages/spectral_cube/masks.py:228: DeprecationWarning: `np.float` is a deprecated alias for the builtin `float`. To silence this warning, use `float` by itself. Doing this will not modify any behavior and is safe. If you specifically wanted the numpy scalar type, use `np.float64` here.\n",
      "Deprecated in NumPy 1.20; for more details and guidance: https://numpy.org/devdocs/release/1.20.0-notes.html#deprecations\n",
      "  dt = np.find_common_type([data.dtype], [np.float])\n",
      "\n",
      "2021-06-25 16:29:01,351 - stpipe - WARNING - /Users/ofox/miniconda3/envs/helper/lib/python3.9/site-packages/spectral_cube/masks.py:228: DeprecationWarning: `np.float` is a deprecated alias for the builtin `float`. To silence this warning, use `float` by itself. Doing this will not modify any behavior and is safe. If you specifically wanted the numpy scalar type, use `np.float64` here.\n",
      "Deprecated in NumPy 1.20; for more details and guidance: https://numpy.org/devdocs/release/1.20.0-notes.html#deprecations\n",
      "  dt = np.find_common_type([data.dtype], [np.float])\n",
      "\n"
     ]
    },
    {
     "name": "stderr",
     "output_type": "stream",
     "text": [
      "WARNING:stpipe:/Users/ofox/miniconda3/envs/helper/lib/python3.9/site-packages/spectral_cube/masks.py:228: DeprecationWarning: `np.float` is a deprecated alias for the builtin `float`. To silence this warning, use `float` by itself. Doing this will not modify any behavior and is safe. If you specifically wanted the numpy scalar type, use `np.float64` here.\n",
      "Deprecated in NumPy 1.20; for more details and guidance: https://numpy.org/devdocs/release/1.20.0-notes.html#deprecations\n",
      "  dt = np.find_common_type([data.dtype], [np.float])\n",
      "\n",
      "WARNING:py.warnings:/Users/ofox/miniconda3/envs/helper/lib/python3.9/site-packages/spectral_cube/wcs_utils.py:395: DeprecationWarning: `np.float` is a deprecated alias for the builtin `float`. To silence this warning, use `float` by itself. Doing this will not modify any behavior and is safe. If you specifically wanted the numpy scalar type, use `np.float64` here.\n",
      "Deprecated in NumPy 1.20; for more details and guidance: https://numpy.org/devdocs/release/1.20.0-notes.html#deprecations\n",
      "  elif isinstance(c1[1], (float, np.float)):\n",
      "\n",
      "2021-06-25 16:29:01,367 - stpipe - WARNING - /Users/ofox/miniconda3/envs/helper/lib/python3.9/site-packages/spectral_cube/wcs_utils.py:395: DeprecationWarning: `np.float` is a deprecated alias for the builtin `float`. To silence this warning, use `float` by itself. Doing this will not modify any behavior and is safe. If you specifically wanted the numpy scalar type, use `np.float64` here.\n",
      "Deprecated in NumPy 1.20; for more details and guidance: https://numpy.org/devdocs/release/1.20.0-notes.html#deprecations\n",
      "  elif isinstance(c1[1], (float, np.float)):\n",
      "\n",
      "WARNING:stpipe:/Users/ofox/miniconda3/envs/helper/lib/python3.9/site-packages/spectral_cube/wcs_utils.py:395: DeprecationWarning: `np.float` is a deprecated alias for the builtin `float`. To silence this warning, use `float` by itself. Doing this will not modify any behavior and is safe. If you specifically wanted the numpy scalar type, use `np.float64` here.\n",
      "Deprecated in NumPy 1.20; for more details and guidance: https://numpy.org/devdocs/release/1.20.0-notes.html#deprecations\n",
      "  elif isinstance(c1[1], (float, np.float)):\n",
      "\n",
      "WARNING:py.warnings:/Users/ofox/miniconda3/envs/helper/lib/python3.9/site-packages/jdaviz/configs/cubeviz/plugins/parsers.py:114: DeprecationWarning: `np.int` is a deprecated alias for the builtin `int`. To silence this warning, use `int` by itself. Doing this will not modify any behavior and is safe. When replacing `np.int`, you may wish to use e.g. `np.int64` or `np.int32` to specify the precision. If you wish to review your current use, check the release note link for additional information.\n",
      "Deprecated in NumPy 1.20; for more details and guidance: https://numpy.org/devdocs/release/1.20.0-notes.html#deprecations\n",
      "  if hdu.data.dtype in (np.int, np.uint, np.uint32) or \\\n",
      "\n",
      "2021-06-25 16:29:01,532 - stpipe - WARNING - /Users/ofox/miniconda3/envs/helper/lib/python3.9/site-packages/jdaviz/configs/cubeviz/plugins/parsers.py:114: DeprecationWarning: `np.int` is a deprecated alias for the builtin `int`. To silence this warning, use `int` by itself. Doing this will not modify any behavior and is safe. When replacing `np.int`, you may wish to use e.g. `np.int64` or `np.int32` to specify the precision. If you wish to review your current use, check the release note link for additional information.\n",
      "Deprecated in NumPy 1.20; for more details and guidance: https://numpy.org/devdocs/release/1.20.0-notes.html#deprecations\n",
      "  if hdu.data.dtype in (np.int, np.uint, np.uint32) or \\\n",
      "\n",
      "WARNING:stpipe:/Users/ofox/miniconda3/envs/helper/lib/python3.9/site-packages/jdaviz/configs/cubeviz/plugins/parsers.py:114: DeprecationWarning: `np.int` is a deprecated alias for the builtin `int`. To silence this warning, use `int` by itself. Doing this will not modify any behavior and is safe. When replacing `np.int`, you may wish to use e.g. `np.int64` or `np.int32` to specify the precision. If you wish to review your current use, check the release note link for additional information.\n",
      "Deprecated in NumPy 1.20; for more details and guidance: https://numpy.org/devdocs/release/1.20.0-notes.html#deprecations\n",
      "  if hdu.data.dtype in (np.int, np.uint, np.uint32) or \\\n",
      "\n"
     ]
    }
   ],
   "source": [
    "cubeviz.load_data(cube)"
   ]
  },
  {
   "cell_type": "code",
   "execution_count": 86,
   "metadata": {},
   "outputs": [
    {
     "name": "stderr",
     "output_type": "stream",
     "text": [
      "WARNING:py.warnings:/Users/ofox/miniconda3/envs/helper/lib/python3.9/site-packages/ipykernel/ipkernel.py:287: DeprecationWarning: `should_run_async` will not call `transform_cell` automatically in the future. Please pass the result to `transformed_cell` argument and any exception that happen during thetransform in `preprocessing_exc_tuple` in IPython 7.17 and above.\n",
      "  and should_run_async(code)\n",
      "\n",
      "2021-06-25 16:37:06,685 - stpipe - WARNING - /Users/ofox/miniconda3/envs/helper/lib/python3.9/site-packages/ipykernel/ipkernel.py:287: DeprecationWarning: `should_run_async` will not call `transform_cell` automatically in the future. Please pass the result to `transformed_cell` argument and any exception that happen during thetransform in `preprocessing_exc_tuple` in IPython 7.17 and above.\n",
      "  and should_run_async(code)\n",
      "\n",
      "WARNING:stpipe:/Users/ofox/miniconda3/envs/helper/lib/python3.9/site-packages/ipykernel/ipkernel.py:287: DeprecationWarning: `should_run_async` will not call `transform_cell` automatically in the future. Please pass the result to `transformed_cell` argument and any exception that happen during thetransform in `preprocessing_exc_tuple` in IPython 7.17 and above.\n",
      "  and should_run_async(code)\n",
      "\n"
     ]
    },
    {
     "data": {
      "application/vnd.jupyter.widget-view+json": {
       "model_id": "c6cc80d69eb941cd8c9570e09d0039e1",
       "version_major": 2,
       "version_minor": 0
      },
      "text/plain": [
       "Application(components={'g-viewer-tab': '<template>\\n  <component :is=\"stack.container\">\\n    <g-viewer-tab\\n …"
      ]
     },
     "metadata": {},
     "output_type": "display_data"
    }
   ],
   "source": [
    "#Level3 Chan Cube 1D\n",
    "#Developer note: How do you scroll interactingvely with the mouse?\n",
    "specviz.app"
   ]
  },
  {
   "cell_type": "code",
   "execution_count": 87,
   "metadata": {},
   "outputs": [
    {
     "name": "stderr",
     "output_type": "stream",
     "text": [
      "WARNING:root:No data item with id 'c0868863-48ba-421c-9c77-6946238ff05c' found in viewer 'e944bc1a-9644-4c4a-ad1e-3d501c987e28'.\n",
      "2021-06-25 16:37:14,126 - stpipe - WARNING - No data item with id 'c0868863-48ba-421c-9c77-6946238ff05c' found in viewer 'e944bc1a-9644-4c4a-ad1e-3d501c987e28'.\n",
      "WARNING:stpipe:No data item with id 'c0868863-48ba-421c-9c77-6946238ff05c' found in viewer 'e944bc1a-9644-4c4a-ad1e-3d501c987e28'.\n",
      "WARNING:py.warnings:/Users/ofox/miniconda3/envs/helper/lib/python3.9/site-packages/glue/core/component.py:96: DeprecationWarning: `np.complex` is a deprecated alias for the builtin `complex`. To silence this warning, use `complex` by itself. Doing this will not modify any behavior and is safe. If you specifically wanted the numpy scalar type, use `np.complex128` here.\n",
      "Deprecated in NumPy 1.20; for more details and guidance: https://numpy.org/devdocs/release/1.20.0-notes.html#deprecations\n",
      "  return np.can_cast(self[(0,) * self.ndim].dtype, np.complex)\n",
      "\n",
      "2021-06-25 16:37:14,129 - stpipe - WARNING - /Users/ofox/miniconda3/envs/helper/lib/python3.9/site-packages/glue/core/component.py:96: DeprecationWarning: `np.complex` is a deprecated alias for the builtin `complex`. To silence this warning, use `complex` by itself. Doing this will not modify any behavior and is safe. If you specifically wanted the numpy scalar type, use `np.complex128` here.\n",
      "Deprecated in NumPy 1.20; for more details and guidance: https://numpy.org/devdocs/release/1.20.0-notes.html#deprecations\n",
      "  return np.can_cast(self[(0,) * self.ndim].dtype, np.complex)\n",
      "\n",
      "WARNING:stpipe:/Users/ofox/miniconda3/envs/helper/lib/python3.9/site-packages/glue/core/component.py:96: DeprecationWarning: `np.complex` is a deprecated alias for the builtin `complex`. To silence this warning, use `complex` by itself. Doing this will not modify any behavior and is safe. If you specifically wanted the numpy scalar type, use `np.complex128` here.\n",
      "Deprecated in NumPy 1.20; for more details and guidance: https://numpy.org/devdocs/release/1.20.0-notes.html#deprecations\n",
      "  return np.can_cast(self[(0,) * self.ndim].dtype, np.complex)\n",
      "\n"
     ]
    }
   ],
   "source": [
    "spectrum = download_file('https://data.science.stsci.edu/redirect/JWST/jwst-data_analysis_tools/helper_classes/MIRI/MRS/mirisim/chancube_ch1-longshortmedium-_x1d.fits')\n",
    "specviz.load_spectrum(spectrum, \"MRS 1D\")"
   ]
  },
  {
   "cell_type": "code",
   "execution_count": 88,
   "metadata": {},
   "outputs": [
    {
     "name": "stderr",
     "output_type": "stream",
     "text": [
      "WARNING:py.warnings:/Users/ofox/miniconda3/envs/helper/lib/python3.9/site-packages/ipykernel/ipkernel.py:287: DeprecationWarning: `should_run_async` will not call `transform_cell` automatically in the future. Please pass the result to `transformed_cell` argument and any exception that happen during thetransform in `preprocessing_exc_tuple` in IPython 7.17 and above.\n",
      "  and should_run_async(code)\n",
      "\n",
      "2021-06-25 16:37:17,998 - stpipe - WARNING - /Users/ofox/miniconda3/envs/helper/lib/python3.9/site-packages/ipykernel/ipkernel.py:287: DeprecationWarning: `should_run_async` will not call `transform_cell` automatically in the future. Please pass the result to `transformed_cell` argument and any exception that happen during thetransform in `preprocessing_exc_tuple` in IPython 7.17 and above.\n",
      "  and should_run_async(code)\n",
      "\n",
      "WARNING:stpipe:/Users/ofox/miniconda3/envs/helper/lib/python3.9/site-packages/ipykernel/ipkernel.py:287: DeprecationWarning: `should_run_async` will not call `transform_cell` automatically in the future. Please pass the result to `transformed_cell` argument and any exception that happen during thetransform in `preprocessing_exc_tuple` in IPython 7.17 and above.\n",
      "  and should_run_async(code)\n",
      "\n"
     ]
    }
   ],
   "source": [
    "#Level 3 Single Cube\n",
    "cube = download_file('https://data.science.stsci.edu/redirect/JWST/jwst-data_analysis_tools/helper_classes/MIRI/MRS/mirisim/Level3_ch1-long_s3d.fits')"
   ]
  },
  {
   "cell_type": "code",
   "execution_count": 89,
   "metadata": {},
   "outputs": [
    {
     "name": "stderr",
     "output_type": "stream",
     "text": [
      "WARNING:py.warnings:/Users/ofox/miniconda3/envs/helper/lib/python3.9/site-packages/ipywidgets/widgets/widget.py:412: DeprecationWarning: Passing unrecognized arguments to super(Figure).__init__(scales={'x': LinearScale(allow_padding=False, max=1.0, min=0.0), 'y': LinearScale(max=1.0, min=0.0)}).\n",
      "object.__init__() takes exactly one argument (the instance to initialize)\n",
      "This is deprecated in traitlets 4.2.This error will be raised in a future release of traitlets.\n",
      "  super(Widget, self).__init__(**kwargs)\n",
      "\n",
      "2021-06-25 16:37:32,119 - stpipe - WARNING - /Users/ofox/miniconda3/envs/helper/lib/python3.9/site-packages/ipywidgets/widgets/widget.py:412: DeprecationWarning: Passing unrecognized arguments to super(Figure).__init__(scales={'x': LinearScale(allow_padding=False, max=1.0, min=0.0), 'y': LinearScale(max=1.0, min=0.0)}).\n",
      "object.__init__() takes exactly one argument (the instance to initialize)\n",
      "This is deprecated in traitlets 4.2.This error will be raised in a future release of traitlets.\n",
      "  super(Widget, self).__init__(**kwargs)\n",
      "\n",
      "WARNING:stpipe:/Users/ofox/miniconda3/envs/helper/lib/python3.9/site-packages/ipywidgets/widgets/widget.py:412: DeprecationWarning: Passing unrecognized arguments to super(Figure).__init__(scales={'x': LinearScale(allow_padding=False, max=1.0, min=0.0), 'y': LinearScale(max=1.0, min=0.0)}).\n",
      "object.__init__() takes exactly one argument (the instance to initialize)\n",
      "This is deprecated in traitlets 4.2.This error will be raised in a future release of traitlets.\n",
      "  super(Widget, self).__init__(**kwargs)\n",
      "\n"
     ]
    },
    {
     "data": {
      "application/vnd.jupyter.widget-view+json": {
       "model_id": "88467f4362894761b8defdb1c89dc322",
       "version_major": 2,
       "version_minor": 0
      },
      "text/plain": [
       "Application(components={'g-viewer-tab': '<template>\\n  <component :is=\"stack.container\">\\n    <g-viewer-tab\\n …"
      ]
     },
     "metadata": {},
     "output_type": "display_data"
    }
   ],
   "source": [
    "cubeviz = CubeViz()\n",
    "cubeviz.app"
   ]
  },
  {
   "cell_type": "code",
   "execution_count": 90,
   "metadata": {},
   "outputs": [
    {
     "name": "stderr",
     "output_type": "stream",
     "text": [
      "WARNING: No spectral axis found; header may be non-compliant. [spectral_cube.cube_utils]\n",
      "WARNING:astropy:No spectral axis found; header may be non-compliant.\n",
      "2021-06-25 16:37:37,532 - stpipe - WARNING - No spectral axis found; header may be non-compliant.\n",
      "WARNING:stpipe:No spectral axis found; header may be non-compliant.\n",
      "WARNING: No spectral axis found; header may be non-compliant. [spectral_cube.cube_utils]\n",
      "WARNING:astropy:No spectral axis found; header may be non-compliant.\n",
      "2021-06-25 16:37:37,546 - stpipe - WARNING - No spectral axis found; header may be non-compliant.\n",
      "WARNING:stpipe:No spectral axis found; header may be non-compliant.\n",
      "WARNING: No spectral axis found; header may be non-compliant. [spectral_cube.cube_utils]\n",
      "WARNING:astropy:No spectral axis found; header may be non-compliant.\n",
      "2021-06-25 16:37:37,552 - stpipe - WARNING - No spectral axis found; header may be non-compliant.\n",
      "WARNING:stpipe:No spectral axis found; header may be non-compliant.\n",
      "WARNING:py.warnings:/Users/ofox/miniconda3/envs/helper/lib/python3.9/site-packages/spectral_cube/masks.py:228: DeprecationWarning: `np.float` is a deprecated alias for the builtin `float`. To silence this warning, use `float` by itself. Doing this will not modify any behavior and is safe. If you specifically wanted the numpy scalar type, use `np.float64` here.\n",
      "Deprecated in NumPy 1.20; for more details and guidance: https://numpy.org/devdocs/release/1.20.0-notes.html#deprecations\n",
      "  dt = np.find_common_type([data.dtype], [np.float])\n",
      "\n",
      "2021-06-25 16:37:37,701 - stpipe - WARNING - /Users/ofox/miniconda3/envs/helper/lib/python3.9/site-packages/spectral_cube/masks.py:228: DeprecationWarning: `np.float` is a deprecated alias for the builtin `float`. To silence this warning, use `float` by itself. Doing this will not modify any behavior and is safe. If you specifically wanted the numpy scalar type, use `np.float64` here.\n",
      "Deprecated in NumPy 1.20; for more details and guidance: https://numpy.org/devdocs/release/1.20.0-notes.html#deprecations\n",
      "  dt = np.find_common_type([data.dtype], [np.float])\n",
      "\n",
      "WARNING:stpipe:/Users/ofox/miniconda3/envs/helper/lib/python3.9/site-packages/spectral_cube/masks.py:228: DeprecationWarning: `np.float` is a deprecated alias for the builtin `float`. To silence this warning, use `float` by itself. Doing this will not modify any behavior and is safe. If you specifically wanted the numpy scalar type, use `np.float64` here.\n",
      "Deprecated in NumPy 1.20; for more details and guidance: https://numpy.org/devdocs/release/1.20.0-notes.html#deprecations\n",
      "  dt = np.find_common_type([data.dtype], [np.float])\n",
      "\n",
      "WARNING:py.warnings:/Users/ofox/miniconda3/envs/helper/lib/python3.9/site-packages/spectral_cube/wcs_utils.py:395: DeprecationWarning: `np.float` is a deprecated alias for the builtin `float`. To silence this warning, use `float` by itself. Doing this will not modify any behavior and is safe. If you specifically wanted the numpy scalar type, use `np.float64` here.\n",
      "Deprecated in NumPy 1.20; for more details and guidance: https://numpy.org/devdocs/release/1.20.0-notes.html#deprecations\n",
      "  elif isinstance(c1[1], (float, np.float)):\n",
      "\n",
      "2021-06-25 16:37:37,713 - stpipe - WARNING - /Users/ofox/miniconda3/envs/helper/lib/python3.9/site-packages/spectral_cube/wcs_utils.py:395: DeprecationWarning: `np.float` is a deprecated alias for the builtin `float`. To silence this warning, use `float` by itself. Doing this will not modify any behavior and is safe. If you specifically wanted the numpy scalar type, use `np.float64` here.\n",
      "Deprecated in NumPy 1.20; for more details and guidance: https://numpy.org/devdocs/release/1.20.0-notes.html#deprecations\n",
      "  elif isinstance(c1[1], (float, np.float)):\n",
      "\n",
      "WARNING:stpipe:/Users/ofox/miniconda3/envs/helper/lib/python3.9/site-packages/spectral_cube/wcs_utils.py:395: DeprecationWarning: `np.float` is a deprecated alias for the builtin `float`. To silence this warning, use `float` by itself. Doing this will not modify any behavior and is safe. If you specifically wanted the numpy scalar type, use `np.float64` here.\n",
      "Deprecated in NumPy 1.20; for more details and guidance: https://numpy.org/devdocs/release/1.20.0-notes.html#deprecations\n",
      "  elif isinstance(c1[1], (float, np.float)):\n",
      "\n",
      "WARNING:py.warnings:/Users/ofox/miniconda3/envs/helper/lib/python3.9/site-packages/jdaviz/configs/cubeviz/plugins/parsers.py:114: DeprecationWarning: `np.int` is a deprecated alias for the builtin `int`. To silence this warning, use `int` by itself. Doing this will not modify any behavior and is safe. When replacing `np.int`, you may wish to use e.g. `np.int64` or `np.int32` to specify the precision. If you wish to review your current use, check the release note link for additional information.\n",
      "Deprecated in NumPy 1.20; for more details and guidance: https://numpy.org/devdocs/release/1.20.0-notes.html#deprecations\n",
      "  if hdu.data.dtype in (np.int, np.uint, np.uint32) or \\\n",
      "\n",
      "2021-06-25 16:37:37,759 - stpipe - WARNING - /Users/ofox/miniconda3/envs/helper/lib/python3.9/site-packages/jdaviz/configs/cubeviz/plugins/parsers.py:114: DeprecationWarning: `np.int` is a deprecated alias for the builtin `int`. To silence this warning, use `int` by itself. Doing this will not modify any behavior and is safe. When replacing `np.int`, you may wish to use e.g. `np.int64` or `np.int32` to specify the precision. If you wish to review your current use, check the release note link for additional information.\n",
      "Deprecated in NumPy 1.20; for more details and guidance: https://numpy.org/devdocs/release/1.20.0-notes.html#deprecations\n",
      "  if hdu.data.dtype in (np.int, np.uint, np.uint32) or \\\n",
      "\n",
      "WARNING:stpipe:/Users/ofox/miniconda3/envs/helper/lib/python3.9/site-packages/jdaviz/configs/cubeviz/plugins/parsers.py:114: DeprecationWarning: `np.int` is a deprecated alias for the builtin `int`. To silence this warning, use `int` by itself. Doing this will not modify any behavior and is safe. When replacing `np.int`, you may wish to use e.g. `np.int64` or `np.int32` to specify the precision. If you wish to review your current use, check the release note link for additional information.\n",
      "Deprecated in NumPy 1.20; for more details and guidance: https://numpy.org/devdocs/release/1.20.0-notes.html#deprecations\n",
      "  if hdu.data.dtype in (np.int, np.uint, np.uint32) or \\\n",
      "\n",
      "WARNING:py.warnings:/Users/ofox/miniconda3/envs/helper/lib/python3.9/site-packages/glue/core/component.py:96: DeprecationWarning: `np.complex` is a deprecated alias for the builtin `complex`. To silence this warning, use `complex` by itself. Doing this will not modify any behavior and is safe. If you specifically wanted the numpy scalar type, use `np.complex128` here.\n",
      "Deprecated in NumPy 1.20; for more details and guidance: https://numpy.org/devdocs/release/1.20.0-notes.html#deprecations\n",
      "  return np.can_cast(self[(0,) * self.ndim].dtype, np.complex)\n",
      "\n",
      "2021-06-25 16:37:37,772 - stpipe - WARNING - /Users/ofox/miniconda3/envs/helper/lib/python3.9/site-packages/glue/core/component.py:96: DeprecationWarning: `np.complex` is a deprecated alias for the builtin `complex`. To silence this warning, use `complex` by itself. Doing this will not modify any behavior and is safe. If you specifically wanted the numpy scalar type, use `np.complex128` here.\n",
      "Deprecated in NumPy 1.20; for more details and guidance: https://numpy.org/devdocs/release/1.20.0-notes.html#deprecations\n",
      "  return np.can_cast(self[(0,) * self.ndim].dtype, np.complex)\n",
      "\n",
      "WARNING:stpipe:/Users/ofox/miniconda3/envs/helper/lib/python3.9/site-packages/glue/core/component.py:96: DeprecationWarning: `np.complex` is a deprecated alias for the builtin `complex`. To silence this warning, use `complex` by itself. Doing this will not modify any behavior and is safe. If you specifically wanted the numpy scalar type, use `np.complex128` here.\n",
      "Deprecated in NumPy 1.20; for more details and guidance: https://numpy.org/devdocs/release/1.20.0-notes.html#deprecations\n",
      "  return np.can_cast(self[(0,) * self.ndim].dtype, np.complex)\n",
      "\n",
      "WARNING:py.warnings:/Users/ofox/miniconda3/envs/helper/lib/python3.9/site-packages/glue/core/component.py:96: DeprecationWarning: `np.complex` is a deprecated alias for the builtin `complex`. To silence this warning, use `complex` by itself. Doing this will not modify any behavior and is safe. If you specifically wanted the numpy scalar type, use `np.complex128` here.\n",
      "Deprecated in NumPy 1.20; for more details and guidance: https://numpy.org/devdocs/release/1.20.0-notes.html#deprecations\n",
      "  return np.can_cast(self[(0,) * self.ndim].dtype, np.complex)\n",
      "\n"
     ]
    },
    {
     "name": "stderr",
     "output_type": "stream",
     "text": [
      "2021-06-25 16:37:37,776 - stpipe - WARNING - /Users/ofox/miniconda3/envs/helper/lib/python3.9/site-packages/glue/core/component.py:96: DeprecationWarning: `np.complex` is a deprecated alias for the builtin `complex`. To silence this warning, use `complex` by itself. Doing this will not modify any behavior and is safe. If you specifically wanted the numpy scalar type, use `np.complex128` here.\n",
      "Deprecated in NumPy 1.20; for more details and guidance: https://numpy.org/devdocs/release/1.20.0-notes.html#deprecations\n",
      "  return np.can_cast(self[(0,) * self.ndim].dtype, np.complex)\n",
      "\n",
      "WARNING:stpipe:/Users/ofox/miniconda3/envs/helper/lib/python3.9/site-packages/glue/core/component.py:96: DeprecationWarning: `np.complex` is a deprecated alias for the builtin `complex`. To silence this warning, use `complex` by itself. Doing this will not modify any behavior and is safe. If you specifically wanted the numpy scalar type, use `np.complex128` here.\n",
      "Deprecated in NumPy 1.20; for more details and guidance: https://numpy.org/devdocs/release/1.20.0-notes.html#deprecations\n",
      "  return np.can_cast(self[(0,) * self.ndim].dtype, np.complex)\n",
      "\n",
      "WARNING:py.warnings:/Users/ofox/miniconda3/envs/helper/lib/python3.9/site-packages/glue/core/component.py:96: DeprecationWarning: `np.complex` is a deprecated alias for the builtin `complex`. To silence this warning, use `complex` by itself. Doing this will not modify any behavior and is safe. If you specifically wanted the numpy scalar type, use `np.complex128` here.\n",
      "Deprecated in NumPy 1.20; for more details and guidance: https://numpy.org/devdocs/release/1.20.0-notes.html#deprecations\n",
      "  return np.can_cast(self[(0,) * self.ndim].dtype, np.complex)\n",
      "\n",
      "2021-06-25 16:37:37,779 - stpipe - WARNING - /Users/ofox/miniconda3/envs/helper/lib/python3.9/site-packages/glue/core/component.py:96: DeprecationWarning: `np.complex` is a deprecated alias for the builtin `complex`. To silence this warning, use `complex` by itself. Doing this will not modify any behavior and is safe. If you specifically wanted the numpy scalar type, use `np.complex128` here.\n",
      "Deprecated in NumPy 1.20; for more details and guidance: https://numpy.org/devdocs/release/1.20.0-notes.html#deprecations\n",
      "  return np.can_cast(self[(0,) * self.ndim].dtype, np.complex)\n",
      "\n",
      "WARNING:stpipe:/Users/ofox/miniconda3/envs/helper/lib/python3.9/site-packages/glue/core/component.py:96: DeprecationWarning: `np.complex` is a deprecated alias for the builtin `complex`. To silence this warning, use `complex` by itself. Doing this will not modify any behavior and is safe. If you specifically wanted the numpy scalar type, use `np.complex128` here.\n",
      "Deprecated in NumPy 1.20; for more details and guidance: https://numpy.org/devdocs/release/1.20.0-notes.html#deprecations\n",
      "  return np.can_cast(self[(0,) * self.ndim].dtype, np.complex)\n",
      "\n",
      "WARNING: No spectral axis found; header may be non-compliant. [spectral_cube.cube_utils]\n",
      "WARNING:astropy:No spectral axis found; header may be non-compliant.\n",
      "2021-06-25 16:37:38,017 - stpipe - WARNING - No spectral axis found; header may be non-compliant.\n",
      "WARNING:stpipe:No spectral axis found; header may be non-compliant.\n",
      "WARNING:py.warnings:/Users/ofox/miniconda3/envs/helper/lib/python3.9/site-packages/spectral_cube/masks.py:228: DeprecationWarning: `np.float` is a deprecated alias for the builtin `float`. To silence this warning, use `float` by itself. Doing this will not modify any behavior and is safe. If you specifically wanted the numpy scalar type, use `np.float64` here.\n",
      "Deprecated in NumPy 1.20; for more details and guidance: https://numpy.org/devdocs/release/1.20.0-notes.html#deprecations\n",
      "  dt = np.find_common_type([data.dtype], [np.float])\n",
      "\n",
      "2021-06-25 16:37:38,041 - stpipe - WARNING - /Users/ofox/miniconda3/envs/helper/lib/python3.9/site-packages/spectral_cube/masks.py:228: DeprecationWarning: `np.float` is a deprecated alias for the builtin `float`. To silence this warning, use `float` by itself. Doing this will not modify any behavior and is safe. If you specifically wanted the numpy scalar type, use `np.float64` here.\n",
      "Deprecated in NumPy 1.20; for more details and guidance: https://numpy.org/devdocs/release/1.20.0-notes.html#deprecations\n",
      "  dt = np.find_common_type([data.dtype], [np.float])\n",
      "\n",
      "WARNING:stpipe:/Users/ofox/miniconda3/envs/helper/lib/python3.9/site-packages/spectral_cube/masks.py:228: DeprecationWarning: `np.float` is a deprecated alias for the builtin `float`. To silence this warning, use `float` by itself. Doing this will not modify any behavior and is safe. If you specifically wanted the numpy scalar type, use `np.float64` here.\n",
      "Deprecated in NumPy 1.20; for more details and guidance: https://numpy.org/devdocs/release/1.20.0-notes.html#deprecations\n",
      "  dt = np.find_common_type([data.dtype], [np.float])\n",
      "\n",
      "WARNING:py.warnings:/Users/ofox/miniconda3/envs/helper/lib/python3.9/site-packages/spectral_cube/wcs_utils.py:395: DeprecationWarning: `np.float` is a deprecated alias for the builtin `float`. To silence this warning, use `float` by itself. Doing this will not modify any behavior and is safe. If you specifically wanted the numpy scalar type, use `np.float64` here.\n",
      "Deprecated in NumPy 1.20; for more details and guidance: https://numpy.org/devdocs/release/1.20.0-notes.html#deprecations\n",
      "  elif isinstance(c1[1], (float, np.float)):\n",
      "\n",
      "2021-06-25 16:37:38,051 - stpipe - WARNING - /Users/ofox/miniconda3/envs/helper/lib/python3.9/site-packages/spectral_cube/wcs_utils.py:395: DeprecationWarning: `np.float` is a deprecated alias for the builtin `float`. To silence this warning, use `float` by itself. Doing this will not modify any behavior and is safe. If you specifically wanted the numpy scalar type, use `np.float64` here.\n",
      "Deprecated in NumPy 1.20; for more details and guidance: https://numpy.org/devdocs/release/1.20.0-notes.html#deprecations\n",
      "  elif isinstance(c1[1], (float, np.float)):\n",
      "\n",
      "WARNING:stpipe:/Users/ofox/miniconda3/envs/helper/lib/python3.9/site-packages/spectral_cube/wcs_utils.py:395: DeprecationWarning: `np.float` is a deprecated alias for the builtin `float`. To silence this warning, use `float` by itself. Doing this will not modify any behavior and is safe. If you specifically wanted the numpy scalar type, use `np.float64` here.\n",
      "Deprecated in NumPy 1.20; for more details and guidance: https://numpy.org/devdocs/release/1.20.0-notes.html#deprecations\n",
      "  elif isinstance(c1[1], (float, np.float)):\n",
      "\n",
      "WARNING:py.warnings:/Users/ofox/miniconda3/envs/helper/lib/python3.9/site-packages/jdaviz/configs/cubeviz/plugins/parsers.py:114: DeprecationWarning: `np.int` is a deprecated alias for the builtin `int`. To silence this warning, use `int` by itself. Doing this will not modify any behavior and is safe. When replacing `np.int`, you may wish to use e.g. `np.int64` or `np.int32` to specify the precision. If you wish to review your current use, check the release note link for additional information.\n",
      "Deprecated in NumPy 1.20; for more details and guidance: https://numpy.org/devdocs/release/1.20.0-notes.html#deprecations\n",
      "  if hdu.data.dtype in (np.int, np.uint, np.uint32) or \\\n",
      "\n",
      "2021-06-25 16:37:38,114 - stpipe - WARNING - /Users/ofox/miniconda3/envs/helper/lib/python3.9/site-packages/jdaviz/configs/cubeviz/plugins/parsers.py:114: DeprecationWarning: `np.int` is a deprecated alias for the builtin `int`. To silence this warning, use `int` by itself. Doing this will not modify any behavior and is safe. When replacing `np.int`, you may wish to use e.g. `np.int64` or `np.int32` to specify the precision. If you wish to review your current use, check the release note link for additional information.\n",
      "Deprecated in NumPy 1.20; for more details and guidance: https://numpy.org/devdocs/release/1.20.0-notes.html#deprecations\n",
      "  if hdu.data.dtype in (np.int, np.uint, np.uint32) or \\\n",
      "\n",
      "WARNING:stpipe:/Users/ofox/miniconda3/envs/helper/lib/python3.9/site-packages/jdaviz/configs/cubeviz/plugins/parsers.py:114: DeprecationWarning: `np.int` is a deprecated alias for the builtin `int`. To silence this warning, use `int` by itself. Doing this will not modify any behavior and is safe. When replacing `np.int`, you may wish to use e.g. `np.int64` or `np.int32` to specify the precision. If you wish to review your current use, check the release note link for additional information.\n",
      "Deprecated in NumPy 1.20; for more details and guidance: https://numpy.org/devdocs/release/1.20.0-notes.html#deprecations\n",
      "  if hdu.data.dtype in (np.int, np.uint, np.uint32) or \\\n",
      "\n"
     ]
    },
    {
     "name": "stderr",
     "output_type": "stream",
     "text": [
      "WARNING:py.warnings:/Users/ofox/miniconda3/envs/helper/lib/python3.9/site-packages/glue/core/component.py:96: DeprecationWarning: `np.complex` is a deprecated alias for the builtin `complex`. To silence this warning, use `complex` by itself. Doing this will not modify any behavior and is safe. If you specifically wanted the numpy scalar type, use `np.complex128` here.\n",
      "Deprecated in NumPy 1.20; for more details and guidance: https://numpy.org/devdocs/release/1.20.0-notes.html#deprecations\n",
      "  return np.can_cast(self[(0,) * self.ndim].dtype, np.complex)\n",
      "\n",
      "2021-06-25 16:37:38,128 - stpipe - WARNING - /Users/ofox/miniconda3/envs/helper/lib/python3.9/site-packages/glue/core/component.py:96: DeprecationWarning: `np.complex` is a deprecated alias for the builtin `complex`. To silence this warning, use `complex` by itself. Doing this will not modify any behavior and is safe. If you specifically wanted the numpy scalar type, use `np.complex128` here.\n",
      "Deprecated in NumPy 1.20; for more details and guidance: https://numpy.org/devdocs/release/1.20.0-notes.html#deprecations\n",
      "  return np.can_cast(self[(0,) * self.ndim].dtype, np.complex)\n",
      "\n",
      "WARNING:stpipe:/Users/ofox/miniconda3/envs/helper/lib/python3.9/site-packages/glue/core/component.py:96: DeprecationWarning: `np.complex` is a deprecated alias for the builtin `complex`. To silence this warning, use `complex` by itself. Doing this will not modify any behavior and is safe. If you specifically wanted the numpy scalar type, use `np.complex128` here.\n",
      "Deprecated in NumPy 1.20; for more details and guidance: https://numpy.org/devdocs/release/1.20.0-notes.html#deprecations\n",
      "  return np.can_cast(self[(0,) * self.ndim].dtype, np.complex)\n",
      "\n",
      "WARNING:py.warnings:/Users/ofox/miniconda3/envs/helper/lib/python3.9/site-packages/glue/core/component.py:96: DeprecationWarning: `np.complex` is a deprecated alias for the builtin `complex`. To silence this warning, use `complex` by itself. Doing this will not modify any behavior and is safe. If you specifically wanted the numpy scalar type, use `np.complex128` here.\n",
      "Deprecated in NumPy 1.20; for more details and guidance: https://numpy.org/devdocs/release/1.20.0-notes.html#deprecations\n",
      "  return np.can_cast(self[(0,) * self.ndim].dtype, np.complex)\n",
      "\n",
      "2021-06-25 16:37:38,133 - stpipe - WARNING - /Users/ofox/miniconda3/envs/helper/lib/python3.9/site-packages/glue/core/component.py:96: DeprecationWarning: `np.complex` is a deprecated alias for the builtin `complex`. To silence this warning, use `complex` by itself. Doing this will not modify any behavior and is safe. If you specifically wanted the numpy scalar type, use `np.complex128` here.\n",
      "Deprecated in NumPy 1.20; for more details and guidance: https://numpy.org/devdocs/release/1.20.0-notes.html#deprecations\n",
      "  return np.can_cast(self[(0,) * self.ndim].dtype, np.complex)\n",
      "\n",
      "WARNING:stpipe:/Users/ofox/miniconda3/envs/helper/lib/python3.9/site-packages/glue/core/component.py:96: DeprecationWarning: `np.complex` is a deprecated alias for the builtin `complex`. To silence this warning, use `complex` by itself. Doing this will not modify any behavior and is safe. If you specifically wanted the numpy scalar type, use `np.complex128` here.\n",
      "Deprecated in NumPy 1.20; for more details and guidance: https://numpy.org/devdocs/release/1.20.0-notes.html#deprecations\n",
      "  return np.can_cast(self[(0,) * self.ndim].dtype, np.complex)\n",
      "\n",
      "WARNING:py.warnings:/Users/ofox/miniconda3/envs/helper/lib/python3.9/site-packages/glue/core/component.py:96: DeprecationWarning: `np.complex` is a deprecated alias for the builtin `complex`. To silence this warning, use `complex` by itself. Doing this will not modify any behavior and is safe. If you specifically wanted the numpy scalar type, use `np.complex128` here.\n",
      "Deprecated in NumPy 1.20; for more details and guidance: https://numpy.org/devdocs/release/1.20.0-notes.html#deprecations\n",
      "  return np.can_cast(self[(0,) * self.ndim].dtype, np.complex)\n",
      "\n",
      "2021-06-25 16:37:38,137 - stpipe - WARNING - /Users/ofox/miniconda3/envs/helper/lib/python3.9/site-packages/glue/core/component.py:96: DeprecationWarning: `np.complex` is a deprecated alias for the builtin `complex`. To silence this warning, use `complex` by itself. Doing this will not modify any behavior and is safe. If you specifically wanted the numpy scalar type, use `np.complex128` here.\n",
      "Deprecated in NumPy 1.20; for more details and guidance: https://numpy.org/devdocs/release/1.20.0-notes.html#deprecations\n",
      "  return np.can_cast(self[(0,) * self.ndim].dtype, np.complex)\n",
      "\n",
      "WARNING:stpipe:/Users/ofox/miniconda3/envs/helper/lib/python3.9/site-packages/glue/core/component.py:96: DeprecationWarning: `np.complex` is a deprecated alias for the builtin `complex`. To silence this warning, use `complex` by itself. Doing this will not modify any behavior and is safe. If you specifically wanted the numpy scalar type, use `np.complex128` here.\n",
      "Deprecated in NumPy 1.20; for more details and guidance: https://numpy.org/devdocs/release/1.20.0-notes.html#deprecations\n",
      "  return np.can_cast(self[(0,) * self.ndim].dtype, np.complex)\n",
      "\n",
      "WARNING: No spectral axis found; header may be non-compliant. [spectral_cube.cube_utils]\n",
      "WARNING:astropy:No spectral axis found; header may be non-compliant.\n",
      "2021-06-25 16:37:38,210 - stpipe - WARNING - No spectral axis found; header may be non-compliant.\n",
      "WARNING:stpipe:No spectral axis found; header may be non-compliant.\n",
      "WARNING:py.warnings:/Users/ofox/miniconda3/envs/helper/lib/python3.9/site-packages/spectral_cube/masks.py:228: DeprecationWarning: `np.float` is a deprecated alias for the builtin `float`. To silence this warning, use `float` by itself. Doing this will not modify any behavior and is safe. If you specifically wanted the numpy scalar type, use `np.float64` here.\n",
      "Deprecated in NumPy 1.20; for more details and guidance: https://numpy.org/devdocs/release/1.20.0-notes.html#deprecations\n",
      "  dt = np.find_common_type([data.dtype], [np.float])\n",
      "\n",
      "2021-06-25 16:37:38,236 - stpipe - WARNING - /Users/ofox/miniconda3/envs/helper/lib/python3.9/site-packages/spectral_cube/masks.py:228: DeprecationWarning: `np.float` is a deprecated alias for the builtin `float`. To silence this warning, use `float` by itself. Doing this will not modify any behavior and is safe. If you specifically wanted the numpy scalar type, use `np.float64` here.\n",
      "Deprecated in NumPy 1.20; for more details and guidance: https://numpy.org/devdocs/release/1.20.0-notes.html#deprecations\n",
      "  dt = np.find_common_type([data.dtype], [np.float])\n",
      "\n",
      "WARNING:stpipe:/Users/ofox/miniconda3/envs/helper/lib/python3.9/site-packages/spectral_cube/masks.py:228: DeprecationWarning: `np.float` is a deprecated alias for the builtin `float`. To silence this warning, use `float` by itself. Doing this will not modify any behavior and is safe. If you specifically wanted the numpy scalar type, use `np.float64` here.\n",
      "Deprecated in NumPy 1.20; for more details and guidance: https://numpy.org/devdocs/release/1.20.0-notes.html#deprecations\n",
      "  dt = np.find_common_type([data.dtype], [np.float])\n",
      "\n",
      "WARNING:py.warnings:/Users/ofox/miniconda3/envs/helper/lib/python3.9/site-packages/spectral_cube/wcs_utils.py:395: DeprecationWarning: `np.float` is a deprecated alias for the builtin `float`. To silence this warning, use `float` by itself. Doing this will not modify any behavior and is safe. If you specifically wanted the numpy scalar type, use `np.float64` here.\n",
      "Deprecated in NumPy 1.20; for more details and guidance: https://numpy.org/devdocs/release/1.20.0-notes.html#deprecations\n",
      "  elif isinstance(c1[1], (float, np.float)):\n",
      "\n",
      "2021-06-25 16:37:38,242 - stpipe - WARNING - /Users/ofox/miniconda3/envs/helper/lib/python3.9/site-packages/spectral_cube/wcs_utils.py:395: DeprecationWarning: `np.float` is a deprecated alias for the builtin `float`. To silence this warning, use `float` by itself. Doing this will not modify any behavior and is safe. If you specifically wanted the numpy scalar type, use `np.float64` here.\n",
      "Deprecated in NumPy 1.20; for more details and guidance: https://numpy.org/devdocs/release/1.20.0-notes.html#deprecations\n",
      "  elif isinstance(c1[1], (float, np.float)):\n",
      "\n",
      "WARNING:stpipe:/Users/ofox/miniconda3/envs/helper/lib/python3.9/site-packages/spectral_cube/wcs_utils.py:395: DeprecationWarning: `np.float` is a deprecated alias for the builtin `float`. To silence this warning, use `float` by itself. Doing this will not modify any behavior and is safe. If you specifically wanted the numpy scalar type, use `np.float64` here.\n",
      "Deprecated in NumPy 1.20; for more details and guidance: https://numpy.org/devdocs/release/1.20.0-notes.html#deprecations\n",
      "  elif isinstance(c1[1], (float, np.float)):\n",
      "\n"
     ]
    },
    {
     "name": "stderr",
     "output_type": "stream",
     "text": [
      "WARNING:py.warnings:/Users/ofox/miniconda3/envs/helper/lib/python3.9/site-packages/jdaviz/configs/cubeviz/plugins/parsers.py:114: DeprecationWarning: `np.int` is a deprecated alias for the builtin `int`. To silence this warning, use `int` by itself. Doing this will not modify any behavior and is safe. When replacing `np.int`, you may wish to use e.g. `np.int64` or `np.int32` to specify the precision. If you wish to review your current use, check the release note link for additional information.\n",
      "Deprecated in NumPy 1.20; for more details and guidance: https://numpy.org/devdocs/release/1.20.0-notes.html#deprecations\n",
      "  if hdu.data.dtype in (np.int, np.uint, np.uint32) or \\\n",
      "\n",
      "2021-06-25 16:37:38,327 - stpipe - WARNING - /Users/ofox/miniconda3/envs/helper/lib/python3.9/site-packages/jdaviz/configs/cubeviz/plugins/parsers.py:114: DeprecationWarning: `np.int` is a deprecated alias for the builtin `int`. To silence this warning, use `int` by itself. Doing this will not modify any behavior and is safe. When replacing `np.int`, you may wish to use e.g. `np.int64` or `np.int32` to specify the precision. If you wish to review your current use, check the release note link for additional information.\n",
      "Deprecated in NumPy 1.20; for more details and guidance: https://numpy.org/devdocs/release/1.20.0-notes.html#deprecations\n",
      "  if hdu.data.dtype in (np.int, np.uint, np.uint32) or \\\n",
      "\n",
      "WARNING:stpipe:/Users/ofox/miniconda3/envs/helper/lib/python3.9/site-packages/jdaviz/configs/cubeviz/plugins/parsers.py:114: DeprecationWarning: `np.int` is a deprecated alias for the builtin `int`. To silence this warning, use `int` by itself. Doing this will not modify any behavior and is safe. When replacing `np.int`, you may wish to use e.g. `np.int64` or `np.int32` to specify the precision. If you wish to review your current use, check the release note link for additional information.\n",
      "Deprecated in NumPy 1.20; for more details and guidance: https://numpy.org/devdocs/release/1.20.0-notes.html#deprecations\n",
      "  if hdu.data.dtype in (np.int, np.uint, np.uint32) or \\\n",
      "\n",
      "WARNING:py.warnings:/Users/ofox/miniconda3/envs/helper/lib/python3.9/site-packages/glue/core/component.py:96: DeprecationWarning: `np.complex` is a deprecated alias for the builtin `complex`. To silence this warning, use `complex` by itself. Doing this will not modify any behavior and is safe. If you specifically wanted the numpy scalar type, use `np.complex128` here.\n",
      "Deprecated in NumPy 1.20; for more details and guidance: https://numpy.org/devdocs/release/1.20.0-notes.html#deprecations\n",
      "  return np.can_cast(self[(0,) * self.ndim].dtype, np.complex)\n",
      "\n",
      "2021-06-25 16:37:38,341 - stpipe - WARNING - /Users/ofox/miniconda3/envs/helper/lib/python3.9/site-packages/glue/core/component.py:96: DeprecationWarning: `np.complex` is a deprecated alias for the builtin `complex`. To silence this warning, use `complex` by itself. Doing this will not modify any behavior and is safe. If you specifically wanted the numpy scalar type, use `np.complex128` here.\n",
      "Deprecated in NumPy 1.20; for more details and guidance: https://numpy.org/devdocs/release/1.20.0-notes.html#deprecations\n",
      "  return np.can_cast(self[(0,) * self.ndim].dtype, np.complex)\n",
      "\n",
      "WARNING:stpipe:/Users/ofox/miniconda3/envs/helper/lib/python3.9/site-packages/glue/core/component.py:96: DeprecationWarning: `np.complex` is a deprecated alias for the builtin `complex`. To silence this warning, use `complex` by itself. Doing this will not modify any behavior and is safe. If you specifically wanted the numpy scalar type, use `np.complex128` here.\n",
      "Deprecated in NumPy 1.20; for more details and guidance: https://numpy.org/devdocs/release/1.20.0-notes.html#deprecations\n",
      "  return np.can_cast(self[(0,) * self.ndim].dtype, np.complex)\n",
      "\n",
      "WARNING:py.warnings:/Users/ofox/miniconda3/envs/helper/lib/python3.9/site-packages/glue/core/component.py:96: DeprecationWarning: `np.complex` is a deprecated alias for the builtin `complex`. To silence this warning, use `complex` by itself. Doing this will not modify any behavior and is safe. If you specifically wanted the numpy scalar type, use `np.complex128` here.\n",
      "Deprecated in NumPy 1.20; for more details and guidance: https://numpy.org/devdocs/release/1.20.0-notes.html#deprecations\n",
      "  return np.can_cast(self[(0,) * self.ndim].dtype, np.complex)\n",
      "\n",
      "2021-06-25 16:37:38,345 - stpipe - WARNING - /Users/ofox/miniconda3/envs/helper/lib/python3.9/site-packages/glue/core/component.py:96: DeprecationWarning: `np.complex` is a deprecated alias for the builtin `complex`. To silence this warning, use `complex` by itself. Doing this will not modify any behavior and is safe. If you specifically wanted the numpy scalar type, use `np.complex128` here.\n",
      "Deprecated in NumPy 1.20; for more details and guidance: https://numpy.org/devdocs/release/1.20.0-notes.html#deprecations\n",
      "  return np.can_cast(self[(0,) * self.ndim].dtype, np.complex)\n",
      "\n",
      "WARNING:stpipe:/Users/ofox/miniconda3/envs/helper/lib/python3.9/site-packages/glue/core/component.py:96: DeprecationWarning: `np.complex` is a deprecated alias for the builtin `complex`. To silence this warning, use `complex` by itself. Doing this will not modify any behavior and is safe. If you specifically wanted the numpy scalar type, use `np.complex128` here.\n",
      "Deprecated in NumPy 1.20; for more details and guidance: https://numpy.org/devdocs/release/1.20.0-notes.html#deprecations\n",
      "  return np.can_cast(self[(0,) * self.ndim].dtype, np.complex)\n",
      "\n",
      "WARNING:py.warnings:/Users/ofox/miniconda3/envs/helper/lib/python3.9/site-packages/glue/core/component.py:96: DeprecationWarning: `np.complex` is a deprecated alias for the builtin `complex`. To silence this warning, use `complex` by itself. Doing this will not modify any behavior and is safe. If you specifically wanted the numpy scalar type, use `np.complex128` here.\n",
      "Deprecated in NumPy 1.20; for more details and guidance: https://numpy.org/devdocs/release/1.20.0-notes.html#deprecations\n",
      "  return np.can_cast(self[(0,) * self.ndim].dtype, np.complex)\n",
      "\n",
      "2021-06-25 16:37:38,349 - stpipe - WARNING - /Users/ofox/miniconda3/envs/helper/lib/python3.9/site-packages/glue/core/component.py:96: DeprecationWarning: `np.complex` is a deprecated alias for the builtin `complex`. To silence this warning, use `complex` by itself. Doing this will not modify any behavior and is safe. If you specifically wanted the numpy scalar type, use `np.complex128` here.\n",
      "Deprecated in NumPy 1.20; for more details and guidance: https://numpy.org/devdocs/release/1.20.0-notes.html#deprecations\n",
      "  return np.can_cast(self[(0,) * self.ndim].dtype, np.complex)\n",
      "\n",
      "WARNING:stpipe:/Users/ofox/miniconda3/envs/helper/lib/python3.9/site-packages/glue/core/component.py:96: DeprecationWarning: `np.complex` is a deprecated alias for the builtin `complex`. To silence this warning, use `complex` by itself. Doing this will not modify any behavior and is safe. If you specifically wanted the numpy scalar type, use `np.complex128` here.\n",
      "Deprecated in NumPy 1.20; for more details and guidance: https://numpy.org/devdocs/release/1.20.0-notes.html#deprecations\n",
      "  return np.can_cast(self[(0,) * self.ndim].dtype, np.complex)\n",
      "\n",
      "WARNING: No spectral axis found; header may be non-compliant. [spectral_cube.cube_utils]\n",
      "WARNING:astropy:No spectral axis found; header may be non-compliant.\n",
      "2021-06-25 16:37:38,416 - stpipe - WARNING - No spectral axis found; header may be non-compliant.\n",
      "WARNING:stpipe:No spectral axis found; header may be non-compliant.\n",
      "WARNING:py.warnings:/Users/ofox/miniconda3/envs/helper/lib/python3.9/site-packages/spectral_cube/masks.py:228: DeprecationWarning: `np.float` is a deprecated alias for the builtin `float`. To silence this warning, use `float` by itself. Doing this will not modify any behavior and is safe. If you specifically wanted the numpy scalar type, use `np.float64` here.\n",
      "Deprecated in NumPy 1.20; for more details and guidance: https://numpy.org/devdocs/release/1.20.0-notes.html#deprecations\n",
      "  dt = np.find_common_type([data.dtype], [np.float])\n",
      "\n",
      "2021-06-25 16:37:38,438 - stpipe - WARNING - /Users/ofox/miniconda3/envs/helper/lib/python3.9/site-packages/spectral_cube/masks.py:228: DeprecationWarning: `np.float` is a deprecated alias for the builtin `float`. To silence this warning, use `float` by itself. Doing this will not modify any behavior and is safe. If you specifically wanted the numpy scalar type, use `np.float64` here.\n",
      "Deprecated in NumPy 1.20; for more details and guidance: https://numpy.org/devdocs/release/1.20.0-notes.html#deprecations\n",
      "  dt = np.find_common_type([data.dtype], [np.float])\n",
      "\n"
     ]
    },
    {
     "name": "stderr",
     "output_type": "stream",
     "text": [
      "WARNING:stpipe:/Users/ofox/miniconda3/envs/helper/lib/python3.9/site-packages/spectral_cube/masks.py:228: DeprecationWarning: `np.float` is a deprecated alias for the builtin `float`. To silence this warning, use `float` by itself. Doing this will not modify any behavior and is safe. If you specifically wanted the numpy scalar type, use `np.float64` here.\n",
      "Deprecated in NumPy 1.20; for more details and guidance: https://numpy.org/devdocs/release/1.20.0-notes.html#deprecations\n",
      "  dt = np.find_common_type([data.dtype], [np.float])\n",
      "\n",
      "WARNING:py.warnings:/Users/ofox/miniconda3/envs/helper/lib/python3.9/site-packages/spectral_cube/wcs_utils.py:395: DeprecationWarning: `np.float` is a deprecated alias for the builtin `float`. To silence this warning, use `float` by itself. Doing this will not modify any behavior and is safe. If you specifically wanted the numpy scalar type, use `np.float64` here.\n",
      "Deprecated in NumPy 1.20; for more details and guidance: https://numpy.org/devdocs/release/1.20.0-notes.html#deprecations\n",
      "  elif isinstance(c1[1], (float, np.float)):\n",
      "\n",
      "2021-06-25 16:37:38,451 - stpipe - WARNING - /Users/ofox/miniconda3/envs/helper/lib/python3.9/site-packages/spectral_cube/wcs_utils.py:395: DeprecationWarning: `np.float` is a deprecated alias for the builtin `float`. To silence this warning, use `float` by itself. Doing this will not modify any behavior and is safe. If you specifically wanted the numpy scalar type, use `np.float64` here.\n",
      "Deprecated in NumPy 1.20; for more details and guidance: https://numpy.org/devdocs/release/1.20.0-notes.html#deprecations\n",
      "  elif isinstance(c1[1], (float, np.float)):\n",
      "\n",
      "WARNING:stpipe:/Users/ofox/miniconda3/envs/helper/lib/python3.9/site-packages/spectral_cube/wcs_utils.py:395: DeprecationWarning: `np.float` is a deprecated alias for the builtin `float`. To silence this warning, use `float` by itself. Doing this will not modify any behavior and is safe. If you specifically wanted the numpy scalar type, use `np.float64` here.\n",
      "Deprecated in NumPy 1.20; for more details and guidance: https://numpy.org/devdocs/release/1.20.0-notes.html#deprecations\n",
      "  elif isinstance(c1[1], (float, np.float)):\n",
      "\n",
      "WARNING:py.warnings:/Users/ofox/miniconda3/envs/helper/lib/python3.9/site-packages/jdaviz/configs/cubeviz/plugins/parsers.py:114: DeprecationWarning: `np.int` is a deprecated alias for the builtin `int`. To silence this warning, use `int` by itself. Doing this will not modify any behavior and is safe. When replacing `np.int`, you may wish to use e.g. `np.int64` or `np.int32` to specify the precision. If you wish to review your current use, check the release note link for additional information.\n",
      "Deprecated in NumPy 1.20; for more details and guidance: https://numpy.org/devdocs/release/1.20.0-notes.html#deprecations\n",
      "  if hdu.data.dtype in (np.int, np.uint, np.uint32) or \\\n",
      "\n",
      "2021-06-25 16:37:38,567 - stpipe - WARNING - /Users/ofox/miniconda3/envs/helper/lib/python3.9/site-packages/jdaviz/configs/cubeviz/plugins/parsers.py:114: DeprecationWarning: `np.int` is a deprecated alias for the builtin `int`. To silence this warning, use `int` by itself. Doing this will not modify any behavior and is safe. When replacing `np.int`, you may wish to use e.g. `np.int64` or `np.int32` to specify the precision. If you wish to review your current use, check the release note link for additional information.\n",
      "Deprecated in NumPy 1.20; for more details and guidance: https://numpy.org/devdocs/release/1.20.0-notes.html#deprecations\n",
      "  if hdu.data.dtype in (np.int, np.uint, np.uint32) or \\\n",
      "\n",
      "WARNING:stpipe:/Users/ofox/miniconda3/envs/helper/lib/python3.9/site-packages/jdaviz/configs/cubeviz/plugins/parsers.py:114: DeprecationWarning: `np.int` is a deprecated alias for the builtin `int`. To silence this warning, use `int` by itself. Doing this will not modify any behavior and is safe. When replacing `np.int`, you may wish to use e.g. `np.int64` or `np.int32` to specify the precision. If you wish to review your current use, check the release note link for additional information.\n",
      "Deprecated in NumPy 1.20; for more details and guidance: https://numpy.org/devdocs/release/1.20.0-notes.html#deprecations\n",
      "  if hdu.data.dtype in (np.int, np.uint, np.uint32) or \\\n",
      "\n"
     ]
    }
   ],
   "source": [
    "cubeviz.load_data(cube)"
   ]
  },
  {
   "cell_type": "code",
   "execution_count": 91,
   "metadata": {},
   "outputs": [
    {
     "name": "stderr",
     "output_type": "stream",
     "text": [
      "WARNING:py.warnings:/Users/ofox/miniconda3/envs/helper/lib/python3.9/site-packages/ipykernel/ipkernel.py:287: DeprecationWarning: `should_run_async` will not call `transform_cell` automatically in the future. Please pass the result to `transformed_cell` argument and any exception that happen during thetransform in `preprocessing_exc_tuple` in IPython 7.17 and above.\n",
      "  and should_run_async(code)\n",
      "\n",
      "2021-06-25 16:37:46,017 - stpipe - WARNING - /Users/ofox/miniconda3/envs/helper/lib/python3.9/site-packages/ipykernel/ipkernel.py:287: DeprecationWarning: `should_run_async` will not call `transform_cell` automatically in the future. Please pass the result to `transformed_cell` argument and any exception that happen during thetransform in `preprocessing_exc_tuple` in IPython 7.17 and above.\n",
      "  and should_run_async(code)\n",
      "\n",
      "WARNING:stpipe:/Users/ofox/miniconda3/envs/helper/lib/python3.9/site-packages/ipykernel/ipkernel.py:287: DeprecationWarning: `should_run_async` will not call `transform_cell` automatically in the future. Please pass the result to `transformed_cell` argument and any exception that happen during thetransform in `preprocessing_exc_tuple` in IPython 7.17 and above.\n",
      "  and should_run_async(code)\n",
      "\n"
     ]
    },
    {
     "data": {
      "application/vnd.jupyter.widget-view+json": {
       "model_id": "c6cc80d69eb941cd8c9570e09d0039e1",
       "version_major": 2,
       "version_minor": 0
      },
      "text/plain": [
       "Application(components={'g-viewer-tab': '<template>\\n  <component :is=\"stack.container\">\\n    <g-viewer-tab\\n …"
      ]
     },
     "metadata": {},
     "output_type": "display_data"
    }
   ],
   "source": [
    "#Level3 Single Cube 1D\n",
    "specviz.app"
   ]
  },
  {
   "cell_type": "code",
   "execution_count": 92,
   "metadata": {},
   "outputs": [
    {
     "name": "stderr",
     "output_type": "stream",
     "text": [
      "WARNING:root:No data item with id 'c0868863-48ba-421c-9c77-6946238ff05c' found in viewer 'e944bc1a-9644-4c4a-ad1e-3d501c987e28'.\n",
      "2021-06-25 16:37:51,331 - stpipe - WARNING - No data item with id 'c0868863-48ba-421c-9c77-6946238ff05c' found in viewer 'e944bc1a-9644-4c4a-ad1e-3d501c987e28'.\n",
      "WARNING:stpipe:No data item with id 'c0868863-48ba-421c-9c77-6946238ff05c' found in viewer 'e944bc1a-9644-4c4a-ad1e-3d501c987e28'.\n",
      "WARNING:root:No data item with id '9a91724a-cd61-40ca-bce9-a49680e3d982' found in viewer 'e944bc1a-9644-4c4a-ad1e-3d501c987e28'.\n",
      "2021-06-25 16:37:51,334 - stpipe - WARNING - No data item with id '9a91724a-cd61-40ca-bce9-a49680e3d982' found in viewer 'e944bc1a-9644-4c4a-ad1e-3d501c987e28'.\n",
      "WARNING:stpipe:No data item with id '9a91724a-cd61-40ca-bce9-a49680e3d982' found in viewer 'e944bc1a-9644-4c4a-ad1e-3d501c987e28'.\n",
      "WARNING:py.warnings:/Users/ofox/miniconda3/envs/helper/lib/python3.9/site-packages/glue/core/component.py:96: DeprecationWarning: `np.complex` is a deprecated alias for the builtin `complex`. To silence this warning, use `complex` by itself. Doing this will not modify any behavior and is safe. If you specifically wanted the numpy scalar type, use `np.complex128` here.\n",
      "Deprecated in NumPy 1.20; for more details and guidance: https://numpy.org/devdocs/release/1.20.0-notes.html#deprecations\n",
      "  return np.can_cast(self[(0,) * self.ndim].dtype, np.complex)\n",
      "\n",
      "2021-06-25 16:37:51,336 - stpipe - WARNING - /Users/ofox/miniconda3/envs/helper/lib/python3.9/site-packages/glue/core/component.py:96: DeprecationWarning: `np.complex` is a deprecated alias for the builtin `complex`. To silence this warning, use `complex` by itself. Doing this will not modify any behavior and is safe. If you specifically wanted the numpy scalar type, use `np.complex128` here.\n",
      "Deprecated in NumPy 1.20; for more details and guidance: https://numpy.org/devdocs/release/1.20.0-notes.html#deprecations\n",
      "  return np.can_cast(self[(0,) * self.ndim].dtype, np.complex)\n",
      "\n",
      "WARNING:stpipe:/Users/ofox/miniconda3/envs/helper/lib/python3.9/site-packages/glue/core/component.py:96: DeprecationWarning: `np.complex` is a deprecated alias for the builtin `complex`. To silence this warning, use `complex` by itself. Doing this will not modify any behavior and is safe. If you specifically wanted the numpy scalar type, use `np.complex128` here.\n",
      "Deprecated in NumPy 1.20; for more details and guidance: https://numpy.org/devdocs/release/1.20.0-notes.html#deprecations\n",
      "  return np.can_cast(self[(0,) * self.ndim].dtype, np.complex)\n",
      "\n"
     ]
    }
   ],
   "source": [
    "spectrum = download_file('https://data.science.stsci.edu/redirect/JWST/jwst-data_analysis_tools/helper_classes/MIRI/MRS/mirisim/Level3_ch1-long_x1d.fits')\n",
    "specviz.load_spectrum(spectrum, \"MRS 1D\")"
   ]
  },
  {
   "cell_type": "code",
   "execution_count": 93,
   "metadata": {},
   "outputs": [
    {
     "name": "stderr",
     "output_type": "stream",
     "text": [
      "WARNING:py.warnings:/Users/ofox/miniconda3/envs/helper/lib/python3.9/site-packages/ipykernel/ipkernel.py:287: DeprecationWarning: `should_run_async` will not call `transform_cell` automatically in the future. Please pass the result to `transformed_cell` argument and any exception that happen during thetransform in `preprocessing_exc_tuple` in IPython 7.17 and above.\n",
      "  and should_run_async(code)\n",
      "\n",
      "2021-06-25 16:37:59,885 - stpipe - WARNING - /Users/ofox/miniconda3/envs/helper/lib/python3.9/site-packages/ipykernel/ipkernel.py:287: DeprecationWarning: `should_run_async` will not call `transform_cell` automatically in the future. Please pass the result to `transformed_cell` argument and any exception that happen during thetransform in `preprocessing_exc_tuple` in IPython 7.17 and above.\n",
      "  and should_run_async(code)\n",
      "\n",
      "WARNING:stpipe:/Users/ofox/miniconda3/envs/helper/lib/python3.9/site-packages/ipykernel/ipkernel.py:287: DeprecationWarning: `should_run_async` will not call `transform_cell` automatically in the future. Please pass the result to `transformed_cell` argument and any exception that happen during thetransform in `preprocessing_exc_tuple` in IPython 7.17 and above.\n",
      "  and should_run_async(code)\n",
      "\n"
     ]
    }
   ],
   "source": [
    "#Level 2 Single Cube\n",
    "cube = download_file('https://data.science.stsci.edu/redirect/JWST/jwst-data_analysis_tools/helper_classes/MIRI/MRS/mirisim/Level2_det_image_seq1_MIRIFULONG_34LONGexp1_s3d.fits')"
   ]
  },
  {
   "cell_type": "code",
   "execution_count": 94,
   "metadata": {},
   "outputs": [
    {
     "name": "stderr",
     "output_type": "stream",
     "text": [
      "WARNING:py.warnings:/Users/ofox/miniconda3/envs/helper/lib/python3.9/site-packages/ipywidgets/widgets/widget.py:412: DeprecationWarning: Passing unrecognized arguments to super(Figure).__init__(scales={'x': LinearScale(allow_padding=False, max=1.0, min=0.0), 'y': LinearScale(max=1.0, min=0.0)}).\n",
      "object.__init__() takes exactly one argument (the instance to initialize)\n",
      "This is deprecated in traitlets 4.2.This error will be raised in a future release of traitlets.\n",
      "  super(Widget, self).__init__(**kwargs)\n",
      "\n",
      "2021-06-25 16:38:12,917 - stpipe - WARNING - /Users/ofox/miniconda3/envs/helper/lib/python3.9/site-packages/ipywidgets/widgets/widget.py:412: DeprecationWarning: Passing unrecognized arguments to super(Figure).__init__(scales={'x': LinearScale(allow_padding=False, max=1.0, min=0.0), 'y': LinearScale(max=1.0, min=0.0)}).\n",
      "object.__init__() takes exactly one argument (the instance to initialize)\n",
      "This is deprecated in traitlets 4.2.This error will be raised in a future release of traitlets.\n",
      "  super(Widget, self).__init__(**kwargs)\n",
      "\n",
      "WARNING:stpipe:/Users/ofox/miniconda3/envs/helper/lib/python3.9/site-packages/ipywidgets/widgets/widget.py:412: DeprecationWarning: Passing unrecognized arguments to super(Figure).__init__(scales={'x': LinearScale(allow_padding=False, max=1.0, min=0.0), 'y': LinearScale(max=1.0, min=0.0)}).\n",
      "object.__init__() takes exactly one argument (the instance to initialize)\n",
      "This is deprecated in traitlets 4.2.This error will be raised in a future release of traitlets.\n",
      "  super(Widget, self).__init__(**kwargs)\n",
      "\n"
     ]
    },
    {
     "data": {
      "application/vnd.jupyter.widget-view+json": {
       "model_id": "1019866f5c74431c800de11a86ecf2a1",
       "version_major": 2,
       "version_minor": 0
      },
      "text/plain": [
       "Application(components={'g-viewer-tab': '<template>\\n  <component :is=\"stack.container\">\\n    <g-viewer-tab\\n …"
      ]
     },
     "metadata": {},
     "output_type": "display_data"
    }
   ],
   "source": [
    "cubeviz = CubeViz()\n",
    "cubeviz.app"
   ]
  },
  {
   "cell_type": "code",
   "execution_count": 95,
   "metadata": {},
   "outputs": [
    {
     "name": "stderr",
     "output_type": "stream",
     "text": [
      "WARNING: No spectral axis found; header may be non-compliant. [spectral_cube.cube_utils]\n",
      "WARNING:astropy:No spectral axis found; header may be non-compliant.\n",
      "2021-06-25 16:38:17,172 - stpipe - WARNING - No spectral axis found; header may be non-compliant.\n",
      "WARNING:stpipe:No spectral axis found; header may be non-compliant.\n",
      "WARNING: No spectral axis found; header may be non-compliant. [spectral_cube.cube_utils]\n",
      "WARNING:astropy:No spectral axis found; header may be non-compliant.\n",
      "2021-06-25 16:38:17,188 - stpipe - WARNING - No spectral axis found; header may be non-compliant.\n",
      "WARNING:stpipe:No spectral axis found; header may be non-compliant.\n",
      "WARNING: No spectral axis found; header may be non-compliant. [spectral_cube.cube_utils]\n",
      "WARNING:astropy:No spectral axis found; header may be non-compliant.\n",
      "2021-06-25 16:38:17,195 - stpipe - WARNING - No spectral axis found; header may be non-compliant.\n",
      "WARNING:stpipe:No spectral axis found; header may be non-compliant.\n",
      "WARNING:py.warnings:/Users/ofox/miniconda3/envs/helper/lib/python3.9/site-packages/jdaviz/configs/cubeviz/plugins/parsers.py:105: DeprecationWarning: The 'warn' function is deprecated, use 'warning' instead\n",
      "  logging.warn(e)\n",
      "\n",
      "2021-06-25 16:38:17,204 - stpipe - WARNING - /Users/ofox/miniconda3/envs/helper/lib/python3.9/site-packages/jdaviz/configs/cubeviz/plugins/parsers.py:105: DeprecationWarning: The 'warn' function is deprecated, use 'warning' instead\n",
      "  logging.warn(e)\n",
      "\n",
      "WARNING:stpipe:/Users/ofox/miniconda3/envs/helper/lib/python3.9/site-packages/jdaviz/configs/cubeviz/plugins/parsers.py:105: DeprecationWarning: The 'warn' function is deprecated, use 'warning' instead\n",
      "  logging.warn(e)\n",
      "\n",
      "WARNING:root:'NoneType' object has no attribute 'to_header'\n",
      "2021-06-25 16:38:17,205 - stpipe - WARNING - 'NoneType' object has no attribute 'to_header'\n",
      "WARNING:stpipe:'NoneType' object has no attribute 'to_header'\n",
      "WARNING: No spectral axis found; header may be non-compliant. [spectral_cube.cube_utils]\n",
      "WARNING:astropy:No spectral axis found; header may be non-compliant.\n",
      "2021-06-25 16:38:17,208 - stpipe - WARNING - No spectral axis found; header may be non-compliant.\n",
      "WARNING:stpipe:No spectral axis found; header may be non-compliant.\n",
      "WARNING:py.warnings:/Users/ofox/miniconda3/envs/helper/lib/python3.9/site-packages/jdaviz/configs/cubeviz/plugins/parsers.py:105: DeprecationWarning: The 'warn' function is deprecated, use 'warning' instead\n",
      "  logging.warn(e)\n",
      "\n",
      "2021-06-25 16:38:17,211 - stpipe - WARNING - /Users/ofox/miniconda3/envs/helper/lib/python3.9/site-packages/jdaviz/configs/cubeviz/plugins/parsers.py:105: DeprecationWarning: The 'warn' function is deprecated, use 'warning' instead\n",
      "  logging.warn(e)\n",
      "\n",
      "WARNING:stpipe:/Users/ofox/miniconda3/envs/helper/lib/python3.9/site-packages/jdaviz/configs/cubeviz/plugins/parsers.py:105: DeprecationWarning: The 'warn' function is deprecated, use 'warning' instead\n",
      "  logging.warn(e)\n",
      "\n",
      "WARNING:root:'NoneType' object has no attribute 'to_header'\n",
      "2021-06-25 16:38:17,212 - stpipe - WARNING - 'NoneType' object has no attribute 'to_header'\n",
      "WARNING:stpipe:'NoneType' object has no attribute 'to_header'\n",
      "WARNING: No spectral axis found; header may be non-compliant. [spectral_cube.cube_utils]\n",
      "WARNING:astropy:No spectral axis found; header may be non-compliant.\n",
      "2021-06-25 16:38:17,215 - stpipe - WARNING - No spectral axis found; header may be non-compliant.\n",
      "WARNING:stpipe:No spectral axis found; header may be non-compliant.\n",
      "WARNING:py.warnings:/Users/ofox/miniconda3/envs/helper/lib/python3.9/site-packages/jdaviz/configs/cubeviz/plugins/parsers.py:105: DeprecationWarning: The 'warn' function is deprecated, use 'warning' instead\n",
      "  logging.warn(e)\n",
      "\n",
      "2021-06-25 16:38:17,218 - stpipe - WARNING - /Users/ofox/miniconda3/envs/helper/lib/python3.9/site-packages/jdaviz/configs/cubeviz/plugins/parsers.py:105: DeprecationWarning: The 'warn' function is deprecated, use 'warning' instead\n",
      "  logging.warn(e)\n",
      "\n",
      "WARNING:stpipe:/Users/ofox/miniconda3/envs/helper/lib/python3.9/site-packages/jdaviz/configs/cubeviz/plugins/parsers.py:105: DeprecationWarning: The 'warn' function is deprecated, use 'warning' instead\n",
      "  logging.warn(e)\n",
      "\n",
      "WARNING:root:'NoneType' object has no attribute 'to_header'\n",
      "2021-06-25 16:38:17,219 - stpipe - WARNING - 'NoneType' object has no attribute 'to_header'\n",
      "WARNING:stpipe:'NoneType' object has no attribute 'to_header'\n",
      "WARNING: No spectral axis found; header may be non-compliant. [spectral_cube.cube_utils]\n",
      "WARNING:astropy:No spectral axis found; header may be non-compliant.\n",
      "2021-06-25 16:38:17,223 - stpipe - WARNING - No spectral axis found; header may be non-compliant.\n",
      "WARNING:stpipe:No spectral axis found; header may be non-compliant.\n",
      "WARNING:py.warnings:/Users/ofox/miniconda3/envs/helper/lib/python3.9/site-packages/jdaviz/configs/cubeviz/plugins/parsers.py:105: DeprecationWarning: The 'warn' function is deprecated, use 'warning' instead\n",
      "  logging.warn(e)\n",
      "\n",
      "2021-06-25 16:38:17,226 - stpipe - WARNING - /Users/ofox/miniconda3/envs/helper/lib/python3.9/site-packages/jdaviz/configs/cubeviz/plugins/parsers.py:105: DeprecationWarning: The 'warn' function is deprecated, use 'warning' instead\n",
      "  logging.warn(e)\n",
      "\n",
      "WARNING:stpipe:/Users/ofox/miniconda3/envs/helper/lib/python3.9/site-packages/jdaviz/configs/cubeviz/plugins/parsers.py:105: DeprecationWarning: The 'warn' function is deprecated, use 'warning' instead\n",
      "  logging.warn(e)\n",
      "\n",
      "WARNING:root:'NoneType' object has no attribute 'to_header'\n",
      "2021-06-25 16:38:17,227 - stpipe - WARNING - 'NoneType' object has no attribute 'to_header'\n",
      "WARNING:stpipe:'NoneType' object has no attribute 'to_header'\n"
     ]
    }
   ],
   "source": [
    "cubeviz.load_data(cube)"
   ]
  },
  {
   "cell_type": "code",
   "execution_count": 96,
   "metadata": {},
   "outputs": [
    {
     "name": "stderr",
     "output_type": "stream",
     "text": [
      "WARNING:py.warnings:/Users/ofox/miniconda3/envs/helper/lib/python3.9/site-packages/ipykernel/ipkernel.py:287: DeprecationWarning: `should_run_async` will not call `transform_cell` automatically in the future. Please pass the result to `transformed_cell` argument and any exception that happen during thetransform in `preprocessing_exc_tuple` in IPython 7.17 and above.\n",
      "  and should_run_async(code)\n",
      "\n",
      "2021-06-25 16:38:35,947 - stpipe - WARNING - /Users/ofox/miniconda3/envs/helper/lib/python3.9/site-packages/ipykernel/ipkernel.py:287: DeprecationWarning: `should_run_async` will not call `transform_cell` automatically in the future. Please pass the result to `transformed_cell` argument and any exception that happen during thetransform in `preprocessing_exc_tuple` in IPython 7.17 and above.\n",
      "  and should_run_async(code)\n",
      "\n",
      "WARNING:stpipe:/Users/ofox/miniconda3/envs/helper/lib/python3.9/site-packages/ipykernel/ipkernel.py:287: DeprecationWarning: `should_run_async` will not call `transform_cell` automatically in the future. Please pass the result to `transformed_cell` argument and any exception that happen during thetransform in `preprocessing_exc_tuple` in IPython 7.17 and above.\n",
      "  and should_run_async(code)\n",
      "\n"
     ]
    },
    {
     "data": {
      "application/vnd.jupyter.widget-view+json": {
       "model_id": "c6cc80d69eb941cd8c9570e09d0039e1",
       "version_major": 2,
       "version_minor": 0
      },
      "text/plain": [
       "Application(components={'g-viewer-tab': '<template>\\n  <component :is=\"stack.container\">\\n    <g-viewer-tab\\n …"
      ]
     },
     "metadata": {},
     "output_type": "display_data"
    }
   ],
   "source": [
    "#Level2 Single Cube 1D\n",
    "specviz.app"
   ]
  },
  {
   "cell_type": "code",
   "execution_count": 97,
   "metadata": {},
   "outputs": [
    {
     "name": "stderr",
     "output_type": "stream",
     "text": [
      "WARNING:root:No data item with id 'c0868863-48ba-421c-9c77-6946238ff05c' found in viewer 'e944bc1a-9644-4c4a-ad1e-3d501c987e28'.\n",
      "2021-06-25 16:38:43,061 - stpipe - WARNING - No data item with id 'c0868863-48ba-421c-9c77-6946238ff05c' found in viewer 'e944bc1a-9644-4c4a-ad1e-3d501c987e28'.\n",
      "WARNING:stpipe:No data item with id 'c0868863-48ba-421c-9c77-6946238ff05c' found in viewer 'e944bc1a-9644-4c4a-ad1e-3d501c987e28'.\n",
      "WARNING:root:No data item with id '9a91724a-cd61-40ca-bce9-a49680e3d982' found in viewer 'e944bc1a-9644-4c4a-ad1e-3d501c987e28'.\n",
      "2021-06-25 16:38:43,064 - stpipe - WARNING - No data item with id '9a91724a-cd61-40ca-bce9-a49680e3d982' found in viewer 'e944bc1a-9644-4c4a-ad1e-3d501c987e28'.\n",
      "WARNING:stpipe:No data item with id '9a91724a-cd61-40ca-bce9-a49680e3d982' found in viewer 'e944bc1a-9644-4c4a-ad1e-3d501c987e28'.\n",
      "WARNING:root:No data item with id 'b9ca3886-d226-480e-b28d-904dff741407' found in viewer 'e944bc1a-9644-4c4a-ad1e-3d501c987e28'.\n",
      "2021-06-25 16:38:43,066 - stpipe - WARNING - No data item with id 'b9ca3886-d226-480e-b28d-904dff741407' found in viewer 'e944bc1a-9644-4c4a-ad1e-3d501c987e28'.\n",
      "WARNING:stpipe:No data item with id 'b9ca3886-d226-480e-b28d-904dff741407' found in viewer 'e944bc1a-9644-4c4a-ad1e-3d501c987e28'.\n",
      "WARNING:py.warnings:/Users/ofox/miniconda3/envs/helper/lib/python3.9/site-packages/glue/core/component.py:96: DeprecationWarning: `np.complex` is a deprecated alias for the builtin `complex`. To silence this warning, use `complex` by itself. Doing this will not modify any behavior and is safe. If you specifically wanted the numpy scalar type, use `np.complex128` here.\n",
      "Deprecated in NumPy 1.20; for more details and guidance: https://numpy.org/devdocs/release/1.20.0-notes.html#deprecations\n",
      "  return np.can_cast(self[(0,) * self.ndim].dtype, np.complex)\n",
      "\n",
      "2021-06-25 16:38:43,068 - stpipe - WARNING - /Users/ofox/miniconda3/envs/helper/lib/python3.9/site-packages/glue/core/component.py:96: DeprecationWarning: `np.complex` is a deprecated alias for the builtin `complex`. To silence this warning, use `complex` by itself. Doing this will not modify any behavior and is safe. If you specifically wanted the numpy scalar type, use `np.complex128` here.\n",
      "Deprecated in NumPy 1.20; for more details and guidance: https://numpy.org/devdocs/release/1.20.0-notes.html#deprecations\n",
      "  return np.can_cast(self[(0,) * self.ndim].dtype, np.complex)\n",
      "\n",
      "WARNING:stpipe:/Users/ofox/miniconda3/envs/helper/lib/python3.9/site-packages/glue/core/component.py:96: DeprecationWarning: `np.complex` is a deprecated alias for the builtin `complex`. To silence this warning, use `complex` by itself. Doing this will not modify any behavior and is safe. If you specifically wanted the numpy scalar type, use `np.complex128` here.\n",
      "Deprecated in NumPy 1.20; for more details and guidance: https://numpy.org/devdocs/release/1.20.0-notes.html#deprecations\n",
      "  return np.can_cast(self[(0,) * self.ndim].dtype, np.complex)\n",
      "\n"
     ]
    }
   ],
   "source": [
    "spectrum = download_file('https://data.science.stsci.edu/redirect/JWST/jwst-data_analysis_tools/helper_classes/MIRI/MRS/mirisim/Level2_det_image_seq1_MIRIFULONG_34LONGexp1_x1d.fits')\n",
    "specviz.load_spectrum(spectrum, \"MRS 1D\")"
   ]
  },
  {
   "cell_type": "markdown",
   "metadata": {},
   "source": [
    "## MIRI Coronagraphic Imaging"
   ]
  },
  {
   "cell_type": "code",
   "execution_count": 72,
   "metadata": {},
   "outputs": [],
   "source": [
    "#Not sure which data files to support with this"
   ]
  },
  {
   "cell_type": "code",
   "execution_count": null,
   "metadata": {},
   "outputs": [],
   "source": []
  },
  {
   "cell_type": "code",
   "execution_count": null,
   "metadata": {},
   "outputs": [],
   "source": []
  }
 ],
 "metadata": {
  "kernelspec": {
   "display_name": "Python 3",
   "language": "python",
   "name": "python3"
  },
  "language_info": {
   "codemirror_mode": {
    "name": "ipython",
    "version": 3
   },
   "file_extension": ".py",
   "mimetype": "text/x-python",
   "name": "python",
   "nbconvert_exporter": "python",
   "pygments_lexer": "ipython3",
   "version": "3.9.5"
  }
 },
 "nbformat": 4,
 "nbformat_minor": 2
}
