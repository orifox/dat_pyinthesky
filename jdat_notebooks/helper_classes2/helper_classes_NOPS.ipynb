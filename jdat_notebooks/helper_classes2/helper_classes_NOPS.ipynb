{
 "cells": [
  {
   "cell_type": "code",
   "execution_count": 569,
   "metadata": {},
   "outputs": [],
   "source": [
    "#This notebook aims to measure the SNR of each star we are looking at in K-band\n",
    "\n",
    "import numpy as np\n",
    "import glob\n",
    "from astropy.io import fits\n",
    "import matplotlib.pyplot as plt\n",
    "from matplotlib.colors import LogNorm, ListedColormap\n",
    "from scipy.stats import sigmaclip, binned_statistic as bs\n",
    "from scipy.spatial import KDTree\n",
    "from astropy.stats import sigma_clip\n",
    "import pandas as pd\n",
    "from multiprocessing import Pool\n",
    "import time\n",
    "import math\n",
    "from matplotlib.ticker import MaxNLocator\n",
    "from matplotlib.backends.backend_pdf import PdfPages\n",
    "import astropy.time\n",
    "from astropy.stats import sigma_clip\n",
    "%matplotlib inline"
   ]
  },
  {
   "cell_type": "code",
   "execution_count": null,
   "metadata": {},
   "outputs": [],
   "source": []
  },
  {
   "cell_type": "code",
   "execution_count": 570,
   "metadata": {},
   "outputs": [],
   "source": [
    "import jdaviz"
   ]
  },
  {
   "cell_type": "code",
   "execution_count": 571,
   "metadata": {},
   "outputs": [],
   "source": [
    "from jdaviz import SpecViz\n",
    "from jdaviz import CubeViz\n",
    "from jdaviz import MosViz\n",
    "from jdaviz import Imviz"
   ]
  },
  {
   "cell_type": "code",
   "execution_count": 572,
   "metadata": {},
   "outputs": [],
   "source": [
    "import warnings\n",
    "warnings.simplefilter('ignore')"
   ]
  },
  {
   "cell_type": "code",
   "execution_count": 573,
   "metadata": {},
   "outputs": [],
   "source": [
    "#https://spacetelescope.github.io/notebooks/notebooks/DrizzlePac/align_to_catalogs/align_to_catalogs.html\n",
    "import astropy.units as u\n",
    "import glob\n",
    "import numpy as np\n",
    "import matplotlib.pyplot as plt\n",
    "import os\n",
    "import astroquery\n",
    "\n",
    "from astropy.io import fits\n",
    "from astropy.table import Table\n",
    "from astropy.units import Quantity\n",
    "from astropy.coordinates import SkyCoord\n",
    "from astroquery import sha\n",
    "from astroquery.gaia import Gaia\n",
    "from astroquery.mast import Mast\n",
    "from astroquery.sdss import SDSS\n",
    "\n",
    "#from ccdproc import ImageFileCollection\n",
    "from IPython.display import Image\n",
    "\n",
    "from drizzlepac import tweakreg\n",
    "from drizzlepac import astrodrizzle"
   ]
  },
  {
   "cell_type": "code",
   "execution_count": 574,
   "metadata": {},
   "outputs": [
    {
     "name": "stderr",
     "output_type": "stream",
     "text": [
      "INFO:astroquery:MAST API token accepted, welcome Ori Fox\n",
      "2021-06-11 09:43:42,523 - stpipe - INFO - MAST API token accepted, welcome Ori Fox\n",
      "INFO:stpipe:MAST API token accepted, welcome Ori Fox\n"
     ]
    },
    {
     "name": "stdout",
     "output_type": "stream",
     "text": [
      "INFO: MAST API token accepted, welcome Ori Fox [astroquery.mast.auth]\n",
      "eppn: ofox@stsci.edu\n",
      "ezid: ofox\n",
      "attrib.uuid: c8e19103-c1b6-4787-91ec-c35d0f4ea5b2\n",
      "attrib.first_name: Ori\n",
      "attrib.last_name: Fox\n",
      "attrib.display_name: Ori Fox\n",
      "attrib.internal: 1\n",
      "attrib.department: MIRI\n",
      "attrib.email: ofox@stsci.edu\n",
      "attrib.Jwstcalengdataaccess: true\n",
      "anon: False\n",
      "scopes: ['mast:user:info', 'mast:exclusive_access']\n",
      "session: None\n",
      "token: 996ce91b...\n"
     ]
    }
   ],
   "source": [
    "# Login\n",
    "# https://auth.mast.stsci.edu/token\n",
    "Observations.login(token=\"996ce91baedf446987de44b80d454dc9\")\n",
    "sessioninfo = Observations.session_info()"
   ]
  },
  {
   "cell_type": "markdown",
   "metadata": {},
   "source": [
    "# Dick Shaw's Functions"
   ]
  },
  {
   "cell_type": "code",
   "execution_count": 620,
   "metadata": {},
   "outputs": [],
   "source": [
    "SERVER = 'mast'\n",
    "\n",
    "RET_COLUMNS = ['proposal_id','dataURL','obsid','obs_id']\n",
    "#SERVICES = {\n",
    "#            'SI_search': 'Mast.Jwst.Filtered.Miri',\n",
    "#            'Caom_search':'Mast.Caom.Filtered.JwstOps',\n",
    "#            'Product_search':'Mast.Caom.Products.JwstOps'\n",
    "#            }\n",
    "SERVICES = {\n",
    "            'SI_search': 'Mast.Jwst.Filtered.Miri',\n",
    "            'Caom_search':'Mast.Caom.Filtered.JwstTest2',\n",
    "            'Product_search':'Mast.Caom.Products.JwstTest2'\n",
    "            }"
   ]
  },
  {
   "cell_type": "code",
   "execution_count": 616,
   "metadata": {},
   "outputs": [],
   "source": [
    "def set_server_endpoints(server_name):\n",
    "    '''\n",
    "    Set server endpoints for AstroQuery.\n",
    "    \n",
    "    Parameters\n",
    "    ----------\n",
    "    server_name : str\n",
    "        Name of REST-ful server corresponding to JWST cluster.\n",
    "    '''\n",
    "    server = 'https://{}.stsci.edu'.format(server_name)\n",
    "    JwstObs = Mast()\n",
    "    JwstObs._portal_api_connection.MAST_REQUEST_URL = server + \"/portal_jwst/Mashup/Mashup.asmx/invoke\"\n",
    "    JwstObs._portal_api_connection.MAST_DOWNLOAD_URL = server + \"/jwst/api/v0.1/download/file\"\n",
    "    JwstObs._portal_api_connection.COLUMNS_CONFIG_URL = server + \"/portal_jwst/Mashup/Mashup.asmx/columnsconfig\"\n",
    "    JwstObs._portal_api_connection.MAST_BUNDLE_URL = server + \"/jwst/api/v0.1/download/bundle\"\n",
    "    return JwstObs"
   ]
  },
  {
   "cell_type": "code",
   "execution_count": 617,
   "metadata": {},
   "outputs": [],
   "source": [
    "def observation_query(JwstObs, progID, instrument, mjd_min, filt):\n",
    "    '''\n",
    "    Perform query for observations matching JWST instrument and program ID\n",
    "    that began after a particular date. \n",
    "    \n",
    "    Parameters\n",
    "    ----------\n",
    "    JwstObs : object\n",
    "        astroquery observation object\n",
    "    progID\n",
    "        JWST program identifier\n",
    "    instrument\n",
    "        JWST instrument used to obtain the observations\n",
    "    mjd_min\n",
    "        Date (MDJ) after which observations will be selected. This is the \n",
    "        lower end of the parameter range; the upper end is chosen to be about \n",
    "        10 years hence. \n",
    "    '''\n",
    "    columns = ','.join(RET_COLUMNS)\n",
    "    #service = SERVICES['Caom_search']\n",
    "    service = SERVICES['Caom_search']\n",
    "    params = {\"columns\":columns,\n",
    "              \"filters\":[\n",
    "                  {\"paramName\":\"obs_collection\",\"values\":[\"JWST\"]},\n",
    "                  {\"paramName\":\"instrument_name\",\"values\":[instrument]},\n",
    "                  {\"paramName\":\"proposal_id\",\"values\":[progID]},\n",
    "                  {\"paramName\":\"filters\",\"values\":[filt]},\n",
    "                  {\"paramName\":\"t_min\",\n",
    "                    \"values\":[{\"min\":mjd_min-60.,\"max\":mjd_min+60.}]},\n",
    "              ]}\n",
    "    obsTable = JwstObs.service_request(service, params)\n",
    "    return obsTable"
   ]
  },
  {
   "cell_type": "code",
   "execution_count": 552,
   "metadata": {},
   "outputs": [],
   "source": [
    "def product_query(JwstObs, obsTable):\n",
    "    '''\n",
    "    Perform query for data products based on obs_id's in observation table\n",
    "    \n",
    "    Parameters\n",
    "    ----------\n",
    "    JwstObs : object\n",
    "        astroquery observation object\n",
    "    obsTable : astropy table object\n",
    "    '''\n",
    "    obs_ids = ','.join(obsTable['obsid'])\n",
    "    service = SERVICES['Product_search']\n",
    "    params = {\"obsid\":obs_ids,\n",
    "              \"format\":\"json\"\n",
    "              }\n",
    "    productTable = JwstObs.service_request(service, params)\n",
    "    return productTable\n",
    "    "
   ]
  },
  {
   "cell_type": "code",
   "execution_count": 553,
   "metadata": {},
   "outputs": [],
   "source": [
    "def product_filter(table, prodList, gs_omit=True):\n",
    "    '''\n",
    "    Filter the list of products based on product semantic type\n",
    "    \n",
    "    Parameters\n",
    "    ----------\n",
    "    table : object\n",
    "        astropy table of products associated with observations\n",
    "    prodList : list of str\n",
    "        list of product type extensions to select\n",
    "    gs_omit\n",
    "        Omit associated guide-star products?\n",
    "    '''\n",
    "    mask = np.full(len(table), False)\n",
    "    gs_text = '_gs-'\n",
    "    for r in table:\n",
    "        mk = False\n",
    "        fileName = r['productFilename']\n",
    "        for p in prodList:\n",
    "            if p in fileName:\n",
    "                mk = mk | True\n",
    "                if gs_text in fileName:\n",
    "                    mk = not gs_omit\n",
    "    \n",
    "        mask[r.index] = mk\n",
    "    \n",
    "    return mask\n",
    "\n"
   ]
  },
  {
   "cell_type": "code",
   "execution_count": 554,
   "metadata": {},
   "outputs": [],
   "source": [
    "def fetch_products(JwstObs, product_table):\n",
    "    '''\n",
    "    Retrieve specified data products from the MAST web service\n",
    "    \n",
    "    Parameters\n",
    "    ----------\n",
    "    JwstObs : object\n",
    "        astroquery observation object\n",
    "    product_table : object\n",
    "        astropy table of selected data products\n",
    "    '''\n",
    "    uri_list_str = '&'.join([\"uri=\" + x for x in product_table[\"dataURI\"]])\n",
    "    now_str = ''.join(str(x).zfill(2) for x in Time.now().ymdhms).split('.')[0]\n",
    "    local_path = 'mastDownload_' + now_str + '.sh'\n",
    "    download_url = JwstObs._portal_api_connection.MAST_BUNDLE_URL + \".sh?\" + uri_list_str\n",
    "    JwstObs._download_file(download_url, local_path)\n",
    "    \n",
    "    return local_path\n",
    "\n"
   ]
  },
  {
   "cell_type": "code",
   "execution_count": 555,
   "metadata": {},
   "outputs": [],
   "source": [
    "def fetch_files(progID, instrument, start_date, filt, extension, gs_omit, download):\n",
    "    '''\n",
    "    Driver to query for and retriev data files. The steps are: \n",
    "    1. Set the configuration for the web service calls\n",
    "    2. Query for MAST observations \n",
    "    3. Query for data products associated with the observations\n",
    "    4. Filter the list of products for the deisred types (e.g., \"_uncal.fits\")\n",
    "    5. Report and/or retieve the data products\n",
    "    \n",
    "    Parameters\n",
    "    ----------\n",
    "    prodID : str\n",
    "        ID of JWST program for which data were obtained\n",
    "    instrument : str\n",
    "        Name of JWST instrument used to obtain data\n",
    "    start_date : float\n",
    "        MJD date after which observations will be searched\n",
    "    gs_omit : bool\n",
    "        Omit associated guide-star data files?\n",
    "    download : bool\n",
    "        Generate curl script to download selected data files?\n",
    "    '''\n",
    "    JwstObs = set_server_endpoints(SERVER)\n",
    "    obsTable = observation_query(JwstObs, progID, instrument, start_date, filt)\n",
    "    if len(obsTable) > 0:\n",
    "        products = product_query(JwstObs, obsTable)\n",
    "        mask = product_filter(products, [extension], gs_omit)\n",
    "        selected_products = products[mask]\n",
    "        selected_products['productFilename'].pprint(max_lines=-1, show_name=False)\n",
    "        if (download):\n",
    "            path = fetch_products(JwstObs, selected_products)\n",
    "    else:\n",
    "        print(\"No matching observations\")\n",
    "        path = 'Null'\n",
    "    \n",
    "    return path"
   ]
  },
  {
   "cell_type": "markdown",
   "metadata": {},
   "source": [
    "# Older Code"
   ]
  },
  {
   "cell_type": "markdown",
   "metadata": {},
   "source": [
    "https://outerspace.stsci.edu/pages/viewpage.action?spaceKey=JARI&title=JWST+Archive%3A+Retrieve+Observations\\\n",
    "https://github.com/spacetelescope/JWST_Planned_Observations/blob/master/Querying_JWST_in_astroquery.ipynb\\\n",
    "https://mast.stsci.edu/api/v0/_c_a_o_mfields.html\\"
   ]
  },
  {
   "cell_type": "code",
   "execution_count": 78,
   "metadata": {},
   "outputs": [],
   "source": [
    "#APT_LINK = 'http://www.stsci.edu/cgi-bin/get-proposal-info?id={}&observatory=JWST'\n",
    "#\n",
    "#def get_program_URL(program_id):\n",
    "#    \"\"\"\n",
    "#    Generate the URL for program status information, given a program ID. \n",
    "#    \"\"\"\n",
    "#    return APT_LINK.format(program_id)"
   ]
  },
  {
   "cell_type": "code",
   "execution_count": 79,
   "metadata": {},
   "outputs": [],
   "source": [
    "#import astropy\n",
    "#from astropy import table\n",
    "#from astropy.table import Table\n",
    "#from astropy import units as u\n",
    "#from astropy.coordinates import Angle\n",
    "#\n",
    "#def display_results(obs):\n",
    "#    \"\"\"\n",
    "#    Simple display of results related to identifying potentially duplicating targets.\n",
    "#    Observation program title is truncated for presentation in this notebook\n",
    "#    \"\"\"\n",
    "#    # build the URL to the JWST programs.\n",
    "#    obs['proposal_URL'] = [get_program_URL(x) for x in obs['proposal_id']]\n",
    "#    obs['obs_title'] = [x[:70] for x in obs['obs_title']]\n",
    "#    obs['obs_title'].info.format = '<'\n",
    "#    obs['target_name', 'instrument_name', 'filters', 'dataproduct_type', 't_exptime', \n",
    "#        'proposal_id'].pprint(max_lines=40, max_width=90)\n",
    "#    \n",
    "#    print(\"\\nUnique Program Titles:\")\n",
    "#    table.unique(obs, keys=['proposal_id'])['proposal_id','obs_title'].pprint(max_width=100)\n",
    "#    print(\"\\nUnique URLs to status of existing programs:\")\n",
    "#    for i in set(obs['proposal_URL']):\n",
    "#        print(i)"
   ]
  },
  {
   "cell_type": "code",
   "execution_count": 80,
   "metadata": {},
   "outputs": [],
   "source": [
    "#server = \"https://mast.stsci.edu\"\n",
    "#JwstObs = Mast()\n",
    "#JwstObs._portal_api_connection.MAST_REQUEST_URL = server + \"/portal_jwst/Mashup/Mashup.asmx/invoke\"\n",
    "#JwstObs._portal_api_connection.MAST_DOWNLOAD_URL = server + \"/jwst/api/v0.1/download/file\"\n",
    "#JwstObs._portal_api_connection.COLUMNS_CONFIG_URL = server + \"/portal_jwst/Mashup/Mashup.asmx/columnsconfig\"\n",
    "#JwstObs._portal_api_connection.MAST_BUNDLE_URL = server + \"/jwst/api/v0.1/download/bundle\""
   ]
  },
  {
   "cell_type": "code",
   "execution_count": 84,
   "metadata": {},
   "outputs": [],
   "source": [
    "#instrument = 'Nirspec'\n",
    "#program = '00675'\n",
    "#FIELDS = [\n",
    "#        'program',\n",
    "#        'observtn',\n",
    "#        'instrume',\n",
    "#        'productLevel',\n",
    "#        ]"
   ]
  },
  {
   "cell_type": "code",
   "execution_count": 124,
   "metadata": {},
   "outputs": [],
   "source": [
    "#service = 'Mast.Jwst.Filtered.' + instrument\n",
    "##params = {\"columns\":\",\".join(FIELDS),\n",
    "##          \"filters\":[{\"paramName\":\"program\",\"values\":[program]}]}\n",
    "\n",
    "\n",
    "#columns = ','.join(RET_COLUMNS)\n",
    "#service = SERVICES['Caom_search']\n",
    "#progID = program\n",
    "#mjd_min = 59215\n",
    "#start_date = mjd_min\n",
    "#params = {\"columns\":columns,\n",
    "#              \"filters\":[\n",
    "#                  {\"paramName\":\"obs_collection\",\"values\":[\"JWST\"]},\n",
    "#                  {\"paramName\":\"instrument_name\",\"values\":[instrument]},\n",
    "#                  {\"paramName\":\"proposal_id\",\"values\":[progID]},\n",
    "#                  {\"paramName\":\"t_min\",\n",
    "#                    \"values\":[{\"min\":mjd_min,\"max\":mjd_min+60.}]},\n",
    "#              ]}\n",
    "#instr_obs = JwstObs.service_request(service, params)\n",
    "# \n",
    "## Narrow the results to unique matches\n",
    "#obs_table = table.unique(table.vstack(instr_obs))"
   ]
  },
  {
   "cell_type": "code",
   "execution_count": 126,
   "metadata": {},
   "outputs": [],
   "source": [
    "#obsTable = observation_query(JwstObs, progID, instrument, start_date)"
   ]
  },
  {
   "cell_type": "code",
   "execution_count": 122,
   "metadata": {},
   "outputs": [
    {
     "name": "stdout",
     "output_type": "stream",
     "text": [
      "proposal_id ...                  obs_id                \n",
      "----------- ... ---------------------------------------\n",
      "      00675 ... jw00675-c1002_t010_nirspec_g140h-f100lp\n",
      "      00675 ... jw00675-c1002_t010_nirspec_g235h-f170lp\n",
      "      00675 ... jw00675-c1002_t010_nirspec_g395h-f290lp\n",
      "      00675 ... jw00675-c1002_t012_nirspec_g140h-f100lp\n",
      "      00675 ... jw00675-c1002_t012_nirspec_g235h-f170lp\n",
      "      00675 ... jw00675-c1002_t012_nirspec_g395h-f290lp\n",
      "      00675 ...  jw00675-o006_t003_nirspec_g395h-f290lp\n",
      "      00675 ...  jw00675-o021_t010_nirspec_g140h-f100lp\n",
      "      00675 ...  jw00675-o021_t010_nirspec_g235h-f170lp\n",
      "      00675 ...  jw00675-o021_t010_nirspec_g395h-f290lp\n",
      "        ... ...                                     ...\n",
      "      00675 ...          jw00675023001_03101_00002_nrs1\n",
      "      00675 ...          jw00675023001_06101_00001_nrs1\n",
      "      00675 ...          jw00675023001_06101_00001_nrs2\n",
      "      00675 ...          jw00675023001_06101_00002_nrs1\n",
      "      00675 ...          jw00675023001_06101_00002_nrs2\n",
      "      00675 ...          jw00675023001_08101_00001_nrs1\n",
      "      00675 ...          jw00675023001_08101_00001_nrs2\n",
      "      00675 ...          jw00675023001_08101_00002_nrs1\n",
      "      00675 ...          jw00675023001_08101_00002_nrs2\n",
      "      00675 ...          jw00675023001_10101_00001_nrs1\n",
      "      00675 ...          jw00675023001_10101_00001_nrs2\n",
      "Length = 122 rows\n"
     ]
    }
   ],
   "source": [
    "#print(obs_table)"
   ]
  },
  {
   "cell_type": "markdown",
   "metadata": {},
   "source": [
    "# Find Files, Download, and Open for each of the Data Modes"
   ]
  },
  {
   "cell_type": "markdown",
   "metadata": {},
   "source": [
    "NIRSpec MOS\\\n",
    "NIRSpec IFU\\\n",
    "NIRSpec FS\\\n",
    "NIRSpec BOTS\\\n",
    "\\\n",
    "MIRI Imager\\\n",
    "MIRI LRS\\\n",
    "MIRI MRS\\\n",
    "MIRI Coronagraphic Imaging\\\n",
    "\\\n",
    "NIRCam Imaging\\\n",
    "NIRCam Coronagraphic Imaging\\\n",
    "NIRCam Grism TSO\\\n",
    "NIRCam WFSS\\\n",
    "\\\n",
    "NIRISS Imaging\\\n",
    "NIRISS WFSS\\\n",
    "NIRISS SOSS\\\n",
    "NIRISS AMI\\"
   ]
  },
  {
   "cell_type": "markdown",
   "metadata": {},
   "source": [
    "## NIRSpec MOS"
   ]
  },
  {
   "cell_type": "markdown",
   "metadata": {},
   "source": [
    "No data in Rossy's table is green."
   ]
  },
  {
   "cell_type": "markdown",
   "metadata": {},
   "source": [
    "## NIRSpec IFU"
   ]
  },
  {
   "cell_type": "code",
   "execution_count": 621,
   "metadata": {},
   "outputs": [
    {
     "name": "stdout",
     "output_type": "stream",
     "text": [
      " obsID   obs_collection ...    dataRights    calib_level\n",
      "-------- -------------- ... ---------------- -----------\n",
      "55734929           JWST ... EXCLUSIVE_ACCESS           3\n",
      "55734873           JWST ... EXCLUSIVE_ACCESS           3\n",
      "55734548           JWST ... EXCLUSIVE_ACCESS           2\n",
      "55734562           JWST ... EXCLUSIVE_ACCESS           2\n",
      "55734553           JWST ... EXCLUSIVE_ACCESS           2\n",
      "55734557           JWST ... EXCLUSIVE_ACCESS           2\n",
      "55734565           JWST ... EXCLUSIVE_ACCESS           2\n",
      "55734568           JWST ... EXCLUSIVE_ACCESS           2\n",
      "55734121           JWST ... EXCLUSIVE_ACCESS           2\n",
      "55734122           JWST ... EXCLUSIVE_ACCESS           2\n",
      "55734410           JWST ... EXCLUSIVE_ACCESS           2\n",
      "55734425           JWST ... EXCLUSIVE_ACCESS           2\n",
      "55734428           JWST ... EXCLUSIVE_ACCESS           2\n",
      "55734414           JWST ... EXCLUSIVE_ACCESS           2\n",
      "55733823           JWST ... EXCLUSIVE_ACCESS           2\n",
      "55733824           JWST ... EXCLUSIVE_ACCESS           2\n",
      "55734409           JWST ... EXCLUSIVE_ACCESS           2\n",
      "55734419           JWST ... EXCLUSIVE_ACCESS           2\n"
     ]
    }
   ],
   "source": [
    "instrument = 'Nirspec'\n",
    "program = '00675'\n",
    "start_date = 59215\n",
    "#program = '00626'\n",
    "#start_date = 59081\n",
    "columns = ','.join(RET_COLUMNS)\n",
    "service = SERVICES['Caom_search']\n",
    "progID = program\n",
    "filt='F100LP'\n",
    "\n",
    "extension='_s3d.fits'\n",
    "JwstObs = set_server_endpoints(SERVER)\n",
    "obsTable = observation_query(JwstObs, progID, instrument, start_date, filt)\n",
    "products = product_query(JwstObs, obsTable)\n",
    "mask = product_filter(products, [extension], True)\n",
    "selected_products = products[mask]\n",
    "print(selected_products)\n",
    "#print(obsTable)"
   ]
  },
  {
   "cell_type": "code",
   "execution_count": 622,
   "metadata": {},
   "outputs": [
    {
     "name": "stdout",
     "output_type": "stream",
     "text": [
      "jw00675-o021_t010_nirspec_g140h-f100lp_s3d.fits\n",
      "jw00675-o022_t012_nirspec_g140h-f100lp_s3d.fits\n",
      "Downloading URL https://mast.stsci.edu/jwst/api/v0.1/download/bundle.sh?uri=mast:JWST/product/jw00675-o021_t010_nirspec_g140h-f100lp_s3d.fits&uri=mast:JWST/product/jw00675-o022_t012_nirspec_g140h-f100lp_s3d.fits to mastDownload_20210611162339.sh ... [Done]\n",
      "jw00675-o021_t010_nirspec_g140h-f100lp_x1d.fits\n",
      "jw00675-o022_t012_nirspec_g140h-f100lp_x1d.fits\n",
      "Downloading URL https://mast.stsci.edu/jwst/api/v0.1/download/bundle.sh?uri=mast:JWST/product/jw00675-o021_t010_nirspec_g140h-f100lp_x1d.fits&uri=mast:JWST/product/jw00675-o022_t012_nirspec_g140h-f100lp_x1d.fits to mastDownload_20210611162340.sh ... [Done]\n"
     ]
    }
   ],
   "source": [
    "#S3D and #X1D\n",
    "\n",
    "script = fetch_files(progID, instrument, start_date, filt, 'lp_s3d.fits', True, True)\n",
    "script = fetch_files(progID, instrument, start_date, filt, 'lp_x1d.fits', True, True)"
   ]
  },
  {
   "cell_type": "code",
   "execution_count": 591,
   "metadata": {},
   "outputs": [],
   "source": [
    "filename = '/Users/ofox/data/jwst/dat_pyinthesky/jdat_notebooks/helper_classes/data/NIRSpec/IFU/00626064/jw00626-o064_t007_nirspec_tg235h_g235h-f170lp_s3d.fits'"
   ]
  },
  {
   "cell_type": "code",
   "execution_count": 585,
   "metadata": {},
   "outputs": [
    {
     "data": {
      "application/vnd.jupyter.widget-view+json": {
       "model_id": "4bb6030546bf49fda799eabaa2fe9bd0",
       "version_major": 2,
       "version_minor": 0
      },
      "text/plain": [
       "Application(components={'g-viewer-tab': '<template>\\n  <component :is=\"stack.container\">\\n    <g-viewer-tab\\n …"
      ]
     },
     "metadata": {},
     "output_type": "display_data"
    }
   ],
   "source": [
    "cubeviz = CubeViz()\n",
    "cubeviz.app"
   ]
  },
  {
   "cell_type": "code",
   "execution_count": 593,
   "metadata": {},
   "outputs": [
    {
     "name": "stderr",
     "output_type": "stream",
     "text": [
      "WARNING: No spectral axis found; header may be non-compliant. [spectral_cube.cube_utils]\n",
      "WARNING:astropy:No spectral axis found; header may be non-compliant.\n",
      "2021-06-11 11:28:27,542 - stpipe - WARNING - No spectral axis found; header may be non-compliant.\n",
      "WARNING:stpipe:No spectral axis found; header may be non-compliant.\n",
      "WARNING: No spectral axis found; header may be non-compliant. [spectral_cube.cube_utils]\n",
      "WARNING:astropy:No spectral axis found; header may be non-compliant.\n",
      "2021-06-11 11:28:27,757 - stpipe - WARNING - No spectral axis found; header may be non-compliant.\n",
      "WARNING:stpipe:No spectral axis found; header may be non-compliant.\n",
      "WARNING: No spectral axis found; header may be non-compliant. [spectral_cube.cube_utils]\n",
      "WARNING:astropy:No spectral axis found; header may be non-compliant.\n",
      "2021-06-11 11:28:27,761 - stpipe - WARNING - No spectral axis found; header may be non-compliant.\n",
      "WARNING:stpipe:No spectral axis found; header may be non-compliant.\n",
      "WARNING: No spectral axis found; header may be non-compliant. [spectral_cube.cube_utils]\n",
      "WARNING:astropy:No spectral axis found; header may be non-compliant.\n",
      "2021-06-11 11:28:29,080 - stpipe - WARNING - No spectral axis found; header may be non-compliant.\n",
      "WARNING:stpipe:No spectral axis found; header may be non-compliant.\n",
      "WARNING: No spectral axis found; header may be non-compliant. [spectral_cube.cube_utils]\n",
      "WARNING:astropy:No spectral axis found; header may be non-compliant.\n",
      "2021-06-11 11:28:29,574 - stpipe - WARNING - No spectral axis found; header may be non-compliant.\n",
      "WARNING:stpipe:No spectral axis found; header may be non-compliant.\n",
      "WARNING: No spectral axis found; header may be non-compliant. [spectral_cube.cube_utils]\n",
      "WARNING:astropy:No spectral axis found; header may be non-compliant.\n",
      "2021-06-11 11:28:29,985 - stpipe - WARNING - No spectral axis found; header may be non-compliant.\n",
      "WARNING:stpipe:No spectral axis found; header may be non-compliant.\n"
     ]
    }
   ],
   "source": [
    "cubeviz.load_data(filename)"
   ]
  },
  {
   "cell_type": "code",
   "execution_count": 594,
   "metadata": {},
   "outputs": [],
   "source": [
    "from jdaviz import SpecViz\n",
    "specviz = SpecViz()"
   ]
  },
  {
   "cell_type": "code",
   "execution_count": 595,
   "metadata": {},
   "outputs": [
    {
     "data": {
      "application/vnd.jupyter.widget-view+json": {
       "model_id": "1f3c803722af43c8b56132057ed961fa",
       "version_major": 2,
       "version_minor": 0
      },
      "text/plain": [
       "Application(components={'g-viewer-tab': '<template>\\n  <component :is=\"stack.container\">\\n    <g-viewer-tab\\n …"
      ]
     },
     "metadata": {},
     "output_type": "display_data"
    }
   ],
   "source": [
    "#Developer note: How do you scroll interactingvely with the mouse?\n",
    "specviz.app"
   ]
  },
  {
   "cell_type": "code",
   "execution_count": 596,
   "metadata": {},
   "outputs": [
    {
     "ename": "RuntimeError",
     "evalue": "Keyword SRCTYPE is None.  It should be 'POINT' or 'EXTENDED'. Can't decide between `flux` and `surf_bright` columns.",
     "output_type": "error",
     "traceback": [
      "\u001b[0;31m---------------------------------------------------------------------------\u001b[0m",
      "\u001b[0;31mRuntimeError\u001b[0m                              Traceback (most recent call last)",
      "\u001b[0;32m<ipython-input-596-7440ce5247d1>\u001b[0m in \u001b[0;36m<module>\u001b[0;34m\u001b[0m\n\u001b[1;32m      1\u001b[0m \u001b[0mspectrum\u001b[0m \u001b[0;34m=\u001b[0m \u001b[0;34m'/Users/ofox/data/jwst/dat_pyinthesky/jdat_notebooks/helper_classes/data/NIRSpec/IFU/00626064/jw00626-o064_t007_nirspec_tg235h_g235h-f170lp_x1d.fits'\u001b[0m\u001b[0;34m\u001b[0m\u001b[0;34m\u001b[0m\u001b[0m\n\u001b[0;32m----> 2\u001b[0;31m \u001b[0mspecviz\u001b[0m\u001b[0;34m.\u001b[0m\u001b[0mload_spectrum\u001b[0m\u001b[0;34m(\u001b[0m\u001b[0mspectrum\u001b[0m\u001b[0;34m,\u001b[0m \u001b[0;34m\"IFU 1D\"\u001b[0m\u001b[0;34m)\u001b[0m\u001b[0;34m\u001b[0m\u001b[0;34m\u001b[0m\u001b[0m\n\u001b[0m",
      "\u001b[0;32m~/miniconda3/envs/helper/lib/python3.9/site-packages/jdaviz/configs/specviz/helper.py\u001b[0m in \u001b[0;36mload_spectrum\u001b[0;34m(self, data, data_label, format, show_in_viewer)\u001b[0m\n\u001b[1;32m     26\u001b[0m \u001b[0;34m\u001b[0m\u001b[0m\n\u001b[1;32m     27\u001b[0m     \u001b[0;32mdef\u001b[0m \u001b[0mload_spectrum\u001b[0m\u001b[0;34m(\u001b[0m\u001b[0mself\u001b[0m\u001b[0;34m,\u001b[0m \u001b[0mdata\u001b[0m\u001b[0;34m,\u001b[0m \u001b[0mdata_label\u001b[0m\u001b[0;34m=\u001b[0m\u001b[0;32mNone\u001b[0m\u001b[0;34m,\u001b[0m \u001b[0mformat\u001b[0m\u001b[0;34m=\u001b[0m\u001b[0;32mNone\u001b[0m\u001b[0;34m,\u001b[0m \u001b[0mshow_in_viewer\u001b[0m\u001b[0;34m=\u001b[0m\u001b[0;32mTrue\u001b[0m\u001b[0;34m)\u001b[0m\u001b[0;34m:\u001b[0m\u001b[0;34m\u001b[0m\u001b[0;34m\u001b[0m\u001b[0m\n\u001b[0;32m---> 28\u001b[0;31m         super().load_data(data,\n\u001b[0m\u001b[1;32m     29\u001b[0m                           \u001b[0;34m'specviz-spectrum1d-parser'\u001b[0m\u001b[0;34m,\u001b[0m\u001b[0;34m\u001b[0m\u001b[0;34m\u001b[0m\u001b[0m\n\u001b[1;32m     30\u001b[0m                           \u001b[0mdata_label\u001b[0m\u001b[0;34m=\u001b[0m\u001b[0mdata_label\u001b[0m\u001b[0;34m,\u001b[0m\u001b[0;34m\u001b[0m\u001b[0;34m\u001b[0m\u001b[0m\n",
      "\u001b[0;32m~/miniconda3/envs/helper/lib/python3.9/site-packages/jdaviz/core/helpers.py\u001b[0m in \u001b[0;36mload_data\u001b[0;34m(self, data, parser_reference, **kwargs)\u001b[0m\n\u001b[1;32m     39\u001b[0m \u001b[0;34m\u001b[0m\u001b[0m\n\u001b[1;32m     40\u001b[0m     \u001b[0;32mdef\u001b[0m \u001b[0mload_data\u001b[0m\u001b[0;34m(\u001b[0m\u001b[0mself\u001b[0m\u001b[0;34m,\u001b[0m \u001b[0mdata\u001b[0m\u001b[0;34m,\u001b[0m \u001b[0mparser_reference\u001b[0m\u001b[0;34m=\u001b[0m\u001b[0;32mNone\u001b[0m\u001b[0;34m,\u001b[0m \u001b[0;34m**\u001b[0m\u001b[0mkwargs\u001b[0m\u001b[0;34m)\u001b[0m\u001b[0;34m:\u001b[0m\u001b[0;34m\u001b[0m\u001b[0;34m\u001b[0m\u001b[0m\n\u001b[0;32m---> 41\u001b[0;31m         \u001b[0mself\u001b[0m\u001b[0;34m.\u001b[0m\u001b[0mapp\u001b[0m\u001b[0;34m.\u001b[0m\u001b[0mload_data\u001b[0m\u001b[0;34m(\u001b[0m\u001b[0mdata\u001b[0m\u001b[0;34m,\u001b[0m \u001b[0mparser_reference\u001b[0m\u001b[0;34m=\u001b[0m\u001b[0mparser_reference\u001b[0m\u001b[0;34m,\u001b[0m \u001b[0;34m**\u001b[0m\u001b[0mkwargs\u001b[0m\u001b[0;34m)\u001b[0m\u001b[0;34m\u001b[0m\u001b[0;34m\u001b[0m\u001b[0m\n\u001b[0m\u001b[1;32m     42\u001b[0m \u001b[0;34m\u001b[0m\u001b[0m\n\u001b[1;32m     43\u001b[0m     \u001b[0;34m@\u001b[0m\u001b[0mproperty\u001b[0m\u001b[0;34m\u001b[0m\u001b[0;34m\u001b[0m\u001b[0m\n",
      "\u001b[0;32m~/miniconda3/envs/helper/lib/python3.9/site-packages/jdaviz/app.py\u001b[0m in \u001b[0;36mload_data\u001b[0;34m(self, file_obj, parser_reference, **kwargs)\u001b[0m\n\u001b[1;32m    306\u001b[0m                 \u001b[0;31m# If the parser returns something other than known, assume it's\u001b[0m\u001b[0;34m\u001b[0m\u001b[0;34m\u001b[0m\u001b[0;34m\u001b[0m\u001b[0m\n\u001b[1;32m    307\u001b[0m                 \u001b[0;31m#  a message we want to make the user aware of.\u001b[0m\u001b[0;34m\u001b[0m\u001b[0;34m\u001b[0m\u001b[0;34m\u001b[0m\u001b[0m\n\u001b[0;32m--> 308\u001b[0;31m                 \u001b[0mmsg\u001b[0m \u001b[0;34m=\u001b[0m \u001b[0mparser\u001b[0m\u001b[0;34m(\u001b[0m\u001b[0mself\u001b[0m\u001b[0;34m,\u001b[0m \u001b[0mfile_obj\u001b[0m\u001b[0;34m,\u001b[0m \u001b[0;34m**\u001b[0m\u001b[0mkwargs\u001b[0m\u001b[0;34m)\u001b[0m\u001b[0;34m\u001b[0m\u001b[0;34m\u001b[0m\u001b[0m\n\u001b[0m\u001b[1;32m    309\u001b[0m \u001b[0;34m\u001b[0m\u001b[0m\n\u001b[1;32m    310\u001b[0m                 \u001b[0;32mif\u001b[0m \u001b[0mmsg\u001b[0m \u001b[0;32mis\u001b[0m \u001b[0;32mnot\u001b[0m \u001b[0;32mNone\u001b[0m\u001b[0;34m:\u001b[0m\u001b[0;34m\u001b[0m\u001b[0;34m\u001b[0m\u001b[0m\n",
      "\u001b[0;32m~/miniconda3/envs/helper/lib/python3.9/site-packages/jdaviz/configs/specviz/plugins/parsers.py\u001b[0m in \u001b[0;36mspecviz_spectrum1d_parser\u001b[0;34m(app, data, data_label, format, show_in_viewer)\u001b[0m\n\u001b[1;32m     36\u001b[0m \u001b[0;34m\u001b[0m\u001b[0m\n\u001b[1;32m     37\u001b[0m         \u001b[0;32mif\u001b[0m \u001b[0mpath\u001b[0m\u001b[0;34m.\u001b[0m\u001b[0mis_file\u001b[0m\u001b[0;34m(\u001b[0m\u001b[0;34m)\u001b[0m\u001b[0;34m:\u001b[0m\u001b[0;34m\u001b[0m\u001b[0;34m\u001b[0m\u001b[0m\n\u001b[0;32m---> 38\u001b[0;31m             \u001b[0mdata\u001b[0m \u001b[0;34m=\u001b[0m \u001b[0mSpectrum1D\u001b[0m\u001b[0;34m.\u001b[0m\u001b[0mread\u001b[0m\u001b[0;34m(\u001b[0m\u001b[0mstr\u001b[0m\u001b[0;34m(\u001b[0m\u001b[0mpath\u001b[0m\u001b[0;34m)\u001b[0m\u001b[0;34m,\u001b[0m \u001b[0mformat\u001b[0m\u001b[0;34m=\u001b[0m\u001b[0mformat\u001b[0m\u001b[0;34m)\u001b[0m\u001b[0;34m\u001b[0m\u001b[0;34m\u001b[0m\u001b[0m\n\u001b[0m\u001b[1;32m     39\u001b[0m         \u001b[0;32melse\u001b[0m\u001b[0;34m:\u001b[0m\u001b[0;34m\u001b[0m\u001b[0;34m\u001b[0m\u001b[0m\n\u001b[1;32m     40\u001b[0m             \u001b[0;32mraise\u001b[0m \u001b[0mFileNotFoundError\u001b[0m\u001b[0;34m(\u001b[0m\u001b[0;34m\"No such file: \"\u001b[0m \u001b[0;34m+\u001b[0m \u001b[0mstr\u001b[0m\u001b[0;34m(\u001b[0m\u001b[0mpath\u001b[0m\u001b[0;34m)\u001b[0m\u001b[0;34m)\u001b[0m\u001b[0;34m\u001b[0m\u001b[0;34m\u001b[0m\u001b[0m\n",
      "\u001b[0;32m~/miniconda3/envs/helper/lib/python3.9/site-packages/astropy/nddata/mixins/ndio.py\u001b[0m in \u001b[0;36m__call__\u001b[0;34m(self, *args, **kwargs)\u001b[0m\n\u001b[1;32m     56\u001b[0m \u001b[0;34m\u001b[0m\u001b[0m\n\u001b[1;32m     57\u001b[0m     \u001b[0;32mdef\u001b[0m \u001b[0m__call__\u001b[0m\u001b[0;34m(\u001b[0m\u001b[0mself\u001b[0m\u001b[0;34m,\u001b[0m \u001b[0;34m*\u001b[0m\u001b[0margs\u001b[0m\u001b[0;34m,\u001b[0m \u001b[0;34m**\u001b[0m\u001b[0mkwargs\u001b[0m\u001b[0;34m)\u001b[0m\u001b[0;34m:\u001b[0m\u001b[0;34m\u001b[0m\u001b[0;34m\u001b[0m\u001b[0m\n\u001b[0;32m---> 58\u001b[0;31m         \u001b[0;32mreturn\u001b[0m \u001b[0mregistry\u001b[0m\u001b[0;34m.\u001b[0m\u001b[0mread\u001b[0m\u001b[0;34m(\u001b[0m\u001b[0mself\u001b[0m\u001b[0;34m.\u001b[0m\u001b[0m_cls\u001b[0m\u001b[0;34m,\u001b[0m \u001b[0;34m*\u001b[0m\u001b[0margs\u001b[0m\u001b[0;34m,\u001b[0m \u001b[0;34m**\u001b[0m\u001b[0mkwargs\u001b[0m\u001b[0;34m)\u001b[0m\u001b[0;34m\u001b[0m\u001b[0;34m\u001b[0m\u001b[0m\n\u001b[0m\u001b[1;32m     59\u001b[0m \u001b[0;34m\u001b[0m\u001b[0m\n\u001b[1;32m     60\u001b[0m \u001b[0;34m\u001b[0m\u001b[0m\n",
      "\u001b[0;32m~/miniconda3/envs/helper/lib/python3.9/site-packages/astropy/io/registry.py\u001b[0m in \u001b[0;36mread\u001b[0;34m(cls, format, cache, *args, **kwargs)\u001b[0m\n\u001b[1;32m    518\u001b[0m \u001b[0;34m\u001b[0m\u001b[0m\n\u001b[1;32m    519\u001b[0m         \u001b[0mreader\u001b[0m \u001b[0;34m=\u001b[0m \u001b[0mget_reader\u001b[0m\u001b[0;34m(\u001b[0m\u001b[0mformat\u001b[0m\u001b[0;34m,\u001b[0m \u001b[0mcls\u001b[0m\u001b[0;34m)\u001b[0m\u001b[0;34m\u001b[0m\u001b[0;34m\u001b[0m\u001b[0m\n\u001b[0;32m--> 520\u001b[0;31m         \u001b[0mdata\u001b[0m \u001b[0;34m=\u001b[0m \u001b[0mreader\u001b[0m\u001b[0;34m(\u001b[0m\u001b[0;34m*\u001b[0m\u001b[0margs\u001b[0m\u001b[0;34m,\u001b[0m \u001b[0;34m**\u001b[0m\u001b[0mkwargs\u001b[0m\u001b[0;34m)\u001b[0m\u001b[0;34m\u001b[0m\u001b[0;34m\u001b[0m\u001b[0m\n\u001b[0m\u001b[1;32m    521\u001b[0m \u001b[0;34m\u001b[0m\u001b[0m\n\u001b[1;32m    522\u001b[0m         \u001b[0;32mif\u001b[0m \u001b[0;32mnot\u001b[0m \u001b[0misinstance\u001b[0m\u001b[0;34m(\u001b[0m\u001b[0mdata\u001b[0m\u001b[0;34m,\u001b[0m \u001b[0mcls\u001b[0m\u001b[0;34m)\u001b[0m\u001b[0;34m:\u001b[0m\u001b[0;34m\u001b[0m\u001b[0;34m\u001b[0m\u001b[0m\n",
      "\u001b[0;32m~/miniconda3/envs/helper/lib/python3.9/site-packages/specutils/io/default_loaders/jwst_reader.py\u001b[0m in \u001b[0;36mjwst_x1d_single_loader\u001b[0;34m(file_obj, **kwargs)\u001b[0m\n\u001b[1;32m     92\u001b[0m         \u001b[0mThe\u001b[0m \u001b[0mspectrum\u001b[0m \u001b[0mcontained\u001b[0m \u001b[0;32min\u001b[0m \u001b[0mthe\u001b[0m \u001b[0mfile\u001b[0m\u001b[0;34m.\u001b[0m\u001b[0;34m\u001b[0m\u001b[0;34m\u001b[0m\u001b[0m\n\u001b[1;32m     93\u001b[0m     \"\"\"\n\u001b[0;32m---> 94\u001b[0;31m     \u001b[0mspectrum_list\u001b[0m \u001b[0;34m=\u001b[0m \u001b[0m_jwst_x1d_loader\u001b[0m\u001b[0;34m(\u001b[0m\u001b[0mfile_obj\u001b[0m\u001b[0;34m,\u001b[0m \u001b[0;34m**\u001b[0m\u001b[0mkwargs\u001b[0m\u001b[0;34m)\u001b[0m\u001b[0;34m\u001b[0m\u001b[0;34m\u001b[0m\u001b[0m\n\u001b[0m\u001b[1;32m     95\u001b[0m     \u001b[0;32mif\u001b[0m \u001b[0mlen\u001b[0m\u001b[0;34m(\u001b[0m\u001b[0mspectrum_list\u001b[0m\u001b[0;34m)\u001b[0m \u001b[0;34m==\u001b[0m \u001b[0;36m1\u001b[0m\u001b[0;34m:\u001b[0m\u001b[0;34m\u001b[0m\u001b[0;34m\u001b[0m\u001b[0m\n\u001b[1;32m     96\u001b[0m         \u001b[0;32mreturn\u001b[0m \u001b[0mspectrum_list\u001b[0m\u001b[0;34m[\u001b[0m\u001b[0;36m0\u001b[0m\u001b[0;34m]\u001b[0m\u001b[0;34m\u001b[0m\u001b[0;34m\u001b[0m\u001b[0m\n",
      "\u001b[0;32m~/miniconda3/envs/helper/lib/python3.9/site-packages/specutils/io/default_loaders/jwst_reader.py\u001b[0m in \u001b[0;36m_jwst_x1d_loader\u001b[0;34m(file_obj, **kwargs)\u001b[0m\n\u001b[1;32m    169\u001b[0m \u001b[0;34m\u001b[0m\u001b[0m\n\u001b[1;32m    170\u001b[0m             \u001b[0;32melse\u001b[0m\u001b[0;34m:\u001b[0m\u001b[0;34m\u001b[0m\u001b[0;34m\u001b[0m\u001b[0m\n\u001b[0;32m--> 171\u001b[0;31m                 raise RuntimeError(f\"Keyword SRCTYPE is {srctype}.  It should \"\n\u001b[0m\u001b[1;32m    172\u001b[0m                                    \u001b[0;34m\"be 'POINT' or 'EXTENDED'. Can't decide between `flux` and \"\u001b[0m\u001b[0;34m\u001b[0m\u001b[0;34m\u001b[0m\u001b[0m\n\u001b[1;32m    173\u001b[0m                                    \"`surf_bright` columns.\")\n",
      "\u001b[0;31mRuntimeError\u001b[0m: Keyword SRCTYPE is None.  It should be 'POINT' or 'EXTENDED'. Can't decide between `flux` and `surf_bright` columns."
     ]
    }
   ],
   "source": [
    "spectrum = '/Users/ofox/data/jwst/dat_pyinthesky/jdat_notebooks/helper_classes/data/NIRSpec/IFU/00626064/jw00626-o064_t007_nirspec_tg235h_g235h-f170lp_x1d.fits'\n",
    "specviz.load_spectrum(spectrum, \"IFU 1D\")"
   ]
  },
  {
   "cell_type": "markdown",
   "metadata": {},
   "source": [
    "## NIRSpec FS"
   ]
  },
  {
   "cell_type": "code",
   "execution_count": 223,
   "metadata": {},
   "outputs": [],
   "source": [
    "instrument = 'Nirspec'\n",
    "program = '00675'\n",
    "columns = ','.join(RET_COLUMNS)\n",
    "service = SERVICES['Caom_search']\n",
    "progID = program\n",
    "mjd_min = 59215\n",
    "start_date = mjd_min\n",
    "filt='CLEAR'\n",
    "\n"
   ]
  },
  {
   "cell_type": "code",
   "execution_count": 224,
   "metadata": {},
   "outputs": [
    {
     "name": "stdout",
     "output_type": "stream",
     "text": [
      " obsID   obs_collection ...    dataRights    calib_level\n",
      "-------- -------------- ... ---------------- -----------\n",
      "55722833           JWST ... EXCLUSIVE_ACCESS           2\n",
      "55722774           JWST ... EXCLUSIVE_ACCESS           2\n",
      "55722641           JWST ... EXCLUSIVE_ACCESS           2\n",
      "55722637           JWST ... EXCLUSIVE_ACCESS           2\n",
      "55722610           JWST ... EXCLUSIVE_ACCESS           2\n",
      "55722738           JWST ... EXCLUSIVE_ACCESS           2\n",
      "55722672           JWST ... EXCLUSIVE_ACCESS           2\n",
      "55722817           JWST ... EXCLUSIVE_ACCESS           2\n",
      "55722686           JWST ... EXCLUSIVE_ACCESS           2\n",
      "55722662           JWST ... EXCLUSIVE_ACCESS           2\n",
      "55722644           JWST ... EXCLUSIVE_ACCESS           2\n",
      "55722679           JWST ... EXCLUSIVE_ACCESS           2\n",
      "55722811           JWST ... EXCLUSIVE_ACCESS           2\n",
      "55722713           JWST ... EXCLUSIVE_ACCESS           2\n",
      "55722667           JWST ... EXCLUSIVE_ACCESS           2\n",
      "55722692           JWST ... EXCLUSIVE_ACCESS           2\n",
      "55722786           JWST ... EXCLUSIVE_ACCESS           2\n",
      "55722723           JWST ... EXCLUSIVE_ACCESS           2\n"
     ]
    }
   ],
   "source": [
    "extension='_s2d.fits'\n",
    "JwstObs = set_server_endpoints(SERVER)\n",
    "obsTable = observation_query(JwstObs, progID, instrument, start_date, filt)\n",
    "products = product_query(JwstObs, obsTable)\n",
    "mask = product_filter(products, [extension], True)\n",
    "selected_products = products[mask]\n",
    "print(selected_products)"
   ]
  },
  {
   "cell_type": "code",
   "execution_count": 225,
   "metadata": {},
   "outputs": [
    {
     "name": "stdout",
     "output_type": "stream",
     "text": [
      "jw00675011001_03102_00001_nrs1_s2d.fits\n",
      "jw00675011001_03102_00002_nrs1_s2d.fits\n",
      "jw00675011001_03102_00003_nrs1_s2d.fits\n",
      "jw00675011001_03102_00004_nrs1_s2d.fits\n",
      "jw00675011001_03102_00005_nrs1_s2d.fits\n",
      "jw00675011001_03102_00006_nrs1_s2d.fits\n",
      "jw00675011001_03102_00007_nrs1_s2d.fits\n",
      "jw00675011001_03102_00008_nrs1_s2d.fits\n",
      "jw00675011001_03102_00009_nrs1_s2d.fits\n",
      "jw00675011001_03104_00001_nrs1_s2d.fits\n",
      "jw00675011001_03104_00002_nrs1_s2d.fits\n",
      "jw00675011001_03104_00003_nrs1_s2d.fits\n",
      "jw00675011001_03104_00004_nrs1_s2d.fits\n",
      "jw00675011001_03104_00005_nrs1_s2d.fits\n",
      "jw00675011001_03104_00006_nrs1_s2d.fits\n",
      "jw00675011001_03104_00007_nrs1_s2d.fits\n",
      "jw00675011001_03104_00008_nrs1_s2d.fits\n",
      "jw00675011001_03104_00009_nrs1_s2d.fits\n",
      "Downloading URL https://mast.stsci.edu/jwst/api/v0.1/download/bundle.sh?uri=mast:JWST/product/jw00675011001_03102_00001_nrs1_s2d.fits&uri=mast:JWST/product/jw00675011001_03102_00002_nrs1_s2d.fits&uri=mast:JWST/product/jw00675011001_03102_00003_nrs1_s2d.fits&uri=mast:JWST/product/jw00675011001_03102_00004_nrs1_s2d.fits&uri=mast:JWST/product/jw00675011001_03102_00005_nrs1_s2d.fits&uri=mast:JWST/product/jw00675011001_03102_00006_nrs1_s2d.fits&uri=mast:JWST/product/jw00675011001_03102_00007_nrs1_s2d.fits&uri=mast:JWST/product/jw00675011001_03102_00008_nrs1_s2d.fits&uri=mast:JWST/product/jw00675011001_03102_00009_nrs1_s2d.fits&uri=mast:JWST/product/jw00675011001_03104_00001_nrs1_s2d.fits&uri=mast:JWST/product/jw00675011001_03104_00002_nrs1_s2d.fits&uri=mast:JWST/product/jw00675011001_03104_00003_nrs1_s2d.fits&uri=mast:JWST/product/jw00675011001_03104_00004_nrs1_s2d.fits&uri=mast:JWST/product/jw00675011001_03104_00005_nrs1_s2d.fits&uri=mast:JWST/product/jw00675011001_03104_00006_nrs1_s2d.fits&uri=mast:JWST/product/jw00675011001_03104_00007_nrs1_s2d.fits&uri=mast:JWST/product/jw00675011001_03104_00008_nrs1_s2d.fits&uri=mast:JWST/product/jw00675011001_03104_00009_nrs1_s2d.fits to mastDownload_20210610155414.sh ... [Done]\n"
     ]
    }
   ],
   "source": [
    "script = fetch_files(progID, instrument, start_date, filt, '_s2d.fits', True, True)\n"
   ]
  },
  {
   "cell_type": "code",
   "execution_count": 227,
   "metadata": {},
   "outputs": [
    {
     "name": "stdout",
     "output_type": "stream",
     "text": [
      "jw00675011001_03102_00001_nrs1_x1d.fits\n",
      "jw00675011001_03102_00002_nrs1_x1d.fits\n",
      "jw00675011001_03102_00003_nrs1_x1d.fits\n",
      "jw00675011001_03102_00004_nrs1_x1d.fits\n",
      "jw00675011001_03102_00005_nrs1_x1d.fits\n",
      "jw00675011001_03102_00006_nrs1_x1d.fits\n",
      "jw00675011001_03102_00007_nrs1_x1d.fits\n",
      "jw00675011001_03102_00008_nrs1_x1d.fits\n",
      "jw00675011001_03102_00009_nrs1_x1d.fits\n",
      "jw00675011001_03104_00001_nrs1_x1d.fits\n",
      "jw00675011001_03104_00002_nrs1_x1d.fits\n",
      "jw00675011001_03104_00003_nrs1_x1d.fits\n",
      "jw00675011001_03104_00004_nrs1_x1d.fits\n",
      "jw00675011001_03104_00005_nrs1_x1d.fits\n",
      "jw00675011001_03104_00006_nrs1_x1d.fits\n",
      "jw00675011001_03104_00007_nrs1_x1d.fits\n",
      "jw00675011001_03104_00008_nrs1_x1d.fits\n",
      "jw00675011001_03104_00009_nrs1_x1d.fits\n",
      "Downloading URL https://mast.stsci.edu/jwst/api/v0.1/download/bundle.sh?uri=mast:JWST/product/jw00675011001_03102_00001_nrs1_x1d.fits&uri=mast:JWST/product/jw00675011001_03102_00002_nrs1_x1d.fits&uri=mast:JWST/product/jw00675011001_03102_00003_nrs1_x1d.fits&uri=mast:JWST/product/jw00675011001_03102_00004_nrs1_x1d.fits&uri=mast:JWST/product/jw00675011001_03102_00005_nrs1_x1d.fits&uri=mast:JWST/product/jw00675011001_03102_00006_nrs1_x1d.fits&uri=mast:JWST/product/jw00675011001_03102_00007_nrs1_x1d.fits&uri=mast:JWST/product/jw00675011001_03102_00008_nrs1_x1d.fits&uri=mast:JWST/product/jw00675011001_03102_00009_nrs1_x1d.fits&uri=mast:JWST/product/jw00675011001_03104_00001_nrs1_x1d.fits&uri=mast:JWST/product/jw00675011001_03104_00002_nrs1_x1d.fits&uri=mast:JWST/product/jw00675011001_03104_00003_nrs1_x1d.fits&uri=mast:JWST/product/jw00675011001_03104_00004_nrs1_x1d.fits&uri=mast:JWST/product/jw00675011001_03104_00005_nrs1_x1d.fits&uri=mast:JWST/product/jw00675011001_03104_00006_nrs1_x1d.fits&uri=mast:JWST/product/jw00675011001_03104_00007_nrs1_x1d.fits&uri=mast:JWST/product/jw00675011001_03104_00008_nrs1_x1d.fits&uri=mast:JWST/product/jw00675011001_03104_00009_nrs1_x1d.fits to mastDownload_20210610155415.sh ... [Done]\n"
     ]
    }
   ],
   "source": [
    "script = fetch_files(progID, instrument, start_date, filt, '_x1d.fits', True, True)\n",
    "\n"
   ]
  },
  {
   "cell_type": "code",
   "execution_count": 623,
   "metadata": {},
   "outputs": [],
   "source": [
    "from jdaviz import SpecViz\n",
    "specviz = SpecViz()"
   ]
  },
  {
   "cell_type": "code",
   "execution_count": 624,
   "metadata": {},
   "outputs": [
    {
     "data": {
      "application/vnd.jupyter.widget-view+json": {
       "model_id": "f4e1b6bcd9884fcd976be6fcc11980fb",
       "version_major": 2,
       "version_minor": 0
      },
      "text/plain": [
       "Application(components={'g-viewer-tab': '<template>\\n  <component :is=\"stack.container\">\\n    <g-viewer-tab\\n …"
      ]
     },
     "metadata": {},
     "output_type": "display_data"
    }
   ],
   "source": [
    "#Developer note: How do you scroll interactingvely with the mouse?\n",
    "specviz.app"
   ]
  },
  {
   "cell_type": "code",
   "execution_count": 626,
   "metadata": {},
   "outputs": [
    {
     "name": "stderr",
     "output_type": "stream",
     "text": [
      "WARNING:root:No data item with id '711997a4-178b-40ff-98b9-b5f850326883' found in viewer 'e4e11c08-94fa-4b60-a257-4fdaa8aa7669'.\n",
      "2021-06-11 13:01:34,274 - stpipe - WARNING - No data item with id '711997a4-178b-40ff-98b9-b5f850326883' found in viewer 'e4e11c08-94fa-4b60-a257-4fdaa8aa7669'.\n",
      "WARNING:stpipe:No data item with id '711997a4-178b-40ff-98b9-b5f850326883' found in viewer 'e4e11c08-94fa-4b60-a257-4fdaa8aa7669'.\n"
     ]
    }
   ],
   "source": [
    "#NOPS_spectrum = '/Users/ofox/data/jwst/dat_pyinthesky/jdat_notebooks/helper_classes/data/NIRSpec/FS/jw00675011001_03102_00001_nrs1/jw00675011001_03102_00001_nrs1_x1d.fits'\n",
    "brian_spectrum = '/Users/ofox/data/jwst/dat_pyinthesky/jdat_notebooks/helper_classes/data/NIRSpec/FS/jw00636-o019_s00002_nirspec_f100lp-g140m-s200a2-subs200a2_x1d.fits'\n",
    "specviz.load_spectrum(brian_spectrum, \"FS 1D\")"
   ]
  },
  {
   "cell_type": "code",
   "execution_count": 627,
   "metadata": {},
   "outputs": [],
   "source": [
    "from jdaviz import Specviz2d\n",
    "specviz2d = Specviz2d()"
   ]
  },
  {
   "cell_type": "code",
   "execution_count": 628,
   "metadata": {},
   "outputs": [
    {
     "data": {
      "application/vnd.jupyter.widget-view+json": {
       "model_id": "af07a10b1ab645b282d82f2eec541988",
       "version_major": 2,
       "version_minor": 0
      },
      "text/plain": [
       "Application(components={'g-viewer-tab': '<template>\\n  <component :is=\"stack.container\">\\n    <g-viewer-tab\\n …"
      ]
     },
     "metadata": {},
     "output_type": "display_data"
    }
   ],
   "source": [
    "#Developer note: How do you scroll interactingvely with the mouse?\n",
    "specviz2d.app"
   ]
  },
  {
   "cell_type": "code",
   "execution_count": 630,
   "metadata": {},
   "outputs": [],
   "source": [
    "#NOPS_spectrum = '/Users/ofox/data/jwst/dat_pyinthesky/jdat_notebooks/helper_classes/data/NIRSpec/FS/jw00675011001_03102_00001_nrs1/jw00675011001_03102_00001_nrs1_s2d.fits'\n",
    "brian_spectrum = '/Users/ofox/data/jwst/dat_pyinthesky/jdat_notebooks/helper_classes/data/NIRSpec/FS/jw00636-o019_s00002_nirspec_f100lp-g140m-s200a2-subs200a2_s2d.fits'\n",
    "\n",
    "specviz2d.load_data(brian_spectrum)"
   ]
  },
  {
   "cell_type": "markdown",
   "metadata": {},
   "source": [
    "## NIRSpec BOTS\n"
   ]
  },
  {
   "cell_type": "code",
   "execution_count": 256,
   "metadata": {},
   "outputs": [
    {
     "name": "stdout",
     "output_type": "stream",
     "text": [
      " obsID   obs_collection ...    dataRights    calib_level\n",
      "-------- -------------- ... ---------------- -----------\n",
      "55727621           JWST ... EXCLUSIVE_ACCESS           2\n",
      "55727386           JWST ... EXCLUSIVE_ACCESS           2\n",
      "55727311           JWST ... EXCLUSIVE_ACCESS           2\n",
      "55727264           JWST ... EXCLUSIVE_ACCESS           2\n"
     ]
    }
   ],
   "source": [
    "instrument = 'Nirspec'\n",
    "program = '00626'\n",
    "columns = ','.join(RET_COLUMNS)\n",
    "service = SERVICES['Caom_search']\n",
    "progID = program\n",
    "#mjd_min = 59215\n",
    "mjd_min = 59061\n",
    "start_date = mjd_min\n",
    "filt='F170LP'\n",
    "\n",
    "\n",
    "extension='_x1dints.fits'\n",
    "JwstObs = set_server_endpoints(SERVER)\n",
    "obsTable = observation_query(JwstObs, progID, instrument, start_date, filt)\n",
    "products = product_query(JwstObs, obsTable)\n",
    "mask = product_filter(products, [extension], True)\n",
    "selected_products = products[mask]\n",
    "print(selected_products)  "
   ]
  },
  {
   "cell_type": "code",
   "execution_count": 258,
   "metadata": {},
   "outputs": [
    {
     "name": "stdout",
     "output_type": "stream",
     "text": [
      "jw00626062001_03101_00001-seg001_nrs1_x1dints.fits\n",
      "jw00626062001_03101_00001-seg001_nrs2_x1dints.fits\n",
      "jw00626062001_03101_00001-seg002_nrs1_x1dints.fits\n",
      "jw00626062001_03101_00001-seg002_nrs2_x1dints.fits\n",
      "Downloading URL https://mast.stsci.edu/jwst/api/v0.1/download/bundle.sh?uri=mast:JWST/product/jw00626062001_03101_00001-seg001_nrs1_x1dints.fits&uri=mast:JWST/product/jw00626062001_03101_00001-seg001_nrs2_x1dints.fits&uri=mast:JWST/product/jw00626062001_03101_00001-seg002_nrs1_x1dints.fits&uri=mast:JWST/product/jw00626062001_03101_00001-seg002_nrs2_x1dints.fits to mastDownload_20210610183250.sh ... [Done]\n"
     ]
    }
   ],
   "source": [
    "script = fetch_files(progID, instrument, start_date, filt, '_x1dints.fits', True, True)\n"
   ]
  },
  {
   "cell_type": "markdown",
   "metadata": {},
   "source": [
    "## NIRISS Imaging\n"
   ]
  },
  {
   "cell_type": "code",
   "execution_count": 632,
   "metadata": {},
   "outputs": [
    {
     "name": "stdout",
     "output_type": "stream",
     "text": [
      " obsID   obs_collection ... dataRights calib_level\n",
      "-------- -------------- ... ---------- -----------\n",
      "55717358           JWST ...     PUBLIC           3\n",
      "55717300           JWST ...     PUBLIC           3\n",
      "55735200           JWST ...     PUBLIC           3\n",
      "55735199           JWST ...     PUBLIC           3\n",
      "55717325           JWST ...     PUBLIC           3\n",
      "55735198           JWST ...     PUBLIC           3\n",
      "55717323           JWST ...     PUBLIC           3\n",
      "55717210           JWST ...     PUBLIC           3\n",
      "55717283           JWST ...     PUBLIC           3\n",
      "55717363           JWST ...     PUBLIC           3\n",
      "     ...            ... ...        ...         ...\n",
      "55728783           JWST ...     PUBLIC           2\n",
      "55728835           JWST ...     PUBLIC           2\n",
      "55728838           JWST ...     PUBLIC           2\n",
      "55728806           JWST ...     PUBLIC           2\n",
      "55728798           JWST ...     PUBLIC           2\n",
      "55728799           JWST ...     PUBLIC           2\n",
      "55728809           JWST ...     PUBLIC           2\n",
      "55728810           JWST ...     PUBLIC           2\n",
      "55728807           JWST ...     PUBLIC           2\n",
      "55729002           JWST ...     PUBLIC           2\n",
      "55729224           JWST ...     PUBLIC           2\n",
      "Length = 67 rows\n"
     ]
    }
   ],
   "source": [
    "instrument = 'Niriss'\n",
    "program = '00625'\n",
    "columns = ','.join(RET_COLUMNS)\n",
    "service = SERVICES['Caom_search']\n",
    "progID = program\n",
    "mjd_min = 58961\n",
    "start_date = mjd_min\n",
    "filt='CLEAR'\n",
    "\n",
    "\n",
    "extension='_i2d.fits'\n",
    "JwstObs = set_server_endpoints(SERVER)\n",
    "obsTable = observation_query(JwstObs, progID, instrument, start_date, filt)\n",
    "products = product_query(JwstObs, obsTable)\n",
    "mask = product_filter(products, [extension], True)\n",
    "selected_products = products[mask]\n",
    "print(selected_products) "
   ]
  },
  {
   "cell_type": "code",
   "execution_count": 633,
   "metadata": {},
   "outputs": [
    {
     "name": "stdout",
     "output_type": "stream",
     "text": [
      "jw00625-o039_t007_niriss_clear-f200w_i2d.fits\n",
      "jw00625-o054_t007_niriss_clear-f090w_i2d.fits\n",
      "jw00625-o054_t007_niriss_clear-f115w_i2d.fits\n",
      "jw00625-o054_t007_niriss_clear-f150w_i2d.fits\n",
      "jw00625-o054_t007_niriss_clear-f200w_i2d.fits\n",
      "jw00625-o070_t001_niriss_clear-f090w_i2d.fits\n",
      "jw00625-o070_t001_niriss_clear-f150w_i2d.fits\n",
      "jw00625-o072_t006_niriss_clear-f090w_i2d.fits\n",
      "jw00625-o072_t006_niriss_clear-f150w_i2d.fits\n",
      "jw00625-o072_t006_niriss_clear-f200w_i2d.fits\n",
      "jw00625-o075_t007_niriss_clear-f200w_i2d.fits\n",
      "       jw00625039001_02101_00001_nis_i2d.fits\n",
      "       jw00625039002_02101_00001_nis_i2d.fits\n",
      "       jw00625040001_02101_00001_nis_i2d.fits\n",
      "       jw00625040001_02103_00001_nis_i2d.fits\n",
      "       jw00625040001_02103_00002_nis_i2d.fits\n",
      "       jw00625040001_02105_00001_nis_i2d.fits\n",
      "       jw00625040002_02101_00001_nis_i2d.fits\n",
      "       jw00625040002_02103_00001_nis_i2d.fits\n",
      "       jw00625040002_02103_00002_nis_i2d.fits\n",
      "       jw00625040002_02105_00001_nis_i2d.fits\n",
      "       jw00625054001_02101_00001_nis_i2d.fits\n",
      "       jw00625054001_04101_00001_nis_i2d.fits\n",
      "       jw00625054001_04101_00002_nis_i2d.fits\n",
      "       jw00625054001_06101_00001_nis_i2d.fits\n",
      "       jw00625054001_08101_00001_nis_i2d.fits\n",
      "       jw00625054001_10101_00001_nis_i2d.fits\n",
      "       jw00625054001_10101_00002_nis_i2d.fits\n",
      "       jw00625054001_12101_00001_nis_i2d.fits\n",
      "       jw00625054001_14101_00001_nis_i2d.fits\n",
      "       jw00625054001_16101_00001_nis_i2d.fits\n",
      "       jw00625054001_16101_00002_nis_i2d.fits\n",
      "       jw00625054001_18101_00001_nis_i2d.fits\n",
      "       jw00625054001_20101_00001_nis_i2d.fits\n",
      "       jw00625054001_22101_00001_nis_i2d.fits\n",
      "       jw00625054001_22101_00002_nis_i2d.fits\n",
      "       jw00625054001_24101_00001_nis_i2d.fits\n",
      "       jw00625070001_02101_00001_nis_i2d.fits\n",
      "       jw00625070001_02103_00001_nis_i2d.fits\n",
      "       jw00625070001_02105_00001_nis_i2d.fits\n",
      "       jw00625070001_02107_00001_nis_i2d.fits\n",
      "       jw00625070002_02101_00001_nis_i2d.fits\n",
      "       jw00625070002_02103_00001_nis_i2d.fits\n",
      "       jw00625070002_02105_00001_nis_i2d.fits\n",
      "       jw00625070002_02107_00001_nis_i2d.fits\n",
      "       jw00625071001_03101_00001_nis_i2d.fits\n",
      "       jw00625071001_03101_00002_nis_i2d.fits\n",
      "       jw00625071001_03101_00003_nis_i2d.fits\n",
      "       jw00625071001_03101_00004_nis_i2d.fits\n",
      "       jw00625071002_03101_00001_nis_i2d.fits\n",
      "       jw00625071002_03101_00002_nis_i2d.fits\n",
      "       jw00625071002_03101_00003_nis_i2d.fits\n",
      "       jw00625071002_03101_00004_nis_i2d.fits\n",
      "       jw00625072001_03101_00001_nis_i2d.fits\n",
      "       jw00625072001_03103_00001_nis_i2d.fits\n",
      "       jw00625072001_03103_00002_nis_i2d.fits\n",
      "       jw00625072001_03105_00001_nis_i2d.fits\n",
      "       jw00625072001_03107_00001_nis_i2d.fits\n",
      "       jw00625072001_03109_00001_nis_i2d.fits\n",
      "       jw00625072001_03109_00002_nis_i2d.fits\n",
      "       jw00625072001_0310b_00001_nis_i2d.fits\n",
      "       jw00625072001_0310d_00001_nis_i2d.fits\n",
      "       jw00625072001_0310f_00001_nis_i2d.fits\n",
      "       jw00625072001_0310f_00002_nis_i2d.fits\n",
      "       jw00625072001_0310h_00001_nis_i2d.fits\n",
      "       jw00625075001_03101_00001_nis_i2d.fits\n",
      "       jw00625075002_03101_00001_nis_i2d.fits\n",
      "Downloading URL https://mast.stsci.edu/jwst/api/v0.1/download/bundle.sh?uri=mast:JWST/product/jw00625-o039_t007_niriss_clear-f200w_i2d.fits&uri=mast:JWST/product/jw00625-o054_t007_niriss_clear-f090w_i2d.fits&uri=mast:JWST/product/jw00625-o054_t007_niriss_clear-f115w_i2d.fits&uri=mast:JWST/product/jw00625-o054_t007_niriss_clear-f150w_i2d.fits&uri=mast:JWST/product/jw00625-o054_t007_niriss_clear-f200w_i2d.fits&uri=mast:JWST/product/jw00625-o070_t001_niriss_clear-f090w_i2d.fits&uri=mast:JWST/product/jw00625-o070_t001_niriss_clear-f150w_i2d.fits&uri=mast:JWST/product/jw00625-o072_t006_niriss_clear-f090w_i2d.fits&uri=mast:JWST/product/jw00625-o072_t006_niriss_clear-f150w_i2d.fits&uri=mast:JWST/product/jw00625-o072_t006_niriss_clear-f200w_i2d.fits&uri=mast:JWST/product/jw00625-o075_t007_niriss_clear-f200w_i2d.fits&uri=mast:JWST/product/jw00625039001_02101_00001_nis_i2d.fits&uri=mast:JWST/product/jw00625039002_02101_00001_nis_i2d.fits&uri=mast:JWST/product/jw00625040001_02101_00001_nis_i2d.fits&uri=mast:JWST/product/jw00625040001_02103_00001_nis_i2d.fits&uri=mast:JWST/product/jw00625040001_02103_00002_nis_i2d.fits&uri=mast:JWST/product/jw00625040001_02105_00001_nis_i2d.fits&uri=mast:JWST/product/jw00625040002_02101_00001_nis_i2d.fits&uri=mast:JWST/product/jw00625040002_02103_00001_nis_i2d.fits&uri=mast:JWST/product/jw00625040002_02103_00002_nis_i2d.fits&uri=mast:JWST/product/jw00625040002_02105_00001_nis_i2d.fits&uri=mast:JWST/product/jw00625054001_02101_00001_nis_i2d.fits&uri=mast:JWST/product/jw00625054001_04101_00001_nis_i2d.fits&uri=mast:JWST/product/jw00625054001_04101_00002_nis_i2d.fits&uri=mast:JWST/product/jw00625054001_06101_00001_nis_i2d.fits&uri=mast:JWST/product/jw00625054001_08101_00001_nis_i2d.fits&uri=mast:JWST/product/jw00625054001_10101_00001_nis_i2d.fits&uri=mast:JWST/product/jw00625054001_10101_00002_nis_i2d.fits&uri=mast:JWST/product/jw00625054001_12101_00001_nis_i2d.fits&uri=mast:JWST/product/jw00625054001_14101_00001_nis_i2d.fits&uri=mast:JWST/product/jw00625054001_16101_00001_nis_i2d.fits&uri=mast:JWST/product/jw00625054001_16101_00002_nis_i2d.fits&uri=mast:JWST/product/jw00625054001_18101_00001_nis_i2d.fits&uri=mast:JWST/product/jw00625054001_20101_00001_nis_i2d.fits&uri=mast:JWST/product/jw00625054001_22101_00001_nis_i2d.fits&uri=mast:JWST/product/jw00625054001_22101_00002_nis_i2d.fits&uri=mast:JWST/product/jw00625054001_24101_00001_nis_i2d.fits&uri=mast:JWST/product/jw00625070001_02101_00001_nis_i2d.fits&uri=mast:JWST/product/jw00625070001_02103_00001_nis_i2d.fits&uri=mast:JWST/product/jw00625070001_02105_00001_nis_i2d.fits&uri=mast:JWST/product/jw00625070001_02107_00001_nis_i2d.fits&uri=mast:JWST/product/jw00625070002_02101_00001_nis_i2d.fits&uri=mast:JWST/product/jw00625070002_02103_00001_nis_i2d.fits&uri=mast:JWST/product/jw00625070002_02105_00001_nis_i2d.fits&uri=mast:JWST/product/jw00625070002_02107_00001_nis_i2d.fits&uri=mast:JWST/product/jw00625071001_03101_00001_nis_i2d.fits&uri=mast:JWST/product/jw00625071001_03101_00002_nis_i2d.fits&uri=mast:JWST/product/jw00625071001_03101_00003_nis_i2d.fits&uri=mast:JWST/product/jw00625071001_03101_00004_nis_i2d.fits&uri=mast:JWST/product/jw00625071002_03101_00001_nis_i2d.fits&uri=mast:JWST/product/jw00625071002_03101_00002_nis_i2d.fits&uri=mast:JWST/product/jw00625071002_03101_00003_nis_i2d.fits&uri=mast:JWST/product/jw00625071002_03101_00004_nis_i2d.fits&uri=mast:JWST/product/jw00625072001_03101_00001_nis_i2d.fits&uri=mast:JWST/product/jw00625072001_03103_00001_nis_i2d.fits&uri=mast:JWST/product/jw00625072001_03103_00002_nis_i2d.fits&uri=mast:JWST/product/jw00625072001_03105_00001_nis_i2d.fits&uri=mast:JWST/product/jw00625072001_03107_00001_nis_i2d.fits&uri=mast:JWST/product/jw00625072001_03109_00001_nis_i2d.fits&uri=mast:JWST/product/jw00625072001_03109_00002_nis_i2d.fits&uri=mast:JWST/product/jw00625072001_0310b_00001_nis_i2d.fits&uri=mast:JWST/product/jw00625072001_0310d_00001_nis_i2d.fits&uri=mast:JWST/product/jw00625072001_0310f_00001_nis_i2d.fits&uri=mast:JWST/product/jw00625072001_0310f_00002_nis_i2d.fits&uri=mast:JWST/product/jw00625072001_0310h_00001_nis_i2d.fits&uri=mast:JWST/product/jw00625075001_03101_00001_nis_i2d.fits&uri=mast:JWST/product/jw00625075002_03101_00001_nis_i2d.fits to mastDownload_20210611174638.sh ... [Done]\n"
     ]
    }
   ],
   "source": [
    "script = fetch_files(progID, instrument, start_date, filt, '_i2d.fits', True, True)\n"
   ]
  },
  {
   "cell_type": "code",
   "execution_count": 272,
   "metadata": {},
   "outputs": [],
   "source": [
    "niriss_imaging = '/Users/ofox/data/jwst/dat_pyinthesky/jdat_notebooks/helper_classes/data/NIRISS/Imaging/jw00625-o072_t006_niriss_clear-f090w/jw00625-o072_t006_niriss_clear-f090w_i2d.fits'"
   ]
  },
  {
   "cell_type": "code",
   "execution_count": 273,
   "metadata": {},
   "outputs": [],
   "source": [
    "from jwst import datamodels\n",
    "#from jdaviz import Imviz\n",
    "imviz = Imviz()"
   ]
  },
  {
   "cell_type": "code",
   "execution_count": 274,
   "metadata": {},
   "outputs": [
    {
     "data": {
      "application/vnd.jupyter.widget-view+json": {
       "model_id": "ef55b3fa1ab343209088374aaca34c96",
       "version_major": 2,
       "version_minor": 0
      },
      "text/plain": [
       "Application(components={'g-viewer-tab': '<template>\\n  <component :is=\"stack.container\">\\n    <g-viewer-tab\\n …"
      ]
     },
     "metadata": {},
     "output_type": "display_data"
    }
   ],
   "source": [
    "#Developer Notes: Ask how to remove other files from viewer before and after opening data\n",
    "imviz.load_data(nirirss_imaging, data_label='NIRISS Imaging')\n",
    "\n",
    "viewer = imviz.app.get_viewer('viewer-1')\n",
    "\n",
    "imviz.app"
   ]
  },
  {
   "cell_type": "markdown",
   "metadata": {},
   "source": [
    "## NIRISS WFSS"
   ]
  },
  {
   "cell_type": "code",
   "execution_count": 634,
   "metadata": {},
   "outputs": [
    {
     "name": "stdout",
     "output_type": "stream",
     "text": [
      "proposal_id ...                obs_id               \n",
      "----------- ... ------------------------------------\n",
      "      00625 ...        jw00625040002_02101_00001_nis\n",
      "      00625 ...        jw00625047001_02101_00007_nis\n",
      "      00625 ... jw00625-o072_t006_niriss_clear-f090w\n",
      "      00625 ...        jw00625047001_02101_00006_nis\n",
      "      00625 ... jw00625-o070_t001_niriss_clear-f090w\n",
      "      00625 ...        jw00625047001_02101_00002_nis\n",
      "      00625 ...        jw00625047001_02101_00011_nis\n",
      "      00625 ...        jw00625071001_03101_00001_nis\n",
      "      00625 ... jw00625-o054_t007_niriss_clear-f200w\n",
      "      00625 ...        jw00625040001_02103_00001_nis\n",
      "        ... ...                                  ...\n",
      "      00625 ... jw00625-o039_t007_niriss_clear-f200w\n",
      "      00625 ...        jw00625040002_02103_00002_nis\n",
      "      00625 ...        jw00625047001_02101_00008_nis\n",
      "      00625 ... jw00625-o054_t007_niriss_clear-f115w\n",
      "      00625 ...        jw00625048001_02101_00001_nis\n",
      "      00625 ...        jw00625047001_02101_00001_nis\n",
      "      00625 ...        jw00625071002_03101_00004_nis\n",
      "      00625 ...        jw00625047001_02101_00012_nis\n",
      "      00625 ...        jw00625040001_02101_00001_nis\n",
      "      00625 ...        jw00625040002_02105_00001_nis\n",
      "      00625 ...        jw00625071001_03101_00002_nis\n",
      "Length = 41 rows\n"
     ]
    }
   ],
   "source": [
    "instrument = 'Niriss'\n",
    "program = '00625'\n",
    "columns = ','.join(RET_COLUMNS)\n",
    "service = SERVICES['Caom_search']\n",
    "progID = program\n",
    "#mjd_min = 58961\n",
    "\n",
    "start_date = 59000\n",
    "filt='CLEAR'\n",
    "\n",
    "extension='_x1d.fits'\n",
    "JwstObs = set_server_endpoints(SERVER)\n",
    "obsTable = observation_query(JwstObs, progID, instrument, start_date, filt)\n",
    "#products = product_query(JwstObs, obsTable)\n",
    "#mask = product_filter(products, [extension], True)\n",
    "#selected_products = products[mask]\n",
    "#print(selected_products) \n",
    "print(obsTable)"
   ]
  },
  {
   "cell_type": "code",
   "execution_count": 315,
   "metadata": {},
   "outputs": [
    {
     "ename": "KeyboardInterrupt",
     "evalue": "",
     "output_type": "error",
     "traceback": [
      "\u001b[0;31m---------------------------------------------------------------------------\u001b[0m",
      "\u001b[0;31mKeyboardInterrupt\u001b[0m                         Traceback (most recent call last)",
      "\u001b[0;32m<ipython-input-315-9a640a2ee28d>\u001b[0m in \u001b[0;36m<module>\u001b[0;34m\u001b[0m\n\u001b[0;32m----> 1\u001b[0;31m \u001b[0mscript\u001b[0m \u001b[0;34m=\u001b[0m \u001b[0mfetch_files\u001b[0m\u001b[0;34m(\u001b[0m\u001b[0mprogID\u001b[0m\u001b[0;34m,\u001b[0m \u001b[0minstrument\u001b[0m\u001b[0;34m,\u001b[0m \u001b[0mstart_date\u001b[0m\u001b[0;34m,\u001b[0m \u001b[0mfilt\u001b[0m\u001b[0;34m,\u001b[0m \u001b[0;34m'_x1d.fits'\u001b[0m\u001b[0;34m,\u001b[0m \u001b[0;32mTrue\u001b[0m\u001b[0;34m,\u001b[0m \u001b[0;32mTrue\u001b[0m\u001b[0;34m)\u001b[0m\u001b[0;34m\u001b[0m\u001b[0;34m\u001b[0m\u001b[0m\n\u001b[0m",
      "\u001b[0;32m<ipython-input-216-43e8e53ba2b1>\u001b[0m in \u001b[0;36mfetch_files\u001b[0;34m(progID, instrument, start_date, filt, extension, gs_omit, download)\u001b[0m\n\u001b[1;32m     24\u001b[0m     \u001b[0mobsTable\u001b[0m \u001b[0;34m=\u001b[0m \u001b[0mobservation_query\u001b[0m\u001b[0;34m(\u001b[0m\u001b[0mJwstObs\u001b[0m\u001b[0;34m,\u001b[0m \u001b[0mprogID\u001b[0m\u001b[0;34m,\u001b[0m \u001b[0minstrument\u001b[0m\u001b[0;34m,\u001b[0m \u001b[0mstart_date\u001b[0m\u001b[0;34m,\u001b[0m \u001b[0mfilt\u001b[0m\u001b[0;34m)\u001b[0m\u001b[0;34m\u001b[0m\u001b[0;34m\u001b[0m\u001b[0m\n\u001b[1;32m     25\u001b[0m     \u001b[0;32mif\u001b[0m \u001b[0mlen\u001b[0m\u001b[0;34m(\u001b[0m\u001b[0mobsTable\u001b[0m\u001b[0;34m)\u001b[0m \u001b[0;34m>\u001b[0m \u001b[0;36m0\u001b[0m\u001b[0;34m:\u001b[0m\u001b[0;34m\u001b[0m\u001b[0;34m\u001b[0m\u001b[0m\n\u001b[0;32m---> 26\u001b[0;31m         \u001b[0mproducts\u001b[0m \u001b[0;34m=\u001b[0m \u001b[0mproduct_query\u001b[0m\u001b[0;34m(\u001b[0m\u001b[0mJwstObs\u001b[0m\u001b[0;34m,\u001b[0m \u001b[0mobsTable\u001b[0m\u001b[0;34m)\u001b[0m\u001b[0;34m\u001b[0m\u001b[0;34m\u001b[0m\u001b[0m\n\u001b[0m\u001b[1;32m     27\u001b[0m         \u001b[0mmask\u001b[0m \u001b[0;34m=\u001b[0m \u001b[0mproduct_filter\u001b[0m\u001b[0;34m(\u001b[0m\u001b[0mproducts\u001b[0m\u001b[0;34m,\u001b[0m \u001b[0;34m[\u001b[0m\u001b[0mextension\u001b[0m\u001b[0;34m]\u001b[0m\u001b[0;34m,\u001b[0m \u001b[0mgs_omit\u001b[0m\u001b[0;34m)\u001b[0m\u001b[0;34m\u001b[0m\u001b[0;34m\u001b[0m\u001b[0m\n\u001b[1;32m     28\u001b[0m         \u001b[0mselected_products\u001b[0m \u001b[0;34m=\u001b[0m \u001b[0mproducts\u001b[0m\u001b[0;34m[\u001b[0m\u001b[0mmask\u001b[0m\u001b[0;34m]\u001b[0m\u001b[0;34m\u001b[0m\u001b[0;34m\u001b[0m\u001b[0m\n",
      "\u001b[0;32m<ipython-input-176-2d8eac10eb5f>\u001b[0m in \u001b[0;36mproduct_query\u001b[0;34m(JwstObs, obsTable)\u001b[0m\n\u001b[1;32m     14\u001b[0m               \u001b[0;34m\"format\"\u001b[0m\u001b[0;34m:\u001b[0m\u001b[0;34m\"json\"\u001b[0m\u001b[0;34m\u001b[0m\u001b[0;34m\u001b[0m\u001b[0m\n\u001b[1;32m     15\u001b[0m               }\n\u001b[0;32m---> 16\u001b[0;31m     \u001b[0mproductTable\u001b[0m \u001b[0;34m=\u001b[0m \u001b[0mJwstObs\u001b[0m\u001b[0;34m.\u001b[0m\u001b[0mservice_request\u001b[0m\u001b[0;34m(\u001b[0m\u001b[0mservice\u001b[0m\u001b[0;34m,\u001b[0m \u001b[0mparams\u001b[0m\u001b[0;34m)\u001b[0m\u001b[0;34m\u001b[0m\u001b[0;34m\u001b[0m\u001b[0m\n\u001b[0m\u001b[1;32m     17\u001b[0m     \u001b[0;32mreturn\u001b[0m \u001b[0mproductTable\u001b[0m\u001b[0;34m\u001b[0m\u001b[0;34m\u001b[0m\u001b[0m\n\u001b[1;32m     18\u001b[0m \u001b[0;34m\u001b[0m\u001b[0m\n",
      "\u001b[0;32m~/miniconda3/envs/helper/lib/python3.9/site-packages/astroquery/utils/class_or_instance.py\u001b[0m in \u001b[0;36mf\u001b[0;34m(*args, **kwds)\u001b[0m\n\u001b[1;32m     23\u001b[0m         \u001b[0;32mdef\u001b[0m \u001b[0mf\u001b[0m\u001b[0;34m(\u001b[0m\u001b[0;34m*\u001b[0m\u001b[0margs\u001b[0m\u001b[0;34m,\u001b[0m \u001b[0;34m**\u001b[0m\u001b[0mkwds\u001b[0m\u001b[0;34m)\u001b[0m\u001b[0;34m:\u001b[0m\u001b[0;34m\u001b[0m\u001b[0;34m\u001b[0m\u001b[0m\n\u001b[1;32m     24\u001b[0m             \u001b[0;32mif\u001b[0m \u001b[0mobj\u001b[0m \u001b[0;32mis\u001b[0m \u001b[0;32mnot\u001b[0m \u001b[0;32mNone\u001b[0m\u001b[0;34m:\u001b[0m\u001b[0;34m\u001b[0m\u001b[0;34m\u001b[0m\u001b[0m\n\u001b[0;32m---> 25\u001b[0;31m                 \u001b[0;32mreturn\u001b[0m \u001b[0mself\u001b[0m\u001b[0;34m.\u001b[0m\u001b[0mfn\u001b[0m\u001b[0;34m(\u001b[0m\u001b[0mobj\u001b[0m\u001b[0;34m,\u001b[0m \u001b[0;34m*\u001b[0m\u001b[0margs\u001b[0m\u001b[0;34m,\u001b[0m \u001b[0;34m**\u001b[0m\u001b[0mkwds\u001b[0m\u001b[0;34m)\u001b[0m\u001b[0;34m\u001b[0m\u001b[0;34m\u001b[0m\u001b[0m\n\u001b[0m\u001b[1;32m     26\u001b[0m             \u001b[0;32melse\u001b[0m\u001b[0;34m:\u001b[0m\u001b[0;34m\u001b[0m\u001b[0;34m\u001b[0m\u001b[0m\n\u001b[1;32m     27\u001b[0m                 \u001b[0;32mreturn\u001b[0m \u001b[0mself\u001b[0m\u001b[0;34m.\u001b[0m\u001b[0mfn\u001b[0m\u001b[0;34m(\u001b[0m\u001b[0mcls\u001b[0m\u001b[0;34m,\u001b[0m \u001b[0;34m*\u001b[0m\u001b[0margs\u001b[0m\u001b[0;34m,\u001b[0m \u001b[0;34m**\u001b[0m\u001b[0mkwds\u001b[0m\u001b[0;34m)\u001b[0m\u001b[0;34m\u001b[0m\u001b[0;34m\u001b[0m\u001b[0m\n",
      "\u001b[0;32m~/miniconda3/envs/helper/lib/python3.9/site-packages/astroquery/utils/process_asyncs.py\u001b[0m in \u001b[0;36mnewmethod\u001b[0;34m(self, *args, **kwargs)\u001b[0m\n\u001b[1;32m     24\u001b[0m             \u001b[0mverbose\u001b[0m \u001b[0;34m=\u001b[0m \u001b[0mkwargs\u001b[0m\u001b[0;34m.\u001b[0m\u001b[0mpop\u001b[0m\u001b[0;34m(\u001b[0m\u001b[0;34m'verbose'\u001b[0m\u001b[0;34m,\u001b[0m \u001b[0;32mFalse\u001b[0m\u001b[0;34m)\u001b[0m\u001b[0;34m\u001b[0m\u001b[0;34m\u001b[0m\u001b[0m\n\u001b[1;32m     25\u001b[0m \u001b[0;34m\u001b[0m\u001b[0m\n\u001b[0;32m---> 26\u001b[0;31m             \u001b[0mresponse\u001b[0m \u001b[0;34m=\u001b[0m \u001b[0mgetattr\u001b[0m\u001b[0;34m(\u001b[0m\u001b[0mself\u001b[0m\u001b[0;34m,\u001b[0m \u001b[0masync_method_name\u001b[0m\u001b[0;34m)\u001b[0m\u001b[0;34m(\u001b[0m\u001b[0;34m*\u001b[0m\u001b[0margs\u001b[0m\u001b[0;34m,\u001b[0m \u001b[0;34m**\u001b[0m\u001b[0mkwargs\u001b[0m\u001b[0;34m)\u001b[0m\u001b[0;34m\u001b[0m\u001b[0;34m\u001b[0m\u001b[0m\n\u001b[0m\u001b[1;32m     27\u001b[0m             \u001b[0;32mif\u001b[0m \u001b[0mkwargs\u001b[0m\u001b[0;34m.\u001b[0m\u001b[0mget\u001b[0m\u001b[0;34m(\u001b[0m\u001b[0;34m'get_query_payload'\u001b[0m\u001b[0;34m)\u001b[0m \u001b[0;32mor\u001b[0m \u001b[0mkwargs\u001b[0m\u001b[0;34m.\u001b[0m\u001b[0mget\u001b[0m\u001b[0;34m(\u001b[0m\u001b[0;34m'field_help'\u001b[0m\u001b[0;34m)\u001b[0m\u001b[0;34m:\u001b[0m\u001b[0;34m\u001b[0m\u001b[0;34m\u001b[0m\u001b[0m\n\u001b[1;32m     28\u001b[0m                 \u001b[0;32mreturn\u001b[0m \u001b[0mresponse\u001b[0m\u001b[0;34m\u001b[0m\u001b[0;34m\u001b[0m\u001b[0m\n",
      "\u001b[0;32m~/miniconda3/envs/helper/lib/python3.9/site-packages/astroquery/utils/class_or_instance.py\u001b[0m in \u001b[0;36mf\u001b[0;34m(*args, **kwds)\u001b[0m\n\u001b[1;32m     23\u001b[0m         \u001b[0;32mdef\u001b[0m \u001b[0mf\u001b[0m\u001b[0;34m(\u001b[0m\u001b[0;34m*\u001b[0m\u001b[0margs\u001b[0m\u001b[0;34m,\u001b[0m \u001b[0;34m**\u001b[0m\u001b[0mkwds\u001b[0m\u001b[0;34m)\u001b[0m\u001b[0;34m:\u001b[0m\u001b[0;34m\u001b[0m\u001b[0;34m\u001b[0m\u001b[0m\n\u001b[1;32m     24\u001b[0m             \u001b[0;32mif\u001b[0m \u001b[0mobj\u001b[0m \u001b[0;32mis\u001b[0m \u001b[0;32mnot\u001b[0m \u001b[0;32mNone\u001b[0m\u001b[0;34m:\u001b[0m\u001b[0;34m\u001b[0m\u001b[0;34m\u001b[0m\u001b[0m\n\u001b[0;32m---> 25\u001b[0;31m                 \u001b[0;32mreturn\u001b[0m \u001b[0mself\u001b[0m\u001b[0;34m.\u001b[0m\u001b[0mfn\u001b[0m\u001b[0;34m(\u001b[0m\u001b[0mobj\u001b[0m\u001b[0;34m,\u001b[0m \u001b[0;34m*\u001b[0m\u001b[0margs\u001b[0m\u001b[0;34m,\u001b[0m \u001b[0;34m**\u001b[0m\u001b[0mkwds\u001b[0m\u001b[0;34m)\u001b[0m\u001b[0;34m\u001b[0m\u001b[0;34m\u001b[0m\u001b[0m\n\u001b[0m\u001b[1;32m     26\u001b[0m             \u001b[0;32melse\u001b[0m\u001b[0;34m:\u001b[0m\u001b[0;34m\u001b[0m\u001b[0;34m\u001b[0m\u001b[0m\n\u001b[1;32m     27\u001b[0m                 \u001b[0;32mreturn\u001b[0m \u001b[0mself\u001b[0m\u001b[0;34m.\u001b[0m\u001b[0mfn\u001b[0m\u001b[0;34m(\u001b[0m\u001b[0mcls\u001b[0m\u001b[0;34m,\u001b[0m \u001b[0;34m*\u001b[0m\u001b[0margs\u001b[0m\u001b[0;34m,\u001b[0m \u001b[0;34m**\u001b[0m\u001b[0mkwds\u001b[0m\u001b[0;34m)\u001b[0m\u001b[0;34m\u001b[0m\u001b[0;34m\u001b[0m\u001b[0m\n",
      "\u001b[0;32m~/miniconda3/envs/helper/lib/python3.9/site-packages/astroquery/mast/observations.py\u001b[0m in \u001b[0;36mservice_request_async\u001b[0;34m(self, service, params, pagesize, page, **kwargs)\u001b[0m\n\u001b[1;32m    850\u001b[0m         \"\"\"\n\u001b[1;32m    851\u001b[0m \u001b[0;34m\u001b[0m\u001b[0m\n\u001b[0;32m--> 852\u001b[0;31m         \u001b[0;32mreturn\u001b[0m \u001b[0mself\u001b[0m\u001b[0;34m.\u001b[0m\u001b[0m_portal_api_connection\u001b[0m\u001b[0;34m.\u001b[0m\u001b[0mservice_request_async\u001b[0m\u001b[0;34m(\u001b[0m\u001b[0mservice\u001b[0m\u001b[0;34m,\u001b[0m \u001b[0mparams\u001b[0m\u001b[0;34m,\u001b[0m \u001b[0mpagesize\u001b[0m\u001b[0;34m,\u001b[0m \u001b[0mpage\u001b[0m\u001b[0;34m,\u001b[0m \u001b[0;34m**\u001b[0m\u001b[0mkwargs\u001b[0m\u001b[0;34m)\u001b[0m\u001b[0;34m\u001b[0m\u001b[0;34m\u001b[0m\u001b[0m\n\u001b[0m\u001b[1;32m    853\u001b[0m \u001b[0;34m\u001b[0m\u001b[0m\n\u001b[1;32m    854\u001b[0m \u001b[0;34m\u001b[0m\u001b[0m\n",
      "\u001b[0;32m~/miniconda3/envs/helper/lib/python3.9/site-packages/astroquery/utils/class_or_instance.py\u001b[0m in \u001b[0;36mf\u001b[0;34m(*args, **kwds)\u001b[0m\n\u001b[1;32m     23\u001b[0m         \u001b[0;32mdef\u001b[0m \u001b[0mf\u001b[0m\u001b[0;34m(\u001b[0m\u001b[0;34m*\u001b[0m\u001b[0margs\u001b[0m\u001b[0;34m,\u001b[0m \u001b[0;34m**\u001b[0m\u001b[0mkwds\u001b[0m\u001b[0;34m)\u001b[0m\u001b[0;34m:\u001b[0m\u001b[0;34m\u001b[0m\u001b[0;34m\u001b[0m\u001b[0m\n\u001b[1;32m     24\u001b[0m             \u001b[0;32mif\u001b[0m \u001b[0mobj\u001b[0m \u001b[0;32mis\u001b[0m \u001b[0;32mnot\u001b[0m \u001b[0;32mNone\u001b[0m\u001b[0;34m:\u001b[0m\u001b[0;34m\u001b[0m\u001b[0;34m\u001b[0m\u001b[0m\n\u001b[0;32m---> 25\u001b[0;31m                 \u001b[0;32mreturn\u001b[0m \u001b[0mself\u001b[0m\u001b[0;34m.\u001b[0m\u001b[0mfn\u001b[0m\u001b[0;34m(\u001b[0m\u001b[0mobj\u001b[0m\u001b[0;34m,\u001b[0m \u001b[0;34m*\u001b[0m\u001b[0margs\u001b[0m\u001b[0;34m,\u001b[0m \u001b[0;34m**\u001b[0m\u001b[0mkwds\u001b[0m\u001b[0;34m)\u001b[0m\u001b[0;34m\u001b[0m\u001b[0;34m\u001b[0m\u001b[0m\n\u001b[0m\u001b[1;32m     26\u001b[0m             \u001b[0;32melse\u001b[0m\u001b[0;34m:\u001b[0m\u001b[0;34m\u001b[0m\u001b[0;34m\u001b[0m\u001b[0m\n\u001b[1;32m     27\u001b[0m                 \u001b[0;32mreturn\u001b[0m \u001b[0mself\u001b[0m\u001b[0;34m.\u001b[0m\u001b[0mfn\u001b[0m\u001b[0;34m(\u001b[0m\u001b[0mcls\u001b[0m\u001b[0;34m,\u001b[0m \u001b[0;34m*\u001b[0m\u001b[0margs\u001b[0m\u001b[0;34m,\u001b[0m \u001b[0;34m**\u001b[0m\u001b[0mkwds\u001b[0m\u001b[0;34m)\u001b[0m\u001b[0;34m\u001b[0m\u001b[0;34m\u001b[0m\u001b[0m\n",
      "\u001b[0;32m~/miniconda3/envs/helper/lib/python3.9/site-packages/astroquery/mast/discovery_portal.py\u001b[0m in \u001b[0;36mservice_request_async\u001b[0;34m(self, service, params, pagesize, page, **kwargs)\u001b[0m\n\u001b[1;32m    361\u001b[0m \u001b[0;34m\u001b[0m\u001b[0m\n\u001b[1;32m    362\u001b[0m         \u001b[0mreq_string\u001b[0m \u001b[0;34m=\u001b[0m \u001b[0m_prepare_service_request_string\u001b[0m\u001b[0;34m(\u001b[0m\u001b[0mmashup_request\u001b[0m\u001b[0;34m)\u001b[0m\u001b[0;34m\u001b[0m\u001b[0;34m\u001b[0m\u001b[0m\n\u001b[0;32m--> 363\u001b[0;31m         response = self._request(\"POST\", self.MAST_REQUEST_URL, data=req_string, headers=headers,\n\u001b[0m\u001b[1;32m    364\u001b[0m                                  retrieve_all=retrieve_all)\n\u001b[1;32m    365\u001b[0m \u001b[0;34m\u001b[0m\u001b[0m\n",
      "\u001b[0;32m~/miniconda3/envs/helper/lib/python3.9/site-packages/astroquery/mast/discovery_portal.py\u001b[0m in \u001b[0;36m_request\u001b[0;34m(self, method, url, params, data, headers, files, stream, auth, retrieve_all)\u001b[0m\n\u001b[1;32m    180\u001b[0m \u001b[0;34m\u001b[0m\u001b[0m\n\u001b[1;32m    181\u001b[0m             \u001b[0;32mwhile\u001b[0m \u001b[0mstatus\u001b[0m \u001b[0;34m==\u001b[0m \u001b[0;34m\"EXECUTING\"\u001b[0m\u001b[0;34m:\u001b[0m\u001b[0;34m\u001b[0m\u001b[0;34m\u001b[0m\u001b[0m\n\u001b[0;32m--> 182\u001b[0;31m                 response = super(PortalAPI, self)._request(method, url, params=params, data=data,\n\u001b[0m\u001b[1;32m    183\u001b[0m                                                            \u001b[0mheaders\u001b[0m\u001b[0;34m=\u001b[0m\u001b[0mheaders\u001b[0m\u001b[0;34m,\u001b[0m \u001b[0mfiles\u001b[0m\u001b[0;34m=\u001b[0m\u001b[0mfiles\u001b[0m\u001b[0;34m,\u001b[0m \u001b[0mcache\u001b[0m\u001b[0;34m=\u001b[0m\u001b[0;32mFalse\u001b[0m\u001b[0;34m,\u001b[0m\u001b[0;34m\u001b[0m\u001b[0;34m\u001b[0m\u001b[0m\n\u001b[1;32m    184\u001b[0m                                                            stream=stream, auth=auth)\n",
      "\u001b[0;32m~/miniconda3/envs/helper/lib/python3.9/site-packages/astroquery/query.py\u001b[0m in \u001b[0;36m_request\u001b[0;34m(self, method, url, params, data, headers, files, save, savedir, timeout, cache, stream, auth, continuation, verify, allow_redirects, json, return_response_on_save)\u001b[0m\n\u001b[1;32m    294\u001b[0m             \u001b[0;32mif\u001b[0m \u001b[0;34m(\u001b[0m\u001b[0;34m(\u001b[0m\u001b[0mself\u001b[0m\u001b[0;34m.\u001b[0m\u001b[0mcache_location\u001b[0m \u001b[0;32mis\u001b[0m \u001b[0;32mNone\u001b[0m\u001b[0;34m)\u001b[0m \u001b[0;32mor\u001b[0m \u001b[0;34m(\u001b[0m\u001b[0;32mnot\u001b[0m \u001b[0mself\u001b[0m\u001b[0;34m.\u001b[0m\u001b[0m_cache_active\u001b[0m\u001b[0;34m)\u001b[0m \u001b[0;32mor\u001b[0m \u001b[0;34m(\u001b[0m\u001b[0;32mnot\u001b[0m \u001b[0mcache\u001b[0m\u001b[0;34m)\u001b[0m\u001b[0;34m)\u001b[0m\u001b[0;34m:\u001b[0m\u001b[0;34m\u001b[0m\u001b[0;34m\u001b[0m\u001b[0m\n\u001b[1;32m    295\u001b[0m                 \u001b[0;32mwith\u001b[0m \u001b[0msuspend_cache\u001b[0m\u001b[0;34m(\u001b[0m\u001b[0mself\u001b[0m\u001b[0;34m)\u001b[0m\u001b[0;34m:\u001b[0m\u001b[0;34m\u001b[0m\u001b[0;34m\u001b[0m\u001b[0m\n\u001b[0;32m--> 296\u001b[0;31m                     response = query.request(self._session, stream=stream,\n\u001b[0m\u001b[1;32m    297\u001b[0m                                              \u001b[0mauth\u001b[0m\u001b[0;34m=\u001b[0m\u001b[0mauth\u001b[0m\u001b[0;34m,\u001b[0m \u001b[0mverify\u001b[0m\u001b[0;34m=\u001b[0m\u001b[0mverify\u001b[0m\u001b[0;34m,\u001b[0m\u001b[0;34m\u001b[0m\u001b[0;34m\u001b[0m\u001b[0m\n\u001b[1;32m    298\u001b[0m                                              \u001b[0mallow_redirects\u001b[0m\u001b[0;34m=\u001b[0m\u001b[0mallow_redirects\u001b[0m\u001b[0;34m,\u001b[0m\u001b[0;34m\u001b[0m\u001b[0;34m\u001b[0m\u001b[0m\n",
      "\u001b[0;32m~/miniconda3/envs/helper/lib/python3.9/site-packages/astroquery/query.py\u001b[0m in \u001b[0;36mrequest\u001b[0;34m(self, session, cache_location, stream, auth, verify, allow_redirects, json)\u001b[0m\n\u001b[1;32m     65\u001b[0m                 \u001b[0mauth\u001b[0m\u001b[0;34m=\u001b[0m\u001b[0;32mNone\u001b[0m\u001b[0;34m,\u001b[0m \u001b[0mverify\u001b[0m\u001b[0;34m=\u001b[0m\u001b[0;32mTrue\u001b[0m\u001b[0;34m,\u001b[0m \u001b[0mallow_redirects\u001b[0m\u001b[0;34m=\u001b[0m\u001b[0;32mTrue\u001b[0m\u001b[0;34m,\u001b[0m\u001b[0;34m\u001b[0m\u001b[0;34m\u001b[0m\u001b[0m\n\u001b[1;32m     66\u001b[0m                 json=None):\n\u001b[0;32m---> 67\u001b[0;31m         return session.request(self.method, self.url, params=self.params,\n\u001b[0m\u001b[1;32m     68\u001b[0m                                \u001b[0mdata\u001b[0m\u001b[0;34m=\u001b[0m\u001b[0mself\u001b[0m\u001b[0;34m.\u001b[0m\u001b[0mdata\u001b[0m\u001b[0;34m,\u001b[0m \u001b[0mheaders\u001b[0m\u001b[0;34m=\u001b[0m\u001b[0mself\u001b[0m\u001b[0;34m.\u001b[0m\u001b[0mheaders\u001b[0m\u001b[0;34m,\u001b[0m\u001b[0;34m\u001b[0m\u001b[0;34m\u001b[0m\u001b[0m\n\u001b[1;32m     69\u001b[0m                                \u001b[0mfiles\u001b[0m\u001b[0;34m=\u001b[0m\u001b[0mself\u001b[0m\u001b[0;34m.\u001b[0m\u001b[0mfiles\u001b[0m\u001b[0;34m,\u001b[0m \u001b[0mtimeout\u001b[0m\u001b[0;34m=\u001b[0m\u001b[0mself\u001b[0m\u001b[0;34m.\u001b[0m\u001b[0mtimeout\u001b[0m\u001b[0;34m,\u001b[0m\u001b[0;34m\u001b[0m\u001b[0;34m\u001b[0m\u001b[0m\n",
      "\u001b[0;32m~/miniconda3/envs/helper/lib/python3.9/site-packages/requests/sessions.py\u001b[0m in \u001b[0;36mrequest\u001b[0;34m(self, method, url, params, data, headers, cookies, files, auth, timeout, allow_redirects, proxies, hooks, stream, verify, cert, json)\u001b[0m\n\u001b[1;32m    540\u001b[0m         }\n\u001b[1;32m    541\u001b[0m         \u001b[0msend_kwargs\u001b[0m\u001b[0;34m.\u001b[0m\u001b[0mupdate\u001b[0m\u001b[0;34m(\u001b[0m\u001b[0msettings\u001b[0m\u001b[0;34m)\u001b[0m\u001b[0;34m\u001b[0m\u001b[0;34m\u001b[0m\u001b[0m\n\u001b[0;32m--> 542\u001b[0;31m         \u001b[0mresp\u001b[0m \u001b[0;34m=\u001b[0m \u001b[0mself\u001b[0m\u001b[0;34m.\u001b[0m\u001b[0msend\u001b[0m\u001b[0;34m(\u001b[0m\u001b[0mprep\u001b[0m\u001b[0;34m,\u001b[0m \u001b[0;34m**\u001b[0m\u001b[0msend_kwargs\u001b[0m\u001b[0;34m)\u001b[0m\u001b[0;34m\u001b[0m\u001b[0;34m\u001b[0m\u001b[0m\n\u001b[0m\u001b[1;32m    543\u001b[0m \u001b[0;34m\u001b[0m\u001b[0m\n\u001b[1;32m    544\u001b[0m         \u001b[0;32mreturn\u001b[0m \u001b[0mresp\u001b[0m\u001b[0;34m\u001b[0m\u001b[0;34m\u001b[0m\u001b[0m\n",
      "\u001b[0;32m~/miniconda3/envs/helper/lib/python3.9/site-packages/requests/sessions.py\u001b[0m in \u001b[0;36msend\u001b[0;34m(self, request, **kwargs)\u001b[0m\n\u001b[1;32m    653\u001b[0m \u001b[0;34m\u001b[0m\u001b[0m\n\u001b[1;32m    654\u001b[0m         \u001b[0;31m# Send the request\u001b[0m\u001b[0;34m\u001b[0m\u001b[0;34m\u001b[0m\u001b[0;34m\u001b[0m\u001b[0m\n\u001b[0;32m--> 655\u001b[0;31m         \u001b[0mr\u001b[0m \u001b[0;34m=\u001b[0m \u001b[0madapter\u001b[0m\u001b[0;34m.\u001b[0m\u001b[0msend\u001b[0m\u001b[0;34m(\u001b[0m\u001b[0mrequest\u001b[0m\u001b[0;34m,\u001b[0m \u001b[0;34m**\u001b[0m\u001b[0mkwargs\u001b[0m\u001b[0;34m)\u001b[0m\u001b[0;34m\u001b[0m\u001b[0;34m\u001b[0m\u001b[0m\n\u001b[0m\u001b[1;32m    656\u001b[0m \u001b[0;34m\u001b[0m\u001b[0m\n\u001b[1;32m    657\u001b[0m         \u001b[0;31m# Total elapsed time of the request (approximately)\u001b[0m\u001b[0;34m\u001b[0m\u001b[0;34m\u001b[0m\u001b[0;34m\u001b[0m\u001b[0m\n",
      "\u001b[0;32m~/miniconda3/envs/helper/lib/python3.9/site-packages/requests/adapters.py\u001b[0m in \u001b[0;36msend\u001b[0;34m(self, request, stream, timeout, verify, cert, proxies)\u001b[0m\n\u001b[1;32m    437\u001b[0m         \u001b[0;32mtry\u001b[0m\u001b[0;34m:\u001b[0m\u001b[0;34m\u001b[0m\u001b[0;34m\u001b[0m\u001b[0m\n\u001b[1;32m    438\u001b[0m             \u001b[0;32mif\u001b[0m \u001b[0;32mnot\u001b[0m \u001b[0mchunked\u001b[0m\u001b[0;34m:\u001b[0m\u001b[0;34m\u001b[0m\u001b[0;34m\u001b[0m\u001b[0m\n\u001b[0;32m--> 439\u001b[0;31m                 resp = conn.urlopen(\n\u001b[0m\u001b[1;32m    440\u001b[0m                     \u001b[0mmethod\u001b[0m\u001b[0;34m=\u001b[0m\u001b[0mrequest\u001b[0m\u001b[0;34m.\u001b[0m\u001b[0mmethod\u001b[0m\u001b[0;34m,\u001b[0m\u001b[0;34m\u001b[0m\u001b[0;34m\u001b[0m\u001b[0m\n\u001b[1;32m    441\u001b[0m                     \u001b[0murl\u001b[0m\u001b[0;34m=\u001b[0m\u001b[0murl\u001b[0m\u001b[0;34m,\u001b[0m\u001b[0;34m\u001b[0m\u001b[0;34m\u001b[0m\u001b[0m\n",
      "\u001b[0;32m~/miniconda3/envs/helper/lib/python3.9/site-packages/urllib3/connectionpool.py\u001b[0m in \u001b[0;36murlopen\u001b[0;34m(self, method, url, body, headers, retries, redirect, assert_same_host, timeout, pool_timeout, release_conn, chunked, body_pos, **response_kw)\u001b[0m\n\u001b[1;32m    697\u001b[0m \u001b[0;34m\u001b[0m\u001b[0m\n\u001b[1;32m    698\u001b[0m             \u001b[0;31m# Make the request on the httplib connection object.\u001b[0m\u001b[0;34m\u001b[0m\u001b[0;34m\u001b[0m\u001b[0;34m\u001b[0m\u001b[0m\n\u001b[0;32m--> 699\u001b[0;31m             httplib_response = self._make_request(\n\u001b[0m\u001b[1;32m    700\u001b[0m                 \u001b[0mconn\u001b[0m\u001b[0;34m,\u001b[0m\u001b[0;34m\u001b[0m\u001b[0;34m\u001b[0m\u001b[0m\n\u001b[1;32m    701\u001b[0m                 \u001b[0mmethod\u001b[0m\u001b[0;34m,\u001b[0m\u001b[0;34m\u001b[0m\u001b[0;34m\u001b[0m\u001b[0m\n",
      "\u001b[0;32m~/miniconda3/envs/helper/lib/python3.9/site-packages/urllib3/connectionpool.py\u001b[0m in \u001b[0;36m_make_request\u001b[0;34m(self, conn, method, url, timeout, chunked, **httplib_request_kw)\u001b[0m\n\u001b[1;32m    443\u001b[0m                     \u001b[0;31m# Python 3 (including for exceptions like SystemExit).\u001b[0m\u001b[0;34m\u001b[0m\u001b[0;34m\u001b[0m\u001b[0;34m\u001b[0m\u001b[0m\n\u001b[1;32m    444\u001b[0m                     \u001b[0;31m# Otherwise it looks like a bug in the code.\u001b[0m\u001b[0;34m\u001b[0m\u001b[0;34m\u001b[0m\u001b[0;34m\u001b[0m\u001b[0m\n\u001b[0;32m--> 445\u001b[0;31m                     \u001b[0msix\u001b[0m\u001b[0;34m.\u001b[0m\u001b[0mraise_from\u001b[0m\u001b[0;34m(\u001b[0m\u001b[0me\u001b[0m\u001b[0;34m,\u001b[0m \u001b[0;32mNone\u001b[0m\u001b[0;34m)\u001b[0m\u001b[0;34m\u001b[0m\u001b[0;34m\u001b[0m\u001b[0m\n\u001b[0m\u001b[1;32m    446\u001b[0m         \u001b[0;32mexcept\u001b[0m \u001b[0;34m(\u001b[0m\u001b[0mSocketTimeout\u001b[0m\u001b[0;34m,\u001b[0m \u001b[0mBaseSSLError\u001b[0m\u001b[0;34m,\u001b[0m \u001b[0mSocketError\u001b[0m\u001b[0;34m)\u001b[0m \u001b[0;32mas\u001b[0m \u001b[0me\u001b[0m\u001b[0;34m:\u001b[0m\u001b[0;34m\u001b[0m\u001b[0;34m\u001b[0m\u001b[0m\n\u001b[1;32m    447\u001b[0m             \u001b[0mself\u001b[0m\u001b[0;34m.\u001b[0m\u001b[0m_raise_timeout\u001b[0m\u001b[0;34m(\u001b[0m\u001b[0merr\u001b[0m\u001b[0;34m=\u001b[0m\u001b[0me\u001b[0m\u001b[0;34m,\u001b[0m \u001b[0murl\u001b[0m\u001b[0;34m=\u001b[0m\u001b[0murl\u001b[0m\u001b[0;34m,\u001b[0m \u001b[0mtimeout_value\u001b[0m\u001b[0;34m=\u001b[0m\u001b[0mread_timeout\u001b[0m\u001b[0;34m)\u001b[0m\u001b[0;34m\u001b[0m\u001b[0;34m\u001b[0m\u001b[0m\n",
      "\u001b[0;32m~/miniconda3/envs/helper/lib/python3.9/site-packages/urllib3/packages/six.py\u001b[0m in \u001b[0;36mraise_from\u001b[0;34m(value, from_value)\u001b[0m\n",
      "\u001b[0;32m~/miniconda3/envs/helper/lib/python3.9/site-packages/urllib3/connectionpool.py\u001b[0m in \u001b[0;36m_make_request\u001b[0;34m(self, conn, method, url, timeout, chunked, **httplib_request_kw)\u001b[0m\n\u001b[1;32m    438\u001b[0m                 \u001b[0;31m# Python 3\u001b[0m\u001b[0;34m\u001b[0m\u001b[0;34m\u001b[0m\u001b[0;34m\u001b[0m\u001b[0m\n\u001b[1;32m    439\u001b[0m                 \u001b[0;32mtry\u001b[0m\u001b[0;34m:\u001b[0m\u001b[0;34m\u001b[0m\u001b[0;34m\u001b[0m\u001b[0m\n\u001b[0;32m--> 440\u001b[0;31m                     \u001b[0mhttplib_response\u001b[0m \u001b[0;34m=\u001b[0m \u001b[0mconn\u001b[0m\u001b[0;34m.\u001b[0m\u001b[0mgetresponse\u001b[0m\u001b[0;34m(\u001b[0m\u001b[0;34m)\u001b[0m\u001b[0;34m\u001b[0m\u001b[0;34m\u001b[0m\u001b[0m\n\u001b[0m\u001b[1;32m    441\u001b[0m                 \u001b[0;32mexcept\u001b[0m \u001b[0mBaseException\u001b[0m \u001b[0;32mas\u001b[0m \u001b[0me\u001b[0m\u001b[0;34m:\u001b[0m\u001b[0;34m\u001b[0m\u001b[0;34m\u001b[0m\u001b[0m\n\u001b[1;32m    442\u001b[0m                     \u001b[0;31m# Remove the TypeError from the exception chain in\u001b[0m\u001b[0;34m\u001b[0m\u001b[0;34m\u001b[0m\u001b[0;34m\u001b[0m\u001b[0m\n",
      "\u001b[0;32m~/miniconda3/envs/helper/lib/python3.9/http/client.py\u001b[0m in \u001b[0;36mgetresponse\u001b[0;34m(self)\u001b[0m\n\u001b[1;32m   1343\u001b[0m         \u001b[0;32mtry\u001b[0m\u001b[0;34m:\u001b[0m\u001b[0;34m\u001b[0m\u001b[0;34m\u001b[0m\u001b[0m\n\u001b[1;32m   1344\u001b[0m             \u001b[0;32mtry\u001b[0m\u001b[0;34m:\u001b[0m\u001b[0;34m\u001b[0m\u001b[0;34m\u001b[0m\u001b[0m\n\u001b[0;32m-> 1345\u001b[0;31m                 \u001b[0mresponse\u001b[0m\u001b[0;34m.\u001b[0m\u001b[0mbegin\u001b[0m\u001b[0;34m(\u001b[0m\u001b[0;34m)\u001b[0m\u001b[0;34m\u001b[0m\u001b[0;34m\u001b[0m\u001b[0m\n\u001b[0m\u001b[1;32m   1346\u001b[0m             \u001b[0;32mexcept\u001b[0m \u001b[0mConnectionError\u001b[0m\u001b[0;34m:\u001b[0m\u001b[0;34m\u001b[0m\u001b[0;34m\u001b[0m\u001b[0m\n\u001b[1;32m   1347\u001b[0m                 \u001b[0mself\u001b[0m\u001b[0;34m.\u001b[0m\u001b[0mclose\u001b[0m\u001b[0;34m(\u001b[0m\u001b[0;34m)\u001b[0m\u001b[0;34m\u001b[0m\u001b[0;34m\u001b[0m\u001b[0m\n",
      "\u001b[0;32m~/miniconda3/envs/helper/lib/python3.9/http/client.py\u001b[0m in \u001b[0;36mbegin\u001b[0;34m(self)\u001b[0m\n\u001b[1;32m    305\u001b[0m         \u001b[0;31m# read until we get a non-100 response\u001b[0m\u001b[0;34m\u001b[0m\u001b[0;34m\u001b[0m\u001b[0;34m\u001b[0m\u001b[0m\n\u001b[1;32m    306\u001b[0m         \u001b[0;32mwhile\u001b[0m \u001b[0;32mTrue\u001b[0m\u001b[0;34m:\u001b[0m\u001b[0;34m\u001b[0m\u001b[0;34m\u001b[0m\u001b[0m\n\u001b[0;32m--> 307\u001b[0;31m             \u001b[0mversion\u001b[0m\u001b[0;34m,\u001b[0m \u001b[0mstatus\u001b[0m\u001b[0;34m,\u001b[0m \u001b[0mreason\u001b[0m \u001b[0;34m=\u001b[0m \u001b[0mself\u001b[0m\u001b[0;34m.\u001b[0m\u001b[0m_read_status\u001b[0m\u001b[0;34m(\u001b[0m\u001b[0;34m)\u001b[0m\u001b[0;34m\u001b[0m\u001b[0;34m\u001b[0m\u001b[0m\n\u001b[0m\u001b[1;32m    308\u001b[0m             \u001b[0;32mif\u001b[0m \u001b[0mstatus\u001b[0m \u001b[0;34m!=\u001b[0m \u001b[0mCONTINUE\u001b[0m\u001b[0;34m:\u001b[0m\u001b[0;34m\u001b[0m\u001b[0;34m\u001b[0m\u001b[0m\n\u001b[1;32m    309\u001b[0m                 \u001b[0;32mbreak\u001b[0m\u001b[0;34m\u001b[0m\u001b[0;34m\u001b[0m\u001b[0m\n",
      "\u001b[0;32m~/miniconda3/envs/helper/lib/python3.9/http/client.py\u001b[0m in \u001b[0;36m_read_status\u001b[0;34m(self)\u001b[0m\n\u001b[1;32m    266\u001b[0m \u001b[0;34m\u001b[0m\u001b[0m\n\u001b[1;32m    267\u001b[0m     \u001b[0;32mdef\u001b[0m \u001b[0m_read_status\u001b[0m\u001b[0;34m(\u001b[0m\u001b[0mself\u001b[0m\u001b[0;34m)\u001b[0m\u001b[0;34m:\u001b[0m\u001b[0;34m\u001b[0m\u001b[0;34m\u001b[0m\u001b[0m\n\u001b[0;32m--> 268\u001b[0;31m         \u001b[0mline\u001b[0m \u001b[0;34m=\u001b[0m \u001b[0mstr\u001b[0m\u001b[0;34m(\u001b[0m\u001b[0mself\u001b[0m\u001b[0;34m.\u001b[0m\u001b[0mfp\u001b[0m\u001b[0;34m.\u001b[0m\u001b[0mreadline\u001b[0m\u001b[0;34m(\u001b[0m\u001b[0m_MAXLINE\u001b[0m \u001b[0;34m+\u001b[0m \u001b[0;36m1\u001b[0m\u001b[0;34m)\u001b[0m\u001b[0;34m,\u001b[0m \u001b[0;34m\"iso-8859-1\"\u001b[0m\u001b[0;34m)\u001b[0m\u001b[0;34m\u001b[0m\u001b[0;34m\u001b[0m\u001b[0m\n\u001b[0m\u001b[1;32m    269\u001b[0m         \u001b[0;32mif\u001b[0m \u001b[0mlen\u001b[0m\u001b[0;34m(\u001b[0m\u001b[0mline\u001b[0m\u001b[0;34m)\u001b[0m \u001b[0;34m>\u001b[0m \u001b[0m_MAXLINE\u001b[0m\u001b[0;34m:\u001b[0m\u001b[0;34m\u001b[0m\u001b[0;34m\u001b[0m\u001b[0m\n\u001b[1;32m    270\u001b[0m             \u001b[0;32mraise\u001b[0m \u001b[0mLineTooLong\u001b[0m\u001b[0;34m(\u001b[0m\u001b[0;34m\"status line\"\u001b[0m\u001b[0;34m)\u001b[0m\u001b[0;34m\u001b[0m\u001b[0;34m\u001b[0m\u001b[0m\n",
      "\u001b[0;32m~/miniconda3/envs/helper/lib/python3.9/socket.py\u001b[0m in \u001b[0;36mreadinto\u001b[0;34m(self, b)\u001b[0m\n\u001b[1;32m    702\u001b[0m         \u001b[0;32mwhile\u001b[0m \u001b[0;32mTrue\u001b[0m\u001b[0;34m:\u001b[0m\u001b[0;34m\u001b[0m\u001b[0;34m\u001b[0m\u001b[0m\n\u001b[1;32m    703\u001b[0m             \u001b[0;32mtry\u001b[0m\u001b[0;34m:\u001b[0m\u001b[0;34m\u001b[0m\u001b[0;34m\u001b[0m\u001b[0m\n\u001b[0;32m--> 704\u001b[0;31m                 \u001b[0;32mreturn\u001b[0m \u001b[0mself\u001b[0m\u001b[0;34m.\u001b[0m\u001b[0m_sock\u001b[0m\u001b[0;34m.\u001b[0m\u001b[0mrecv_into\u001b[0m\u001b[0;34m(\u001b[0m\u001b[0mb\u001b[0m\u001b[0;34m)\u001b[0m\u001b[0;34m\u001b[0m\u001b[0;34m\u001b[0m\u001b[0m\n\u001b[0m\u001b[1;32m    705\u001b[0m             \u001b[0;32mexcept\u001b[0m \u001b[0mtimeout\u001b[0m\u001b[0;34m:\u001b[0m\u001b[0;34m\u001b[0m\u001b[0;34m\u001b[0m\u001b[0m\n\u001b[1;32m    706\u001b[0m                 \u001b[0mself\u001b[0m\u001b[0;34m.\u001b[0m\u001b[0m_timeout_occurred\u001b[0m \u001b[0;34m=\u001b[0m \u001b[0;32mTrue\u001b[0m\u001b[0;34m\u001b[0m\u001b[0;34m\u001b[0m\u001b[0m\n",
      "\u001b[0;32m~/miniconda3/envs/helper/lib/python3.9/ssl.py\u001b[0m in \u001b[0;36mrecv_into\u001b[0;34m(self, buffer, nbytes, flags)\u001b[0m\n\u001b[1;32m   1239\u001b[0m                   \u001b[0;34m\"non-zero flags not allowed in calls to recv_into() on %s\"\u001b[0m \u001b[0;34m%\u001b[0m\u001b[0;34m\u001b[0m\u001b[0;34m\u001b[0m\u001b[0m\n\u001b[1;32m   1240\u001b[0m                   self.__class__)\n\u001b[0;32m-> 1241\u001b[0;31m             \u001b[0;32mreturn\u001b[0m \u001b[0mself\u001b[0m\u001b[0;34m.\u001b[0m\u001b[0mread\u001b[0m\u001b[0;34m(\u001b[0m\u001b[0mnbytes\u001b[0m\u001b[0;34m,\u001b[0m \u001b[0mbuffer\u001b[0m\u001b[0;34m)\u001b[0m\u001b[0;34m\u001b[0m\u001b[0;34m\u001b[0m\u001b[0m\n\u001b[0m\u001b[1;32m   1242\u001b[0m         \u001b[0;32melse\u001b[0m\u001b[0;34m:\u001b[0m\u001b[0;34m\u001b[0m\u001b[0;34m\u001b[0m\u001b[0m\n\u001b[1;32m   1243\u001b[0m             \u001b[0;32mreturn\u001b[0m \u001b[0msuper\u001b[0m\u001b[0;34m(\u001b[0m\u001b[0;34m)\u001b[0m\u001b[0;34m.\u001b[0m\u001b[0mrecv_into\u001b[0m\u001b[0;34m(\u001b[0m\u001b[0mbuffer\u001b[0m\u001b[0;34m,\u001b[0m \u001b[0mnbytes\u001b[0m\u001b[0;34m,\u001b[0m \u001b[0mflags\u001b[0m\u001b[0;34m)\u001b[0m\u001b[0;34m\u001b[0m\u001b[0;34m\u001b[0m\u001b[0m\n",
      "\u001b[0;32m~/miniconda3/envs/helper/lib/python3.9/ssl.py\u001b[0m in \u001b[0;36mread\u001b[0;34m(self, len, buffer)\u001b[0m\n\u001b[1;32m   1097\u001b[0m         \u001b[0;32mtry\u001b[0m\u001b[0;34m:\u001b[0m\u001b[0;34m\u001b[0m\u001b[0;34m\u001b[0m\u001b[0m\n\u001b[1;32m   1098\u001b[0m             \u001b[0;32mif\u001b[0m \u001b[0mbuffer\u001b[0m \u001b[0;32mis\u001b[0m \u001b[0;32mnot\u001b[0m \u001b[0;32mNone\u001b[0m\u001b[0;34m:\u001b[0m\u001b[0;34m\u001b[0m\u001b[0;34m\u001b[0m\u001b[0m\n\u001b[0;32m-> 1099\u001b[0;31m                 \u001b[0;32mreturn\u001b[0m \u001b[0mself\u001b[0m\u001b[0;34m.\u001b[0m\u001b[0m_sslobj\u001b[0m\u001b[0;34m.\u001b[0m\u001b[0mread\u001b[0m\u001b[0;34m(\u001b[0m\u001b[0mlen\u001b[0m\u001b[0;34m,\u001b[0m \u001b[0mbuffer\u001b[0m\u001b[0;34m)\u001b[0m\u001b[0;34m\u001b[0m\u001b[0;34m\u001b[0m\u001b[0m\n\u001b[0m\u001b[1;32m   1100\u001b[0m             \u001b[0;32melse\u001b[0m\u001b[0;34m:\u001b[0m\u001b[0;34m\u001b[0m\u001b[0;34m\u001b[0m\u001b[0m\n\u001b[1;32m   1101\u001b[0m                 \u001b[0;32mreturn\u001b[0m \u001b[0mself\u001b[0m\u001b[0;34m.\u001b[0m\u001b[0m_sslobj\u001b[0m\u001b[0;34m.\u001b[0m\u001b[0mread\u001b[0m\u001b[0;34m(\u001b[0m\u001b[0mlen\u001b[0m\u001b[0;34m)\u001b[0m\u001b[0;34m\u001b[0m\u001b[0;34m\u001b[0m\u001b[0m\n",
      "\u001b[0;31mKeyboardInterrupt\u001b[0m: "
     ]
    }
   ],
   "source": [
    "script = fetch_files(progID, instrument, start_date, filt, '_x1d.fits', True, True)\n"
   ]
  },
  {
   "cell_type": "code",
   "execution_count": null,
   "metadata": {},
   "outputs": [],
   "source": [
    "nircam_imaging = '/Users/ofox/data/jwst/dat_pyinthesky/jdat_notebooks/helper_classes/data/NIRISS/Imaging/jw00625-o072_t006_niriss_clear-f090w/jw00625-o072_t006_niriss_clear-f090w_i2d.fits'"
   ]
  },
  {
   "cell_type": "code",
   "execution_count": null,
   "metadata": {},
   "outputs": [],
   "source": []
  },
  {
   "cell_type": "code",
   "execution_count": null,
   "metadata": {},
   "outputs": [],
   "source": []
  },
  {
   "cell_type": "code",
   "execution_count": null,
   "metadata": {},
   "outputs": [],
   "source": []
  },
  {
   "cell_type": "code",
   "execution_count": null,
   "metadata": {},
   "outputs": [],
   "source": []
  },
  {
   "cell_type": "markdown",
   "metadata": {},
   "source": [
    "## NIRISS SOSS"
   ]
  },
  {
   "cell_type": "code",
   "execution_count": 321,
   "metadata": {},
   "outputs": [
    {
     "name": "stdout",
     "output_type": "stream",
     "text": [
      " obsID   obs_collection ...    dataRights    calib_level\n",
      "-------- -------------- ... ---------------- -----------\n",
      "55772989           JWST ... EXCLUSIVE_ACCESS           3\n",
      "55772924           JWST ... EXCLUSIVE_ACCESS           2\n",
      "55772922           JWST ... EXCLUSIVE_ACCESS           2\n",
      "55772923           JWST ... EXCLUSIVE_ACCESS           2\n"
     ]
    }
   ],
   "source": [
    "instrument = 'Niriss'\n",
    "program = '00721'\n",
    "columns = ','.join(RET_COLUMNS)\n",
    "service = SERVICES['Caom_search']\n",
    "progID = program\n",
    "#mjd_min = 58961\n",
    "\n",
    "start_date = 59030\n",
    "#start_data = 59215\n",
    "filt='CLEAR'\n",
    "\n",
    "extension='_x1dints.fits'\n",
    "JwstObs = set_server_endpoints(SERVER)\n",
    "obsTable = observation_query(JwstObs, progID, instrument, start_date, filt)\n",
    "products = product_query(JwstObs, obsTable)\n",
    "mask = product_filter(products, [extension], True)\n",
    "selected_products = products[mask]\n",
    "print(selected_products) \n",
    "#print(obsTable)"
   ]
  },
  {
   "cell_type": "code",
   "execution_count": 322,
   "metadata": {},
   "outputs": [
    {
     "name": "stdout",
     "output_type": "stream",
     "text": [
      "jw00721-o033_t008_niriss_clear-gr700xd-substrip96_x1dints.fits\n",
      "             jw00721033001_03101_00001-seg001_nis_x1dints.fits\n",
      "             jw00721033001_03101_00001-seg002_nis_x1dints.fits\n",
      "             jw00721033001_03101_00001-seg003_nis_x1dints.fits\n",
      "Downloading URL https://mast.stsci.edu/jwst/api/v0.1/download/bundle.sh?uri=mast:JWST/product/jw00721-o033_t008_niriss_clear-gr700xd-substrip96_x1dints.fits&uri=mast:JWST/product/jw00721033001_03101_00001-seg001_nis_x1dints.fits&uri=mast:JWST/product/jw00721033001_03101_00001-seg002_nis_x1dints.fits&uri=mast:JWST/product/jw00721033001_03101_00001-seg003_nis_x1dints.fits to mastDownload_20210610201544.sh ... [Done]\n"
     ]
    }
   ],
   "source": [
    "script = fetch_files(progID, instrument, start_date, filt, '_x1dints.fits', True, True)\n",
    "\n"
   ]
  },
  {
   "cell_type": "code",
   "execution_count": null,
   "metadata": {},
   "outputs": [],
   "source": []
  },
  {
   "cell_type": "code",
   "execution_count": null,
   "metadata": {},
   "outputs": [],
   "source": []
  },
  {
   "cell_type": "markdown",
   "metadata": {},
   "source": [
    "## NIRISS AMI - Failing"
   ]
  },
  {
   "cell_type": "code",
   "execution_count": 324,
   "metadata": {},
   "outputs": [
    {
     "name": "stdout",
     "output_type": "stream",
     "text": [
      " obsID   obs_collection ...    dataRights    calib_level\n",
      "-------- -------------- ... ---------------- -----------\n",
      "55721117           JWST ... EXCLUSIVE_ACCESS           3\n"
     ]
    }
   ],
   "source": [
    "instrument = 'Niriss'\n",
    "program = '00625'\n",
    "columns = ','.join(RET_COLUMNS)\n",
    "service = SERVICES['Caom_search']\n",
    "progID = program\n",
    "\n",
    "start_data = 59215\n",
    "filt='F380M'\n",
    "\n",
    "extension='_amiavg.fits'\n",
    "JwstObs = set_server_endpoints(SERVER)\n",
    "obsTable = observation_query(JwstObs, progID, instrument, start_date, filt)\n",
    "products = product_query(JwstObs, obsTable)\n",
    "mask = product_filter(products, [extension], True)\n",
    "selected_products = products[mask]\n",
    "print(selected_products) \n",
    "#print(obsTable)\n",
    "\n"
   ]
  },
  {
   "cell_type": "markdown",
   "metadata": {},
   "source": [
    "## NIRCam Imager - Working"
   ]
  },
  {
   "cell_type": "code",
   "execution_count": 8,
   "metadata": {
    "scrolled": true
   },
   "outputs": [
    {
     "name": "stderr",
     "output_type": "stream",
     "text": [
      "WARNING:py.warnings:/Users/ofox/miniconda3/envs/helper/lib/python3.9/site-packages/ipykernel/ipkernel.py:287: DeprecationWarning: `should_run_async` will not call `transform_cell` automatically in the future. Please pass the result to `transformed_cell` argument and any exception that happen during thetransform in `preprocessing_exc_tuple` in IPython 7.17 and above.\n",
      "  and should_run_async(code)\n",
      "\n",
      "2021-06-03 21:33:30,190 - stpipe - WARNING - /Users/ofox/miniconda3/envs/helper/lib/python3.9/site-packages/ipykernel/ipkernel.py:287: DeprecationWarning: `should_run_async` will not call `transform_cell` automatically in the future. Please pass the result to `transformed_cell` argument and any exception that happen during thetransform in `preprocessing_exc_tuple` in IPython 7.17 and above.\n",
      "  and should_run_async(code)\n",
      "\n",
      "WARNING:stpipe:/Users/ofox/miniconda3/envs/helper/lib/python3.9/site-packages/ipykernel/ipkernel.py:287: DeprecationWarning: `should_run_async` will not call `transform_cell` automatically in the future. Please pass the result to `transformed_cell` argument and any exception that happen during thetransform in `preprocessing_exc_tuple` in IPython 7.17 and above.\n",
      "  and should_run_async(code)\n",
      "\n"
     ]
    }
   ],
   "source": [
    "nircam_imaging = '/Users/ofox/data/jwst/dat_pyinthesky/jdat_notebooks/helper_classes/data/NIRCam/Imaging/images_level3/LMC_F070W_nrcb1_combined_PrimaryDither_1_SubpxDither_4_i2d.fits'"
   ]
  },
  {
   "cell_type": "code",
   "execution_count": 9,
   "metadata": {},
   "outputs": [
    {
     "name": "stderr",
     "output_type": "stream",
     "text": [
      "WARNING:py.warnings:/Users/ofox/miniconda3/envs/helper/lib/python3.9/site-packages/ipywidgets/widgets/widget.py:412: DeprecationWarning: Passing unrecognized arguments to super(Figure).__init__(scales={'x': LinearScale(allow_padding=False, max=1.0, min=0.0), 'y': LinearScale(max=1.0, min=0.0)}).\n",
      "object.__init__() takes exactly one argument (the instance to initialize)\n",
      "This is deprecated in traitlets 4.2.This error will be raised in a future release of traitlets.\n",
      "  super(Widget, self).__init__(**kwargs)\n",
      "\n",
      "2021-06-03 21:33:30,980 - stpipe - WARNING - /Users/ofox/miniconda3/envs/helper/lib/python3.9/site-packages/ipywidgets/widgets/widget.py:412: DeprecationWarning: Passing unrecognized arguments to super(Figure).__init__(scales={'x': LinearScale(allow_padding=False, max=1.0, min=0.0), 'y': LinearScale(max=1.0, min=0.0)}).\n",
      "object.__init__() takes exactly one argument (the instance to initialize)\n",
      "This is deprecated in traitlets 4.2.This error will be raised in a future release of traitlets.\n",
      "  super(Widget, self).__init__(**kwargs)\n",
      "\n",
      "WARNING:stpipe:/Users/ofox/miniconda3/envs/helper/lib/python3.9/site-packages/ipywidgets/widgets/widget.py:412: DeprecationWarning: Passing unrecognized arguments to super(Figure).__init__(scales={'x': LinearScale(allow_padding=False, max=1.0, min=0.0), 'y': LinearScale(max=1.0, min=0.0)}).\n",
      "object.__init__() takes exactly one argument (the instance to initialize)\n",
      "This is deprecated in traitlets 4.2.This error will be raised in a future release of traitlets.\n",
      "  super(Widget, self).__init__(**kwargs)\n",
      "\n"
     ]
    }
   ],
   "source": [
    "from jwst import datamodels\n",
    "#from jdaviz import Imviz\n",
    "imviz = Imviz()"
   ]
  },
  {
   "cell_type": "code",
   "execution_count": 10,
   "metadata": {},
   "outputs": [
    {
     "name": "stderr",
     "output_type": "stream",
     "text": [
      "WARNING:py.warnings:/Users/ofox/miniconda3/envs/helper/lib/python3.9/site-packages/jwst/datamodels/drizproduct.py:10: DeprecationWarning: DrizProduct is deprecated and will be removed.  Use ImageModel.\n",
      "  warnings.warn(message=\"DrizProduct is deprecated and will be removed.  \"\n",
      "\n",
      "2021-06-03 21:33:31,892 - stpipe - WARNING - /Users/ofox/miniconda3/envs/helper/lib/python3.9/site-packages/jwst/datamodels/drizproduct.py:10: DeprecationWarning: DrizProduct is deprecated and will be removed.  Use ImageModel.\n",
      "  warnings.warn(message=\"DrizProduct is deprecated and will be removed.  \"\n",
      "\n",
      "WARNING:stpipe:/Users/ofox/miniconda3/envs/helper/lib/python3.9/site-packages/jwst/datamodels/drizproduct.py:10: DeprecationWarning: DrizProduct is deprecated and will be removed.  Use ImageModel.\n",
      "  warnings.warn(message=\"DrizProduct is deprecated and will be removed.  \"\n",
      "\n",
      "WARNING:py.warnings:/Users/ofox/miniconda3/envs/helper/lib/python3.9/site-packages/glue/core/component.py:96: DeprecationWarning: `np.complex` is a deprecated alias for the builtin `complex`. To silence this warning, use `complex` by itself. Doing this will not modify any behavior and is safe. If you specifically wanted the numpy scalar type, use `np.complex128` here.\n",
      "Deprecated in NumPy 1.20; for more details and guidance: https://numpy.org/devdocs/release/1.20.0-notes.html#deprecations\n",
      "  return np.can_cast(self[(0,) * self.ndim].dtype, np.complex)\n",
      "\n",
      "2021-06-03 21:33:32,369 - stpipe - WARNING - /Users/ofox/miniconda3/envs/helper/lib/python3.9/site-packages/glue/core/component.py:96: DeprecationWarning: `np.complex` is a deprecated alias for the builtin `complex`. To silence this warning, use `complex` by itself. Doing this will not modify any behavior and is safe. If you specifically wanted the numpy scalar type, use `np.complex128` here.\n",
      "Deprecated in NumPy 1.20; for more details and guidance: https://numpy.org/devdocs/release/1.20.0-notes.html#deprecations\n",
      "  return np.can_cast(self[(0,) * self.ndim].dtype, np.complex)\n",
      "\n",
      "WARNING:stpipe:/Users/ofox/miniconda3/envs/helper/lib/python3.9/site-packages/glue/core/component.py:96: DeprecationWarning: `np.complex` is a deprecated alias for the builtin `complex`. To silence this warning, use `complex` by itself. Doing this will not modify any behavior and is safe. If you specifically wanted the numpy scalar type, use `np.complex128` here.\n",
      "Deprecated in NumPy 1.20; for more details and guidance: https://numpy.org/devdocs/release/1.20.0-notes.html#deprecations\n",
      "  return np.can_cast(self[(0,) * self.ndim].dtype, np.complex)\n",
      "\n",
      "WARNING:py.warnings:/Users/ofox/miniconda3/envs/helper/lib/python3.9/site-packages/glue/core/component.py:96: DeprecationWarning: `np.complex` is a deprecated alias for the builtin `complex`. To silence this warning, use `complex` by itself. Doing this will not modify any behavior and is safe. If you specifically wanted the numpy scalar type, use `np.complex128` here.\n",
      "Deprecated in NumPy 1.20; for more details and guidance: https://numpy.org/devdocs/release/1.20.0-notes.html#deprecations\n",
      "  return np.can_cast(self[(0,) * self.ndim].dtype, np.complex)\n",
      "\n",
      "2021-06-03 21:33:32,379 - stpipe - WARNING - /Users/ofox/miniconda3/envs/helper/lib/python3.9/site-packages/glue/core/component.py:96: DeprecationWarning: `np.complex` is a deprecated alias for the builtin `complex`. To silence this warning, use `complex` by itself. Doing this will not modify any behavior and is safe. If you specifically wanted the numpy scalar type, use `np.complex128` here.\n",
      "Deprecated in NumPy 1.20; for more details and guidance: https://numpy.org/devdocs/release/1.20.0-notes.html#deprecations\n",
      "  return np.can_cast(self[(0,) * self.ndim].dtype, np.complex)\n",
      "\n",
      "WARNING:stpipe:/Users/ofox/miniconda3/envs/helper/lib/python3.9/site-packages/glue/core/component.py:96: DeprecationWarning: `np.complex` is a deprecated alias for the builtin `complex`. To silence this warning, use `complex` by itself. Doing this will not modify any behavior and is safe. If you specifically wanted the numpy scalar type, use `np.complex128` here.\n",
      "Deprecated in NumPy 1.20; for more details and guidance: https://numpy.org/devdocs/release/1.20.0-notes.html#deprecations\n",
      "  return np.can_cast(self[(0,) * self.ndim].dtype, np.complex)\n",
      "\n",
      "WARNING:py.warnings:/Users/ofox/miniconda3/envs/helper/lib/python3.9/site-packages/glue/core/component.py:96: DeprecationWarning: `np.complex` is a deprecated alias for the builtin `complex`. To silence this warning, use `complex` by itself. Doing this will not modify any behavior and is safe. If you specifically wanted the numpy scalar type, use `np.complex128` here.\n",
      "Deprecated in NumPy 1.20; for more details and guidance: https://numpy.org/devdocs/release/1.20.0-notes.html#deprecations\n",
      "  return np.can_cast(self[(0,) * self.ndim].dtype, np.complex)\n",
      "\n",
      "2021-06-03 21:33:32,382 - stpipe - WARNING - /Users/ofox/miniconda3/envs/helper/lib/python3.9/site-packages/glue/core/component.py:96: DeprecationWarning: `np.complex` is a deprecated alias for the builtin `complex`. To silence this warning, use `complex` by itself. Doing this will not modify any behavior and is safe. If you specifically wanted the numpy scalar type, use `np.complex128` here.\n",
      "Deprecated in NumPy 1.20; for more details and guidance: https://numpy.org/devdocs/release/1.20.0-notes.html#deprecations\n",
      "  return np.can_cast(self[(0,) * self.ndim].dtype, np.complex)\n",
      "\n",
      "WARNING:stpipe:/Users/ofox/miniconda3/envs/helper/lib/python3.9/site-packages/glue/core/component.py:96: DeprecationWarning: `np.complex` is a deprecated alias for the builtin `complex`. To silence this warning, use `complex` by itself. Doing this will not modify any behavior and is safe. If you specifically wanted the numpy scalar type, use `np.complex128` here.\n",
      "Deprecated in NumPy 1.20; for more details and guidance: https://numpy.org/devdocs/release/1.20.0-notes.html#deprecations\n",
      "  return np.can_cast(self[(0,) * self.ndim].dtype, np.complex)\n",
      "\n"
     ]
    },
    {
     "data": {
      "application/vnd.jupyter.widget-view+json": {
       "model_id": "905505c64da94b7daccb509b0304906d",
       "version_major": 2,
       "version_minor": 0
      },
      "text/plain": [
       "Application(components={'g-viewer-tab': '<template>\\n  <component :is=\"stack.container\">\\n    <g-viewer-tab\\n …"
      ]
     },
     "metadata": {},
     "output_type": "display_data"
    }
   ],
   "source": [
    "#Developer Notes: Ask how to remove other files from viewer before and after opening data\n",
    "imviz.load_data(nircam_imaging, data_label='NIRCam Imaging')\n",
    "\n",
    "viewer = imviz.app.get_viewer('viewer-1')\n",
    "\n",
    "imviz.app"
   ]
  },
  {
   "cell_type": "markdown",
   "metadata": {},
   "source": [
    "## NIRCam Imager"
   ]
  },
  {
   "cell_type": "code",
   "execution_count": 561,
   "metadata": {},
   "outputs": [
    {
     "name": "stdout",
     "output_type": "stream",
     "text": [
      " obsID   obs_collection ...    dataRights    calib_level\n",
      "-------- -------------- ... ---------------- -----------\n",
      "55744142           JWST ... EXCLUSIVE_ACCESS           3\n",
      "55744144           JWST ... EXCLUSIVE_ACCESS           3\n",
      "55744146           JWST ... EXCLUSIVE_ACCESS           3\n",
      "55717720           JWST ... EXCLUSIVE_ACCESS           2\n",
      "55717698           JWST ... EXCLUSIVE_ACCESS           2\n",
      "55717736           JWST ... EXCLUSIVE_ACCESS           2\n",
      "55717827           JWST ... EXCLUSIVE_ACCESS           2\n",
      "55717794           JWST ... EXCLUSIVE_ACCESS           2\n",
      "55717434           JWST ... EXCLUSIVE_ACCESS           2\n",
      "55717418           JWST ... EXCLUSIVE_ACCESS           2\n",
      "     ...            ... ...              ...         ...\n",
      "55717768           JWST ... EXCLUSIVE_ACCESS           2\n",
      "55717866           JWST ... EXCLUSIVE_ACCESS           2\n",
      "55717514           JWST ... EXCLUSIVE_ACCESS           2\n",
      "55717529           JWST ... EXCLUSIVE_ACCESS           2\n",
      "55717496           JWST ... EXCLUSIVE_ACCESS           2\n",
      "55717504           JWST ... EXCLUSIVE_ACCESS           2\n",
      "55717391           JWST ... EXCLUSIVE_ACCESS           2\n",
      "55717508           JWST ... EXCLUSIVE_ACCESS           2\n",
      "55717525           JWST ... EXCLUSIVE_ACCESS           2\n",
      "55717408           JWST ... EXCLUSIVE_ACCESS           2\n",
      "55717519           JWST ... EXCLUSIVE_ACCESS           2\n",
      "Length = 50 rows\n",
      "proposal_id ...               obs_id              \n",
      "----------- ... ----------------------------------\n",
      "      00720 ...    jw00720010001_03101_00003_nrcb2\n",
      "      00720 ...    jw00720011001_02101_00006_nrcb1\n",
      "      00720 ... jw00720007001_02101_00001_nrcblong\n",
      "      00720 ...    jw00720011001_02101_00004_nrcb4\n",
      "      00720 ...    jw00720011001_02101_00001_nrcb1\n",
      "      00720 ...    jw00720010001_03101_00003_nrca2\n",
      "      00720 ... jw00720011001_02101_00006_nrcblong\n",
      "      00720 ...    jw00720010001_03101_00003_nrcb3\n",
      "      00720 ...    jw00720011001_02101_00002_nrcb1\n",
      "      00720 ...    jw00720008001_02101_00001_nrca1\n",
      "        ... ...                                ...\n",
      "      00720 ...    jw00720007002_02101_00001_nrcb3\n",
      "      00720 ...    jw00720010001_03101_00002_nrca1\n",
      "      00720 ...    jw00720011001_02101_00003_nrcb2\n",
      "      00720 ...    jw00720010001_03101_00001_nrca1\n",
      "      00720 ...    jw00720011001_02101_00002_nrcb4\n",
      "      00720 ...    jw00720010001_03101_00002_nrcb4\n",
      "      00720 ...    jw00720008001_02101_00001_nrcb1\n",
      "      00720 ...    jw00720011001_02101_00003_nrcb1\n",
      "      00720 ...    jw00720010001_03101_00001_nrcb3\n",
      "      00720 ...    jw00720011001_02101_00001_nrcb2\n",
      "      00720 ...    jw00720010001_03101_00003_nrca4\n",
      "Length = 77 rows\n"
     ]
    }
   ],
   "source": [
    "instrument = 'Nircam'\n",
    "program = '00720'\n",
    "columns = ','.join(RET_COLUMNS)\n",
    "service = SERVICES['Caom_search']\n",
    "progID = program\n",
    "\n",
    "start_date = 58520\n",
    "filt='F090W'\n",
    "\n",
    "extension='_i2d.fits'\n",
    "JwstObs = set_server_endpoints(SERVER)\n",
    "obsTable = observation_query(JwstObs, progID, instrument, start_date, filt)\n",
    "products = product_query(JwstObs, obsTable)\n",
    "mask = product_filter(products, [extension], True)\n",
    "selected_products = products[mask]\n",
    "print(selected_products) \n",
    "print(obsTable)"
   ]
  },
  {
   "cell_type": "code",
   "execution_count": 562,
   "metadata": {},
   "outputs": [
    {
     "name": "stdout",
     "output_type": "stream",
     "text": [
      "    jw00720-o009_t002_nircam_f090w_i2d.fits\n",
      "   jw00720-o009_t002_nircam_f322w2_i2d.fits\n",
      "    jw00720-o010_t002_nircam_f277w_i2d.fits\n",
      "   jw00720009001_03101_00001_nrcb1_i2d.fits\n",
      "   jw00720009001_03101_00001_nrcb2_i2d.fits\n",
      "   jw00720009001_03101_00001_nrcb3_i2d.fits\n",
      "   jw00720009001_03101_00001_nrcb4_i2d.fits\n",
      "jw00720009001_03101_00001_nrcblong_i2d.fits\n",
      "   jw00720009001_03101_00002_nrcb1_i2d.fits\n",
      "   jw00720009001_03101_00002_nrcb2_i2d.fits\n",
      "   jw00720009001_03101_00002_nrcb3_i2d.fits\n",
      "   jw00720009001_03101_00002_nrcb4_i2d.fits\n",
      "jw00720009001_03101_00002_nrcblong_i2d.fits\n",
      "   jw00720009002_03101_00001_nrcb1_i2d.fits\n",
      "   jw00720009002_03101_00001_nrcb2_i2d.fits\n",
      "   jw00720009002_03101_00001_nrcb3_i2d.fits\n",
      "   jw00720009002_03101_00001_nrcb4_i2d.fits\n",
      "jw00720009002_03101_00001_nrcblong_i2d.fits\n",
      "   jw00720009002_03101_00002_nrcb1_i2d.fits\n",
      "   jw00720009002_03101_00002_nrcb2_i2d.fits\n",
      "   jw00720009002_03101_00002_nrcb3_i2d.fits\n",
      "   jw00720009002_03101_00002_nrcb4_i2d.fits\n",
      "jw00720009002_03101_00002_nrcblong_i2d.fits\n",
      "   jw00720010001_03101_00001_nrca2_i2d.fits\n",
      "   jw00720010001_03101_00001_nrca3_i2d.fits\n",
      "   jw00720010001_03101_00001_nrca4_i2d.fits\n",
      "jw00720010001_03101_00001_nrcalong_i2d.fits\n",
      "   jw00720010001_03101_00001_nrcb1_i2d.fits\n",
      "   jw00720010001_03101_00001_nrcb2_i2d.fits\n",
      "   jw00720010001_03101_00001_nrcb3_i2d.fits\n",
      "   jw00720010001_03101_00001_nrcb4_i2d.fits\n",
      "jw00720010001_03101_00001_nrcblong_i2d.fits\n",
      "   jw00720010001_03101_00002_nrca2_i2d.fits\n",
      "   jw00720010001_03101_00002_nrca3_i2d.fits\n",
      "   jw00720010001_03101_00002_nrca4_i2d.fits\n",
      "jw00720010001_03101_00002_nrcalong_i2d.fits\n",
      "   jw00720010001_03101_00002_nrcb1_i2d.fits\n",
      "   jw00720010001_03101_00002_nrcb2_i2d.fits\n",
      "   jw00720010001_03101_00002_nrcb3_i2d.fits\n",
      "   jw00720010001_03101_00002_nrcb4_i2d.fits\n",
      "jw00720010001_03101_00002_nrcblong_i2d.fits\n",
      "   jw00720010001_03101_00003_nrca2_i2d.fits\n",
      "   jw00720010001_03101_00003_nrca3_i2d.fits\n",
      "   jw00720010001_03101_00003_nrca4_i2d.fits\n",
      "jw00720010001_03101_00003_nrcalong_i2d.fits\n",
      "   jw00720010001_03101_00003_nrcb1_i2d.fits\n",
      "   jw00720010001_03101_00003_nrcb2_i2d.fits\n",
      "   jw00720010001_03101_00003_nrcb3_i2d.fits\n",
      "   jw00720010001_03101_00003_nrcb4_i2d.fits\n",
      "jw00720010001_03101_00003_nrcblong_i2d.fits\n",
      "Downloading URL https://mast.stsci.edu/jwst/api/v0.1/download/bundle.sh?uri=mast:JWST/product/jw00720-o009_t002_nircam_f090w_i2d.fits&uri=mast:JWST/product/jw00720-o009_t002_nircam_f322w2_i2d.fits&uri=mast:JWST/product/jw00720-o010_t002_nircam_f277w_i2d.fits&uri=mast:JWST/product/jw00720009001_03101_00001_nrcb1_i2d.fits&uri=mast:JWST/product/jw00720009001_03101_00001_nrcb2_i2d.fits&uri=mast:JWST/product/jw00720009001_03101_00001_nrcb3_i2d.fits&uri=mast:JWST/product/jw00720009001_03101_00001_nrcb4_i2d.fits&uri=mast:JWST/product/jw00720009001_03101_00001_nrcblong_i2d.fits&uri=mast:JWST/product/jw00720009001_03101_00002_nrcb1_i2d.fits&uri=mast:JWST/product/jw00720009001_03101_00002_nrcb2_i2d.fits&uri=mast:JWST/product/jw00720009001_03101_00002_nrcb3_i2d.fits&uri=mast:JWST/product/jw00720009001_03101_00002_nrcb4_i2d.fits&uri=mast:JWST/product/jw00720009001_03101_00002_nrcblong_i2d.fits&uri=mast:JWST/product/jw00720009002_03101_00001_nrcb1_i2d.fits&uri=mast:JWST/product/jw00720009002_03101_00001_nrcb2_i2d.fits&uri=mast:JWST/product/jw00720009002_03101_00001_nrcb3_i2d.fits&uri=mast:JWST/product/jw00720009002_03101_00001_nrcb4_i2d.fits&uri=mast:JWST/product/jw00720009002_03101_00001_nrcblong_i2d.fits&uri=mast:JWST/product/jw00720009002_03101_00002_nrcb1_i2d.fits&uri=mast:JWST/product/jw00720009002_03101_00002_nrcb2_i2d.fits&uri=mast:JWST/product/jw00720009002_03101_00002_nrcb3_i2d.fits&uri=mast:JWST/product/jw00720009002_03101_00002_nrcb4_i2d.fits&uri=mast:JWST/product/jw00720009002_03101_00002_nrcblong_i2d.fits&uri=mast:JWST/product/jw00720010001_03101_00001_nrca2_i2d.fits&uri=mast:JWST/product/jw00720010001_03101_00001_nrca3_i2d.fits&uri=mast:JWST/product/jw00720010001_03101_00001_nrca4_i2d.fits&uri=mast:JWST/product/jw00720010001_03101_00001_nrcalong_i2d.fits&uri=mast:JWST/product/jw00720010001_03101_00001_nrcb1_i2d.fits&uri=mast:JWST/product/jw00720010001_03101_00001_nrcb2_i2d.fits&uri=mast:JWST/product/jw00720010001_03101_00001_nrcb3_i2d.fits&uri=mast:JWST/product/jw00720010001_03101_00001_nrcb4_i2d.fits&uri=mast:JWST/product/jw00720010001_03101_00001_nrcblong_i2d.fits&uri=mast:JWST/product/jw00720010001_03101_00002_nrca2_i2d.fits&uri=mast:JWST/product/jw00720010001_03101_00002_nrca3_i2d.fits&uri=mast:JWST/product/jw00720010001_03101_00002_nrca4_i2d.fits&uri=mast:JWST/product/jw00720010001_03101_00002_nrcalong_i2d.fits&uri=mast:JWST/product/jw00720010001_03101_00002_nrcb1_i2d.fits&uri=mast:JWST/product/jw00720010001_03101_00002_nrcb2_i2d.fits&uri=mast:JWST/product/jw00720010001_03101_00002_nrcb3_i2d.fits&uri=mast:JWST/product/jw00720010001_03101_00002_nrcb4_i2d.fits&uri=mast:JWST/product/jw00720010001_03101_00002_nrcblong_i2d.fits&uri=mast:JWST/product/jw00720010001_03101_00003_nrca2_i2d.fits&uri=mast:JWST/product/jw00720010001_03101_00003_nrca3_i2d.fits&uri=mast:JWST/product/jw00720010001_03101_00003_nrca4_i2d.fits&uri=mast:JWST/product/jw00720010001_03101_00003_nrcalong_i2d.fits&uri=mast:JWST/product/jw00720010001_03101_00003_nrcb1_i2d.fits&uri=mast:JWST/product/jw00720010001_03101_00003_nrcb2_i2d.fits&uri=mast:JWST/product/jw00720010001_03101_00003_nrcb3_i2d.fits&uri=mast:JWST/product/jw00720010001_03101_00003_nrcb4_i2d.fits&uri=mast:JWST/product/jw00720010001_03101_00003_nrcblong_i2d.fits to mastDownload_20210611132450.sh ... [Done]\n"
     ]
    }
   ],
   "source": [
    "script = fetch_files(progID, instrument, start_date, filt, '_i2d.fits', True, True)"
   ]
  },
  {
   "cell_type": "code",
   "execution_count": null,
   "metadata": {},
   "outputs": [],
   "source": [
    "nircam_imaging = '/Users/ofox/data/jwst/dat_pyinthesky/jdat_notebooks/helper_classes/data/NIRCAM/Coronagraphic_Imaging/jw00628-c1007_t016_nircam_f250m-maskrnd-sub320a335r/jw00628-c1007_t016_nircam_f250m-maskrnd-sub320a335r_i2d.fits'"
   ]
  },
  {
   "cell_type": "code",
   "execution_count": null,
   "metadata": {},
   "outputs": [],
   "source": [
    "from jwst import datamodels\n",
    "#from jdaviz import Imviz\n",
    "imviz = Imviz()"
   ]
  },
  {
   "cell_type": "code",
   "execution_count": null,
   "metadata": {},
   "outputs": [],
   "source": [
    "#Developer Notes: Ask how to remove other files from viewer before and after opening data\n",
    "imviz.load_data(nircam_imaging, data_label='NIRCam Imaging')\n",
    "\n",
    "viewer = imviz.app.get_viewer('viewer-1')\n",
    "\n",
    "imviz.app"
   ]
  },
  {
   "cell_type": "code",
   "execution_count": null,
   "metadata": {},
   "outputs": [],
   "source": []
  },
  {
   "cell_type": "markdown",
   "metadata": {},
   "source": [
    "## NIRCam Coronagraphic Imaging\n"
   ]
  },
  {
   "cell_type": "code",
   "execution_count": 533,
   "metadata": {},
   "outputs": [
    {
     "name": "stdout",
     "output_type": "stream",
     "text": [
      " obsID   obs_collection ...    dataRights    calib_level\n",
      "-------- -------------- ... ---------------- -----------\n",
      "55729216           JWST ... EXCLUSIVE_ACCESS           3\n",
      "55729216           JWST ... EXCLUSIVE_ACCESS           3\n",
      "55729216           JWST ... EXCLUSIVE_ACCESS           3\n",
      "55729216           JWST ... EXCLUSIVE_ACCESS           3\n",
      "55729227           JWST ... EXCLUSIVE_ACCESS           3\n",
      "55729227           JWST ... EXCLUSIVE_ACCESS           3\n",
      "55729227           JWST ... EXCLUSIVE_ACCESS           3\n",
      "55729227           JWST ... EXCLUSIVE_ACCESS           3\n",
      "55729201           JWST ... EXCLUSIVE_ACCESS           3\n",
      "55729201           JWST ... EXCLUSIVE_ACCESS           3\n",
      "55729201           JWST ... EXCLUSIVE_ACCESS           3\n",
      "55729201           JWST ... EXCLUSIVE_ACCESS           3\n",
      "55729209           JWST ... EXCLUSIVE_ACCESS           3\n",
      "55729209           JWST ... EXCLUSIVE_ACCESS           3\n",
      "55729209           JWST ... EXCLUSIVE_ACCESS           3\n",
      "55729209           JWST ... EXCLUSIVE_ACCESS           3\n"
     ]
    }
   ],
   "source": [
    "instrument = 'Nircam'\n",
    "program = '00628'\n",
    "columns = ','.join(RET_COLUMNS)\n",
    "service = SERVICES['Caom_search']\n",
    "progID = program\n",
    "\n",
    "start_data = 59266\n",
    "filt='F335M'\n",
    "\n",
    "extension='_i2d.fits'\n",
    "JwstObs = set_server_endpoints(SERVER)\n",
    "obsTable = observation_query(JwstObs, progID, instrument, start_date, filt)\n",
    "products = product_query(JwstObs, obsTable)\n",
    "mask = product_filter(products, [extension], True)\n",
    "selected_products = products[mask]\n",
    "print(selected_products) \n",
    "#print(obsTable)"
   ]
  },
  {
   "cell_type": "code",
   "execution_count": 534,
   "metadata": {},
   "outputs": [
    {
     "name": "stdout",
     "output_type": "stream",
     "text": [
      "jw00628-c1007_t016_nircam_f250m-maskrnd-sub320a335r_i2d.fits\n",
      "jw00628-c1007_t016_nircam_f250m-maskrnd-sub320a335r_i2d.fits\n",
      "jw00628-c1007_t016_nircam_f250m-maskrnd-sub320a335r_i2d.fits\n",
      "jw00628-c1007_t016_nircam_f250m-maskrnd-sub320a335r_i2d.fits\n",
      "jw00628-c1024_t016_nircam_f250m-maskrnd-sub320a335r_i2d.fits\n",
      "jw00628-c1024_t016_nircam_f250m-maskrnd-sub320a335r_i2d.fits\n",
      "jw00628-c1024_t016_nircam_f250m-maskrnd-sub320a335r_i2d.fits\n",
      "jw00628-c1024_t016_nircam_f250m-maskrnd-sub320a335r_i2d.fits\n",
      "jw00628-c1029_t016_nircam_f250m-maskrnd-sub320a335r_i2d.fits\n",
      "jw00628-c1029_t016_nircam_f250m-maskrnd-sub320a335r_i2d.fits\n",
      "jw00628-c1029_t016_nircam_f250m-maskrnd-sub320a335r_i2d.fits\n",
      "jw00628-c1029_t016_nircam_f250m-maskrnd-sub320a335r_i2d.fits\n",
      "jw00628-c1039_t016_nircam_f250m-maskrnd-sub320a335r_i2d.fits\n",
      "jw00628-c1039_t016_nircam_f250m-maskrnd-sub320a335r_i2d.fits\n",
      "jw00628-c1039_t016_nircam_f250m-maskrnd-sub320a335r_i2d.fits\n",
      "jw00628-c1039_t016_nircam_f250m-maskrnd-sub320a335r_i2d.fits\n",
      "Downloading URL https://mast.stsci.edu/jwst/api/v0.1/download/bundle.sh?uri=mast:JWST/product/jw00628-c1007_t016_nircam_f250m-maskrnd-sub320a335r_i2d.fits&uri=mast:JWST/product/jw00628-c1007_t016_nircam_f250m-maskrnd-sub320a335r_i2d.fits&uri=mast:JWST/product/jw00628-c1007_t016_nircam_f250m-maskrnd-sub320a335r_i2d.fits&uri=mast:JWST/product/jw00628-c1007_t016_nircam_f250m-maskrnd-sub320a335r_i2d.fits&uri=mast:JWST/product/jw00628-c1024_t016_nircam_f250m-maskrnd-sub320a335r_i2d.fits&uri=mast:JWST/product/jw00628-c1024_t016_nircam_f250m-maskrnd-sub320a335r_i2d.fits&uri=mast:JWST/product/jw00628-c1024_t016_nircam_f250m-maskrnd-sub320a335r_i2d.fits&uri=mast:JWST/product/jw00628-c1024_t016_nircam_f250m-maskrnd-sub320a335r_i2d.fits&uri=mast:JWST/product/jw00628-c1029_t016_nircam_f250m-maskrnd-sub320a335r_i2d.fits&uri=mast:JWST/product/jw00628-c1029_t016_nircam_f250m-maskrnd-sub320a335r_i2d.fits&uri=mast:JWST/product/jw00628-c1029_t016_nircam_f250m-maskrnd-sub320a335r_i2d.fits&uri=mast:JWST/product/jw00628-c1029_t016_nircam_f250m-maskrnd-sub320a335r_i2d.fits&uri=mast:JWST/product/jw00628-c1039_t016_nircam_f250m-maskrnd-sub320a335r_i2d.fits&uri=mast:JWST/product/jw00628-c1039_t016_nircam_f250m-maskrnd-sub320a335r_i2d.fits&uri=mast:JWST/product/jw00628-c1039_t016_nircam_f250m-maskrnd-sub320a335r_i2d.fits&uri=mast:JWST/product/jw00628-c1039_t016_nircam_f250m-maskrnd-sub320a335r_i2d.fits to mastDownload_20210611113316.sh ... [Done]\n"
     ]
    }
   ],
   "source": [
    "script = fetch_files(progID, instrument, start_date, filt, '_i2d.fits', True, True)\n",
    "\n"
   ]
  },
  {
   "cell_type": "code",
   "execution_count": 514,
   "metadata": {},
   "outputs": [],
   "source": [
    "nircam_imaging = '/Users/ofox/data/jwst/dat_pyinthesky/jdat_notebooks/helper_classes/data/NIRCAM/Coronagraphic_Imaging/jw00628-c1007_t016_nircam_f250m-maskrnd-sub320a335r/jw00628-c1007_t016_nircam_f250m-maskrnd-sub320a335r_i2d.fits'\n"
   ]
  },
  {
   "cell_type": "code",
   "execution_count": 515,
   "metadata": {},
   "outputs": [],
   "source": [
    "from jwst import datamodels\n",
    "#from jdaviz import Imviz\n",
    "imviz = Imviz()"
   ]
  },
  {
   "cell_type": "code",
   "execution_count": 516,
   "metadata": {},
   "outputs": [
    {
     "name": "stderr",
     "output_type": "stream",
     "text": [
      "WARNING:py.warnings:/Users/ofox/miniconda3/envs/helper/lib/python3.9/site-packages/jwst/datamodels/drizproduct.py:10: DeprecationWarning: DrizProduct is deprecated and will be removed.  Use ImageModel.\n",
      "  warnings.warn(message=\"DrizProduct is deprecated and will be removed.  \"\n",
      "\n",
      "2021-06-11 07:25:17,148 - stpipe - WARNING - /Users/ofox/miniconda3/envs/helper/lib/python3.9/site-packages/jwst/datamodels/drizproduct.py:10: DeprecationWarning: DrizProduct is deprecated and will be removed.  Use ImageModel.\n",
      "  warnings.warn(message=\"DrizProduct is deprecated and will be removed.  \"\n",
      "\n",
      "WARNING:stpipe:/Users/ofox/miniconda3/envs/helper/lib/python3.9/site-packages/jwst/datamodels/drizproduct.py:10: DeprecationWarning: DrizProduct is deprecated and will be removed.  Use ImageModel.\n",
      "  warnings.warn(message=\"DrizProduct is deprecated and will be removed.  \"\n",
      "\n",
      "WARNING:py.warnings:/Users/ofox/miniconda3/envs/helper/lib/python3.9/site-packages/glue/core/component.py:96: DeprecationWarning: `np.complex` is a deprecated alias for the builtin `complex`. To silence this warning, use `complex` by itself. Doing this will not modify any behavior and is safe. If you specifically wanted the numpy scalar type, use `np.complex128` here.\n",
      "Deprecated in NumPy 1.20; for more details and guidance: https://numpy.org/devdocs/release/1.20.0-notes.html#deprecations\n",
      "  return np.can_cast(self[(0,) * self.ndim].dtype, np.complex)\n",
      "\n",
      "2021-06-11 07:25:17,613 - stpipe - WARNING - /Users/ofox/miniconda3/envs/helper/lib/python3.9/site-packages/glue/core/component.py:96: DeprecationWarning: `np.complex` is a deprecated alias for the builtin `complex`. To silence this warning, use `complex` by itself. Doing this will not modify any behavior and is safe. If you specifically wanted the numpy scalar type, use `np.complex128` here.\n",
      "Deprecated in NumPy 1.20; for more details and guidance: https://numpy.org/devdocs/release/1.20.0-notes.html#deprecations\n",
      "  return np.can_cast(self[(0,) * self.ndim].dtype, np.complex)\n",
      "\n",
      "WARNING:stpipe:/Users/ofox/miniconda3/envs/helper/lib/python3.9/site-packages/glue/core/component.py:96: DeprecationWarning: `np.complex` is a deprecated alias for the builtin `complex`. To silence this warning, use `complex` by itself. Doing this will not modify any behavior and is safe. If you specifically wanted the numpy scalar type, use `np.complex128` here.\n",
      "Deprecated in NumPy 1.20; for more details and guidance: https://numpy.org/devdocs/release/1.20.0-notes.html#deprecations\n",
      "  return np.can_cast(self[(0,) * self.ndim].dtype, np.complex)\n",
      "\n",
      "WARNING:py.warnings:/Users/ofox/miniconda3/envs/helper/lib/python3.9/site-packages/glue/core/component.py:96: DeprecationWarning: `np.complex` is a deprecated alias for the builtin `complex`. To silence this warning, use `complex` by itself. Doing this will not modify any behavior and is safe. If you specifically wanted the numpy scalar type, use `np.complex128` here.\n",
      "Deprecated in NumPy 1.20; for more details and guidance: https://numpy.org/devdocs/release/1.20.0-notes.html#deprecations\n",
      "  return np.can_cast(self[(0,) * self.ndim].dtype, np.complex)\n",
      "\n",
      "2021-06-11 07:25:17,617 - stpipe - WARNING - /Users/ofox/miniconda3/envs/helper/lib/python3.9/site-packages/glue/core/component.py:96: DeprecationWarning: `np.complex` is a deprecated alias for the builtin `complex`. To silence this warning, use `complex` by itself. Doing this will not modify any behavior and is safe. If you specifically wanted the numpy scalar type, use `np.complex128` here.\n",
      "Deprecated in NumPy 1.20; for more details and guidance: https://numpy.org/devdocs/release/1.20.0-notes.html#deprecations\n",
      "  return np.can_cast(self[(0,) * self.ndim].dtype, np.complex)\n",
      "\n",
      "WARNING:stpipe:/Users/ofox/miniconda3/envs/helper/lib/python3.9/site-packages/glue/core/component.py:96: DeprecationWarning: `np.complex` is a deprecated alias for the builtin `complex`. To silence this warning, use `complex` by itself. Doing this will not modify any behavior and is safe. If you specifically wanted the numpy scalar type, use `np.complex128` here.\n",
      "Deprecated in NumPy 1.20; for more details and guidance: https://numpy.org/devdocs/release/1.20.0-notes.html#deprecations\n",
      "  return np.can_cast(self[(0,) * self.ndim].dtype, np.complex)\n",
      "\n",
      "WARNING:py.warnings:/Users/ofox/miniconda3/envs/helper/lib/python3.9/site-packages/glue/core/component.py:96: DeprecationWarning: `np.complex` is a deprecated alias for the builtin `complex`. To silence this warning, use `complex` by itself. Doing this will not modify any behavior and is safe. If you specifically wanted the numpy scalar type, use `np.complex128` here.\n",
      "Deprecated in NumPy 1.20; for more details and guidance: https://numpy.org/devdocs/release/1.20.0-notes.html#deprecations\n",
      "  return np.can_cast(self[(0,) * self.ndim].dtype, np.complex)\n",
      "\n",
      "2021-06-11 07:25:17,620 - stpipe - WARNING - /Users/ofox/miniconda3/envs/helper/lib/python3.9/site-packages/glue/core/component.py:96: DeprecationWarning: `np.complex` is a deprecated alias for the builtin `complex`. To silence this warning, use `complex` by itself. Doing this will not modify any behavior and is safe. If you specifically wanted the numpy scalar type, use `np.complex128` here.\n",
      "Deprecated in NumPy 1.20; for more details and guidance: https://numpy.org/devdocs/release/1.20.0-notes.html#deprecations\n",
      "  return np.can_cast(self[(0,) * self.ndim].dtype, np.complex)\n",
      "\n",
      "WARNING:stpipe:/Users/ofox/miniconda3/envs/helper/lib/python3.9/site-packages/glue/core/component.py:96: DeprecationWarning: `np.complex` is a deprecated alias for the builtin `complex`. To silence this warning, use `complex` by itself. Doing this will not modify any behavior and is safe. If you specifically wanted the numpy scalar type, use `np.complex128` here.\n",
      "Deprecated in NumPy 1.20; for more details and guidance: https://numpy.org/devdocs/release/1.20.0-notes.html#deprecations\n",
      "  return np.can_cast(self[(0,) * self.ndim].dtype, np.complex)\n",
      "\n"
     ]
    },
    {
     "data": {
      "application/vnd.jupyter.widget-view+json": {
       "model_id": "4eebc25d3bd44bc19ab1c0262fa3cafe",
       "version_major": 2,
       "version_minor": 0
      },
      "text/plain": [
       "Application(components={'g-viewer-tab': '<template>\\n  <component :is=\"stack.container\">\\n    <g-viewer-tab\\n …"
      ]
     },
     "metadata": {},
     "output_type": "display_data"
    }
   ],
   "source": [
    "#Developer Notes: Ask how to remove other files from viewer before and after opening data\n",
    "imviz.load_data(nircam_imaging, data_label='NIRCam Coronagraphic Imaging')\n",
    "\n",
    "viewer = imviz.app.get_viewer('viewer-1')\n",
    "\n",
    "imviz.app"
   ]
  },
  {
   "cell_type": "markdown",
   "metadata": {},
   "source": [
    "## NIRCam Grism TSO"
   ]
  },
  {
   "cell_type": "code",
   "execution_count": 492,
   "metadata": {},
   "outputs": [
    {
     "name": "stdout",
     "output_type": "stream",
     "text": [
      " obsID   obs_collection ...    dataRights    calib_level\n",
      "-------- -------------- ... ---------------- -----------\n",
      "55729179           JWST ... EXCLUSIVE_ACCESS           3\n",
      "55726820           JWST ... EXCLUSIVE_ACCESS           2\n"
     ]
    }
   ],
   "source": [
    "instrument = 'Nircam'\n",
    "program = '00721'\n",
    "columns = ','.join(RET_COLUMNS)\n",
    "service = SERVICES['Caom_search']\n",
    "progID = program\n",
    "\n",
    "start_data = 59235\n",
    "filt='F444W'\n",
    "\n",
    "extension='_x1dints.fits'\n",
    "JwstObs = set_server_endpoints(SERVER)\n",
    "obsTable = observation_query(JwstObs, progID, instrument, start_date, filt)\n",
    "products = product_query(JwstObs, obsTable)\n",
    "mask = product_filter(products, [extension], True)\n",
    "selected_products = products[mask]\n",
    "print(selected_products) \n",
    "#print(obsTable)"
   ]
  },
  {
   "cell_type": "code",
   "execution_count": 493,
   "metadata": {},
   "outputs": [
    {
     "name": "stdout",
     "output_type": "stream",
     "text": [
      "jw00721-o012_t004_nircam_f444w-grismr-subgrism256_x1dints.fits\n",
      "        jw00721012001_03103_00001-seg001_nrcalong_x1dints.fits\n",
      "Downloading URL https://mast.stsci.edu/jwst/api/v0.1/download/bundle.sh?uri=mast:JWST/product/jw00721-o012_t004_nircam_f444w-grismr-subgrism256_x1dints.fits&uri=mast:JWST/product/jw00721012001_03103_00001-seg001_nrcalong_x1dints.fits to mastDownload_2021061111088.sh ... [Done]\n"
     ]
    }
   ],
   "source": [
    "script = fetch_files(progID, instrument, start_date, filt, 'x1dints.fits', True, True)\n"
   ]
  },
  {
   "cell_type": "code",
   "execution_count": 494,
   "metadata": {},
   "outputs": [],
   "source": [
    "nircam_bots = '/Users/ofox/data/jwst/dat_pyinthesky/jdat_notebooks/helper_classes/data/NIRCAM/Grism_TSO/jw00721-o012_t004_nircam_f444w-grismr-subgrism256/jw00721-o012_t004_nircam_f444w-grismr-subgrism256_x1dints.fits'\n"
   ]
  },
  {
   "cell_type": "code",
   "execution_count": null,
   "metadata": {},
   "outputs": [],
   "source": []
  },
  {
   "cell_type": "markdown",
   "metadata": {},
   "source": [
    "## NIRCam WFSS"
   ]
  },
  {
   "cell_type": "code",
   "execution_count": null,
   "metadata": {},
   "outputs": [],
   "source": [
    "instrument = 'Nircam'\n",
    "program = '00624'\n",
    "columns = ','.join(RET_COLUMNS)\n",
    "service = SERVICES['Caom_search']\n",
    "progID = program\n",
    "\n",
    "start_data = 59215\n",
    "filt='F380M'\n",
    "\n",
    "extension='_amiavg.fits'\n",
    "JwstObs = set_server_endpoints(SERVER)\n",
    "obsTable = observation_query(JwstObs, progID, instrument, start_date, filt)\n",
    "products = product_query(JwstObs, obsTable)\n",
    "mask = product_filter(products, [extension], True)\n",
    "selected_products = products[mask]\n",
    "print(selected_products) \n",
    "#print(obsTable)"
   ]
  },
  {
   "cell_type": "code",
   "execution_count": null,
   "metadata": {},
   "outputs": [],
   "source": []
  },
  {
   "cell_type": "code",
   "execution_count": null,
   "metadata": {},
   "outputs": [],
   "source": []
  },
  {
   "cell_type": "markdown",
   "metadata": {},
   "source": [
    "## MIRI Imaging"
   ]
  },
  {
   "cell_type": "code",
   "execution_count": 339,
   "metadata": {},
   "outputs": [
    {
     "name": "stdout",
     "output_type": "stream",
     "text": [
      " obsID   obs_collection ... dataRights calib_level\n",
      "-------- -------------- ... ---------- -----------\n",
      "55745230           JWST ...     PUBLIC           3\n",
      "55745219           JWST ...     PUBLIC           3\n"
     ]
    }
   ],
   "source": [
    "instrument = 'MIRI'\n",
    "program = '00623'\n",
    "columns = ','.join(RET_COLUMNS)\n",
    "service = SERVICES['Caom_search']\n",
    "progID = program\n",
    "start_date = 58803\n",
    "filt='F1500W'\n",
    "\n",
    "extension='sub128_i2d.fits'\n",
    "JwstObs = set_server_endpoints(SERVER)\n",
    "obsTable = observation_query(JwstObs, progID, instrument, start_date, filt)\n",
    "products = product_query(JwstObs, obsTable)\n",
    "mask = product_filter(products, [extension], True)\n",
    "selected_products = products[mask]\n",
    "print(selected_products)\n",
    "#print(obsTable)"
   ]
  },
  {
   "cell_type": "code",
   "execution_count": 340,
   "metadata": {},
   "outputs": [
    {
     "name": "stdout",
     "output_type": "stream",
     "text": [
      "jw00623-o046_t007_miri_f1500w-sub128_i2d.fits\n",
      "jw00623-o060_t009_miri_f1500w-sub128_i2d.fits\n",
      "Downloading URL https://mast.stsci.edu/jwst/api/v0.1/download/bundle.sh?uri=mast:JWST/product/jw00623-o046_t007_miri_f1500w-sub128_i2d.fits&uri=mast:JWST/product/jw00623-o060_t009_miri_f1500w-sub128_i2d.fits to mastDownload_20210610204119.sh ... [Done]\n"
     ]
    }
   ],
   "source": [
    "script = fetch_files(progID, instrument, start_date, filt, 'sub128_i2d.fits', True, True)\n",
    "\n"
   ]
  },
  {
   "cell_type": "code",
   "execution_count": 341,
   "metadata": {},
   "outputs": [],
   "source": [
    "miri_imaging = '/Users/ofox/data/jwst/dat_pyinthesky/jdat_notebooks/helper_classes/data/MIRI/Imaging/jw00623-o046_t007_miri_f1500w-sub128/jw00623-o046_t007_miri_f1500w-sub128_i2d.fits'"
   ]
  },
  {
   "cell_type": "code",
   "execution_count": 344,
   "metadata": {},
   "outputs": [],
   "source": [
    "from jwst import datamodels\n",
    "#from jdaviz import Imviz\n",
    "imviz = Imviz()"
   ]
  },
  {
   "cell_type": "code",
   "execution_count": 345,
   "metadata": {
    "scrolled": true
   },
   "outputs": [
    {
     "data": {
      "application/vnd.jupyter.widget-view+json": {
       "model_id": "5e184d03d8bf4c30a39f0dfa49caec38",
       "version_major": 2,
       "version_minor": 0
      },
      "text/plain": [
       "Application(components={'g-viewer-tab': '<template>\\n  <component :is=\"stack.container\">\\n    <g-viewer-tab\\n …"
      ]
     },
     "metadata": {},
     "output_type": "display_data"
    }
   ],
   "source": [
    "#Developer Notes: Ask how to remove other files from viewer before and after opening data\n",
    "imviz.load_data(miri_imaging, data_label='MIRI Imaging')\n",
    "\n",
    "viewer = imviz.app.get_viewer('viewer-1')\n",
    "\n",
    "imviz.app"
   ]
  },
  {
   "cell_type": "markdown",
   "metadata": {},
   "source": [
    "## MIRI LRS Slit - 1D, and 2D Currently failing"
   ]
  },
  {
   "cell_type": "code",
   "execution_count": 377,
   "metadata": {},
   "outputs": [
    {
     "name": "stdout",
     "output_type": "stream",
     "text": [
      " obsID   obs_collection ...    dataRights    calib_level\n",
      "-------- -------------- ... ---------------- -----------\n",
      "55745234           JWST ...           PUBLIC           3\n",
      "55724991           JWST ... EXCLUSIVE_ACCESS           2\n",
      "55725088           JWST ... EXCLUSIVE_ACCESS           2\n",
      "55725172           JWST ... EXCLUSIVE_ACCESS           2\n",
      "55725200           JWST ... EXCLUSIVE_ACCESS           2\n",
      "55724886           JWST ... EXCLUSIVE_ACCESS           2\n",
      "55725018           JWST ... EXCLUSIVE_ACCESS           2\n",
      "55725119           JWST ... EXCLUSIVE_ACCESS           2\n",
      "55724925           JWST ... EXCLUSIVE_ACCESS           2\n",
      "55725211           JWST ... EXCLUSIVE_ACCESS           2\n",
      "55725161           JWST ... EXCLUSIVE_ACCESS           2\n",
      "55724946           JWST ... EXCLUSIVE_ACCESS           2\n",
      "55725064           JWST ... EXCLUSIVE_ACCESS           2\n",
      "55725494           JWST ... EXCLUSIVE_ACCESS           2\n",
      "55725646           JWST ... EXCLUSIVE_ACCESS           2\n",
      "55725430           JWST ... EXCLUSIVE_ACCESS           2\n",
      "55725571           JWST ... EXCLUSIVE_ACCESS           2\n",
      "55724737           JWST ... EXCLUSIVE_ACCESS           2\n",
      "55724720           JWST ... EXCLUSIVE_ACCESS           2\n",
      "55724697           JWST ... EXCLUSIVE_ACCESS           2\n",
      "55724768           JWST ... EXCLUSIVE_ACCESS           2\n",
      "55725317           JWST ... EXCLUSIVE_ACCESS           2\n",
      "55725354           JWST ... EXCLUSIVE_ACCESS           2\n"
     ]
    }
   ],
   "source": [
    "instrument = 'Miri'\n",
    "program = '00623'\n",
    "columns = ','.join(RET_COLUMNS)\n",
    "service = SERVICES['Caom_search']\n",
    "progID = program\n",
    "start_date = 59000\n",
    "filt='P750L'\n",
    "\n",
    "extension='_s2d.fits'\n",
    "JwstObs = set_server_endpoints(SERVER)\n",
    "obsTable = observation_query(JwstObs, progID, instrument, start_date, filt)\n",
    "products = product_query(JwstObs, obsTable)\n",
    "mask = product_filter(products, [extension], True)\n",
    "selected_products = products[mask]\n",
    "print(selected_products)\n",
    "#print(obsTable)"
   ]
  },
  {
   "cell_type": "code",
   "execution_count": 378,
   "metadata": {},
   "outputs": [
    {
     "name": "stdout",
     "output_type": "stream",
     "text": [
      "      jw00623-o074_t015_miri_clear_s2d.fits\n",
      "jw00623074001_02101_00001_mirimage_s2d.fits\n",
      "jw00623074001_02101_00002_mirimage_s2d.fits\n",
      "jw00623074001_02103_00001_mirimage_s2d.fits\n",
      "jw00623074001_02103_00002_mirimage_s2d.fits\n",
      "jw00623080001_04102_00001_mirimage_s2d.fits\n",
      "jw00623080001_04102_00002_mirimage_s2d.fits\n",
      "jw00623080001_04104_00001_mirimage_s2d.fits\n",
      "jw00623080001_04104_00002_mirimage_s2d.fits\n",
      "jw00623081001_03101_00001_mirimage_s2d.fits\n",
      "jw00623081001_03101_00002_mirimage_s2d.fits\n",
      "jw00623081001_03103_00001_mirimage_s2d.fits\n",
      "jw00623081001_03103_00002_mirimage_s2d.fits\n",
      "jw00623083001_03103_00001_mirimage_s2d.fits\n",
      "jw00623083001_03103_00002_mirimage_s2d.fits\n",
      "jw00623083001_03106_00001_mirimage_s2d.fits\n",
      "jw00623083001_03106_00002_mirimage_s2d.fits\n",
      "jw00623084001_02101_00001_mirimage_s2d.fits\n",
      "jw00623084001_02101_00002_mirimage_s2d.fits\n",
      "jw00623084001_02103_00001_mirimage_s2d.fits\n",
      "jw00623084001_02103_00002_mirimage_s2d.fits\n",
      "jw00623085001_03103_00001_mirimage_s2d.fits\n",
      "jw00623085001_03103_00002_mirimage_s2d.fits\n",
      "Downloading URL https://mast.stsci.edu/jwst/api/v0.1/download/bundle.sh?uri=mast:JWST/product/jw00623-o074_t015_miri_clear_s2d.fits&uri=mast:JWST/product/jw00623074001_02101_00001_mirimage_s2d.fits&uri=mast:JWST/product/jw00623074001_02101_00002_mirimage_s2d.fits&uri=mast:JWST/product/jw00623074001_02103_00001_mirimage_s2d.fits&uri=mast:JWST/product/jw00623074001_02103_00002_mirimage_s2d.fits&uri=mast:JWST/product/jw00623080001_04102_00001_mirimage_s2d.fits&uri=mast:JWST/product/jw00623080001_04102_00002_mirimage_s2d.fits&uri=mast:JWST/product/jw00623080001_04104_00001_mirimage_s2d.fits&uri=mast:JWST/product/jw00623080001_04104_00002_mirimage_s2d.fits&uri=mast:JWST/product/jw00623081001_03101_00001_mirimage_s2d.fits&uri=mast:JWST/product/jw00623081001_03101_00002_mirimage_s2d.fits&uri=mast:JWST/product/jw00623081001_03103_00001_mirimage_s2d.fits&uri=mast:JWST/product/jw00623081001_03103_00002_mirimage_s2d.fits&uri=mast:JWST/product/jw00623083001_03103_00001_mirimage_s2d.fits&uri=mast:JWST/product/jw00623083001_03103_00002_mirimage_s2d.fits&uri=mast:JWST/product/jw00623083001_03106_00001_mirimage_s2d.fits&uri=mast:JWST/product/jw00623083001_03106_00002_mirimage_s2d.fits&uri=mast:JWST/product/jw00623084001_02101_00001_mirimage_s2d.fits&uri=mast:JWST/product/jw00623084001_02101_00002_mirimage_s2d.fits&uri=mast:JWST/product/jw00623084001_02103_00001_mirimage_s2d.fits&uri=mast:JWST/product/jw00623084001_02103_00002_mirimage_s2d.fits&uri=mast:JWST/product/jw00623085001_03103_00001_mirimage_s2d.fits&uri=mast:JWST/product/jw00623085001_03103_00002_mirimage_s2d.fits to mastDownload_20210610210317.sh ... [Done]\n"
     ]
    }
   ],
   "source": [
    "script = fetch_files(progID, instrument, start_date, filt, '_s2d.fits', True, True)\n",
    "\n"
   ]
  },
  {
   "cell_type": "code",
   "execution_count": 379,
   "metadata": {},
   "outputs": [
    {
     "name": "stdout",
     "output_type": "stream",
     "text": [
      "      jw00623-o074_t015_miri_clear_x1d.fits\n",
      "jw00623074001_02101_00001_mirimage_x1d.fits\n",
      "jw00623074001_02101_00002_mirimage_x1d.fits\n",
      "jw00623074001_02103_00001_mirimage_x1d.fits\n",
      "jw00623074001_02103_00002_mirimage_x1d.fits\n",
      "jw00623080001_04102_00001_mirimage_x1d.fits\n",
      "jw00623080001_04102_00002_mirimage_x1d.fits\n",
      "jw00623080001_04104_00001_mirimage_x1d.fits\n",
      "jw00623080001_04104_00002_mirimage_x1d.fits\n",
      "jw00623081001_03101_00001_mirimage_x1d.fits\n",
      "jw00623081001_03101_00002_mirimage_x1d.fits\n",
      "jw00623081001_03103_00001_mirimage_x1d.fits\n",
      "jw00623081001_03103_00002_mirimage_x1d.fits\n",
      "jw00623082001_04103_00001_mirimage_x1d.fits\n",
      "jw00623082001_04103_00002_mirimage_x1d.fits\n",
      "jw00623082001_04103_00003_mirimage_x1d.fits\n",
      "jw00623082001_04103_00004_mirimage_x1d.fits\n",
      "jw00623082001_04103_00005_mirimage_x1d.fits\n",
      "jw00623082001_04103_00006_mirimage_x1d.fits\n",
      "jw00623082001_04103_00007_mirimage_x1d.fits\n",
      "jw00623082001_04103_00008_mirimage_x1d.fits\n",
      "jw00623082001_04103_00009_mirimage_x1d.fits\n",
      "jw00623082001_04103_00010_mirimage_x1d.fits\n",
      "jw00623082001_04103_00011_mirimage_x1d.fits\n",
      "jw00623082001_04103_00012_mirimage_x1d.fits\n",
      "jw00623082001_04103_00013_mirimage_x1d.fits\n",
      "jw00623082001_04103_00014_mirimage_x1d.fits\n",
      "jw00623082001_04103_00015_mirimage_x1d.fits\n",
      "jw00623082001_04103_00016_mirimage_x1d.fits\n",
      "jw00623082001_04103_00017_mirimage_x1d.fits\n",
      "jw00623082001_04103_00018_mirimage_x1d.fits\n",
      "jw00623082001_04103_00019_mirimage_x1d.fits\n",
      "jw00623082001_04103_00020_mirimage_x1d.fits\n",
      "jw00623082001_04103_00021_mirimage_x1d.fits\n",
      "jw00623082001_04103_00022_mirimage_x1d.fits\n",
      "jw00623082001_04103_00023_mirimage_x1d.fits\n",
      "jw00623082001_04103_00024_mirimage_x1d.fits\n",
      "jw00623082001_04103_00025_mirimage_x1d.fits\n",
      "jw00623082001_04103_00026_mirimage_x1d.fits\n",
      "jw00623082001_04103_00027_mirimage_x1d.fits\n",
      "jw00623083001_03103_00001_mirimage_x1d.fits\n",
      "jw00623083001_03103_00002_mirimage_x1d.fits\n",
      "jw00623083001_03106_00001_mirimage_x1d.fits\n",
      "jw00623083001_03106_00002_mirimage_x1d.fits\n",
      "jw00623084001_02101_00001_mirimage_x1d.fits\n",
      "jw00623084001_02101_00002_mirimage_x1d.fits\n",
      "jw00623084001_02103_00001_mirimage_x1d.fits\n",
      "jw00623084001_02103_00002_mirimage_x1d.fits\n",
      "jw00623085001_03103_00001_mirimage_x1d.fits\n",
      "jw00623085001_03103_00002_mirimage_x1d.fits\n",
      "jw00623086001_03103_00001_mirimage_x1d.fits\n",
      "jw00623086001_03103_00002_mirimage_x1d.fits\n",
      "jw00623086001_03103_00003_mirimage_x1d.fits\n",
      "jw00623086001_03103_00004_mirimage_x1d.fits\n",
      "jw00623086001_03103_00005_mirimage_x1d.fits\n",
      "jw00623086001_03103_00006_mirimage_x1d.fits\n",
      "jw00623086001_03103_00007_mirimage_x1d.fits\n",
      "jw00623086001_03103_00008_mirimage_x1d.fits\n",
      "jw00623086001_03103_00009_mirimage_x1d.fits\n",
      "jw00623086001_03103_00010_mirimage_x1d.fits\n",
      "jw00623086001_03103_00011_mirimage_x1d.fits\n",
      "jw00623086001_03103_00012_mirimage_x1d.fits\n",
      "jw00623086001_03103_00013_mirimage_x1d.fits\n",
      "jw00623086001_03103_00014_mirimage_x1d.fits\n",
      "jw00623086001_03103_00015_mirimage_x1d.fits\n",
      "jw00623086001_03103_00016_mirimage_x1d.fits\n",
      "jw00623086001_03103_00017_mirimage_x1d.fits\n",
      "jw00623086001_03103_00018_mirimage_x1d.fits\n",
      "jw00623086001_03103_00019_mirimage_x1d.fits\n",
      "jw00623086001_03103_00020_mirimage_x1d.fits\n",
      "jw00623086001_03103_00021_mirimage_x1d.fits\n",
      "jw00623086001_03103_00022_mirimage_x1d.fits\n",
      "jw00623086001_03103_00023_mirimage_x1d.fits\n",
      "jw00623086001_03103_00024_mirimage_x1d.fits\n",
      "jw00623086001_03103_00025_mirimage_x1d.fits\n",
      "jw00623086001_03103_00026_mirimage_x1d.fits\n",
      "jw00623086001_03103_00027_mirimage_x1d.fits\n",
      "jw00623086001_03106_00001_mirimage_x1d.fits\n",
      "jw00623086001_03106_00002_mirimage_x1d.fits\n",
      "jw00623086001_03106_00003_mirimage_x1d.fits\n",
      "jw00623086001_03106_00004_mirimage_x1d.fits\n",
      "jw00623086001_03106_00005_mirimage_x1d.fits\n",
      "jw00623086001_03106_00006_mirimage_x1d.fits\n",
      "jw00623086001_03106_00007_mirimage_x1d.fits\n",
      "jw00623086001_03106_00008_mirimage_x1d.fits\n",
      "jw00623086001_03106_00009_mirimage_x1d.fits\n",
      "jw00623086001_03106_00010_mirimage_x1d.fits\n",
      "jw00623086001_03106_00011_mirimage_x1d.fits\n",
      "jw00623086001_03106_00012_mirimage_x1d.fits\n",
      "jw00623086001_03106_00013_mirimage_x1d.fits\n",
      "jw00623086001_03106_00014_mirimage_x1d.fits\n",
      "jw00623086001_03106_00015_mirimage_x1d.fits\n",
      "jw00623086001_03106_00016_mirimage_x1d.fits\n",
      "jw00623086001_03106_00017_mirimage_x1d.fits\n",
      "jw00623086001_03106_00018_mirimage_x1d.fits\n",
      "jw00623086001_03106_00019_mirimage_x1d.fits\n",
      "jw00623086001_03106_00020_mirimage_x1d.fits\n",
      "jw00623086001_03106_00021_mirimage_x1d.fits\n",
      "jw00623086001_03106_00022_mirimage_x1d.fits\n",
      "jw00623086001_03106_00023_mirimage_x1d.fits\n",
      "jw00623086001_03106_00024_mirimage_x1d.fits\n",
      "jw00623086001_03106_00025_mirimage_x1d.fits\n",
      "jw00623086001_03106_00026_mirimage_x1d.fits\n",
      "jw00623086001_03106_00027_mirimage_x1d.fits\n",
      "Downloading URL https://mast.stsci.edu/jwst/api/v0.1/download/bundle.sh?uri=mast:JWST/product/jw00623-o074_t015_miri_clear_x1d.fits&uri=mast:JWST/product/jw00623074001_02101_00001_mirimage_x1d.fits&uri=mast:JWST/product/jw00623074001_02101_00002_mirimage_x1d.fits&uri=mast:JWST/product/jw00623074001_02103_00001_mirimage_x1d.fits&uri=mast:JWST/product/jw00623074001_02103_00002_mirimage_x1d.fits&uri=mast:JWST/product/jw00623080001_04102_00001_mirimage_x1d.fits&uri=mast:JWST/product/jw00623080001_04102_00002_mirimage_x1d.fits&uri=mast:JWST/product/jw00623080001_04104_00001_mirimage_x1d.fits&uri=mast:JWST/product/jw00623080001_04104_00002_mirimage_x1d.fits&uri=mast:JWST/product/jw00623081001_03101_00001_mirimage_x1d.fits&uri=mast:JWST/product/jw00623081001_03101_00002_mirimage_x1d.fits&uri=mast:JWST/product/jw00623081001_03103_00001_mirimage_x1d.fits&uri=mast:JWST/product/jw00623081001_03103_00002_mirimage_x1d.fits&uri=mast:JWST/product/jw00623082001_04103_00001_mirimage_x1d.fits&uri=mast:JWST/product/jw00623082001_04103_00002_mirimage_x1d.fits&uri=mast:JWST/product/jw00623082001_04103_00003_mirimage_x1d.fits&uri=mast:JWST/product/jw00623082001_04103_00004_mirimage_x1d.fits&uri=mast:JWST/product/jw00623082001_04103_00005_mirimage_x1d.fits&uri=mast:JWST/product/jw00623082001_04103_00006_mirimage_x1d.fits&uri=mast:JWST/product/jw00623082001_04103_00007_mirimage_x1d.fits&uri=mast:JWST/product/jw00623082001_04103_00008_mirimage_x1d.fits&uri=mast:JWST/product/jw00623082001_04103_00009_mirimage_x1d.fits&uri=mast:JWST/product/jw00623082001_04103_00010_mirimage_x1d.fits&uri=mast:JWST/product/jw00623082001_04103_00011_mirimage_x1d.fits&uri=mast:JWST/product/jw00623082001_04103_00012_mirimage_x1d.fits&uri=mast:JWST/product/jw00623082001_04103_00013_mirimage_x1d.fits&uri=mast:JWST/product/jw00623082001_04103_00014_mirimage_x1d.fits&uri=mast:JWST/product/jw00623082001_04103_00015_mirimage_x1d.fits&uri=mast:JWST/product/jw00623082001_04103_00016_mirimage_x1d.fits&uri=mast:JWST/product/jw00623082001_04103_00017_mirimage_x1d.fits&uri=mast:JWST/product/jw00623082001_04103_00018_mirimage_x1d.fits&uri=mast:JWST/product/jw00623082001_04103_00019_mirimage_x1d.fits&uri=mast:JWST/product/jw00623082001_04103_00020_mirimage_x1d.fits&uri=mast:JWST/product/jw00623082001_04103_00021_mirimage_x1d.fits&uri=mast:JWST/product/jw00623082001_04103_00022_mirimage_x1d.fits&uri=mast:JWST/product/jw00623082001_04103_00023_mirimage_x1d.fits&uri=mast:JWST/product/jw00623082001_04103_00024_mirimage_x1d.fits&uri=mast:JWST/product/jw00623082001_04103_00025_mirimage_x1d.fits&uri=mast:JWST/product/jw00623082001_04103_00026_mirimage_x1d.fits&uri=mast:JWST/product/jw00623082001_04103_00027_mirimage_x1d.fits&uri=mast:JWST/product/jw00623083001_03103_00001_mirimage_x1d.fits&uri=mast:JWST/product/jw00623083001_03103_00002_mirimage_x1d.fits&uri=mast:JWST/product/jw00623083001_03106_00001_mirimage_x1d.fits&uri=mast:JWST/product/jw00623083001_03106_00002_mirimage_x1d.fits&uri=mast:JWST/product/jw00623084001_02101_00001_mirimage_x1d.fits&uri=mast:JWST/product/jw00623084001_02101_00002_mirimage_x1d.fits&uri=mast:JWST/product/jw00623084001_02103_00001_mirimage_x1d.fits&uri=mast:JWST/product/jw00623084001_02103_00002_mirimage_x1d.fits&uri=mast:JWST/product/jw00623085001_03103_00001_mirimage_x1d.fits&uri=mast:JWST/product/jw00623085001_03103_00002_mirimage_x1d.fits&uri=mast:JWST/product/jw00623086001_03103_00001_mirimage_x1d.fits&uri=mast:JWST/product/jw00623086001_03103_00002_mirimage_x1d.fits&uri=mast:JWST/product/jw00623086001_03103_00003_mirimage_x1d.fits&uri=mast:JWST/product/jw00623086001_03103_00004_mirimage_x1d.fits&uri=mast:JWST/product/jw00623086001_03103_00005_mirimage_x1d.fits&uri=mast:JWST/product/jw00623086001_03103_00006_mirimage_x1d.fits&uri=mast:JWST/product/jw00623086001_03103_00007_mirimage_x1d.fits&uri=mast:JWST/product/jw00623086001_03103_00008_mirimage_x1d.fits&uri=mast:JWST/product/jw00623086001_03103_00009_mirimage_x1d.fits&uri=mast:JWST/product/jw00623086001_03103_00010_mirimage_x1d.fits&uri=mast:JWST/product/jw00623086001_03103_00011_mirimage_x1d.fits&uri=mast:JWST/product/jw00623086001_03103_00012_mirimage_x1d.fits&uri=mast:JWST/product/jw00623086001_03103_00013_mirimage_x1d.fits&uri=mast:JWST/product/jw00623086001_03103_00014_mirimage_x1d.fits&uri=mast:JWST/product/jw00623086001_03103_00015_mirimage_x1d.fits&uri=mast:JWST/product/jw00623086001_03103_00016_mirimage_x1d.fits&uri=mast:JWST/product/jw00623086001_03103_00017_mirimage_x1d.fits&uri=mast:JWST/product/jw00623086001_03103_00018_mirimage_x1d.fits&uri=mast:JWST/product/jw00623086001_03103_00019_mirimage_x1d.fits&uri=mast:JWST/product/jw00623086001_03103_00020_mirimage_x1d.fits&uri=mast:JWST/product/jw00623086001_03103_00021_mirimage_x1d.fits&uri=mast:JWST/product/jw00623086001_03103_00022_mirimage_x1d.fits&uri=mast:JWST/product/jw00623086001_03103_00023_mirimage_x1d.fits&uri=mast:JWST/product/jw00623086001_03103_00024_mirimage_x1d.fits&uri=mast:JWST/product/jw00623086001_03103_00025_mirimage_x1d.fits&uri=mast:JWST/product/jw00623086001_03103_00026_mirimage_x1d.fits&uri=mast:JWST/product/jw00623086001_03103_00027_mirimage_x1d.fits&uri=mast:JWST/product/jw00623086001_03106_00001_mirimage_x1d.fits&uri=mast:JWST/product/jw00623086001_03106_00002_mirimage_x1d.fits&uri=mast:JWST/product/jw00623086001_03106_00003_mirimage_x1d.fits&uri=mast:JWST/product/jw00623086001_03106_00004_mirimage_x1d.fits&uri=mast:JWST/product/jw00623086001_03106_00005_mirimage_x1d.fits&uri=mast:JWST/product/jw00623086001_03106_00006_mirimage_x1d.fits&uri=mast:JWST/product/jw00623086001_03106_00007_mirimage_x1d.fits&uri=mast:JWST/product/jw00623086001_03106_00008_mirimage_x1d.fits&uri=mast:JWST/product/jw00623086001_03106_00009_mirimage_x1d.fits&uri=mast:JWST/product/jw00623086001_03106_00010_mirimage_x1d.fits&uri=mast:JWST/product/jw00623086001_03106_00011_mirimage_x1d.fits&uri=mast:JWST/product/jw00623086001_03106_00012_mirimage_x1d.fits&uri=mast:JWST/product/jw00623086001_03106_00013_mirimage_x1d.fits&uri=mast:JWST/product/jw00623086001_03106_00014_mirimage_x1d.fits&uri=mast:JWST/product/jw00623086001_03106_00015_mirimage_x1d.fits&uri=mast:JWST/product/jw00623086001_03106_00016_mirimage_x1d.fits&uri=mast:JWST/product/jw00623086001_03106_00017_mirimage_x1d.fits&uri=mast:JWST/product/jw00623086001_03106_00018_mirimage_x1d.fits&uri=mast:JWST/product/jw00623086001_03106_00019_mirimage_x1d.fits&uri=mast:JWST/product/jw00623086001_03106_00020_mirimage_x1d.fits&uri=mast:JWST/product/jw00623086001_03106_00021_mirimage_x1d.fits&uri=mast:JWST/product/jw00623086001_03106_00022_mirimage_x1d.fits&uri=mast:JWST/product/jw00623086001_03106_00023_mirimage_x1d.fits&uri=mast:JWST/product/jw00623086001_03106_00024_mirimage_x1d.fits&uri=mast:JWST/product/jw00623086001_03106_00025_mirimage_x1d.fits&uri=mast:JWST/product/jw00623086001_03106_00026_mirimage_x1d.fits&uri=mast:JWST/product/jw00623086001_03106_00027_mirimage_x1d.fits to mastDownload_20210610210349.sh ... [Done]\n"
     ]
    }
   ],
   "source": [
    "script = fetch_files(progID, instrument, start_date, filt, '_x1d.fits', True, True)\n",
    "\n",
    "\n"
   ]
  },
  {
   "cell_type": "code",
   "execution_count": 386,
   "metadata": {},
   "outputs": [],
   "source": [
    "from jdaviz import Specviz2d\n",
    "specviz2d = Specviz2d()"
   ]
  },
  {
   "cell_type": "code",
   "execution_count": 387,
   "metadata": {},
   "outputs": [
    {
     "data": {
      "application/vnd.jupyter.widget-view+json": {
       "model_id": "df888a5c37054586a92f2a392911a5da",
       "version_major": 2,
       "version_minor": 0
      },
      "text/plain": [
       "Application(components={'g-viewer-tab': '<template>\\n  <component :is=\"stack.container\">\\n    <g-viewer-tab\\n …"
      ]
     },
     "metadata": {},
     "output_type": "display_data"
    }
   ],
   "source": [
    "#Developer note: How do you scroll interactingvely with the mouse?\n",
    "specviz2d.app"
   ]
  },
  {
   "cell_type": "code",
   "execution_count": 388,
   "metadata": {},
   "outputs": [
    {
     "ename": "KeyError",
     "evalue": "\"Keyword 'WAVEND' not found.\"",
     "output_type": "error",
     "traceback": [
      "\u001b[0;31m---------------------------------------------------------------------------\u001b[0m",
      "\u001b[0;31mKeyError\u001b[0m                                  Traceback (most recent call last)",
      "\u001b[0;32m<ipython-input-388-93e13ef46bbb>\u001b[0m in \u001b[0;36m<module>\u001b[0;34m\u001b[0m\n\u001b[1;32m      1\u001b[0m \u001b[0mspectrum\u001b[0m \u001b[0;34m=\u001b[0m \u001b[0;34m'/Users/ofox/data/jwst/dat_pyinthesky/jdat_notebooks/helper_classes/data/MIRI/LRS/jw00623-o074_t015_miri_clear/jw00623-o074_t015_miri_clear_s2d.fits'\u001b[0m\u001b[0;34m\u001b[0m\u001b[0;34m\u001b[0m\u001b[0m\n\u001b[0;32m----> 2\u001b[0;31m \u001b[0mspecviz2d\u001b[0m\u001b[0;34m.\u001b[0m\u001b[0mload_data\u001b[0m\u001b[0;34m(\u001b[0m\u001b[0mspectrum\u001b[0m\u001b[0;34m)\u001b[0m\u001b[0;34m\u001b[0m\u001b[0;34m\u001b[0m\u001b[0m\n\u001b[0m",
      "\u001b[0;32m~/miniconda3/envs/helper/lib/python3.9/site-packages/jdaviz/configs/specviz2d/helper.py\u001b[0m in \u001b[0;36mload_data\u001b[0;34m(self, spectrum_2d, spectrum_1d, spectrum_1d_label, spectrum_2d_label, show_in_viewer)\u001b[0m\n\u001b[1;32m    131\u001b[0m             \u001b[0;31m# Collapse the 2D spectrum to 1D if no 1D spectrum provided\u001b[0m\u001b[0;34m\u001b[0m\u001b[0;34m\u001b[0m\u001b[0;34m\u001b[0m\u001b[0m\n\u001b[1;32m    132\u001b[0m             \u001b[0;32mif\u001b[0m \u001b[0mspectrum_1d\u001b[0m \u001b[0;32mis\u001b[0m \u001b[0;32mNone\u001b[0m\u001b[0;34m:\u001b[0m\u001b[0;34m\u001b[0m\u001b[0;34m\u001b[0m\u001b[0m\n\u001b[0;32m--> 133\u001b[0;31m                 self.app.load_data(spectrum_2d,\n\u001b[0m\u001b[1;32m    134\u001b[0m                                    \u001b[0mparser_reference\u001b[0m\u001b[0;34m=\u001b[0m\u001b[0;34m\"spec2d-1d-parser\"\u001b[0m\u001b[0;34m,\u001b[0m\u001b[0;34m\u001b[0m\u001b[0;34m\u001b[0m\u001b[0m\n\u001b[1;32m    135\u001b[0m                                    \u001b[0mdata_label\u001b[0m\u001b[0;34m=\u001b[0m\u001b[0mspectrum_1d_label\u001b[0m\u001b[0;34m,\u001b[0m\u001b[0;34m\u001b[0m\u001b[0;34m\u001b[0m\u001b[0m\n",
      "\u001b[0;32m~/miniconda3/envs/helper/lib/python3.9/site-packages/jdaviz/app.py\u001b[0m in \u001b[0;36mload_data\u001b[0;34m(self, file_obj, parser_reference, **kwargs)\u001b[0m\n\u001b[1;32m    306\u001b[0m                 \u001b[0;31m# If the parser returns something other than known, assume it's\u001b[0m\u001b[0;34m\u001b[0m\u001b[0;34m\u001b[0m\u001b[0;34m\u001b[0m\u001b[0m\n\u001b[1;32m    307\u001b[0m                 \u001b[0;31m#  a message we want to make the user aware of.\u001b[0m\u001b[0;34m\u001b[0m\u001b[0;34m\u001b[0m\u001b[0;34m\u001b[0m\u001b[0m\n\u001b[0;32m--> 308\u001b[0;31m                 \u001b[0mmsg\u001b[0m \u001b[0;34m=\u001b[0m \u001b[0mparser\u001b[0m\u001b[0;34m(\u001b[0m\u001b[0mself\u001b[0m\u001b[0;34m,\u001b[0m \u001b[0mfile_obj\u001b[0m\u001b[0;34m,\u001b[0m \u001b[0;34m**\u001b[0m\u001b[0mkwargs\u001b[0m\u001b[0;34m)\u001b[0m\u001b[0;34m\u001b[0m\u001b[0;34m\u001b[0m\u001b[0m\n\u001b[0m\u001b[1;32m    309\u001b[0m \u001b[0;34m\u001b[0m\u001b[0m\n\u001b[1;32m    310\u001b[0m                 \u001b[0;32mif\u001b[0m \u001b[0mmsg\u001b[0m \u001b[0;32mis\u001b[0m \u001b[0;32mnot\u001b[0m \u001b[0;32mNone\u001b[0m\u001b[0;34m:\u001b[0m\u001b[0;34m\u001b[0m\u001b[0;34m\u001b[0m\u001b[0m\n",
      "\u001b[0;32m~/miniconda3/envs/helper/lib/python3.9/site-packages/jdaviz/configs/specviz2d/plugins/parsers.py\u001b[0m in \u001b[0;36mspec2d_1d_parser\u001b[0;34m(app, data_obj, data_label, show_in_viewer)\u001b[0m\n\u001b[1;32m     47\u001b[0m         \u001b[0;32mexcept\u001b[0m \u001b[0mValueError\u001b[0m\u001b[0;34m:\u001b[0m\u001b[0;34m\u001b[0m\u001b[0;34m\u001b[0m\u001b[0m\n\u001b[1;32m     48\u001b[0m             \u001b[0mflux\u001b[0m \u001b[0;34m=\u001b[0m \u001b[0mu\u001b[0m\u001b[0;34m.\u001b[0m\u001b[0mQuantity\u001b[0m\u001b[0;34m(\u001b[0m\u001b[0mnp\u001b[0m\u001b[0;34m.\u001b[0m\u001b[0msum\u001b[0m\u001b[0;34m(\u001b[0m\u001b[0mdata\u001b[0m\u001b[0;34m,\u001b[0m \u001b[0mheader\u001b[0m\u001b[0;34m[\u001b[0m\u001b[0;34m'DISPAXIS'\u001b[0m\u001b[0;34m]\u001b[0m\u001b[0;34m-\u001b[0m\u001b[0;36m1\u001b[0m\u001b[0;34m)\u001b[0m\u001b[0;34m)\u001b[0m\u001b[0;34m\u001b[0m\u001b[0;34m\u001b[0m\u001b[0m\n\u001b[0;32m---> 49\u001b[0;31m         \u001b[0mstep\u001b[0m \u001b[0;34m=\u001b[0m \u001b[0;34m(\u001b[0m\u001b[0mheader\u001b[0m\u001b[0;34m[\u001b[0m\u001b[0;34m\"WAVEND\"\u001b[0m\u001b[0;34m]\u001b[0m \u001b[0;34m-\u001b[0m \u001b[0mheader\u001b[0m\u001b[0;34m[\u001b[0m\u001b[0;34m\"WAVSTART\"\u001b[0m\u001b[0;34m]\u001b[0m\u001b[0;34m)\u001b[0m\u001b[0;34m/\u001b[0m\u001b[0mlen\u001b[0m\u001b[0;34m(\u001b[0m\u001b[0mflux\u001b[0m\u001b[0;34m)\u001b[0m\u001b[0;34m\u001b[0m\u001b[0;34m\u001b[0m\u001b[0m\n\u001b[0m\u001b[1;32m     50\u001b[0m         spectral_axis = np.arange(header[\"WAVSTART\"], header[\"WAVEND\"],\n\u001b[1;32m     51\u001b[0m                                   step) * u.Unit(\"m\")\n",
      "\u001b[0;32m~/miniconda3/envs/helper/lib/python3.9/site-packages/astropy/io/fits/header.py\u001b[0m in \u001b[0;36m__getitem__\u001b[0;34m(self, key)\u001b[0m\n\u001b[1;32m    154\u001b[0m             \u001b[0mkeyword\u001b[0m \u001b[0;34m=\u001b[0m \u001b[0mkey\u001b[0m\u001b[0;34m\u001b[0m\u001b[0;34m\u001b[0m\u001b[0m\n\u001b[1;32m    155\u001b[0m \u001b[0;34m\u001b[0m\u001b[0m\n\u001b[0;32m--> 156\u001b[0;31m         \u001b[0mcard\u001b[0m \u001b[0;34m=\u001b[0m \u001b[0mself\u001b[0m\u001b[0;34m.\u001b[0m\u001b[0m_cards\u001b[0m\u001b[0;34m[\u001b[0m\u001b[0mself\u001b[0m\u001b[0;34m.\u001b[0m\u001b[0m_cardindex\u001b[0m\u001b[0;34m(\u001b[0m\u001b[0mkey\u001b[0m\u001b[0;34m)\u001b[0m\u001b[0;34m]\u001b[0m\u001b[0;34m\u001b[0m\u001b[0;34m\u001b[0m\u001b[0m\n\u001b[0m\u001b[1;32m    157\u001b[0m \u001b[0;34m\u001b[0m\u001b[0m\n\u001b[1;32m    158\u001b[0m         \u001b[0;32mif\u001b[0m \u001b[0mcard\u001b[0m\u001b[0;34m.\u001b[0m\u001b[0mfield_specifier\u001b[0m \u001b[0;32mis\u001b[0m \u001b[0;32mnot\u001b[0m \u001b[0;32mNone\u001b[0m \u001b[0;32mand\u001b[0m \u001b[0mkeyword\u001b[0m \u001b[0;34m==\u001b[0m \u001b[0mcard\u001b[0m\u001b[0;34m.\u001b[0m\u001b[0mrawkeyword\u001b[0m\u001b[0;34m:\u001b[0m\u001b[0;34m\u001b[0m\u001b[0;34m\u001b[0m\u001b[0m\n",
      "\u001b[0;32m~/miniconda3/envs/helper/lib/python3.9/site-packages/astropy/io/fits/header.py\u001b[0m in \u001b[0;36m_cardindex\u001b[0;34m(self, key)\u001b[0m\n\u001b[1;32m   1714\u001b[0m \u001b[0;34m\u001b[0m\u001b[0m\n\u001b[1;32m   1715\u001b[0m         \u001b[0;32mif\u001b[0m \u001b[0;32mnot\u001b[0m \u001b[0mindices\u001b[0m\u001b[0;34m:\u001b[0m\u001b[0;34m\u001b[0m\u001b[0;34m\u001b[0m\u001b[0m\n\u001b[0;32m-> 1716\u001b[0;31m             \u001b[0;32mraise\u001b[0m \u001b[0mKeyError\u001b[0m\u001b[0;34m(\u001b[0m\u001b[0;34mf\"Keyword {keyword!r} not found.\"\u001b[0m\u001b[0;34m)\u001b[0m\u001b[0;34m\u001b[0m\u001b[0;34m\u001b[0m\u001b[0m\n\u001b[0m\u001b[1;32m   1717\u001b[0m \u001b[0;34m\u001b[0m\u001b[0m\n\u001b[1;32m   1718\u001b[0m         \u001b[0;32mtry\u001b[0m\u001b[0;34m:\u001b[0m\u001b[0;34m\u001b[0m\u001b[0;34m\u001b[0m\u001b[0m\n",
      "\u001b[0;31mKeyError\u001b[0m: \"Keyword 'WAVEND' not found.\""
     ]
    }
   ],
   "source": [
    "spectrum = '/Users/ofox/data/jwst/dat_pyinthesky/jdat_notebooks/helper_classes/data/MIRI/LRS/jw00623-o074_t015_miri_clear/jw00623-o074_t015_miri_clear_s2d.fits'\n",
    "specviz2d.load_data(spectrum)"
   ]
  },
  {
   "cell_type": "code",
   "execution_count": 389,
   "metadata": {},
   "outputs": [],
   "source": [
    "from jdaviz import SpecViz\n",
    "specviz = SpecViz()"
   ]
  },
  {
   "cell_type": "code",
   "execution_count": 390,
   "metadata": {},
   "outputs": [
    {
     "data": {
      "application/vnd.jupyter.widget-view+json": {
       "model_id": "854d82222db6429ba36619bcc016e208",
       "version_major": 2,
       "version_minor": 0
      },
      "text/plain": [
       "Application(components={'g-viewer-tab': '<template>\\n  <component :is=\"stack.container\">\\n    <g-viewer-tab\\n …"
      ]
     },
     "metadata": {},
     "output_type": "display_data"
    }
   ],
   "source": [
    "#Developer note: How do you scroll interactingvely with the mouse?\n",
    "specviz.app"
   ]
  },
  {
   "cell_type": "code",
   "execution_count": 391,
   "metadata": {},
   "outputs": [
    {
     "ename": "RuntimeError",
     "evalue": "Keyword SRCTYPE is None.  It should be 'POINT' or 'EXTENDED'. Can't decide between `flux` and `surf_bright` columns.",
     "output_type": "error",
     "traceback": [
      "\u001b[0;31m---------------------------------------------------------------------------\u001b[0m",
      "\u001b[0;31mRuntimeError\u001b[0m                              Traceback (most recent call last)",
      "\u001b[0;32m<ipython-input-391-b989fb114d0a>\u001b[0m in \u001b[0;36m<module>\u001b[0;34m\u001b[0m\n\u001b[1;32m      1\u001b[0m \u001b[0mspectrum\u001b[0m \u001b[0;34m=\u001b[0m \u001b[0;34m'/Users/ofox/data/jwst/dat_pyinthesky/jdat_notebooks/helper_classes/data/MIRI/LRS/jw00623-o074_t015_miri_clear/jw00623-o074_t015_miri_clear_x1d.fits'\u001b[0m\u001b[0;34m\u001b[0m\u001b[0;34m\u001b[0m\u001b[0m\n\u001b[0;32m----> 2\u001b[0;31m \u001b[0mspecviz\u001b[0m\u001b[0;34m.\u001b[0m\u001b[0mload_spectrum\u001b[0m\u001b[0;34m(\u001b[0m\u001b[0mspectrum\u001b[0m\u001b[0;34m,\u001b[0m \u001b[0;34m\"LRS 1D\"\u001b[0m\u001b[0;34m)\u001b[0m\u001b[0;34m\u001b[0m\u001b[0;34m\u001b[0m\u001b[0m\n\u001b[0m",
      "\u001b[0;32m~/miniconda3/envs/helper/lib/python3.9/site-packages/jdaviz/configs/specviz/helper.py\u001b[0m in \u001b[0;36mload_spectrum\u001b[0;34m(self, data, data_label, format, show_in_viewer)\u001b[0m\n\u001b[1;32m     26\u001b[0m \u001b[0;34m\u001b[0m\u001b[0m\n\u001b[1;32m     27\u001b[0m     \u001b[0;32mdef\u001b[0m \u001b[0mload_spectrum\u001b[0m\u001b[0;34m(\u001b[0m\u001b[0mself\u001b[0m\u001b[0;34m,\u001b[0m \u001b[0mdata\u001b[0m\u001b[0;34m,\u001b[0m \u001b[0mdata_label\u001b[0m\u001b[0;34m=\u001b[0m\u001b[0;32mNone\u001b[0m\u001b[0;34m,\u001b[0m \u001b[0mformat\u001b[0m\u001b[0;34m=\u001b[0m\u001b[0;32mNone\u001b[0m\u001b[0;34m,\u001b[0m \u001b[0mshow_in_viewer\u001b[0m\u001b[0;34m=\u001b[0m\u001b[0;32mTrue\u001b[0m\u001b[0;34m)\u001b[0m\u001b[0;34m:\u001b[0m\u001b[0;34m\u001b[0m\u001b[0;34m\u001b[0m\u001b[0m\n\u001b[0;32m---> 28\u001b[0;31m         super().load_data(data,\n\u001b[0m\u001b[1;32m     29\u001b[0m                           \u001b[0;34m'specviz-spectrum1d-parser'\u001b[0m\u001b[0;34m,\u001b[0m\u001b[0;34m\u001b[0m\u001b[0;34m\u001b[0m\u001b[0m\n\u001b[1;32m     30\u001b[0m                           \u001b[0mdata_label\u001b[0m\u001b[0;34m=\u001b[0m\u001b[0mdata_label\u001b[0m\u001b[0;34m,\u001b[0m\u001b[0;34m\u001b[0m\u001b[0;34m\u001b[0m\u001b[0m\n",
      "\u001b[0;32m~/miniconda3/envs/helper/lib/python3.9/site-packages/jdaviz/core/helpers.py\u001b[0m in \u001b[0;36mload_data\u001b[0;34m(self, data, parser_reference, **kwargs)\u001b[0m\n\u001b[1;32m     39\u001b[0m \u001b[0;34m\u001b[0m\u001b[0m\n\u001b[1;32m     40\u001b[0m     \u001b[0;32mdef\u001b[0m \u001b[0mload_data\u001b[0m\u001b[0;34m(\u001b[0m\u001b[0mself\u001b[0m\u001b[0;34m,\u001b[0m \u001b[0mdata\u001b[0m\u001b[0;34m,\u001b[0m \u001b[0mparser_reference\u001b[0m\u001b[0;34m=\u001b[0m\u001b[0;32mNone\u001b[0m\u001b[0;34m,\u001b[0m \u001b[0;34m**\u001b[0m\u001b[0mkwargs\u001b[0m\u001b[0;34m)\u001b[0m\u001b[0;34m:\u001b[0m\u001b[0;34m\u001b[0m\u001b[0;34m\u001b[0m\u001b[0m\n\u001b[0;32m---> 41\u001b[0;31m         \u001b[0mself\u001b[0m\u001b[0;34m.\u001b[0m\u001b[0mapp\u001b[0m\u001b[0;34m.\u001b[0m\u001b[0mload_data\u001b[0m\u001b[0;34m(\u001b[0m\u001b[0mdata\u001b[0m\u001b[0;34m,\u001b[0m \u001b[0mparser_reference\u001b[0m\u001b[0;34m=\u001b[0m\u001b[0mparser_reference\u001b[0m\u001b[0;34m,\u001b[0m \u001b[0;34m**\u001b[0m\u001b[0mkwargs\u001b[0m\u001b[0;34m)\u001b[0m\u001b[0;34m\u001b[0m\u001b[0;34m\u001b[0m\u001b[0m\n\u001b[0m\u001b[1;32m     42\u001b[0m \u001b[0;34m\u001b[0m\u001b[0m\n\u001b[1;32m     43\u001b[0m     \u001b[0;34m@\u001b[0m\u001b[0mproperty\u001b[0m\u001b[0;34m\u001b[0m\u001b[0;34m\u001b[0m\u001b[0m\n",
      "\u001b[0;32m~/miniconda3/envs/helper/lib/python3.9/site-packages/jdaviz/app.py\u001b[0m in \u001b[0;36mload_data\u001b[0;34m(self, file_obj, parser_reference, **kwargs)\u001b[0m\n\u001b[1;32m    306\u001b[0m                 \u001b[0;31m# If the parser returns something other than known, assume it's\u001b[0m\u001b[0;34m\u001b[0m\u001b[0;34m\u001b[0m\u001b[0;34m\u001b[0m\u001b[0m\n\u001b[1;32m    307\u001b[0m                 \u001b[0;31m#  a message we want to make the user aware of.\u001b[0m\u001b[0;34m\u001b[0m\u001b[0;34m\u001b[0m\u001b[0;34m\u001b[0m\u001b[0m\n\u001b[0;32m--> 308\u001b[0;31m                 \u001b[0mmsg\u001b[0m \u001b[0;34m=\u001b[0m \u001b[0mparser\u001b[0m\u001b[0;34m(\u001b[0m\u001b[0mself\u001b[0m\u001b[0;34m,\u001b[0m \u001b[0mfile_obj\u001b[0m\u001b[0;34m,\u001b[0m \u001b[0;34m**\u001b[0m\u001b[0mkwargs\u001b[0m\u001b[0;34m)\u001b[0m\u001b[0;34m\u001b[0m\u001b[0;34m\u001b[0m\u001b[0m\n\u001b[0m\u001b[1;32m    309\u001b[0m \u001b[0;34m\u001b[0m\u001b[0m\n\u001b[1;32m    310\u001b[0m                 \u001b[0;32mif\u001b[0m \u001b[0mmsg\u001b[0m \u001b[0;32mis\u001b[0m \u001b[0;32mnot\u001b[0m \u001b[0;32mNone\u001b[0m\u001b[0;34m:\u001b[0m\u001b[0;34m\u001b[0m\u001b[0;34m\u001b[0m\u001b[0m\n",
      "\u001b[0;32m~/miniconda3/envs/helper/lib/python3.9/site-packages/jdaviz/configs/specviz/plugins/parsers.py\u001b[0m in \u001b[0;36mspecviz_spectrum1d_parser\u001b[0;34m(app, data, data_label, format, show_in_viewer)\u001b[0m\n\u001b[1;32m     36\u001b[0m \u001b[0;34m\u001b[0m\u001b[0m\n\u001b[1;32m     37\u001b[0m         \u001b[0;32mif\u001b[0m \u001b[0mpath\u001b[0m\u001b[0;34m.\u001b[0m\u001b[0mis_file\u001b[0m\u001b[0;34m(\u001b[0m\u001b[0;34m)\u001b[0m\u001b[0;34m:\u001b[0m\u001b[0;34m\u001b[0m\u001b[0;34m\u001b[0m\u001b[0m\n\u001b[0;32m---> 38\u001b[0;31m             \u001b[0mdata\u001b[0m \u001b[0;34m=\u001b[0m \u001b[0mSpectrum1D\u001b[0m\u001b[0;34m.\u001b[0m\u001b[0mread\u001b[0m\u001b[0;34m(\u001b[0m\u001b[0mstr\u001b[0m\u001b[0;34m(\u001b[0m\u001b[0mpath\u001b[0m\u001b[0;34m)\u001b[0m\u001b[0;34m,\u001b[0m \u001b[0mformat\u001b[0m\u001b[0;34m=\u001b[0m\u001b[0mformat\u001b[0m\u001b[0;34m)\u001b[0m\u001b[0;34m\u001b[0m\u001b[0;34m\u001b[0m\u001b[0m\n\u001b[0m\u001b[1;32m     39\u001b[0m         \u001b[0;32melse\u001b[0m\u001b[0;34m:\u001b[0m\u001b[0;34m\u001b[0m\u001b[0;34m\u001b[0m\u001b[0m\n\u001b[1;32m     40\u001b[0m             \u001b[0;32mraise\u001b[0m \u001b[0mFileNotFoundError\u001b[0m\u001b[0;34m(\u001b[0m\u001b[0;34m\"No such file: \"\u001b[0m \u001b[0;34m+\u001b[0m \u001b[0mstr\u001b[0m\u001b[0;34m(\u001b[0m\u001b[0mpath\u001b[0m\u001b[0;34m)\u001b[0m\u001b[0;34m)\u001b[0m\u001b[0;34m\u001b[0m\u001b[0;34m\u001b[0m\u001b[0m\n",
      "\u001b[0;32m~/miniconda3/envs/helper/lib/python3.9/site-packages/astropy/nddata/mixins/ndio.py\u001b[0m in \u001b[0;36m__call__\u001b[0;34m(self, *args, **kwargs)\u001b[0m\n\u001b[1;32m     56\u001b[0m \u001b[0;34m\u001b[0m\u001b[0m\n\u001b[1;32m     57\u001b[0m     \u001b[0;32mdef\u001b[0m \u001b[0m__call__\u001b[0m\u001b[0;34m(\u001b[0m\u001b[0mself\u001b[0m\u001b[0;34m,\u001b[0m \u001b[0;34m*\u001b[0m\u001b[0margs\u001b[0m\u001b[0;34m,\u001b[0m \u001b[0;34m**\u001b[0m\u001b[0mkwargs\u001b[0m\u001b[0;34m)\u001b[0m\u001b[0;34m:\u001b[0m\u001b[0;34m\u001b[0m\u001b[0;34m\u001b[0m\u001b[0m\n\u001b[0;32m---> 58\u001b[0;31m         \u001b[0;32mreturn\u001b[0m \u001b[0mregistry\u001b[0m\u001b[0;34m.\u001b[0m\u001b[0mread\u001b[0m\u001b[0;34m(\u001b[0m\u001b[0mself\u001b[0m\u001b[0;34m.\u001b[0m\u001b[0m_cls\u001b[0m\u001b[0;34m,\u001b[0m \u001b[0;34m*\u001b[0m\u001b[0margs\u001b[0m\u001b[0;34m,\u001b[0m \u001b[0;34m**\u001b[0m\u001b[0mkwargs\u001b[0m\u001b[0;34m)\u001b[0m\u001b[0;34m\u001b[0m\u001b[0;34m\u001b[0m\u001b[0m\n\u001b[0m\u001b[1;32m     59\u001b[0m \u001b[0;34m\u001b[0m\u001b[0m\n\u001b[1;32m     60\u001b[0m \u001b[0;34m\u001b[0m\u001b[0m\n",
      "\u001b[0;32m~/miniconda3/envs/helper/lib/python3.9/site-packages/astropy/io/registry.py\u001b[0m in \u001b[0;36mread\u001b[0;34m(cls, format, cache, *args, **kwargs)\u001b[0m\n\u001b[1;32m    518\u001b[0m \u001b[0;34m\u001b[0m\u001b[0m\n\u001b[1;32m    519\u001b[0m         \u001b[0mreader\u001b[0m \u001b[0;34m=\u001b[0m \u001b[0mget_reader\u001b[0m\u001b[0;34m(\u001b[0m\u001b[0mformat\u001b[0m\u001b[0;34m,\u001b[0m \u001b[0mcls\u001b[0m\u001b[0;34m)\u001b[0m\u001b[0;34m\u001b[0m\u001b[0;34m\u001b[0m\u001b[0m\n\u001b[0;32m--> 520\u001b[0;31m         \u001b[0mdata\u001b[0m \u001b[0;34m=\u001b[0m \u001b[0mreader\u001b[0m\u001b[0;34m(\u001b[0m\u001b[0;34m*\u001b[0m\u001b[0margs\u001b[0m\u001b[0;34m,\u001b[0m \u001b[0;34m**\u001b[0m\u001b[0mkwargs\u001b[0m\u001b[0;34m)\u001b[0m\u001b[0;34m\u001b[0m\u001b[0;34m\u001b[0m\u001b[0m\n\u001b[0m\u001b[1;32m    521\u001b[0m \u001b[0;34m\u001b[0m\u001b[0m\n\u001b[1;32m    522\u001b[0m         \u001b[0;32mif\u001b[0m \u001b[0;32mnot\u001b[0m \u001b[0misinstance\u001b[0m\u001b[0;34m(\u001b[0m\u001b[0mdata\u001b[0m\u001b[0;34m,\u001b[0m \u001b[0mcls\u001b[0m\u001b[0;34m)\u001b[0m\u001b[0;34m:\u001b[0m\u001b[0;34m\u001b[0m\u001b[0;34m\u001b[0m\u001b[0m\n",
      "\u001b[0;32m~/miniconda3/envs/helper/lib/python3.9/site-packages/specutils/io/default_loaders/jwst_reader.py\u001b[0m in \u001b[0;36mjwst_x1d_single_loader\u001b[0;34m(file_obj, **kwargs)\u001b[0m\n\u001b[1;32m     92\u001b[0m         \u001b[0mThe\u001b[0m \u001b[0mspectrum\u001b[0m \u001b[0mcontained\u001b[0m \u001b[0;32min\u001b[0m \u001b[0mthe\u001b[0m \u001b[0mfile\u001b[0m\u001b[0;34m.\u001b[0m\u001b[0;34m\u001b[0m\u001b[0;34m\u001b[0m\u001b[0m\n\u001b[1;32m     93\u001b[0m     \"\"\"\n\u001b[0;32m---> 94\u001b[0;31m     \u001b[0mspectrum_list\u001b[0m \u001b[0;34m=\u001b[0m \u001b[0m_jwst_x1d_loader\u001b[0m\u001b[0;34m(\u001b[0m\u001b[0mfile_obj\u001b[0m\u001b[0;34m,\u001b[0m \u001b[0;34m**\u001b[0m\u001b[0mkwargs\u001b[0m\u001b[0;34m)\u001b[0m\u001b[0;34m\u001b[0m\u001b[0;34m\u001b[0m\u001b[0m\n\u001b[0m\u001b[1;32m     95\u001b[0m     \u001b[0;32mif\u001b[0m \u001b[0mlen\u001b[0m\u001b[0;34m(\u001b[0m\u001b[0mspectrum_list\u001b[0m\u001b[0;34m)\u001b[0m \u001b[0;34m==\u001b[0m \u001b[0;36m1\u001b[0m\u001b[0;34m:\u001b[0m\u001b[0;34m\u001b[0m\u001b[0;34m\u001b[0m\u001b[0m\n\u001b[1;32m     96\u001b[0m         \u001b[0;32mreturn\u001b[0m \u001b[0mspectrum_list\u001b[0m\u001b[0;34m[\u001b[0m\u001b[0;36m0\u001b[0m\u001b[0;34m]\u001b[0m\u001b[0;34m\u001b[0m\u001b[0;34m\u001b[0m\u001b[0m\n",
      "\u001b[0;32m~/miniconda3/envs/helper/lib/python3.9/site-packages/specutils/io/default_loaders/jwst_reader.py\u001b[0m in \u001b[0;36m_jwst_x1d_loader\u001b[0;34m(file_obj, **kwargs)\u001b[0m\n\u001b[1;32m    169\u001b[0m \u001b[0;34m\u001b[0m\u001b[0m\n\u001b[1;32m    170\u001b[0m             \u001b[0;32melse\u001b[0m\u001b[0;34m:\u001b[0m\u001b[0;34m\u001b[0m\u001b[0;34m\u001b[0m\u001b[0m\n\u001b[0;32m--> 171\u001b[0;31m                 raise RuntimeError(f\"Keyword SRCTYPE is {srctype}.  It should \"\n\u001b[0m\u001b[1;32m    172\u001b[0m                                    \u001b[0;34m\"be 'POINT' or 'EXTENDED'. Can't decide between `flux` and \"\u001b[0m\u001b[0;34m\u001b[0m\u001b[0;34m\u001b[0m\u001b[0m\n\u001b[1;32m    173\u001b[0m                                    \"`surf_bright` columns.\")\n",
      "\u001b[0;31mRuntimeError\u001b[0m: Keyword SRCTYPE is None.  It should be 'POINT' or 'EXTENDED'. Can't decide between `flux` and `surf_bright` columns."
     ]
    }
   ],
   "source": [
    "spectrum = '/Users/ofox/data/jwst/dat_pyinthesky/jdat_notebooks/helper_classes/data/MIRI/LRS/jw00623-o074_t015_miri_clear/jw00623-o074_t015_miri_clear_x1d.fits'\n",
    "specviz.load_spectrum(spectrum, \"LRS 1D\")"
   ]
  },
  {
   "cell_type": "markdown",
   "metadata": {},
   "source": [
    "## MIRI LRS Slitless - X1DINTS Currently failing"
   ]
  },
  {
   "cell_type": "code",
   "execution_count": 609,
   "metadata": {},
   "outputs": [
    {
     "name": "stdout",
     "output_type": "stream",
     "text": [
      "obsID obs_collection obs_id ... parent_obsid dataRights calib_level\n",
      "----- -------------- ------ ... ------------ ---------- -----------\n"
     ]
    }
   ],
   "source": [
    "instrument = 'Miri'\n",
    "program = '00623'\n",
    "columns = ','.join(RET_COLUMNS)\n",
    "service = SERVICES['Caom_search']\n",
    "progID = program\n",
    "start_date = 59009\n",
    "filt='P750L'\n",
    "\n",
    "extension='p750l-slitlessprism_x1dints.fits'\n",
    "JwstObs = set_server_endpoints(SERVER)\n",
    "obsTable = observation_query(JwstObs, progID, instrument, start_date, filt)\n",
    "products = product_query(JwstObs, obsTable)\n",
    "mask = product_filter(products, [extension], True)\n",
    "selected_products = products[mask]\n",
    "print(selected_products)\n",
    "#print(obsTable)"
   ]
  },
  {
   "cell_type": "code",
   "execution_count": 433,
   "metadata": {},
   "outputs": [
    {
     "name": "stdout",
     "output_type": "stream",
     "text": [
      "jw00623-o027_t001_miri_p750l-slitlessprism_x1dints.fits\n",
      "jw00623-o027_t001_miri_p750l-slitlessprism_x1dints.fits\n",
      "     jw00623-o027_t001_miri_p750l-subprism_x1dints.fits\n",
      "     jw00623-o027_t001_miri_p750l-subprism_x1dints.fits\n",
      "jw00623-o040_t009_miri_p750l-slitlessprism_x1dints.fits\n",
      " jw00623027001_03103_00001-seg001_mirimage_x1dints.fits\n",
      " jw00623027001_03103_00001-seg001_mirimage_x1dints.fits\n",
      " jw00623040001_02101_00001-seg001_mirimage_x1dints.fits\n",
      " jw00623055001_04103_00001-seg001_mirimage_x1dints.fits\n",
      "Downloading URL https://mast.stsci.edu/jwst/api/v0.1/download/bundle.sh?uri=mast:JWST/product/jw00623-o027_t001_miri_p750l-slitlessprism_x1dints.fits&uri=mast:JWST/product/jw00623-o027_t001_miri_p750l-slitlessprism_x1dints.fits&uri=mast:JWST/product/jw00623-o027_t001_miri_p750l-subprism_x1dints.fits&uri=mast:JWST/product/jw00623-o027_t001_miri_p750l-subprism_x1dints.fits&uri=mast:JWST/product/jw00623-o040_t009_miri_p750l-slitlessprism_x1dints.fits&uri=mast:JWST/product/jw00623027001_03103_00001-seg001_mirimage_x1dints.fits&uri=mast:JWST/product/jw00623027001_03103_00001-seg001_mirimage_x1dints.fits&uri=mast:JWST/product/jw00623040001_02101_00001-seg001_mirimage_x1dints.fits&uri=mast:JWST/product/jw00623055001_04103_00001-seg001_mirimage_x1dints.fits to mastDownload_20210611011549.sh ... [Done]\n"
     ]
    }
   ],
   "source": [
    "script = fetch_files(progID, instrument, start_date, filt, '_x1dints.fits', True, True)\n"
   ]
  },
  {
   "cell_type": "code",
   "execution_count": null,
   "metadata": {},
   "outputs": [],
   "source": []
  },
  {
   "cell_type": "code",
   "execution_count": null,
   "metadata": {},
   "outputs": [],
   "source": []
  },
  {
   "cell_type": "markdown",
   "metadata": {},
   "source": [
    "## MIRI MRS"
   ]
  },
  {
   "cell_type": "code",
   "execution_count": 613,
   "metadata": {},
   "outputs": [
    {
     "name": "stdout",
     "output_type": "stream",
     "text": [
      "obsID obs_collection obs_id ... parent_obsid dataRights calib_level\n",
      "----- -------------- ------ ... ------------ ---------- -----------\n",
      "proposal_id dataURL obsid obs_id\n",
      "----------- ------- ----- ------\n"
     ]
    }
   ],
   "source": [
    "instrument = 'Miri'\n",
    "program = '00623'\n",
    "columns = ','.join(RET_COLUMNS)\n",
    "service = SERVICES['Caom_search']\n",
    "progID = program\n",
    "start_date = 59139\n",
    "filt=''\n",
    "\n",
    "extension='_s3d.fits'\n",
    "JwstObs = set_server_endpoints(SERVER)\n",
    "obsTable = observation_query(JwstObs, progID, instrument, start_date, filt)\n",
    "products = product_query(JwstObs, obsTable)\n",
    "mask = product_filter(products, [extension], True)\n",
    "selected_products = products[mask]\n",
    "print(selected_products)\n",
    "print(obsTable)"
   ]
  },
  {
   "cell_type": "code",
   "execution_count": 566,
   "metadata": {},
   "outputs": [
    {
     "name": "stdout",
     "output_type": "stream",
     "text": [
      " jw00623087001_05101_00001_mirifulong_s3d.fits\n",
      "jw00623087001_05101_00001_mirifushort_s3d.fits\n",
      " jw00623087001_05101_00002_mirifulong_s3d.fits\n",
      "jw00623087001_05101_00002_mirifushort_s3d.fits\n",
      " jw00623087001_07101_00001_mirifulong_s3d.fits\n",
      "jw00623087001_07101_00001_mirifushort_s3d.fits\n",
      " jw00623087001_07101_00002_mirifulong_s3d.fits\n",
      "jw00623087001_07101_00002_mirifushort_s3d.fits\n",
      " jw00623087001_09101_00001_mirifulong_s3d.fits\n",
      "jw00623087001_09101_00001_mirifushort_s3d.fits\n",
      " jw00623087001_09101_00002_mirifulong_s3d.fits\n",
      "jw00623087001_09101_00002_mirifushort_s3d.fits\n",
      " jw00623087001_11101_00001_mirifulong_s3d.fits\n",
      "jw00623087001_11101_00001_mirifushort_s3d.fits\n",
      " jw00623087001_11101_00002_mirifulong_s3d.fits\n",
      "jw00623087001_11101_00002_mirifushort_s3d.fits\n",
      " jw00623087001_13101_00001_mirifulong_s3d.fits\n",
      "jw00623087001_13101_00001_mirifushort_s3d.fits\n",
      " jw00623087001_13101_00002_mirifulong_s3d.fits\n",
      "jw00623087001_13101_00002_mirifushort_s3d.fits\n",
      " jw00623087001_15101_00001_mirifulong_s3d.fits\n",
      "jw00623087001_15101_00001_mirifushort_s3d.fits\n",
      " jw00623087001_15101_00002_mirifulong_s3d.fits\n",
      "jw00623087001_15101_00002_mirifushort_s3d.fits\n",
      "Downloading URL https://mast.stsci.edu/jwst/api/v0.1/download/bundle.sh?uri=mast:JWST/product/jw00623087001_05101_00001_mirifulong_s3d.fits&uri=mast:JWST/product/jw00623087001_05101_00001_mirifushort_s3d.fits&uri=mast:JWST/product/jw00623087001_05101_00002_mirifulong_s3d.fits&uri=mast:JWST/product/jw00623087001_05101_00002_mirifushort_s3d.fits&uri=mast:JWST/product/jw00623087001_07101_00001_mirifulong_s3d.fits&uri=mast:JWST/product/jw00623087001_07101_00001_mirifushort_s3d.fits&uri=mast:JWST/product/jw00623087001_07101_00002_mirifulong_s3d.fits&uri=mast:JWST/product/jw00623087001_07101_00002_mirifushort_s3d.fits&uri=mast:JWST/product/jw00623087001_09101_00001_mirifulong_s3d.fits&uri=mast:JWST/product/jw00623087001_09101_00001_mirifushort_s3d.fits&uri=mast:JWST/product/jw00623087001_09101_00002_mirifulong_s3d.fits&uri=mast:JWST/product/jw00623087001_09101_00002_mirifushort_s3d.fits&uri=mast:JWST/product/jw00623087001_11101_00001_mirifulong_s3d.fits&uri=mast:JWST/product/jw00623087001_11101_00001_mirifushort_s3d.fits&uri=mast:JWST/product/jw00623087001_11101_00002_mirifulong_s3d.fits&uri=mast:JWST/product/jw00623087001_11101_00002_mirifushort_s3d.fits&uri=mast:JWST/product/jw00623087001_13101_00001_mirifulong_s3d.fits&uri=mast:JWST/product/jw00623087001_13101_00001_mirifushort_s3d.fits&uri=mast:JWST/product/jw00623087001_13101_00002_mirifulong_s3d.fits&uri=mast:JWST/product/jw00623087001_13101_00002_mirifushort_s3d.fits&uri=mast:JWST/product/jw00623087001_15101_00001_mirifulong_s3d.fits&uri=mast:JWST/product/jw00623087001_15101_00001_mirifushort_s3d.fits&uri=mast:JWST/product/jw00623087001_15101_00002_mirifulong_s3d.fits&uri=mast:JWST/product/jw00623087001_15101_00002_mirifushort_s3d.fits to mastDownload_2021061113382.sh ... [Done]\n"
     ]
    }
   ],
   "source": [
    "script = fetch_files(progID, instrument, start_date, filt, '_s3d.fits', True, True)\n"
   ]
  },
  {
   "cell_type": "code",
   "execution_count": 474,
   "metadata": {},
   "outputs": [
    {
     "name": "stdout",
     "output_type": "stream",
     "text": [
      "   jw00623083001_03103_00001_mirimage_x1d.fits\n",
      "   jw00623083001_03103_00002_mirimage_x1d.fits\n",
      "   jw00623083001_03106_00001_mirimage_x1d.fits\n",
      "   jw00623083001_03106_00002_mirimage_x1d.fits\n",
      "   jw00623084001_02101_00001_mirimage_x1d.fits\n",
      "   jw00623084001_02101_00002_mirimage_x1d.fits\n",
      "   jw00623084001_02103_00001_mirimage_x1d.fits\n",
      "   jw00623084001_02103_00002_mirimage_x1d.fits\n",
      "   jw00623085001_03103_00001_mirimage_x1d.fits\n",
      "   jw00623085001_03103_00002_mirimage_x1d.fits\n",
      "   jw00623086001_03103_00001_mirimage_x1d.fits\n",
      "   jw00623086001_03103_00002_mirimage_x1d.fits\n",
      "   jw00623086001_03103_00003_mirimage_x1d.fits\n",
      "   jw00623086001_03103_00004_mirimage_x1d.fits\n",
      "   jw00623086001_03103_00005_mirimage_x1d.fits\n",
      "   jw00623086001_03103_00006_mirimage_x1d.fits\n",
      "   jw00623086001_03103_00007_mirimage_x1d.fits\n",
      "   jw00623086001_03103_00008_mirimage_x1d.fits\n",
      "   jw00623086001_03103_00009_mirimage_x1d.fits\n",
      "   jw00623086001_03103_00010_mirimage_x1d.fits\n",
      "   jw00623086001_03103_00011_mirimage_x1d.fits\n",
      "   jw00623086001_03103_00012_mirimage_x1d.fits\n",
      "   jw00623086001_03103_00013_mirimage_x1d.fits\n",
      "   jw00623086001_03103_00014_mirimage_x1d.fits\n",
      "   jw00623086001_03103_00015_mirimage_x1d.fits\n",
      "   jw00623086001_03103_00016_mirimage_x1d.fits\n",
      "   jw00623086001_03103_00017_mirimage_x1d.fits\n",
      "   jw00623086001_03103_00018_mirimage_x1d.fits\n",
      "   jw00623086001_03103_00019_mirimage_x1d.fits\n",
      "   jw00623086001_03103_00020_mirimage_x1d.fits\n",
      "   jw00623086001_03103_00021_mirimage_x1d.fits\n",
      "   jw00623086001_03103_00022_mirimage_x1d.fits\n",
      "   jw00623086001_03103_00023_mirimage_x1d.fits\n",
      "   jw00623086001_03103_00024_mirimage_x1d.fits\n",
      "   jw00623086001_03103_00025_mirimage_x1d.fits\n",
      "   jw00623086001_03103_00026_mirimage_x1d.fits\n",
      "   jw00623086001_03103_00027_mirimage_x1d.fits\n",
      "   jw00623086001_03106_00001_mirimage_x1d.fits\n",
      "   jw00623086001_03106_00002_mirimage_x1d.fits\n",
      "   jw00623086001_03106_00003_mirimage_x1d.fits\n",
      "   jw00623086001_03106_00004_mirimage_x1d.fits\n",
      "   jw00623086001_03106_00005_mirimage_x1d.fits\n",
      "   jw00623086001_03106_00006_mirimage_x1d.fits\n",
      "   jw00623086001_03106_00007_mirimage_x1d.fits\n",
      "   jw00623086001_03106_00008_mirimage_x1d.fits\n",
      "   jw00623086001_03106_00009_mirimage_x1d.fits\n",
      "   jw00623086001_03106_00010_mirimage_x1d.fits\n",
      "   jw00623086001_03106_00011_mirimage_x1d.fits\n",
      "   jw00623086001_03106_00012_mirimage_x1d.fits\n",
      "   jw00623086001_03106_00013_mirimage_x1d.fits\n",
      "   jw00623086001_03106_00014_mirimage_x1d.fits\n",
      "   jw00623086001_03106_00015_mirimage_x1d.fits\n",
      "   jw00623086001_03106_00016_mirimage_x1d.fits\n",
      "   jw00623086001_03106_00017_mirimage_x1d.fits\n",
      "   jw00623086001_03106_00018_mirimage_x1d.fits\n",
      "   jw00623086001_03106_00019_mirimage_x1d.fits\n",
      "   jw00623086001_03106_00020_mirimage_x1d.fits\n",
      "   jw00623086001_03106_00021_mirimage_x1d.fits\n",
      "   jw00623086001_03106_00022_mirimage_x1d.fits\n",
      "   jw00623086001_03106_00023_mirimage_x1d.fits\n",
      "   jw00623086001_03106_00024_mirimage_x1d.fits\n",
      "   jw00623086001_03106_00025_mirimage_x1d.fits\n",
      "   jw00623086001_03106_00026_mirimage_x1d.fits\n",
      "   jw00623086001_03106_00027_mirimage_x1d.fits\n",
      " jw00623087001_05101_00001_mirifulong_x1d.fits\n",
      "jw00623087001_05101_00001_mirifushort_x1d.fits\n",
      " jw00623087001_05101_00002_mirifulong_x1d.fits\n",
      "jw00623087001_05101_00002_mirifushort_x1d.fits\n",
      " jw00623087001_07101_00001_mirifulong_x1d.fits\n",
      "jw00623087001_07101_00001_mirifushort_x1d.fits\n",
      " jw00623087001_07101_00002_mirifulong_x1d.fits\n",
      "jw00623087001_07101_00002_mirifushort_x1d.fits\n",
      " jw00623087001_09101_00001_mirifulong_x1d.fits\n",
      "jw00623087001_09101_00001_mirifushort_x1d.fits\n",
      " jw00623087001_09101_00002_mirifulong_x1d.fits\n",
      "jw00623087001_09101_00002_mirifushort_x1d.fits\n",
      " jw00623087001_11101_00001_mirifulong_x1d.fits\n",
      "jw00623087001_11101_00001_mirifushort_x1d.fits\n",
      " jw00623087001_11101_00002_mirifulong_x1d.fits\n",
      "jw00623087001_11101_00002_mirifushort_x1d.fits\n",
      " jw00623087001_13101_00001_mirifulong_x1d.fits\n",
      "jw00623087001_13101_00001_mirifushort_x1d.fits\n",
      " jw00623087001_13101_00002_mirifulong_x1d.fits\n",
      "jw00623087001_13101_00002_mirifushort_x1d.fits\n",
      " jw00623087001_15101_00001_mirifulong_x1d.fits\n",
      "jw00623087001_15101_00001_mirifushort_x1d.fits\n",
      " jw00623087001_15101_00002_mirifulong_x1d.fits\n",
      "jw00623087001_15101_00002_mirifushort_x1d.fits\n",
      "Downloading URL https://mast.stsci.edu/jwst/api/v0.1/download/bundle.sh?uri=mast:JWST/product/jw00623083001_03103_00001_mirimage_x1d.fits&uri=mast:JWST/product/jw00623083001_03103_00002_mirimage_x1d.fits&uri=mast:JWST/product/jw00623083001_03106_00001_mirimage_x1d.fits&uri=mast:JWST/product/jw00623083001_03106_00002_mirimage_x1d.fits&uri=mast:JWST/product/jw00623084001_02101_00001_mirimage_x1d.fits&uri=mast:JWST/product/jw00623084001_02101_00002_mirimage_x1d.fits&uri=mast:JWST/product/jw00623084001_02103_00001_mirimage_x1d.fits&uri=mast:JWST/product/jw00623084001_02103_00002_mirimage_x1d.fits&uri=mast:JWST/product/jw00623085001_03103_00001_mirimage_x1d.fits&uri=mast:JWST/product/jw00623085001_03103_00002_mirimage_x1d.fits&uri=mast:JWST/product/jw00623086001_03103_00001_mirimage_x1d.fits&uri=mast:JWST/product/jw00623086001_03103_00002_mirimage_x1d.fits&uri=mast:JWST/product/jw00623086001_03103_00003_mirimage_x1d.fits&uri=mast:JWST/product/jw00623086001_03103_00004_mirimage_x1d.fits&uri=mast:JWST/product/jw00623086001_03103_00005_mirimage_x1d.fits&uri=mast:JWST/product/jw00623086001_03103_00006_mirimage_x1d.fits&uri=mast:JWST/product/jw00623086001_03103_00007_mirimage_x1d.fits&uri=mast:JWST/product/jw00623086001_03103_00008_mirimage_x1d.fits&uri=mast:JWST/product/jw00623086001_03103_00009_mirimage_x1d.fits&uri=mast:JWST/product/jw00623086001_03103_00010_mirimage_x1d.fits&uri=mast:JWST/product/jw00623086001_03103_00011_mirimage_x1d.fits&uri=mast:JWST/product/jw00623086001_03103_00012_mirimage_x1d.fits&uri=mast:JWST/product/jw00623086001_03103_00013_mirimage_x1d.fits&uri=mast:JWST/product/jw00623086001_03103_00014_mirimage_x1d.fits&uri=mast:JWST/product/jw00623086001_03103_00015_mirimage_x1d.fits&uri=mast:JWST/product/jw00623086001_03103_00016_mirimage_x1d.fits&uri=mast:JWST/product/jw00623086001_03103_00017_mirimage_x1d.fits&uri=mast:JWST/product/jw00623086001_03103_00018_mirimage_x1d.fits&uri=mast:JWST/product/jw00623086001_03103_00019_mirimage_x1d.fits&uri=mast:JWST/product/jw00623086001_03103_00020_mirimage_x1d.fits&uri=mast:JWST/product/jw00623086001_03103_00021_mirimage_x1d.fits&uri=mast:JWST/product/jw00623086001_03103_00022_mirimage_x1d.fits&uri=mast:JWST/product/jw00623086001_03103_00023_mirimage_x1d.fits&uri=mast:JWST/product/jw00623086001_03103_00024_mirimage_x1d.fits&uri=mast:JWST/product/jw00623086001_03103_00025_mirimage_x1d.fits&uri=mast:JWST/product/jw00623086001_03103_00026_mirimage_x1d.fits&uri=mast:JWST/product/jw00623086001_03103_00027_mirimage_x1d.fits&uri=mast:JWST/product/jw00623086001_03106_00001_mirimage_x1d.fits&uri=mast:JWST/product/jw00623086001_03106_00002_mirimage_x1d.fits&uri=mast:JWST/product/jw00623086001_03106_00003_mirimage_x1d.fits&uri=mast:JWST/product/jw00623086001_03106_00004_mirimage_x1d.fits&uri=mast:JWST/product/jw00623086001_03106_00005_mirimage_x1d.fits&uri=mast:JWST/product/jw00623086001_03106_00006_mirimage_x1d.fits&uri=mast:JWST/product/jw00623086001_03106_00007_mirimage_x1d.fits&uri=mast:JWST/product/jw00623086001_03106_00008_mirimage_x1d.fits&uri=mast:JWST/product/jw00623086001_03106_00009_mirimage_x1d.fits&uri=mast:JWST/product/jw00623086001_03106_00010_mirimage_x1d.fits&uri=mast:JWST/product/jw00623086001_03106_00011_mirimage_x1d.fits&uri=mast:JWST/product/jw00623086001_03106_00012_mirimage_x1d.fits&uri=mast:JWST/product/jw00623086001_03106_00013_mirimage_x1d.fits&uri=mast:JWST/product/jw00623086001_03106_00014_mirimage_x1d.fits&uri=mast:JWST/product/jw00623086001_03106_00015_mirimage_x1d.fits&uri=mast:JWST/product/jw00623086001_03106_00016_mirimage_x1d.fits&uri=mast:JWST/product/jw00623086001_03106_00017_mirimage_x1d.fits&uri=mast:JWST/product/jw00623086001_03106_00018_mirimage_x1d.fits&uri=mast:JWST/product/jw00623086001_03106_00019_mirimage_x1d.fits&uri=mast:JWST/product/jw00623086001_03106_00020_mirimage_x1d.fits&uri=mast:JWST/product/jw00623086001_03106_00021_mirimage_x1d.fits&uri=mast:JWST/product/jw00623086001_03106_00022_mirimage_x1d.fits&uri=mast:JWST/product/jw00623086001_03106_00023_mirimage_x1d.fits&uri=mast:JWST/product/jw00623086001_03106_00024_mirimage_x1d.fits&uri=mast:JWST/product/jw00623086001_03106_00025_mirimage_x1d.fits&uri=mast:JWST/product/jw00623086001_03106_00026_mirimage_x1d.fits&uri=mast:JWST/product/jw00623086001_03106_00027_mirimage_x1d.fits&uri=mast:JWST/product/jw00623087001_05101_00001_mirifulong_x1d.fits&uri=mast:JWST/product/jw00623087001_05101_00001_mirifushort_x1d.fits&uri=mast:JWST/product/jw00623087001_05101_00002_mirifulong_x1d.fits&uri=mast:JWST/product/jw00623087001_05101_00002_mirifushort_x1d.fits&uri=mast:JWST/product/jw00623087001_07101_00001_mirifulong_x1d.fits&uri=mast:JWST/product/jw00623087001_07101_00001_mirifushort_x1d.fits&uri=mast:JWST/product/jw00623087001_07101_00002_mirifulong_x1d.fits&uri=mast:JWST/product/jw00623087001_07101_00002_mirifushort_x1d.fits&uri=mast:JWST/product/jw00623087001_09101_00001_mirifulong_x1d.fits&uri=mast:JWST/product/jw00623087001_09101_00001_mirifushort_x1d.fits&uri=mast:JWST/product/jw00623087001_09101_00002_mirifulong_x1d.fits&uri=mast:JWST/product/jw00623087001_09101_00002_mirifushort_x1d.fits&uri=mast:JWST/product/jw00623087001_11101_00001_mirifulong_x1d.fits&uri=mast:JWST/product/jw00623087001_11101_00001_mirifushort_x1d.fits&uri=mast:JWST/product/jw00623087001_11101_00002_mirifulong_x1d.fits&uri=mast:JWST/product/jw00623087001_11101_00002_mirifushort_x1d.fits&uri=mast:JWST/product/jw00623087001_13101_00001_mirifulong_x1d.fits&uri=mast:JWST/product/jw00623087001_13101_00001_mirifushort_x1d.fits&uri=mast:JWST/product/jw00623087001_13101_00002_mirifulong_x1d.fits&uri=mast:JWST/product/jw00623087001_13101_00002_mirifushort_x1d.fits&uri=mast:JWST/product/jw00623087001_15101_00001_mirifulong_x1d.fits&uri=mast:JWST/product/jw00623087001_15101_00001_mirifushort_x1d.fits&uri=mast:JWST/product/jw00623087001_15101_00002_mirifulong_x1d.fits&uri=mast:JWST/product/jw00623087001_15101_00002_mirifushort_x1d.fits to mastDownload_20210611015055.sh ... [Done]\n"
     ]
    }
   ],
   "source": [
    "script = fetch_files(progID, instrument, start_date, filt, '_x1d.fits', True, True)\n"
   ]
  },
  {
   "cell_type": "code",
   "execution_count": 477,
   "metadata": {},
   "outputs": [
    {
     "data": {
      "application/vnd.jupyter.widget-view+json": {
       "model_id": "e3262e23268b484e817c09797effb3f7",
       "version_major": 2,
       "version_minor": 0
      },
      "text/plain": [
       "Application(components={'g-viewer-tab': '<template>\\n  <component :is=\"stack.container\">\\n    <g-viewer-tab\\n …"
      ]
     },
     "metadata": {},
     "output_type": "display_data"
    }
   ],
   "source": [
    "from jdaviz.app import Application\n",
    "\n",
    "app = Application(configuration='cubeviz')# when doing Cubeviz, first run this block.\n",
    "app"
   ]
  },
  {
   "cell_type": "code",
   "execution_count": 479,
   "metadata": {},
   "outputs": [
    {
     "name": "stderr",
     "output_type": "stream",
     "text": [
      "WARNING: No spectral axis found; header may be non-compliant. [spectral_cube.cube_utils]\n",
      "WARNING:astropy:No spectral axis found; header may be non-compliant.\n",
      "2021-06-10 22:00:21,098 - stpipe - WARNING - No spectral axis found; header may be non-compliant.\n",
      "WARNING:stpipe:No spectral axis found; header may be non-compliant.\n",
      "WARNING: No spectral axis found; header may be non-compliant. [spectral_cube.cube_utils]\n",
      "WARNING:astropy:No spectral axis found; header may be non-compliant.\n",
      "2021-06-10 22:00:21,137 - stpipe - WARNING - No spectral axis found; header may be non-compliant.\n",
      "WARNING:stpipe:No spectral axis found; header may be non-compliant.\n",
      "WARNING: No spectral axis found; header may be non-compliant. [spectral_cube.cube_utils]\n",
      "WARNING:astropy:No spectral axis found; header may be non-compliant.\n",
      "2021-06-10 22:00:21,141 - stpipe - WARNING - No spectral axis found; header may be non-compliant.\n",
      "WARNING:stpipe:No spectral axis found; header may be non-compliant.\n",
      "WARNING: No spectral axis found; header may be non-compliant. [spectral_cube.cube_utils]\n",
      "WARNING:astropy:No spectral axis found; header may be non-compliant.\n",
      "2021-06-10 22:00:21,732 - stpipe - WARNING - No spectral axis found; header may be non-compliant.\n",
      "WARNING:stpipe:No spectral axis found; header may be non-compliant.\n",
      "WARNING: No spectral axis found; header may be non-compliant. [spectral_cube.cube_utils]\n",
      "WARNING:astropy:No spectral axis found; header may be non-compliant.\n",
      "2021-06-10 22:00:21,955 - stpipe - WARNING - No spectral axis found; header may be non-compliant.\n",
      "WARNING:stpipe:No spectral axis found; header may be non-compliant.\n",
      "WARNING: No spectral axis found; header may be non-compliant. [spectral_cube.cube_utils]\n",
      "WARNING:astropy:No spectral axis found; header may be non-compliant.\n",
      "2021-06-10 22:00:22,215 - stpipe - WARNING - No spectral axis found; header may be non-compliant.\n",
      "WARNING:stpipe:No spectral axis found; header may be non-compliant.\n"
     ]
    }
   ],
   "source": [
    "ch1short_cubefile='/Users/ofox/data/jwst/dat_pyinthesky/jdat_notebooks/helper_classes/data/MIRI/MRS/jw00623-o087_t017_miri_ch1-short_s3d.fits'\n",
    "#ch1short_cubefile='combine_dithers_all_exposures_ch1-2-3-4-shortlongmedium-_s3d.fits'\n",
    "app.load_data(ch1short_cubefile)# When this block is run, the spectrum will appear in the Cubeviz viewer above."
   ]
  },
  {
   "cell_type": "code",
   "execution_count": 480,
   "metadata": {},
   "outputs": [],
   "source": [
    "from jdaviz import SpecViz\n",
    "specviz = SpecViz()\n",
    "#Developer note: How do you scroll interactingvely with the mouse?\n",
    "#specviz.app"
   ]
  },
  {
   "cell_type": "code",
   "execution_count": 481,
   "metadata": {},
   "outputs": [
    {
     "data": {
      "application/vnd.jupyter.widget-view+json": {
       "model_id": "8e336b18183b4973bfea5c0b42621452",
       "version_major": 2,
       "version_minor": 0
      },
      "text/plain": [
       "Application(components={'g-viewer-tab': '<template>\\n  <component :is=\"stack.container\">\\n    <g-viewer-tab\\n …"
      ]
     },
     "metadata": {},
     "output_type": "display_data"
    }
   ],
   "source": [
    "#Developer note: How do you scroll interactingvely with the mouse?\n",
    "specviz.app"
   ]
  },
  {
   "cell_type": "code",
   "execution_count": 482,
   "metadata": {},
   "outputs": [],
   "source": [
    "spectrum = '/Users/ofox/data/jwst/dat_pyinthesky/jdat_notebooks/helper_classes/data/MIRI/MRS/jw00623-o087_t017_miri_ch1-short_x1d.fits'\n",
    "specviz.load_spectrum(spectrum, \"MRS 1D\")"
   ]
  },
  {
   "cell_type": "markdown",
   "metadata": {},
   "source": [
    "## MIRI Coronagraphic Imaging - 4QPM"
   ]
  },
  {
   "cell_type": "code",
   "execution_count": 485,
   "metadata": {},
   "outputs": [
    {
     "name": "stdout",
     "output_type": "stream",
     "text": [
      " obsID   obs_collection ...    dataRights    calib_level\n",
      "-------- -------------- ... ---------------- -----------\n",
      "55729222           JWST ... EXCLUSIVE_ACCESS           3\n",
      "55729222           JWST ... EXCLUSIVE_ACCESS           3\n",
      "55729222           JWST ... EXCLUSIVE_ACCESS           3\n",
      "55729222           JWST ... EXCLUSIVE_ACCESS           3\n",
      "55729205           JWST ... EXCLUSIVE_ACCESS           3\n",
      "55729205           JWST ... EXCLUSIVE_ACCESS           3\n",
      "55729205           JWST ... EXCLUSIVE_ACCESS           3\n",
      "55729205           JWST ... EXCLUSIVE_ACCESS           3\n",
      "55729225           JWST ... EXCLUSIVE_ACCESS           3\n",
      "55729225           JWST ... EXCLUSIVE_ACCESS           3\n",
      "55729197           JWST ... EXCLUSIVE_ACCESS           3\n",
      "55729197           JWST ... EXCLUSIVE_ACCESS           3\n",
      "55729197           JWST ... EXCLUSIVE_ACCESS           3\n",
      "55729197           JWST ... EXCLUSIVE_ACCESS           3\n",
      "55729187           JWST ... EXCLUSIVE_ACCESS           3\n",
      "55729187           JWST ... EXCLUSIVE_ACCESS           3\n",
      "55729187           JWST ... EXCLUSIVE_ACCESS           3\n",
      "55729187           JWST ... EXCLUSIVE_ACCESS           3\n",
      "55729218           JWST ... EXCLUSIVE_ACCESS           3\n",
      "55729218           JWST ... EXCLUSIVE_ACCESS           3\n"
     ]
    }
   ],
   "source": [
    "instrument = 'MIRI'\n",
    "program = '00628'\n",
    "columns = ','.join(RET_COLUMNS)\n",
    "service = SERVICES['Caom_search']\n",
    "progID = program\n",
    "start_date = 58627\n",
    "filt='F1065C'\n",
    "\n",
    "extension='_i2d.fits'\n",
    "JwstObs = set_server_endpoints(SERVER)\n",
    "obsTable = observation_query(JwstObs, progID, instrument, start_date, filt)\n",
    "products = product_query(JwstObs, obsTable)\n",
    "mask = product_filter(products, [extension], True)\n",
    "selected_products = products[mask]\n",
    "print(selected_products)\n",
    "#print(obsTable)"
   ]
  },
  {
   "cell_type": "code",
   "execution_count": 486,
   "metadata": {},
   "outputs": [
    {
     "name": "stdout",
     "output_type": "stream",
     "text": [
      "jw00628-c1005_t010_miri_f2300c-masklyot_i2d.fits\n",
      "jw00628-c1005_t010_miri_f2300c-masklyot_i2d.fits\n",
      "jw00628-c1005_t010_miri_f2300c-masklyot_i2d.fits\n",
      "jw00628-c1005_t010_miri_f2300c-masklyot_i2d.fits\n",
      "jw00628-c1022_t010_miri_f2300c-masklyot_i2d.fits\n",
      "jw00628-c1022_t010_miri_f2300c-masklyot_i2d.fits\n",
      "jw00628-c1022_t010_miri_f2300c-masklyot_i2d.fits\n",
      "jw00628-c1022_t010_miri_f2300c-masklyot_i2d.fits\n",
      "jw00628-c1025_t016_miri_f1065c-mask1065_i2d.fits\n",
      "jw00628-c1025_t016_miri_f1065c-mask1065_i2d.fits\n",
      "jw00628-c1027_t010_miri_f2300c-masklyot_i2d.fits\n",
      "jw00628-c1027_t010_miri_f2300c-masklyot_i2d.fits\n",
      "jw00628-c1027_t010_miri_f2300c-masklyot_i2d.fits\n",
      "jw00628-c1027_t010_miri_f2300c-masklyot_i2d.fits\n",
      "jw00628-c1037_t010_miri_f2300c-masklyot_i2d.fits\n",
      "jw00628-c1037_t010_miri_f2300c-masklyot_i2d.fits\n",
      "jw00628-c1037_t010_miri_f2300c-masklyot_i2d.fits\n",
      "jw00628-c1037_t010_miri_f2300c-masklyot_i2d.fits\n",
      "jw00628-c1040_t016_miri_f1065c-mask1065_i2d.fits\n",
      "jw00628-c1040_t016_miri_f1065c-mask1065_i2d.fits\n",
      "Downloading URL https://mast.stsci.edu/jwst/api/v0.1/download/bundle.sh?uri=mast:JWST/product/jw00628-c1005_t010_miri_f2300c-masklyot_i2d.fits&uri=mast:JWST/product/jw00628-c1005_t010_miri_f2300c-masklyot_i2d.fits&uri=mast:JWST/product/jw00628-c1005_t010_miri_f2300c-masklyot_i2d.fits&uri=mast:JWST/product/jw00628-c1005_t010_miri_f2300c-masklyot_i2d.fits&uri=mast:JWST/product/jw00628-c1022_t010_miri_f2300c-masklyot_i2d.fits&uri=mast:JWST/product/jw00628-c1022_t010_miri_f2300c-masklyot_i2d.fits&uri=mast:JWST/product/jw00628-c1022_t010_miri_f2300c-masklyot_i2d.fits&uri=mast:JWST/product/jw00628-c1022_t010_miri_f2300c-masklyot_i2d.fits&uri=mast:JWST/product/jw00628-c1025_t016_miri_f1065c-mask1065_i2d.fits&uri=mast:JWST/product/jw00628-c1025_t016_miri_f1065c-mask1065_i2d.fits&uri=mast:JWST/product/jw00628-c1027_t010_miri_f2300c-masklyot_i2d.fits&uri=mast:JWST/product/jw00628-c1027_t010_miri_f2300c-masklyot_i2d.fits&uri=mast:JWST/product/jw00628-c1027_t010_miri_f2300c-masklyot_i2d.fits&uri=mast:JWST/product/jw00628-c1027_t010_miri_f2300c-masklyot_i2d.fits&uri=mast:JWST/product/jw00628-c1037_t010_miri_f2300c-masklyot_i2d.fits&uri=mast:JWST/product/jw00628-c1037_t010_miri_f2300c-masklyot_i2d.fits&uri=mast:JWST/product/jw00628-c1037_t010_miri_f2300c-masklyot_i2d.fits&uri=mast:JWST/product/jw00628-c1037_t010_miri_f2300c-masklyot_i2d.fits&uri=mast:JWST/product/jw00628-c1040_t016_miri_f1065c-mask1065_i2d.fits&uri=mast:JWST/product/jw00628-c1040_t016_miri_f1065c-mask1065_i2d.fits to mastDownload_2021061110446.sh ... [Done]\n"
     ]
    }
   ],
   "source": [
    "script = fetch_files(progID, instrument, start_date, filt, '_i2d.fits', True, True)\n",
    "\n"
   ]
  },
  {
   "cell_type": "code",
   "execution_count": 487,
   "metadata": {},
   "outputs": [],
   "source": [
    "miri_imaging = '/Users/ofox/data/jwst/dat_pyinthesky/jdat_notebooks/helper_classes/data/MIRI/CORONAGRAPHIC_IMAGING/jw00628-c1025_t016_miri_f1065c-mask1065/jw00628-c1025_t016_miri_f1065c-mask1065_i2d.fits'"
   ]
  },
  {
   "cell_type": "code",
   "execution_count": 488,
   "metadata": {},
   "outputs": [],
   "source": [
    "from jwst import datamodels\n",
    "#from jdaviz import Imviz\n",
    "imviz = Imviz()"
   ]
  },
  {
   "cell_type": "code",
   "execution_count": 489,
   "metadata": {},
   "outputs": [
    {
     "data": {
      "application/vnd.jupyter.widget-view+json": {
       "model_id": "5a6e3c934fae486997704f7d904e9bfb",
       "version_major": 2,
       "version_minor": 0
      },
      "text/plain": [
       "Application(components={'g-viewer-tab': '<template>\\n  <component :is=\"stack.container\">\\n    <g-viewer-tab\\n …"
      ]
     },
     "metadata": {},
     "output_type": "display_data"
    }
   ],
   "source": [
    "#Developer Notes: Ask how to remove other files from viewer before and after opening data\n",
    "imviz.load_data(miri_imaging, data_label='MIRI Imaging')\n",
    "\n",
    "viewer = imviz.app.get_viewer('viewer-1')\n",
    "\n",
    "imviz.app"
   ]
  }
 ],
 "metadata": {
  "kernelspec": {
   "display_name": "Python 3",
   "language": "python",
   "name": "python3"
  },
  "language_info": {
   "codemirror_mode": {
    "name": "ipython",
    "version": 3
   },
   "file_extension": ".py",
   "mimetype": "text/x-python",
   "name": "python",
   "nbconvert_exporter": "python",
   "pygments_lexer": "ipython3",
   "version": "3.9.5"
  }
 },
 "nbformat": 4,
 "nbformat_minor": 2
}
